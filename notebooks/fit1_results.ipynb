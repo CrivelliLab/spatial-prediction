{
 "cells": [
  {
   "cell_type": "markdown",
   "id": "bd6f4c7a-f7ed-4889-9e4f-e8708eb701bb",
   "metadata": {},
   "source": [
    "## Model 1 Fit Results"
   ]
  },
  {
   "cell_type": "code",
   "execution_count": 2,
   "id": "30e9bec6-422b-4dd8-b235-edb93878450f",
   "metadata": {},
   "outputs": [],
   "source": [
    "setwd(\"/global/project/projectdirs/m1532/Projects_MVP/geospatial/GeoSpatial_Model/spatial-prediction\")"
   ]
  },
  {
   "cell_type": "code",
   "execution_count": 3,
   "id": "74e910e8-0f95-4293-82e8-ef9cc0d56b8a",
   "metadata": {},
   "outputs": [
    {
     "name": "stderr",
     "output_type": "stream",
     "text": [
      "Loading required package: MASS\n",
      "\n",
      "Loading required package: Rcpp\n",
      "\n",
      "Registered S3 method overwritten by 'GGally':\n",
      "  method from   \n",
      "  +.gg   ggplot2\n",
      "\n",
      "── \u001b[1mAttaching packages\u001b[22m ─────────────────────────────────────── tidyverse 1.3.2 ──\n",
      "\u001b[32m✔\u001b[39m \u001b[34mggplot2\u001b[39m 3.3.6     \u001b[32m✔\u001b[39m \u001b[34mpurrr  \u001b[39m 0.3.4\n",
      "\u001b[32m✔\u001b[39m \u001b[34mtibble \u001b[39m 3.1.8     \u001b[32m✔\u001b[39m \u001b[34mdplyr  \u001b[39m 1.0.9\n",
      "\u001b[32m✔\u001b[39m \u001b[34mtidyr  \u001b[39m 1.2.0     \u001b[32m✔\u001b[39m \u001b[34mstringr\u001b[39m 1.4.0\n",
      "\u001b[32m✔\u001b[39m \u001b[34mreadr  \u001b[39m 2.1.2     \u001b[32m✔\u001b[39m \u001b[34mforcats\u001b[39m 0.5.1\n",
      "── \u001b[1mConflicts\u001b[22m ────────────────────────────────────────── tidyverse_conflicts() ──\n",
      "\u001b[31m✖\u001b[39m \u001b[34mdplyr\u001b[39m::\u001b[32mfilter()\u001b[39m masks \u001b[34mstats\u001b[39m::filter()\n",
      "\u001b[31m✖\u001b[39m \u001b[34mdplyr\u001b[39m::\u001b[32mlag()\u001b[39m    masks \u001b[34mstats\u001b[39m::lag()\n",
      "\u001b[31m✖\u001b[39m \u001b[34mdplyr\u001b[39m::\u001b[32mselect()\u001b[39m masks \u001b[34mMASS\u001b[39m::select()\n"
     ]
    }
   ],
   "source": [
    "library(CARBayesST)\n",
    "library(tidyverse)"
   ]
  },
  {
   "cell_type": "code",
   "execution_count": 4,
   "id": "7d884dbb-c70f-4486-b121-335a4dbd22b3",
   "metadata": {},
   "outputs": [],
   "source": [
    "fit1 <- readRDS(\"outputs/model_results/model_2022-09-13.rds\")"
   ]
  },
  {
   "cell_type": "code",
   "execution_count": 5,
   "id": "29cf344f-2ae6-49fa-b718-0e3d0d0cd419",
   "metadata": {},
   "outputs": [
    {
     "name": "stderr",
     "output_type": "stream",
     "text": [
      "\u001b[1mRows: \u001b[22m\u001b[34m9089\u001b[39m \u001b[1mColumns: \u001b[22m\u001b[34m103\u001b[39m\n",
      "\u001b[36m──\u001b[39m \u001b[1mColumn specification\u001b[22m \u001b[36m────────────────────────────────────────────────────────\u001b[39m\n",
      "\u001b[1mDelimiter:\u001b[22m \",\"\n",
      "\u001b[31mchr\u001b[39m   (2): FIPSCODE, county\n",
      "\u001b[32mdbl\u001b[39m (101): deaths, ACS_PCT_GRP_QRT, ACS_PCT_PRIVATE_2, mean_temp, ACS_PCT_ME...\n",
      "\n",
      "\u001b[36mℹ\u001b[39m Use `spec()` to retrieve the full column specification for this data.\n",
      "\u001b[36mℹ\u001b[39m Specify the column types or set `show_col_types = FALSE` to quiet this message.\n",
      "Warning message:\n",
      "“PROJ: proj_identify: Open of /global/homes/b/bbrusco/.conda/envs/r-venv/share/proj failed (GDAL error 1)”\n",
      "\u001b[1m\u001b[22mJoining, by = \"FIPSCODE\"\n"
     ]
    }
   ],
   "source": [
    "#get fips to keep \n",
    "\n",
    "# Note: United States total includes 3,006 counties;\n",
    "## Loading dataset and geometries ###\n",
    "vars <- read_csv(\"data/processed/combined.csv\")\n",
    "# change this to the number of years that \n",
    "# you are considering in your dataset.\n",
    "NUMBER_OF_YEARS <- length(unique(vars$year))\n",
    "\n",
    "\n",
    "county <- sf::read_sf(\n",
    "    dsn = \"data/shapefile/cb_2020_us_tract_500k\",\n",
    "    layer = \"cb_2020_us_tract_500k\"\n",
    ")\n",
    "\n",
    "county <- county %>%\n",
    "    mutate(FIPSCODE = paste0(STATEFP, COUNTYFP)) %>% \n",
    "    arrange(FIPSCODE) %>%\n",
    "    distinct(FIPSCODE, .keep_all = TRUE)\n",
    "\n",
    "df <- county %>% inner_join(vars, on=FIPSCODE)\n",
    "\n",
    "df_nona <- df %>% na.omit(suicide_rate) %>%\n",
    "  group_by(FIPSCODE) %>% \n",
    "  mutate(name_count = n()) %>%\n",
    "  ungroup() %>% \n",
    "  filter(name_count == NUMBER_OF_YEARS) %>% \n",
    "  dplyr::select(-name_count) %>%\n",
    "  arrange(desc(year), FIPSCODE)\n",
    "\n",
    "fips_to_keep <- df_nona %>% \n",
    "    distinct(FIPSCODE) %>% \n",
    "    pull(FIPSCODE)\n"
   ]
  },
  {
   "cell_type": "code",
   "execution_count": 6,
   "id": "f1c8d38e-b8c6-4bde-b33c-d79cc07b3e85",
   "metadata": {},
   "outputs": [
    {
     "data": {
      "text/html": [
       "<table class=\"dataframe\">\n",
       "<caption>A matrix: 91 × 7 of type dbl</caption>\n",
       "<thead>\n",
       "\t<tr><th></th><th scope=col>Mean</th><th scope=col>2.5%</th><th scope=col>97.5%</th><th scope=col>n.sample</th><th scope=col>% accept</th><th scope=col>n.effective</th><th scope=col>Geweke.diag</th></tr>\n",
       "</thead>\n",
       "<tbody>\n",
       "\t<tr><th scope=row>(Intercept)</th><td>-8.2772</td><td>-9.5180</td><td>-7.1086</td><td>70000</td><td>42.7</td><td>124.9</td><td> 0.1</td></tr>\n",
       "\t<tr><th scope=row>ACS_PCT_GRP_QRT</th><td> 1.3944</td><td> 0.6640</td><td> 2.1392</td><td>70000</td><td>42.7</td><td>183.6</td><td>-0.6</td></tr>\n",
       "\t<tr><th scope=row>ACS_PCT_PRIVATE_2</th><td> 0.8034</td><td>-1.0531</td><td> 2.6746</td><td>70000</td><td>42.7</td><td>604.9</td><td> 1.1</td></tr>\n",
       "\t<tr><th scope=row>mean_temp</th><td> 0.1413</td><td>-0.0831</td><td> 0.3623</td><td>70000</td><td>42.7</td><td>188.4</td><td> 1.0</td></tr>\n",
       "\t<tr><th scope=row>ACS_PCT_MEDICARE_ONLY</th><td> 1.7426</td><td> 0.4376</td><td> 3.0053</td><td>70000</td><td>42.7</td><td>341.3</td><td>-0.7</td></tr>\n",
       "\t<tr><th scope=row>ACS_PCT_PRIVATE_SELF</th><td> 1.9466</td><td> 1.1885</td><td> 2.7021</td><td>70000</td><td>42.7</td><td>209.7</td><td>-0.7</td></tr>\n",
       "\t<tr><th scope=row>ACS_PCT_MOBILE_HOME</th><td> 0.4071</td><td> 0.0985</td><td> 0.7268</td><td>70000</td><td>42.7</td><td>152.3</td><td>-0.8</td></tr>\n",
       "\t<tr><th scope=row>NHC_DAILY_RES</th><td>-1.5537</td><td>-1.8990</td><td>-1.1287</td><td>70000</td><td>42.7</td><td> 76.9</td><td> 0.0</td></tr>\n",
       "\t<tr><th scope=row>ACS_PCT_NON_CITIZEN</th><td>-1.4543</td><td>-2.4076</td><td>-0.4150</td><td>70000</td><td>42.7</td><td> 88.1</td><td>-2.0</td></tr>\n",
       "\t<tr><th scope=row>ACS_PCT_TRICARE_VA</th><td> 0.7835</td><td>-0.5165</td><td> 2.0872</td><td>70000</td><td>42.7</td><td>196.1</td><td>-0.3</td></tr>\n",
       "\t<tr><th scope=row>ACS_PCT_RETAIL</th><td>-1.2655</td><td>-2.1719</td><td>-0.2798</td><td>70000</td><td>42.7</td><td>245.6</td><td>-6.0</td></tr>\n",
       "\t<tr><th scope=row>ACS_PCT_VA_LABOR_FORCE</th><td>-0.0804</td><td>-0.2477</td><td> 0.0877</td><td>70000</td><td>42.7</td><td>438.1</td><td> 0.0</td></tr>\n",
       "\t<tr><th scope=row>ACS_PCT_INFORM</th><td>-0.0066</td><td>-2.1992</td><td> 2.2520</td><td>70000</td><td>42.7</td><td>372.3</td><td>-2.3</td></tr>\n",
       "\t<tr><th scope=row>ACS_PCT_COMMT_29MIN</th><td>-2.9706</td><td>-3.7990</td><td>-2.1340</td><td>70000</td><td>42.7</td><td> 28.7</td><td> 3.2</td></tr>\n",
       "\t<tr><th scope=row>ACS_PCT_PRIVATE_MDCR</th><td>-3.4639</td><td>-5.0727</td><td>-1.9323</td><td>70000</td><td>42.7</td><td>292.5</td><td> 2.0</td></tr>\n",
       "\t<tr><th scope=row>ACS_PCT_COMMT_59MIN</th><td> 0.3212</td><td>-0.5095</td><td> 1.1965</td><td>70000</td><td>42.7</td><td> 27.1</td><td> 2.8</td></tr>\n",
       "\t<tr><th scope=row>AHRF_HPSA_MENTAL</th><td>-0.1066</td><td>-0.1617</td><td>-0.0528</td><td>70000</td><td>42.7</td><td>576.5</td><td>-0.7</td></tr>\n",
       "\t<tr><th scope=row>ACS_PCT_DIVORCE_SEPARAT</th><td>-1.5150</td><td>-2.3434</td><td>-0.7315</td><td>70000</td><td>42.7</td><td>377.8</td><td>-1.5</td></tr>\n",
       "\t<tr><th scope=row>ACS_PCT_TRANSPORT</th><td> 2.5866</td><td> 1.5545</td><td> 3.6992</td><td>70000</td><td>42.7</td><td>309.7</td><td>-4.7</td></tr>\n",
       "\t<tr><th scope=row>ACS_PCT_EDUC</th><td> 0.7257</td><td> 0.0153</td><td> 1.6371</td><td>70000</td><td>42.7</td><td> 97.1</td><td>-6.3</td></tr>\n",
       "\t<tr><th scope=row>ACS_PCT_UNINSURED64</th><td> 0.4151</td><td>-0.0461</td><td> 0.8604</td><td>70000</td><td>42.7</td><td>255.3</td><td>-0.8</td></tr>\n",
       "\t<tr><th scope=row>CCBP_RATE_FSR_PER_1000</th><td>-0.8254</td><td>-4.3462</td><td> 2.6072</td><td>70000</td><td>42.7</td><td>461.0</td><td>-0.2</td></tr>\n",
       "\t<tr><th scope=row>ACS_PCT_GRANDP_NO_RESPS</th><td>-0.0675</td><td>-0.2193</td><td> 0.0917</td><td>70000</td><td>42.7</td><td>157.3</td><td> 1.1</td></tr>\n",
       "\t<tr><th scope=row>PM2.5</th><td>-0.8755</td><td>-1.0598</td><td>-0.7085</td><td>70000</td><td>42.7</td><td>314.4</td><td>-1.6</td></tr>\n",
       "\t<tr><th scope=row>ACS_PCT_ASSOCIATE_DGR</th><td>-0.2038</td><td>-0.6886</td><td> 0.3611</td><td>70000</td><td>42.7</td><td>249.8</td><td> 1.7</td></tr>\n",
       "\t<tr><th scope=row>ACS_PCT_ADMIN</th><td> 3.1039</td><td> 2.1740</td><td> 4.2271</td><td>70000</td><td>42.7</td><td>174.4</td><td>-6.0</td></tr>\n",
       "\t<tr><th scope=row>ACS_PCT_RENTER_65UP</th><td> 0.0620</td><td>-0.2968</td><td> 0.4307</td><td>70000</td><td>42.7</td><td>387.2</td><td>-0.4</td></tr>\n",
       "\t<tr><th scope=row>duration_mins_mp_mental</th><td> 0.0005</td><td>-0.0001</td><td> 0.0010</td><td>70000</td><td>42.7</td><td>110.7</td><td>-4.3</td></tr>\n",
       "\t<tr><th scope=row>ACS_PCT_WALK_2WORK</th><td> 2.6425</td><td> 1.5999</td><td> 3.7152</td><td>70000</td><td>42.7</td><td>152.0</td><td> 3.2</td></tr>\n",
       "\t<tr><th scope=row>ACS_PCT_OTH_EURP</th><td>-2.2610</td><td>-3.2057</td><td>-1.2820</td><td>70000</td><td>42.7</td><td>275.8</td><td> 0.7</td></tr>\n",
       "\t<tr><th scope=row>⋮</th><td>⋮</td><td>⋮</td><td>⋮</td><td>⋮</td><td>⋮</td><td>⋮</td><td>⋮</td></tr>\n",
       "\t<tr><th scope=row>ACS_PCT_PUBLIC_OTHER</th><td> 3.1189</td><td>-1.3870</td><td> 7.6853</td><td>70000</td><td> 42.7</td><td>  302.5</td><td>-0.1</td></tr>\n",
       "\t<tr><th scope=row>CHR_DENTIST_RATE</th><td>-0.7432</td><td>-1.4176</td><td>-0.0685</td><td>70000</td><td> 42.7</td><td>  278.5</td><td>-0.5</td></tr>\n",
       "\t<tr><th scope=row>duration_mins_centroid</th><td> 0.0044</td><td> 0.0033</td><td> 0.0055</td><td>70000</td><td> 42.7</td><td>  179.3</td><td> 2.5</td></tr>\n",
       "\t<tr><th scope=row>ACS_PCT_MANUFACT</th><td> 0.3260</td><td>-0.2776</td><td> 1.1966</td><td>70000</td><td> 42.7</td><td>   50.9</td><td>-3.6</td></tr>\n",
       "\t<tr><th scope=row>ACS_PCT_GULFWAR_1990</th><td> 0.4090</td><td> 0.1242</td><td> 0.6950</td><td>70000</td><td> 42.7</td><td>  481.1</td><td> 0.2</td></tr>\n",
       "\t<tr><th scope=row>ACS_PCT_HH_PUB_ASSIST</th><td> 0.5584</td><td>-0.5977</td><td> 1.7066</td><td>70000</td><td> 42.7</td><td>  467.2</td><td> 3.2</td></tr>\n",
       "\t<tr><th scope=row>ACS_PCT_FEMALE</th><td> 0.7049</td><td>-0.4558</td><td> 1.9079</td><td>70000</td><td> 42.7</td><td>  257.5</td><td>-1.8</td></tr>\n",
       "\t<tr><th scope=row>wind_speed</th><td> 0.3246</td><td> 0.1753</td><td> 0.4767</td><td>70000</td><td> 42.7</td><td>  353.5</td><td>-0.1</td></tr>\n",
       "\t<tr><th scope=row>ACS_PCT_RENT_COST_30PCT</th><td>-0.6925</td><td>-0.9191</td><td>-0.4725</td><td>70000</td><td> 42.7</td><td>  418.9</td><td>-2.5</td></tr>\n",
       "\t<tr><th scope=row>ACS_PCT_COMMT_60MINUP</th><td>-0.7915</td><td>-1.6670</td><td> 0.1254</td><td>70000</td><td> 42.7</td><td>   51.9</td><td> 2.9</td></tr>\n",
       "\t<tr><th scope=row>ACS_PCT_RENTER_HH_CHILD</th><td> 0.4018</td><td> 0.1195</td><td> 0.6988</td><td>70000</td><td> 42.7</td><td>  196.7</td><td>-0.7</td></tr>\n",
       "\t<tr><th scope=row>NHC_BEDCOUNT</th><td>-0.5237</td><td>-1.0072</td><td>-0.1381</td><td>70000</td><td> 42.7</td><td>   62.3</td><td> 0.1</td></tr>\n",
       "\t<tr><th scope=row>NHC_LIC_STAFF</th><td>-1.3752</td><td>-1.6018</td><td>-1.1403</td><td>70000</td><td> 42.7</td><td>  407.5</td><td>-1.1</td></tr>\n",
       "\t<tr><th scope=row>ACS_PCT_10UNITS</th><td>-0.5602</td><td>-1.0690</td><td>-0.0101</td><td>70000</td><td> 42.7</td><td>   80.1</td><td>-1.8</td></tr>\n",
       "\t<tr><th scope=row>ACS_PCT_OTHER_INS</th><td>-0.3499</td><td>-1.6400</td><td> 0.8849</td><td>70000</td><td> 42.7</td><td>  349.5</td><td>-0.2</td></tr>\n",
       "\t<tr><th scope=row>ACS_PCT_1UP_OWNER_1ROOM</th><td>-2.0142</td><td>-5.9850</td><td> 1.7494</td><td>70000</td><td> 42.7</td><td>   63.9</td><td>-0.5</td></tr>\n",
       "\t<tr><th scope=row>ACS_PCT_OTHER</th><td>-0.3980</td><td>-1.7762</td><td> 0.9642</td><td>70000</td><td> 42.7</td><td>  455.3</td><td>-3.6</td></tr>\n",
       "\t<tr><th scope=row>CHR_ALCOHOL_DRIV_DEATH</th><td>-0.1175</td><td>-0.2097</td><td>-0.0219</td><td>70000</td><td> 42.7</td><td>  700.3</td><td>-3.0</td></tr>\n",
       "\t<tr><th scope=row>visibility</th><td>-0.0048</td><td>-0.0827</td><td> 0.0713</td><td>70000</td><td> 42.7</td><td>  769.2</td><td> 1.4</td></tr>\n",
       "\t<tr><th scope=row>ACS_MEDIAN_RENT</th><td> 0.0874</td><td>-0.0698</td><td> 0.2363</td><td>70000</td><td> 42.7</td><td>  269.9</td><td> 1.8</td></tr>\n",
       "\t<tr><th scope=row>ACS_PCT_DRIVE_2WORK</th><td> 0.4892</td><td>-0.1974</td><td> 1.0952</td><td>70000</td><td> 42.7</td><td>   36.3</td><td>-0.2</td></tr>\n",
       "\t<tr><th scope=row>ACS_PCT_WORK_NO_CAR</th><td> 1.6177</td><td> 0.4121</td><td> 2.8111</td><td>70000</td><td> 42.7</td><td>   47.3</td><td>-0.7</td></tr>\n",
       "\t<tr><th scope=row>ACS_PCT_GRANDP_RESPS</th><td> 0.0397</td><td>-0.1235</td><td> 0.2042</td><td>70000</td><td> 42.7</td><td>   98.0</td><td> 1.0</td></tr>\n",
       "\t<tr><th scope=row>ACS_PCT_ENGLISH</th><td> 0.3461</td><td>-0.0142</td><td> 0.6992</td><td>70000</td><td> 42.7</td><td>   37.1</td><td> 0.1</td></tr>\n",
       "\t<tr><th scope=row>ACS_PCT_CONSTRUCT</th><td> 1.9187</td><td> 0.9127</td><td> 3.0298</td><td>70000</td><td> 42.7</td><td>  222.1</td><td>-5.9</td></tr>\n",
       "\t<tr><th scope=row>ACS_PCT_HH_1PERS</th><td> 0.6280</td><td> 0.0402</td><td> 1.2032</td><td>70000</td><td> 42.7</td><td>  284.7</td><td> 2.3</td></tr>\n",
       "\t<tr><th scope=row>ACS_PCT_AGE_0_4</th><td>-3.0799</td><td>-5.7081</td><td>-0.4474</td><td>70000</td><td> 42.7</td><td>  232.5</td><td>-0.2</td></tr>\n",
       "\t<tr><th scope=row>tau2</th><td> 0.1694</td><td> 0.1620</td><td> 0.1771</td><td>70000</td><td>100.0</td><td> 6460.0</td><td>-0.2</td></tr>\n",
       "\t<tr><th scope=row>rho.S</th><td> 0.4992</td><td> 0.4651</td><td> 0.5329</td><td>70000</td><td> 46.9</td><td> 4019.3</td><td> 0.9</td></tr>\n",
       "\t<tr><th scope=row>rho.T</th><td> 0.8922</td><td> 0.8701</td><td> 0.9143</td><td>70000</td><td>100.0</td><td>14634.9</td><td> 0.5</td></tr>\n",
       "</tbody>\n",
       "</table>\n"
      ],
      "text/latex": [
       "A matrix: 91 × 7 of type dbl\n",
       "\\begin{tabular}{r|lllllll}\n",
       "  & Mean & 2.5\\% & 97.5\\% & n.sample & \\% accept & n.effective & Geweke.diag\\\\\n",
       "\\hline\n",
       "\t(Intercept) & -8.2772 & -9.5180 & -7.1086 & 70000 & 42.7 & 124.9 &  0.1\\\\\n",
       "\tACS\\_PCT\\_GRP\\_QRT &  1.3944 &  0.6640 &  2.1392 & 70000 & 42.7 & 183.6 & -0.6\\\\\n",
       "\tACS\\_PCT\\_PRIVATE\\_2 &  0.8034 & -1.0531 &  2.6746 & 70000 & 42.7 & 604.9 &  1.1\\\\\n",
       "\tmean\\_temp &  0.1413 & -0.0831 &  0.3623 & 70000 & 42.7 & 188.4 &  1.0\\\\\n",
       "\tACS\\_PCT\\_MEDICARE\\_ONLY &  1.7426 &  0.4376 &  3.0053 & 70000 & 42.7 & 341.3 & -0.7\\\\\n",
       "\tACS\\_PCT\\_PRIVATE\\_SELF &  1.9466 &  1.1885 &  2.7021 & 70000 & 42.7 & 209.7 & -0.7\\\\\n",
       "\tACS\\_PCT\\_MOBILE\\_HOME &  0.4071 &  0.0985 &  0.7268 & 70000 & 42.7 & 152.3 & -0.8\\\\\n",
       "\tNHC\\_DAILY\\_RES & -1.5537 & -1.8990 & -1.1287 & 70000 & 42.7 &  76.9 &  0.0\\\\\n",
       "\tACS\\_PCT\\_NON\\_CITIZEN & -1.4543 & -2.4076 & -0.4150 & 70000 & 42.7 &  88.1 & -2.0\\\\\n",
       "\tACS\\_PCT\\_TRICARE\\_VA &  0.7835 & -0.5165 &  2.0872 & 70000 & 42.7 & 196.1 & -0.3\\\\\n",
       "\tACS\\_PCT\\_RETAIL & -1.2655 & -2.1719 & -0.2798 & 70000 & 42.7 & 245.6 & -6.0\\\\\n",
       "\tACS\\_PCT\\_VA\\_LABOR\\_FORCE & -0.0804 & -0.2477 &  0.0877 & 70000 & 42.7 & 438.1 &  0.0\\\\\n",
       "\tACS\\_PCT\\_INFORM & -0.0066 & -2.1992 &  2.2520 & 70000 & 42.7 & 372.3 & -2.3\\\\\n",
       "\tACS\\_PCT\\_COMMT\\_29MIN & -2.9706 & -3.7990 & -2.1340 & 70000 & 42.7 &  28.7 &  3.2\\\\\n",
       "\tACS\\_PCT\\_PRIVATE\\_MDCR & -3.4639 & -5.0727 & -1.9323 & 70000 & 42.7 & 292.5 &  2.0\\\\\n",
       "\tACS\\_PCT\\_COMMT\\_59MIN &  0.3212 & -0.5095 &  1.1965 & 70000 & 42.7 &  27.1 &  2.8\\\\\n",
       "\tAHRF\\_HPSA\\_MENTAL & -0.1066 & -0.1617 & -0.0528 & 70000 & 42.7 & 576.5 & -0.7\\\\\n",
       "\tACS\\_PCT\\_DIVORCE\\_SEPARAT & -1.5150 & -2.3434 & -0.7315 & 70000 & 42.7 & 377.8 & -1.5\\\\\n",
       "\tACS\\_PCT\\_TRANSPORT &  2.5866 &  1.5545 &  3.6992 & 70000 & 42.7 & 309.7 & -4.7\\\\\n",
       "\tACS\\_PCT\\_EDUC &  0.7257 &  0.0153 &  1.6371 & 70000 & 42.7 &  97.1 & -6.3\\\\\n",
       "\tACS\\_PCT\\_UNINSURED64 &  0.4151 & -0.0461 &  0.8604 & 70000 & 42.7 & 255.3 & -0.8\\\\\n",
       "\tCCBP\\_RATE\\_FSR\\_PER\\_1000 & -0.8254 & -4.3462 &  2.6072 & 70000 & 42.7 & 461.0 & -0.2\\\\\n",
       "\tACS\\_PCT\\_GRANDP\\_NO\\_RESPS & -0.0675 & -0.2193 &  0.0917 & 70000 & 42.7 & 157.3 &  1.1\\\\\n",
       "\tPM2.5 & -0.8755 & -1.0598 & -0.7085 & 70000 & 42.7 & 314.4 & -1.6\\\\\n",
       "\tACS\\_PCT\\_ASSOCIATE\\_DGR & -0.2038 & -0.6886 &  0.3611 & 70000 & 42.7 & 249.8 &  1.7\\\\\n",
       "\tACS\\_PCT\\_ADMIN &  3.1039 &  2.1740 &  4.2271 & 70000 & 42.7 & 174.4 & -6.0\\\\\n",
       "\tACS\\_PCT\\_RENTER\\_65UP &  0.0620 & -0.2968 &  0.4307 & 70000 & 42.7 & 387.2 & -0.4\\\\\n",
       "\tduration\\_mins\\_mp\\_mental &  0.0005 & -0.0001 &  0.0010 & 70000 & 42.7 & 110.7 & -4.3\\\\\n",
       "\tACS\\_PCT\\_WALK\\_2WORK &  2.6425 &  1.5999 &  3.7152 & 70000 & 42.7 & 152.0 &  3.2\\\\\n",
       "\tACS\\_PCT\\_OTH\\_EURP & -2.2610 & -3.2057 & -1.2820 & 70000 & 42.7 & 275.8 &  0.7\\\\\n",
       "\t⋮ & ⋮ & ⋮ & ⋮ & ⋮ & ⋮ & ⋮ & ⋮\\\\\n",
       "\tACS\\_PCT\\_PUBLIC\\_OTHER &  3.1189 & -1.3870 &  7.6853 & 70000 &  42.7 &   302.5 & -0.1\\\\\n",
       "\tCHR\\_DENTIST\\_RATE & -0.7432 & -1.4176 & -0.0685 & 70000 &  42.7 &   278.5 & -0.5\\\\\n",
       "\tduration\\_mins\\_centroid &  0.0044 &  0.0033 &  0.0055 & 70000 &  42.7 &   179.3 &  2.5\\\\\n",
       "\tACS\\_PCT\\_MANUFACT &  0.3260 & -0.2776 &  1.1966 & 70000 &  42.7 &    50.9 & -3.6\\\\\n",
       "\tACS\\_PCT\\_GULFWAR\\_1990 &  0.4090 &  0.1242 &  0.6950 & 70000 &  42.7 &   481.1 &  0.2\\\\\n",
       "\tACS\\_PCT\\_HH\\_PUB\\_ASSIST &  0.5584 & -0.5977 &  1.7066 & 70000 &  42.7 &   467.2 &  3.2\\\\\n",
       "\tACS\\_PCT\\_FEMALE &  0.7049 & -0.4558 &  1.9079 & 70000 &  42.7 &   257.5 & -1.8\\\\\n",
       "\twind\\_speed &  0.3246 &  0.1753 &  0.4767 & 70000 &  42.7 &   353.5 & -0.1\\\\\n",
       "\tACS\\_PCT\\_RENT\\_COST\\_30PCT & -0.6925 & -0.9191 & -0.4725 & 70000 &  42.7 &   418.9 & -2.5\\\\\n",
       "\tACS\\_PCT\\_COMMT\\_60MINUP & -0.7915 & -1.6670 &  0.1254 & 70000 &  42.7 &    51.9 &  2.9\\\\\n",
       "\tACS\\_PCT\\_RENTER\\_HH\\_CHILD &  0.4018 &  0.1195 &  0.6988 & 70000 &  42.7 &   196.7 & -0.7\\\\\n",
       "\tNHC\\_BEDCOUNT & -0.5237 & -1.0072 & -0.1381 & 70000 &  42.7 &    62.3 &  0.1\\\\\n",
       "\tNHC\\_LIC\\_STAFF & -1.3752 & -1.6018 & -1.1403 & 70000 &  42.7 &   407.5 & -1.1\\\\\n",
       "\tACS\\_PCT\\_10UNITS & -0.5602 & -1.0690 & -0.0101 & 70000 &  42.7 &    80.1 & -1.8\\\\\n",
       "\tACS\\_PCT\\_OTHER\\_INS & -0.3499 & -1.6400 &  0.8849 & 70000 &  42.7 &   349.5 & -0.2\\\\\n",
       "\tACS\\_PCT\\_1UP\\_OWNER\\_1ROOM & -2.0142 & -5.9850 &  1.7494 & 70000 &  42.7 &    63.9 & -0.5\\\\\n",
       "\tACS\\_PCT\\_OTHER & -0.3980 & -1.7762 &  0.9642 & 70000 &  42.7 &   455.3 & -3.6\\\\\n",
       "\tCHR\\_ALCOHOL\\_DRIV\\_DEATH & -0.1175 & -0.2097 & -0.0219 & 70000 &  42.7 &   700.3 & -3.0\\\\\n",
       "\tvisibility & -0.0048 & -0.0827 &  0.0713 & 70000 &  42.7 &   769.2 &  1.4\\\\\n",
       "\tACS\\_MEDIAN\\_RENT &  0.0874 & -0.0698 &  0.2363 & 70000 &  42.7 &   269.9 &  1.8\\\\\n",
       "\tACS\\_PCT\\_DRIVE\\_2WORK &  0.4892 & -0.1974 &  1.0952 & 70000 &  42.7 &    36.3 & -0.2\\\\\n",
       "\tACS\\_PCT\\_WORK\\_NO\\_CAR &  1.6177 &  0.4121 &  2.8111 & 70000 &  42.7 &    47.3 & -0.7\\\\\n",
       "\tACS\\_PCT\\_GRANDP\\_RESPS &  0.0397 & -0.1235 &  0.2042 & 70000 &  42.7 &    98.0 &  1.0\\\\\n",
       "\tACS\\_PCT\\_ENGLISH &  0.3461 & -0.0142 &  0.6992 & 70000 &  42.7 &    37.1 &  0.1\\\\\n",
       "\tACS\\_PCT\\_CONSTRUCT &  1.9187 &  0.9127 &  3.0298 & 70000 &  42.7 &   222.1 & -5.9\\\\\n",
       "\tACS\\_PCT\\_HH\\_1PERS &  0.6280 &  0.0402 &  1.2032 & 70000 &  42.7 &   284.7 &  2.3\\\\\n",
       "\tACS\\_PCT\\_AGE\\_0\\_4 & -3.0799 & -5.7081 & -0.4474 & 70000 &  42.7 &   232.5 & -0.2\\\\\n",
       "\ttau2 &  0.1694 &  0.1620 &  0.1771 & 70000 & 100.0 &  6460.0 & -0.2\\\\\n",
       "\trho.S &  0.4992 &  0.4651 &  0.5329 & 70000 &  46.9 &  4019.3 &  0.9\\\\\n",
       "\trho.T &  0.8922 &  0.8701 &  0.9143 & 70000 & 100.0 & 14634.9 &  0.5\\\\\n",
       "\\end{tabular}\n"
      ],
      "text/markdown": [
       "\n",
       "A matrix: 91 × 7 of type dbl\n",
       "\n",
       "| <!--/--> | Mean | 2.5% | 97.5% | n.sample | % accept | n.effective | Geweke.diag |\n",
       "|---|---|---|---|---|---|---|---|\n",
       "| (Intercept) | -8.2772 | -9.5180 | -7.1086 | 70000 | 42.7 | 124.9 |  0.1 |\n",
       "| ACS_PCT_GRP_QRT |  1.3944 |  0.6640 |  2.1392 | 70000 | 42.7 | 183.6 | -0.6 |\n",
       "| ACS_PCT_PRIVATE_2 |  0.8034 | -1.0531 |  2.6746 | 70000 | 42.7 | 604.9 |  1.1 |\n",
       "| mean_temp |  0.1413 | -0.0831 |  0.3623 | 70000 | 42.7 | 188.4 |  1.0 |\n",
       "| ACS_PCT_MEDICARE_ONLY |  1.7426 |  0.4376 |  3.0053 | 70000 | 42.7 | 341.3 | -0.7 |\n",
       "| ACS_PCT_PRIVATE_SELF |  1.9466 |  1.1885 |  2.7021 | 70000 | 42.7 | 209.7 | -0.7 |\n",
       "| ACS_PCT_MOBILE_HOME |  0.4071 |  0.0985 |  0.7268 | 70000 | 42.7 | 152.3 | -0.8 |\n",
       "| NHC_DAILY_RES | -1.5537 | -1.8990 | -1.1287 | 70000 | 42.7 |  76.9 |  0.0 |\n",
       "| ACS_PCT_NON_CITIZEN | -1.4543 | -2.4076 | -0.4150 | 70000 | 42.7 |  88.1 | -2.0 |\n",
       "| ACS_PCT_TRICARE_VA |  0.7835 | -0.5165 |  2.0872 | 70000 | 42.7 | 196.1 | -0.3 |\n",
       "| ACS_PCT_RETAIL | -1.2655 | -2.1719 | -0.2798 | 70000 | 42.7 | 245.6 | -6.0 |\n",
       "| ACS_PCT_VA_LABOR_FORCE | -0.0804 | -0.2477 |  0.0877 | 70000 | 42.7 | 438.1 |  0.0 |\n",
       "| ACS_PCT_INFORM | -0.0066 | -2.1992 |  2.2520 | 70000 | 42.7 | 372.3 | -2.3 |\n",
       "| ACS_PCT_COMMT_29MIN | -2.9706 | -3.7990 | -2.1340 | 70000 | 42.7 |  28.7 |  3.2 |\n",
       "| ACS_PCT_PRIVATE_MDCR | -3.4639 | -5.0727 | -1.9323 | 70000 | 42.7 | 292.5 |  2.0 |\n",
       "| ACS_PCT_COMMT_59MIN |  0.3212 | -0.5095 |  1.1965 | 70000 | 42.7 |  27.1 |  2.8 |\n",
       "| AHRF_HPSA_MENTAL | -0.1066 | -0.1617 | -0.0528 | 70000 | 42.7 | 576.5 | -0.7 |\n",
       "| ACS_PCT_DIVORCE_SEPARAT | -1.5150 | -2.3434 | -0.7315 | 70000 | 42.7 | 377.8 | -1.5 |\n",
       "| ACS_PCT_TRANSPORT |  2.5866 |  1.5545 |  3.6992 | 70000 | 42.7 | 309.7 | -4.7 |\n",
       "| ACS_PCT_EDUC |  0.7257 |  0.0153 |  1.6371 | 70000 | 42.7 |  97.1 | -6.3 |\n",
       "| ACS_PCT_UNINSURED64 |  0.4151 | -0.0461 |  0.8604 | 70000 | 42.7 | 255.3 | -0.8 |\n",
       "| CCBP_RATE_FSR_PER_1000 | -0.8254 | -4.3462 |  2.6072 | 70000 | 42.7 | 461.0 | -0.2 |\n",
       "| ACS_PCT_GRANDP_NO_RESPS | -0.0675 | -0.2193 |  0.0917 | 70000 | 42.7 | 157.3 |  1.1 |\n",
       "| PM2.5 | -0.8755 | -1.0598 | -0.7085 | 70000 | 42.7 | 314.4 | -1.6 |\n",
       "| ACS_PCT_ASSOCIATE_DGR | -0.2038 | -0.6886 |  0.3611 | 70000 | 42.7 | 249.8 |  1.7 |\n",
       "| ACS_PCT_ADMIN |  3.1039 |  2.1740 |  4.2271 | 70000 | 42.7 | 174.4 | -6.0 |\n",
       "| ACS_PCT_RENTER_65UP |  0.0620 | -0.2968 |  0.4307 | 70000 | 42.7 | 387.2 | -0.4 |\n",
       "| duration_mins_mp_mental |  0.0005 | -0.0001 |  0.0010 | 70000 | 42.7 | 110.7 | -4.3 |\n",
       "| ACS_PCT_WALK_2WORK |  2.6425 |  1.5999 |  3.7152 | 70000 | 42.7 | 152.0 |  3.2 |\n",
       "| ACS_PCT_OTH_EURP | -2.2610 | -3.2057 | -1.2820 | 70000 | 42.7 | 275.8 |  0.7 |\n",
       "| ⋮ | ⋮ | ⋮ | ⋮ | ⋮ | ⋮ | ⋮ | ⋮ |\n",
       "| ACS_PCT_PUBLIC_OTHER |  3.1189 | -1.3870 |  7.6853 | 70000 |  42.7 |   302.5 | -0.1 |\n",
       "| CHR_DENTIST_RATE | -0.7432 | -1.4176 | -0.0685 | 70000 |  42.7 |   278.5 | -0.5 |\n",
       "| duration_mins_centroid |  0.0044 |  0.0033 |  0.0055 | 70000 |  42.7 |   179.3 |  2.5 |\n",
       "| ACS_PCT_MANUFACT |  0.3260 | -0.2776 |  1.1966 | 70000 |  42.7 |    50.9 | -3.6 |\n",
       "| ACS_PCT_GULFWAR_1990 |  0.4090 |  0.1242 |  0.6950 | 70000 |  42.7 |   481.1 |  0.2 |\n",
       "| ACS_PCT_HH_PUB_ASSIST |  0.5584 | -0.5977 |  1.7066 | 70000 |  42.7 |   467.2 |  3.2 |\n",
       "| ACS_PCT_FEMALE |  0.7049 | -0.4558 |  1.9079 | 70000 |  42.7 |   257.5 | -1.8 |\n",
       "| wind_speed |  0.3246 |  0.1753 |  0.4767 | 70000 |  42.7 |   353.5 | -0.1 |\n",
       "| ACS_PCT_RENT_COST_30PCT | -0.6925 | -0.9191 | -0.4725 | 70000 |  42.7 |   418.9 | -2.5 |\n",
       "| ACS_PCT_COMMT_60MINUP | -0.7915 | -1.6670 |  0.1254 | 70000 |  42.7 |    51.9 |  2.9 |\n",
       "| ACS_PCT_RENTER_HH_CHILD |  0.4018 |  0.1195 |  0.6988 | 70000 |  42.7 |   196.7 | -0.7 |\n",
       "| NHC_BEDCOUNT | -0.5237 | -1.0072 | -0.1381 | 70000 |  42.7 |    62.3 |  0.1 |\n",
       "| NHC_LIC_STAFF | -1.3752 | -1.6018 | -1.1403 | 70000 |  42.7 |   407.5 | -1.1 |\n",
       "| ACS_PCT_10UNITS | -0.5602 | -1.0690 | -0.0101 | 70000 |  42.7 |    80.1 | -1.8 |\n",
       "| ACS_PCT_OTHER_INS | -0.3499 | -1.6400 |  0.8849 | 70000 |  42.7 |   349.5 | -0.2 |\n",
       "| ACS_PCT_1UP_OWNER_1ROOM | -2.0142 | -5.9850 |  1.7494 | 70000 |  42.7 |    63.9 | -0.5 |\n",
       "| ACS_PCT_OTHER | -0.3980 | -1.7762 |  0.9642 | 70000 |  42.7 |   455.3 | -3.6 |\n",
       "| CHR_ALCOHOL_DRIV_DEATH | -0.1175 | -0.2097 | -0.0219 | 70000 |  42.7 |   700.3 | -3.0 |\n",
       "| visibility | -0.0048 | -0.0827 |  0.0713 | 70000 |  42.7 |   769.2 |  1.4 |\n",
       "| ACS_MEDIAN_RENT |  0.0874 | -0.0698 |  0.2363 | 70000 |  42.7 |   269.9 |  1.8 |\n",
       "| ACS_PCT_DRIVE_2WORK |  0.4892 | -0.1974 |  1.0952 | 70000 |  42.7 |    36.3 | -0.2 |\n",
       "| ACS_PCT_WORK_NO_CAR |  1.6177 |  0.4121 |  2.8111 | 70000 |  42.7 |    47.3 | -0.7 |\n",
       "| ACS_PCT_GRANDP_RESPS |  0.0397 | -0.1235 |  0.2042 | 70000 |  42.7 |    98.0 |  1.0 |\n",
       "| ACS_PCT_ENGLISH |  0.3461 | -0.0142 |  0.6992 | 70000 |  42.7 |    37.1 |  0.1 |\n",
       "| ACS_PCT_CONSTRUCT |  1.9187 |  0.9127 |  3.0298 | 70000 |  42.7 |   222.1 | -5.9 |\n",
       "| ACS_PCT_HH_1PERS |  0.6280 |  0.0402 |  1.2032 | 70000 |  42.7 |   284.7 |  2.3 |\n",
       "| ACS_PCT_AGE_0_4 | -3.0799 | -5.7081 | -0.4474 | 70000 |  42.7 |   232.5 | -0.2 |\n",
       "| tau2 |  0.1694 |  0.1620 |  0.1771 | 70000 | 100.0 |  6460.0 | -0.2 |\n",
       "| rho.S |  0.4992 |  0.4651 |  0.5329 | 70000 |  46.9 |  4019.3 |  0.9 |\n",
       "| rho.T |  0.8922 |  0.8701 |  0.9143 | 70000 | 100.0 | 14634.9 |  0.5 |\n",
       "\n"
      ],
      "text/plain": [
       "                        Mean    2.5%    97.5%   n.sample % accept n.effective\n",
       "(Intercept)             -8.2772 -9.5180 -7.1086 70000    42.7     124.9      \n",
       "ACS_PCT_GRP_QRT          1.3944  0.6640  2.1392 70000    42.7     183.6      \n",
       "ACS_PCT_PRIVATE_2        0.8034 -1.0531  2.6746 70000    42.7     604.9      \n",
       "mean_temp                0.1413 -0.0831  0.3623 70000    42.7     188.4      \n",
       "ACS_PCT_MEDICARE_ONLY    1.7426  0.4376  3.0053 70000    42.7     341.3      \n",
       "ACS_PCT_PRIVATE_SELF     1.9466  1.1885  2.7021 70000    42.7     209.7      \n",
       "ACS_PCT_MOBILE_HOME      0.4071  0.0985  0.7268 70000    42.7     152.3      \n",
       "NHC_DAILY_RES           -1.5537 -1.8990 -1.1287 70000    42.7      76.9      \n",
       "ACS_PCT_NON_CITIZEN     -1.4543 -2.4076 -0.4150 70000    42.7      88.1      \n",
       "ACS_PCT_TRICARE_VA       0.7835 -0.5165  2.0872 70000    42.7     196.1      \n",
       "ACS_PCT_RETAIL          -1.2655 -2.1719 -0.2798 70000    42.7     245.6      \n",
       "ACS_PCT_VA_LABOR_FORCE  -0.0804 -0.2477  0.0877 70000    42.7     438.1      \n",
       "ACS_PCT_INFORM          -0.0066 -2.1992  2.2520 70000    42.7     372.3      \n",
       "ACS_PCT_COMMT_29MIN     -2.9706 -3.7990 -2.1340 70000    42.7      28.7      \n",
       "ACS_PCT_PRIVATE_MDCR    -3.4639 -5.0727 -1.9323 70000    42.7     292.5      \n",
       "ACS_PCT_COMMT_59MIN      0.3212 -0.5095  1.1965 70000    42.7      27.1      \n",
       "AHRF_HPSA_MENTAL        -0.1066 -0.1617 -0.0528 70000    42.7     576.5      \n",
       "ACS_PCT_DIVORCE_SEPARAT -1.5150 -2.3434 -0.7315 70000    42.7     377.8      \n",
       "ACS_PCT_TRANSPORT        2.5866  1.5545  3.6992 70000    42.7     309.7      \n",
       "ACS_PCT_EDUC             0.7257  0.0153  1.6371 70000    42.7      97.1      \n",
       "ACS_PCT_UNINSURED64      0.4151 -0.0461  0.8604 70000    42.7     255.3      \n",
       "CCBP_RATE_FSR_PER_1000  -0.8254 -4.3462  2.6072 70000    42.7     461.0      \n",
       "ACS_PCT_GRANDP_NO_RESPS -0.0675 -0.2193  0.0917 70000    42.7     157.3      \n",
       "PM2.5                   -0.8755 -1.0598 -0.7085 70000    42.7     314.4      \n",
       "ACS_PCT_ASSOCIATE_DGR   -0.2038 -0.6886  0.3611 70000    42.7     249.8      \n",
       "ACS_PCT_ADMIN            3.1039  2.1740  4.2271 70000    42.7     174.4      \n",
       "ACS_PCT_RENTER_65UP      0.0620 -0.2968  0.4307 70000    42.7     387.2      \n",
       "duration_mins_mp_mental  0.0005 -0.0001  0.0010 70000    42.7     110.7      \n",
       "ACS_PCT_WALK_2WORK       2.6425  1.5999  3.7152 70000    42.7     152.0      \n",
       "ACS_PCT_OTH_EURP        -2.2610 -3.2057 -1.2820 70000    42.7     275.8      \n",
       "⋮                       ⋮       ⋮       ⋮       ⋮        ⋮        ⋮          \n",
       "ACS_PCT_PUBLIC_OTHER     3.1189 -1.3870  7.6853 70000     42.7      302.5    \n",
       "CHR_DENTIST_RATE        -0.7432 -1.4176 -0.0685 70000     42.7      278.5    \n",
       "duration_mins_centroid   0.0044  0.0033  0.0055 70000     42.7      179.3    \n",
       "ACS_PCT_MANUFACT         0.3260 -0.2776  1.1966 70000     42.7       50.9    \n",
       "ACS_PCT_GULFWAR_1990     0.4090  0.1242  0.6950 70000     42.7      481.1    \n",
       "ACS_PCT_HH_PUB_ASSIST    0.5584 -0.5977  1.7066 70000     42.7      467.2    \n",
       "ACS_PCT_FEMALE           0.7049 -0.4558  1.9079 70000     42.7      257.5    \n",
       "wind_speed               0.3246  0.1753  0.4767 70000     42.7      353.5    \n",
       "ACS_PCT_RENT_COST_30PCT -0.6925 -0.9191 -0.4725 70000     42.7      418.9    \n",
       "ACS_PCT_COMMT_60MINUP   -0.7915 -1.6670  0.1254 70000     42.7       51.9    \n",
       "ACS_PCT_RENTER_HH_CHILD  0.4018  0.1195  0.6988 70000     42.7      196.7    \n",
       "NHC_BEDCOUNT            -0.5237 -1.0072 -0.1381 70000     42.7       62.3    \n",
       "NHC_LIC_STAFF           -1.3752 -1.6018 -1.1403 70000     42.7      407.5    \n",
       "ACS_PCT_10UNITS         -0.5602 -1.0690 -0.0101 70000     42.7       80.1    \n",
       "ACS_PCT_OTHER_INS       -0.3499 -1.6400  0.8849 70000     42.7      349.5    \n",
       "ACS_PCT_1UP_OWNER_1ROOM -2.0142 -5.9850  1.7494 70000     42.7       63.9    \n",
       "ACS_PCT_OTHER           -0.3980 -1.7762  0.9642 70000     42.7      455.3    \n",
       "CHR_ALCOHOL_DRIV_DEATH  -0.1175 -0.2097 -0.0219 70000     42.7      700.3    \n",
       "visibility              -0.0048 -0.0827  0.0713 70000     42.7      769.2    \n",
       "ACS_MEDIAN_RENT          0.0874 -0.0698  0.2363 70000     42.7      269.9    \n",
       "ACS_PCT_DRIVE_2WORK      0.4892 -0.1974  1.0952 70000     42.7       36.3    \n",
       "ACS_PCT_WORK_NO_CAR      1.6177  0.4121  2.8111 70000     42.7       47.3    \n",
       "ACS_PCT_GRANDP_RESPS     0.0397 -0.1235  0.2042 70000     42.7       98.0    \n",
       "ACS_PCT_ENGLISH          0.3461 -0.0142  0.6992 70000     42.7       37.1    \n",
       "ACS_PCT_CONSTRUCT        1.9187  0.9127  3.0298 70000     42.7      222.1    \n",
       "ACS_PCT_HH_1PERS         0.6280  0.0402  1.2032 70000     42.7      284.7    \n",
       "ACS_PCT_AGE_0_4         -3.0799 -5.7081 -0.4474 70000     42.7      232.5    \n",
       "tau2                     0.1694  0.1620  0.1771 70000    100.0     6460.0    \n",
       "rho.S                    0.4992  0.4651  0.5329 70000     46.9     4019.3    \n",
       "rho.T                    0.8922  0.8701  0.9143 70000    100.0    14634.9    \n",
       "                        Geweke.diag\n",
       "(Intercept)              0.1       \n",
       "ACS_PCT_GRP_QRT         -0.6       \n",
       "ACS_PCT_PRIVATE_2        1.1       \n",
       "mean_temp                1.0       \n",
       "ACS_PCT_MEDICARE_ONLY   -0.7       \n",
       "ACS_PCT_PRIVATE_SELF    -0.7       \n",
       "ACS_PCT_MOBILE_HOME     -0.8       \n",
       "NHC_DAILY_RES            0.0       \n",
       "ACS_PCT_NON_CITIZEN     -2.0       \n",
       "ACS_PCT_TRICARE_VA      -0.3       \n",
       "ACS_PCT_RETAIL          -6.0       \n",
       "ACS_PCT_VA_LABOR_FORCE   0.0       \n",
       "ACS_PCT_INFORM          -2.3       \n",
       "ACS_PCT_COMMT_29MIN      3.2       \n",
       "ACS_PCT_PRIVATE_MDCR     2.0       \n",
       "ACS_PCT_COMMT_59MIN      2.8       \n",
       "AHRF_HPSA_MENTAL        -0.7       \n",
       "ACS_PCT_DIVORCE_SEPARAT -1.5       \n",
       "ACS_PCT_TRANSPORT       -4.7       \n",
       "ACS_PCT_EDUC            -6.3       \n",
       "ACS_PCT_UNINSURED64     -0.8       \n",
       "CCBP_RATE_FSR_PER_1000  -0.2       \n",
       "ACS_PCT_GRANDP_NO_RESPS  1.1       \n",
       "PM2.5                   -1.6       \n",
       "ACS_PCT_ASSOCIATE_DGR    1.7       \n",
       "ACS_PCT_ADMIN           -6.0       \n",
       "ACS_PCT_RENTER_65UP     -0.4       \n",
       "duration_mins_mp_mental -4.3       \n",
       "ACS_PCT_WALK_2WORK       3.2       \n",
       "ACS_PCT_OTH_EURP         0.7       \n",
       "⋮                       ⋮          \n",
       "ACS_PCT_PUBLIC_OTHER    -0.1       \n",
       "CHR_DENTIST_RATE        -0.5       \n",
       "duration_mins_centroid   2.5       \n",
       "ACS_PCT_MANUFACT        -3.6       \n",
       "ACS_PCT_GULFWAR_1990     0.2       \n",
       "ACS_PCT_HH_PUB_ASSIST    3.2       \n",
       "ACS_PCT_FEMALE          -1.8       \n",
       "wind_speed              -0.1       \n",
       "ACS_PCT_RENT_COST_30PCT -2.5       \n",
       "ACS_PCT_COMMT_60MINUP    2.9       \n",
       "ACS_PCT_RENTER_HH_CHILD -0.7       \n",
       "NHC_BEDCOUNT             0.1       \n",
       "NHC_LIC_STAFF           -1.1       \n",
       "ACS_PCT_10UNITS         -1.8       \n",
       "ACS_PCT_OTHER_INS       -0.2       \n",
       "ACS_PCT_1UP_OWNER_1ROOM -0.5       \n",
       "ACS_PCT_OTHER           -3.6       \n",
       "CHR_ALCOHOL_DRIV_DEATH  -3.0       \n",
       "visibility               1.4       \n",
       "ACS_MEDIAN_RENT          1.8       \n",
       "ACS_PCT_DRIVE_2WORK     -0.2       \n",
       "ACS_PCT_WORK_NO_CAR     -0.7       \n",
       "ACS_PCT_GRANDP_RESPS     1.0       \n",
       "ACS_PCT_ENGLISH          0.1       \n",
       "ACS_PCT_CONSTRUCT       -5.9       \n",
       "ACS_PCT_HH_1PERS         2.3       \n",
       "ACS_PCT_AGE_0_4         -0.2       \n",
       "tau2                    -0.2       \n",
       "rho.S                    0.9       \n",
       "rho.T                    0.5       "
      ]
     },
     "metadata": {},
     "output_type": "display_data"
    }
   ],
   "source": [
    "fit1$summary.results"
   ]
  },
  {
   "cell_type": "markdown",
   "id": "c4d5f103-e55d-4f80-bb02-b6d0d197112e",
   "metadata": {},
   "source": [
    "#### Comments:\n",
    "- rho.S -> spatial dependence parameter\n",
    "- rho.T -> temporal dependence parameter\n",
    "\n",
    "- In the summary ouput each coefficient has the mean of the posterior distribution alongisde 95% credibility interval.\n"
   ]
  },
  {
   "cell_type": "code",
   "execution_count": null,
   "id": "353c996e-4670-4f36-a1ad-47bded0a636d",
   "metadata": {},
   "outputs": [
    {
     "name": "stdout",
     "output_type": "stream",
     "text": [
      "List of 6\n",
      " $ beta  : 'mcmc' num [1:70000, 1:88] -8.05 -8.1 -8.04 -8.03 -7.97 ...\n",
      "  ..- attr(*, \"mcpar\")= num [1:3] 1 70000 1\n",
      " $ phi   : 'mcmc' num [1:70000, 1:9087] -0.0123 0.0526 0.0724 0.0728 0.0709 ...\n",
      "  ..- attr(*, \"mcpar\")= num [1:3] 1 70000 1\n",
      " $ rho   : 'mcmc' num [1:70000, 1:2] 0.469 0.484 0.492 0.465 0.465 ...\n",
      "  ..- attr(*, \"dimnames\")=List of 2\n",
      "  .. ..$ : NULL\n",
      "  .. ..$ : chr [1:2] \"rho.S\" \"rho.T\"\n",
      "  ..- attr(*, \"mcpar\")= num [1:3] 1 70000 1\n",
      " $ tau2  : 'mcmc' num [1:70000, 1] 0.173 0.175 0.175 0.181 0.178 ...\n",
      "  ..- attr(*, \"mcpar\")= num [1:3] 1 70000 1\n",
      " $ fitted: 'mcmc' num [1:70000, 1:9087] 13.3 14.4 15 14.9 15 ...\n",
      "  ..- attr(*, \"mcpar\")= num [1:3] 1 70000 1\n",
      " $ Y     : 'mcmc' logi NA\n",
      "  ..- attr(*, \"mcpar\")= num [1:3] 1 1 1\n"
     ]
    }
   ],
   "source": [
    "str(fit1$samples)"
   ]
  },
  {
   "cell_type": "code",
   "execution_count": 9,
   "id": "fe43c9d0-9f49-4963-ba64-6544c8beb8ba",
   "metadata": {},
   "outputs": [],
   "source": [
    "true_values <- read_csv(\"data/raw/suicide/2018.csv\", show_col_types=F) %>%\n",
    "        filter(fips %in% fips_to_keep) %>%\n",
    "        arrange(fips) %>%\n",
    "        select(Deaths) %>%\n",
    "        pull()\n"
   ]
  },
  {
   "cell_type": "code",
   "execution_count": 10,
   "id": "458b7de9-d558-44d5-9c15-e9e38be51a09",
   "metadata": {},
   "outputs": [],
   "source": [
    "fitted_values <- fit1$fitted[6059:9087]"
   ]
  },
  {
   "cell_type": "code",
   "execution_count": 11,
   "id": "c2ef39d5-ae1a-4acf-9892-936312a8e850",
   "metadata": {},
   "outputs": [],
   "source": [
    "results_df <- tibble(\n",
    "    fitted_values = fitted_values,\n",
    "    true_values = true_values,\n",
    "    FIPSCODE = fips_to_keep\n",
    ")\n"
   ]
  },
  {
   "cell_type": "code",
   "execution_count": 12,
   "id": "c1c2cc1c-266a-44fd-bd3c-b1bc29bea793",
   "metadata": {},
   "outputs": [
    {
     "data": {
      "text/html": [
       "<table class=\"dataframe\">\n",
       "<caption>A tibble: 6 × 4</caption>\n",
       "<thead>\n",
       "\t<tr><th scope=col>fitted_values</th><th scope=col>true_values</th><th scope=col>FIPSCODE</th><th scope=col>top5_true</th></tr>\n",
       "\t<tr><th scope=col>&lt;dbl&gt;</th><th scope=col>&lt;dbl&gt;</th><th scope=col>&lt;chr&gt;</th><th scope=col>&lt;dbl&gt;</th></tr>\n",
       "</thead>\n",
       "<tbody>\n",
       "\t<tr><td>843.5941</td><td>947</td><td>06037</td><td>1</td></tr>\n",
       "\t<tr><td>690.5829</td><td>737</td><td>04013</td><td>1</td></tr>\n",
       "\t<tr><td>490.4816</td><td>481</td><td>48201</td><td>1</td></tr>\n",
       "\t<tr><td>417.6552</td><td>465</td><td>32003</td><td>1</td></tr>\n",
       "\t<tr><td>425.9901</td><td>459</td><td>17031</td><td>1</td></tr>\n",
       "\t<tr><td>415.7551</td><td>448</td><td>06073</td><td>1</td></tr>\n",
       "</tbody>\n",
       "</table>\n"
      ],
      "text/latex": [
       "A tibble: 6 × 4\n",
       "\\begin{tabular}{llll}\n",
       " fitted\\_values & true\\_values & FIPSCODE & top5\\_true\\\\\n",
       " <dbl> & <dbl> & <chr> & <dbl>\\\\\n",
       "\\hline\n",
       "\t 843.5941 & 947 & 06037 & 1\\\\\n",
       "\t 690.5829 & 737 & 04013 & 1\\\\\n",
       "\t 490.4816 & 481 & 48201 & 1\\\\\n",
       "\t 417.6552 & 465 & 32003 & 1\\\\\n",
       "\t 425.9901 & 459 & 17031 & 1\\\\\n",
       "\t 415.7551 & 448 & 06073 & 1\\\\\n",
       "\\end{tabular}\n"
      ],
      "text/markdown": [
       "\n",
       "A tibble: 6 × 4\n",
       "\n",
       "| fitted_values &lt;dbl&gt; | true_values &lt;dbl&gt; | FIPSCODE &lt;chr&gt; | top5_true &lt;dbl&gt; |\n",
       "|---|---|---|---|\n",
       "| 843.5941 | 947 | 06037 | 1 |\n",
       "| 690.5829 | 737 | 04013 | 1 |\n",
       "| 490.4816 | 481 | 48201 | 1 |\n",
       "| 417.6552 | 465 | 32003 | 1 |\n",
       "| 425.9901 | 459 | 17031 | 1 |\n",
       "| 415.7551 | 448 | 06073 | 1 |\n",
       "\n"
      ],
      "text/plain": [
       "  fitted_values true_values FIPSCODE top5_true\n",
       "1 843.5941      947         06037    1        \n",
       "2 690.5829      737         04013    1        \n",
       "3 490.4816      481         48201    1        \n",
       "4 417.6552      465         32003    1        \n",
       "5 425.9901      459         17031    1        \n",
       "6 415.7551      448         06073    1        "
      ]
     },
     "metadata": {},
     "output_type": "display_data"
    }
   ],
   "source": [
    "top_true <- results_df %>%\n",
    "    arrange(desc(true_values)) %>%\n",
    "    head(6) %>%\n",
    "    mutate(top5_true = 1)\n",
    "top_true"
   ]
  },
  {
   "cell_type": "code",
   "execution_count": 13,
   "id": "b8bd4608-4699-4926-9ebf-2b3c68f42b9a",
   "metadata": {},
   "outputs": [
    {
     "data": {
      "text/html": [
       "<table class=\"dataframe\">\n",
       "<caption>A tibble: 6 × 3</caption>\n",
       "<thead>\n",
       "\t<tr><th scope=col>fitted_values</th><th scope=col>true_values</th><th scope=col>FIPSCODE</th></tr>\n",
       "\t<tr><th scope=col>&lt;dbl&gt;</th><th scope=col>&lt;dbl&gt;</th><th scope=col>&lt;chr&gt;</th></tr>\n",
       "</thead>\n",
       "<tbody>\n",
       "\t<tr><td>843.5941</td><td>947</td><td>06037</td></tr>\n",
       "\t<tr><td>690.5829</td><td>737</td><td>04013</td></tr>\n",
       "\t<tr><td>490.4816</td><td>481</td><td>48201</td></tr>\n",
       "\t<tr><td>425.9901</td><td>459</td><td>17031</td></tr>\n",
       "\t<tr><td>417.6552</td><td>465</td><td>32003</td></tr>\n",
       "\t<tr><td>415.7551</td><td>448</td><td>06073</td></tr>\n",
       "</tbody>\n",
       "</table>\n"
      ],
      "text/latex": [
       "A tibble: 6 × 3\n",
       "\\begin{tabular}{lll}\n",
       " fitted\\_values & true\\_values & FIPSCODE\\\\\n",
       " <dbl> & <dbl> & <chr>\\\\\n",
       "\\hline\n",
       "\t 843.5941 & 947 & 06037\\\\\n",
       "\t 690.5829 & 737 & 04013\\\\\n",
       "\t 490.4816 & 481 & 48201\\\\\n",
       "\t 425.9901 & 459 & 17031\\\\\n",
       "\t 417.6552 & 465 & 32003\\\\\n",
       "\t 415.7551 & 448 & 06073\\\\\n",
       "\\end{tabular}\n"
      ],
      "text/markdown": [
       "\n",
       "A tibble: 6 × 3\n",
       "\n",
       "| fitted_values &lt;dbl&gt; | true_values &lt;dbl&gt; | FIPSCODE &lt;chr&gt; |\n",
       "|---|---|---|\n",
       "| 843.5941 | 947 | 06037 |\n",
       "| 690.5829 | 737 | 04013 |\n",
       "| 490.4816 | 481 | 48201 |\n",
       "| 425.9901 | 459 | 17031 |\n",
       "| 417.6552 | 465 | 32003 |\n",
       "| 415.7551 | 448 | 06073 |\n",
       "\n"
      ],
      "text/plain": [
       "  fitted_values true_values FIPSCODE\n",
       "1 843.5941      947         06037   \n",
       "2 690.5829      737         04013   \n",
       "3 490.4816      481         48201   \n",
       "4 425.9901      459         17031   \n",
       "5 417.6552      465         32003   \n",
       "6 415.7551      448         06073   "
      ]
     },
     "metadata": {},
     "output_type": "display_data"
    }
   ],
   "source": [
    "top_fitted <- results_df %>%\n",
    "    arrange(desc(fitted_values)) %>%\n",
    "    head(6)\n",
    "top_fitted"
   ]
  },
  {
   "cell_type": "markdown",
   "id": "0614c200-b519-44b9-85f3-8743e59a3725",
   "metadata": {},
   "source": [
    "# Coefficients\n",
    "Order by effect size of the coefficient (note: coefficients have not been standardized)"
   ]
  },
  {
   "cell_type": "code",
   "execution_count": 14,
   "id": "c08db84d-d78c-4a0a-82b4-d32b89a4dce0",
   "metadata": {},
   "outputs": [
    {
     "data": {
      "text/html": [
       "<table class=\"dataframe\">\n",
       "<caption>A tibble: 91 × 7</caption>\n",
       "<thead>\n",
       "\t<tr><th></th><th scope=col>Mean</th><th scope=col>2.5%</th><th scope=col>97.5%</th><th scope=col>n.sample</th><th scope=col>% accept</th><th scope=col>n.effective</th><th scope=col>Geweke.diag</th></tr>\n",
       "\t<tr><th></th><th scope=col>&lt;dbl&gt;</th><th scope=col>&lt;dbl&gt;</th><th scope=col>&lt;dbl&gt;</th><th scope=col>&lt;dbl&gt;</th><th scope=col>&lt;dbl&gt;</th><th scope=col>&lt;dbl&gt;</th><th scope=col>&lt;dbl&gt;</th></tr>\n",
       "</thead>\n",
       "<tbody>\n",
       "\t<tr><th scope=row>(Intercept)</th><td>-8.2772</td><td>-9.5180</td><td>-7.1086</td><td>70000</td><td>42.7</td><td>124.9</td><td> 0.1</td></tr>\n",
       "\t<tr><th scope=row>ACS_PCT_WHOLESALE</th><td> 4.7417</td><td> 3.1937</td><td> 6.3336</td><td>70000</td><td>42.7</td><td>429.8</td><td>-2.0</td></tr>\n",
       "\t<tr><th scope=row>CCBP_RATE_CS_PER_1000</th><td>-3.8931</td><td>-9.3049</td><td> 1.0028</td><td>70000</td><td>42.7</td><td> 59.2</td><td> 0.6</td></tr>\n",
       "\t<tr><th scope=row>ACS_PCT_AGE_0_17</th><td> 3.7716</td><td> 2.5066</td><td> 5.1715</td><td>70000</td><td>42.7</td><td> 86.0</td><td>-0.3</td></tr>\n",
       "\t<tr><th scope=row>ACS_PCT_PRIVATE_MDCR</th><td>-3.4639</td><td>-5.0727</td><td>-1.9323</td><td>70000</td><td>42.7</td><td>292.5</td><td> 2.0</td></tr>\n",
       "\t<tr><th scope=row>ACS_PCT_NATURE</th><td> 3.4622</td><td> 2.8264</td><td> 4.4416</td><td>70000</td><td>42.7</td><td>  5.3</td><td>-1.7</td></tr>\n",
       "\t<tr><th scope=row>ACS_PCT_PUBLIC_OTHER</th><td> 3.1189</td><td>-1.3870</td><td> 7.6853</td><td>70000</td><td>42.7</td><td>302.5</td><td>-0.1</td></tr>\n",
       "\t<tr><th scope=row>ACS_PCT_ADMIN</th><td> 3.1039</td><td> 2.1740</td><td> 4.2271</td><td>70000</td><td>42.7</td><td>174.4</td><td>-6.0</td></tr>\n",
       "\t<tr><th scope=row>ACS_PCT_AGE_0_4</th><td>-3.0799</td><td>-5.7081</td><td>-0.4474</td><td>70000</td><td>42.7</td><td>232.5</td><td>-0.2</td></tr>\n",
       "\t<tr><th scope=row>ACS_PCT_COMMT_29MIN</th><td>-2.9706</td><td>-3.7990</td><td>-2.1340</td><td>70000</td><td>42.7</td><td> 28.7</td><td> 3.2</td></tr>\n",
       "\t<tr><th scope=row>CHR_MENTAL_DR_RATE</th><td>-2.9680</td><td>-4.4587</td><td>-1.3816</td><td>70000</td><td>42.7</td><td>212.3</td><td> 0.2</td></tr>\n",
       "\t<tr><th scope=row>ACS_PCT_WALK_2WORK</th><td> 2.6425</td><td> 1.5999</td><td> 3.7152</td><td>70000</td><td>42.7</td><td>152.0</td><td> 3.2</td></tr>\n",
       "\t<tr><th scope=row>ACS_PCT_TRANSPORT</th><td> 2.5866</td><td> 1.5545</td><td> 3.6992</td><td>70000</td><td>42.7</td><td>309.7</td><td>-4.7</td></tr>\n",
       "\t<tr><th scope=row>ACS_PCT_1UP_PERS_1ROOM</th><td> 2.5754</td><td>-1.8977</td><td> 7.3514</td><td>70000</td><td>42.7</td><td> 26.9</td><td> 0.7</td></tr>\n",
       "\t<tr><th scope=row>ACS_PCT_VA</th><td>-2.4340</td><td>-3.7086</td><td>-1.1462</td><td>70000</td><td>42.7</td><td>116.8</td><td> 0.1</td></tr>\n",
       "\t<tr><th scope=row>ACS_PCT_OTH_EURP</th><td>-2.2610</td><td>-3.2057</td><td>-1.2820</td><td>70000</td><td>42.7</td><td>275.8</td><td> 0.7</td></tr>\n",
       "\t<tr><th scope=row>ACS_PCT_1UP_OWNER_1ROOM</th><td>-2.0142</td><td>-5.9850</td><td> 1.7494</td><td>70000</td><td>42.7</td><td> 63.9</td><td>-0.5</td></tr>\n",
       "\t<tr><th scope=row>ACS_PCT_PRIVATE_SELF</th><td> 1.9466</td><td> 1.1885</td><td> 2.7021</td><td>70000</td><td>42.7</td><td>209.7</td><td>-0.7</td></tr>\n",
       "\t<tr><th scope=row>ACS_PCT_CONSTRUCT</th><td> 1.9187</td><td> 0.9127</td><td> 3.0298</td><td>70000</td><td>42.7</td><td>222.1</td><td>-5.9</td></tr>\n",
       "\t<tr><th scope=row>ACS_PCT_MULT_RACE</th><td>-1.7486</td><td>-2.8590</td><td>-0.5854</td><td>70000</td><td>42.7</td><td>403.7</td><td> 1.5</td></tr>\n",
       "\t<tr><th scope=row>ACS_PCT_MEDICARE_ONLY</th><td> 1.7426</td><td> 0.4376</td><td> 3.0053</td><td>70000</td><td>42.7</td><td>341.3</td><td>-0.7</td></tr>\n",
       "\t<tr><th scope=row>ACS_PCT_WORK_NO_CAR</th><td> 1.6177</td><td> 0.4121</td><td> 2.8111</td><td>70000</td><td>42.7</td><td> 47.3</td><td>-0.7</td></tr>\n",
       "\t<tr><th scope=row>NHC_DAILY_RES</th><td>-1.5537</td><td>-1.8990</td><td>-1.1287</td><td>70000</td><td>42.7</td><td> 76.9</td><td> 0.0</td></tr>\n",
       "\t<tr><th scope=row>ACS_PCT_DIVORCE_SEPARAT</th><td>-1.5150</td><td>-2.3434</td><td>-0.7315</td><td>70000</td><td>42.7</td><td>377.8</td><td>-1.5</td></tr>\n",
       "\t<tr><th scope=row>ACS_PCT_NON_CITIZEN</th><td>-1.4543</td><td>-2.4076</td><td>-0.4150</td><td>70000</td><td>42.7</td><td> 88.1</td><td>-2.0</td></tr>\n",
       "\t<tr><th scope=row>ACS_PCT_GRP_QRT</th><td> 1.3944</td><td> 0.6640</td><td> 2.1392</td><td>70000</td><td>42.7</td><td>183.6</td><td>-0.6</td></tr>\n",
       "\t<tr><th scope=row>NHC_LIC_STAFF</th><td>-1.3752</td><td>-1.6018</td><td>-1.1403</td><td>70000</td><td>42.7</td><td>407.5</td><td>-1.1</td></tr>\n",
       "\t<tr><th scope=row>ACS_PCT_RETAIL</th><td>-1.2655</td><td>-2.1719</td><td>-0.2798</td><td>70000</td><td>42.7</td><td>245.6</td><td>-6.0</td></tr>\n",
       "\t<tr><th scope=row>ACS_MEDIAN_AGE</th><td> 1.2653</td><td> 0.8961</td><td> 1.6207</td><td>70000</td><td>42.7</td><td>137.4</td><td> 0.1</td></tr>\n",
       "\t<tr><th scope=row>ACS_PCT_1UP_RENT_1ROOM</th><td>-1.0482</td><td>-2.4607</td><td> 0.3292</td><td>70000</td><td>42.7</td><td> 75.4</td><td>-0.9</td></tr>\n",
       "\t<tr><th scope=row>⋮</th><td>⋮</td><td>⋮</td><td>⋮</td><td>⋮</td><td>⋮</td><td>⋮</td><td>⋮</td></tr>\n",
       "\t<tr><th scope=row>ACS_HH_SIZE</th><td>-0.3304</td><td>-0.6940</td><td> 0.1236</td><td>70000</td><td> 42.7</td><td>  16.6</td><td> 2.9</td></tr>\n",
       "\t<tr><th scope=row>ACS_PCT_MANUFACT</th><td> 0.3260</td><td>-0.2776</td><td> 1.1966</td><td>70000</td><td> 42.7</td><td>  50.9</td><td>-3.6</td></tr>\n",
       "\t<tr><th scope=row>wind_speed</th><td> 0.3246</td><td> 0.1753</td><td> 0.4767</td><td>70000</td><td> 42.7</td><td> 353.5</td><td>-0.1</td></tr>\n",
       "\t<tr><th scope=row>ACS_PCT_COMMT_59MIN</th><td> 0.3212</td><td>-0.5095</td><td> 1.1965</td><td>70000</td><td> 42.7</td><td>  27.1</td><td> 2.8</td></tr>\n",
       "\t<tr><th scope=row>ACS_PCT_TAXICAB_2WORK</th><td> 0.2946</td><td>-1.2219</td><td> 1.8112</td><td>70000</td><td> 42.7</td><td> 390.3</td><td>-0.9</td></tr>\n",
       "\t<tr><th scope=row>ACS_PCT_VA_POOR</th><td> 0.2822</td><td> 0.0617</td><td> 0.4921</td><td>70000</td><td> 42.7</td><td> 642.0</td><td>-2.4</td></tr>\n",
       "\t<tr><th scope=row>ACS_PCT_FINANCE</th><td> 0.2765</td><td>-0.9210</td><td> 1.5470</td><td>70000</td><td> 42.7</td><td> 193.4</td><td>-2.2</td></tr>\n",
       "\t<tr><th scope=row>ACS_PCT_VA_COLLEGE</th><td>-0.2736</td><td>-0.5159</td><td>-0.0256</td><td>70000</td><td> 42.7</td><td> 574.0</td><td>-0.7</td></tr>\n",
       "\t<tr><th scope=row>MP_PERCPEN</th><td>-0.2584</td><td>-0.4487</td><td>-0.0594</td><td>70000</td><td> 42.7</td><td> 156.8</td><td>-1.8</td></tr>\n",
       "\t<tr><th scope=row>ACS_PCT_ART</th><td>-0.2315</td><td>-1.0703</td><td> 0.8790</td><td>70000</td><td> 42.7</td><td> 114.6</td><td>-6.4</td></tr>\n",
       "\t<tr><th scope=row>ACS_PCT_ASSOCIATE_DGR</th><td>-0.2038</td><td>-0.6886</td><td> 0.3611</td><td>70000</td><td> 42.7</td><td> 249.8</td><td> 1.7</td></tr>\n",
       "\t<tr><th scope=row>tau2</th><td> 0.1694</td><td> 0.1620</td><td> 0.1771</td><td>70000</td><td>100.0</td><td>6460.0</td><td>-0.2</td></tr>\n",
       "\t<tr><th scope=row>mean_temp</th><td> 0.1413</td><td>-0.0831</td><td> 0.3623</td><td>70000</td><td> 42.7</td><td> 188.4</td><td> 1.0</td></tr>\n",
       "\t<tr><th scope=row>ACS_PCT_UNEMPLOY</th><td> 0.1265</td><td>-1.3438</td><td> 1.5442</td><td>70000</td><td> 42.7</td><td> 282.5</td><td>-2.7</td></tr>\n",
       "\t<tr><th scope=row>ACS_PCT_GULFWAR_2001</th><td> 0.1190</td><td>-0.1864</td><td> 0.4395</td><td>70000</td><td> 42.7</td><td> 367.8</td><td>-0.8</td></tr>\n",
       "\t<tr><th scope=row>CHR_ALCOHOL_DRIV_DEATH</th><td>-0.1175</td><td>-0.2097</td><td>-0.0219</td><td>70000</td><td> 42.7</td><td> 700.3</td><td>-3.0</td></tr>\n",
       "\t<tr><th scope=row>AHRF_HPSA_MENTAL</th><td>-0.1066</td><td>-0.1617</td><td>-0.0528</td><td>70000</td><td> 42.7</td><td> 576.5</td><td>-0.7</td></tr>\n",
       "\t<tr><th scope=row>ACS_MEDIAN_RENT</th><td> 0.0874</td><td>-0.0698</td><td> 0.2363</td><td>70000</td><td> 42.7</td><td> 269.9</td><td> 1.8</td></tr>\n",
       "\t<tr><th scope=row>ACS_PCT_VA_LABOR_FORCE</th><td>-0.0804</td><td>-0.2477</td><td> 0.0877</td><td>70000</td><td> 42.7</td><td> 438.1</td><td> 0.0</td></tr>\n",
       "\t<tr><th scope=row>CHR_DENTISTS_NUM</th><td> 0.0727</td><td>-0.1693</td><td> 0.2784</td><td>70000</td><td> 42.7</td><td>   9.7</td><td>-0.9</td></tr>\n",
       "\t<tr><th scope=row>ACS_PCT_GRANDP_NO_RESPS</th><td>-0.0675</td><td>-0.2193</td><td> 0.0917</td><td>70000</td><td> 42.7</td><td> 157.3</td><td> 1.1</td></tr>\n",
       "\t<tr><th scope=row>ACS_PCT_RENTER_65UP</th><td> 0.0620</td><td>-0.2968</td><td> 0.4307</td><td>70000</td><td> 42.7</td><td> 387.2</td><td>-0.4</td></tr>\n",
       "\t<tr><th scope=row>ACS_PCT_VA_DISABLE</th><td>-0.0599</td><td>-0.2417</td><td> 0.1104</td><td>70000</td><td> 42.7</td><td> 539.3</td><td> 0.8</td></tr>\n",
       "\t<tr><th scope=row>ACS_PCT_GRANDP_RESPS_NO_P</th><td> 0.0567</td><td>-0.1017</td><td> 0.2223</td><td>70000</td><td> 42.7</td><td> 158.5</td><td> 1.0</td></tr>\n",
       "\t<tr><th scope=row>ACS_PCT_GRANDP_RESPS</th><td> 0.0397</td><td>-0.1235</td><td> 0.2042</td><td>70000</td><td> 42.7</td><td>  98.0</td><td> 1.0</td></tr>\n",
       "\t<tr><th scope=row>ACS_PCT_INFORM</th><td>-0.0066</td><td>-2.1992</td><td> 2.2520</td><td>70000</td><td> 42.7</td><td> 372.3</td><td>-2.3</td></tr>\n",
       "\t<tr><th scope=row>visibility</th><td>-0.0048</td><td>-0.0827</td><td> 0.0713</td><td>70000</td><td> 42.7</td><td> 769.2</td><td> 1.4</td></tr>\n",
       "\t<tr><th scope=row>duration_mins_centroid</th><td> 0.0044</td><td> 0.0033</td><td> 0.0055</td><td>70000</td><td> 42.7</td><td> 179.3</td><td> 2.5</td></tr>\n",
       "\t<tr><th scope=row>duration_mins_mp_VAMC</th><td>-0.0009</td><td>-0.0014</td><td>-0.0004</td><td>70000</td><td> 42.7</td><td> 124.3</td><td> 3.8</td></tr>\n",
       "\t<tr><th scope=row>duration_mins_mp_mental</th><td> 0.0005</td><td>-0.0001</td><td> 0.0010</td><td>70000</td><td> 42.7</td><td> 110.7</td><td>-4.3</td></tr>\n",
       "</tbody>\n",
       "</table>\n"
      ],
      "text/latex": [
       "A tibble: 91 × 7\n",
       "\\begin{tabular}{r|lllllll}\n",
       "  & Mean & 2.5\\% & 97.5\\% & n.sample & \\% accept & n.effective & Geweke.diag\\\\\n",
       "  & <dbl> & <dbl> & <dbl> & <dbl> & <dbl> & <dbl> & <dbl>\\\\\n",
       "\\hline\n",
       "\t(Intercept) & -8.2772 & -9.5180 & -7.1086 & 70000 & 42.7 & 124.9 &  0.1\\\\\n",
       "\tACS\\_PCT\\_WHOLESALE &  4.7417 &  3.1937 &  6.3336 & 70000 & 42.7 & 429.8 & -2.0\\\\\n",
       "\tCCBP\\_RATE\\_CS\\_PER\\_1000 & -3.8931 & -9.3049 &  1.0028 & 70000 & 42.7 &  59.2 &  0.6\\\\\n",
       "\tACS\\_PCT\\_AGE\\_0\\_17 &  3.7716 &  2.5066 &  5.1715 & 70000 & 42.7 &  86.0 & -0.3\\\\\n",
       "\tACS\\_PCT\\_PRIVATE\\_MDCR & -3.4639 & -5.0727 & -1.9323 & 70000 & 42.7 & 292.5 &  2.0\\\\\n",
       "\tACS\\_PCT\\_NATURE &  3.4622 &  2.8264 &  4.4416 & 70000 & 42.7 &   5.3 & -1.7\\\\\n",
       "\tACS\\_PCT\\_PUBLIC\\_OTHER &  3.1189 & -1.3870 &  7.6853 & 70000 & 42.7 & 302.5 & -0.1\\\\\n",
       "\tACS\\_PCT\\_ADMIN &  3.1039 &  2.1740 &  4.2271 & 70000 & 42.7 & 174.4 & -6.0\\\\\n",
       "\tACS\\_PCT\\_AGE\\_0\\_4 & -3.0799 & -5.7081 & -0.4474 & 70000 & 42.7 & 232.5 & -0.2\\\\\n",
       "\tACS\\_PCT\\_COMMT\\_29MIN & -2.9706 & -3.7990 & -2.1340 & 70000 & 42.7 &  28.7 &  3.2\\\\\n",
       "\tCHR\\_MENTAL\\_DR\\_RATE & -2.9680 & -4.4587 & -1.3816 & 70000 & 42.7 & 212.3 &  0.2\\\\\n",
       "\tACS\\_PCT\\_WALK\\_2WORK &  2.6425 &  1.5999 &  3.7152 & 70000 & 42.7 & 152.0 &  3.2\\\\\n",
       "\tACS\\_PCT\\_TRANSPORT &  2.5866 &  1.5545 &  3.6992 & 70000 & 42.7 & 309.7 & -4.7\\\\\n",
       "\tACS\\_PCT\\_1UP\\_PERS\\_1ROOM &  2.5754 & -1.8977 &  7.3514 & 70000 & 42.7 &  26.9 &  0.7\\\\\n",
       "\tACS\\_PCT\\_VA & -2.4340 & -3.7086 & -1.1462 & 70000 & 42.7 & 116.8 &  0.1\\\\\n",
       "\tACS\\_PCT\\_OTH\\_EURP & -2.2610 & -3.2057 & -1.2820 & 70000 & 42.7 & 275.8 &  0.7\\\\\n",
       "\tACS\\_PCT\\_1UP\\_OWNER\\_1ROOM & -2.0142 & -5.9850 &  1.7494 & 70000 & 42.7 &  63.9 & -0.5\\\\\n",
       "\tACS\\_PCT\\_PRIVATE\\_SELF &  1.9466 &  1.1885 &  2.7021 & 70000 & 42.7 & 209.7 & -0.7\\\\\n",
       "\tACS\\_PCT\\_CONSTRUCT &  1.9187 &  0.9127 &  3.0298 & 70000 & 42.7 & 222.1 & -5.9\\\\\n",
       "\tACS\\_PCT\\_MULT\\_RACE & -1.7486 & -2.8590 & -0.5854 & 70000 & 42.7 & 403.7 &  1.5\\\\\n",
       "\tACS\\_PCT\\_MEDICARE\\_ONLY &  1.7426 &  0.4376 &  3.0053 & 70000 & 42.7 & 341.3 & -0.7\\\\\n",
       "\tACS\\_PCT\\_WORK\\_NO\\_CAR &  1.6177 &  0.4121 &  2.8111 & 70000 & 42.7 &  47.3 & -0.7\\\\\n",
       "\tNHC\\_DAILY\\_RES & -1.5537 & -1.8990 & -1.1287 & 70000 & 42.7 &  76.9 &  0.0\\\\\n",
       "\tACS\\_PCT\\_DIVORCE\\_SEPARAT & -1.5150 & -2.3434 & -0.7315 & 70000 & 42.7 & 377.8 & -1.5\\\\\n",
       "\tACS\\_PCT\\_NON\\_CITIZEN & -1.4543 & -2.4076 & -0.4150 & 70000 & 42.7 &  88.1 & -2.0\\\\\n",
       "\tACS\\_PCT\\_GRP\\_QRT &  1.3944 &  0.6640 &  2.1392 & 70000 & 42.7 & 183.6 & -0.6\\\\\n",
       "\tNHC\\_LIC\\_STAFF & -1.3752 & -1.6018 & -1.1403 & 70000 & 42.7 & 407.5 & -1.1\\\\\n",
       "\tACS\\_PCT\\_RETAIL & -1.2655 & -2.1719 & -0.2798 & 70000 & 42.7 & 245.6 & -6.0\\\\\n",
       "\tACS\\_MEDIAN\\_AGE &  1.2653 &  0.8961 &  1.6207 & 70000 & 42.7 & 137.4 &  0.1\\\\\n",
       "\tACS\\_PCT\\_1UP\\_RENT\\_1ROOM & -1.0482 & -2.4607 &  0.3292 & 70000 & 42.7 &  75.4 & -0.9\\\\\n",
       "\t⋮ & ⋮ & ⋮ & ⋮ & ⋮ & ⋮ & ⋮ & ⋮\\\\\n",
       "\tACS\\_HH\\_SIZE & -0.3304 & -0.6940 &  0.1236 & 70000 &  42.7 &   16.6 &  2.9\\\\\n",
       "\tACS\\_PCT\\_MANUFACT &  0.3260 & -0.2776 &  1.1966 & 70000 &  42.7 &   50.9 & -3.6\\\\\n",
       "\twind\\_speed &  0.3246 &  0.1753 &  0.4767 & 70000 &  42.7 &  353.5 & -0.1\\\\\n",
       "\tACS\\_PCT\\_COMMT\\_59MIN &  0.3212 & -0.5095 &  1.1965 & 70000 &  42.7 &   27.1 &  2.8\\\\\n",
       "\tACS\\_PCT\\_TAXICAB\\_2WORK &  0.2946 & -1.2219 &  1.8112 & 70000 &  42.7 &  390.3 & -0.9\\\\\n",
       "\tACS\\_PCT\\_VA\\_POOR &  0.2822 &  0.0617 &  0.4921 & 70000 &  42.7 &  642.0 & -2.4\\\\\n",
       "\tACS\\_PCT\\_FINANCE &  0.2765 & -0.9210 &  1.5470 & 70000 &  42.7 &  193.4 & -2.2\\\\\n",
       "\tACS\\_PCT\\_VA\\_COLLEGE & -0.2736 & -0.5159 & -0.0256 & 70000 &  42.7 &  574.0 & -0.7\\\\\n",
       "\tMP\\_PERCPEN & -0.2584 & -0.4487 & -0.0594 & 70000 &  42.7 &  156.8 & -1.8\\\\\n",
       "\tACS\\_PCT\\_ART & -0.2315 & -1.0703 &  0.8790 & 70000 &  42.7 &  114.6 & -6.4\\\\\n",
       "\tACS\\_PCT\\_ASSOCIATE\\_DGR & -0.2038 & -0.6886 &  0.3611 & 70000 &  42.7 &  249.8 &  1.7\\\\\n",
       "\ttau2 &  0.1694 &  0.1620 &  0.1771 & 70000 & 100.0 & 6460.0 & -0.2\\\\\n",
       "\tmean\\_temp &  0.1413 & -0.0831 &  0.3623 & 70000 &  42.7 &  188.4 &  1.0\\\\\n",
       "\tACS\\_PCT\\_UNEMPLOY &  0.1265 & -1.3438 &  1.5442 & 70000 &  42.7 &  282.5 & -2.7\\\\\n",
       "\tACS\\_PCT\\_GULFWAR\\_2001 &  0.1190 & -0.1864 &  0.4395 & 70000 &  42.7 &  367.8 & -0.8\\\\\n",
       "\tCHR\\_ALCOHOL\\_DRIV\\_DEATH & -0.1175 & -0.2097 & -0.0219 & 70000 &  42.7 &  700.3 & -3.0\\\\\n",
       "\tAHRF\\_HPSA\\_MENTAL & -0.1066 & -0.1617 & -0.0528 & 70000 &  42.7 &  576.5 & -0.7\\\\\n",
       "\tACS\\_MEDIAN\\_RENT &  0.0874 & -0.0698 &  0.2363 & 70000 &  42.7 &  269.9 &  1.8\\\\\n",
       "\tACS\\_PCT\\_VA\\_LABOR\\_FORCE & -0.0804 & -0.2477 &  0.0877 & 70000 &  42.7 &  438.1 &  0.0\\\\\n",
       "\tCHR\\_DENTISTS\\_NUM &  0.0727 & -0.1693 &  0.2784 & 70000 &  42.7 &    9.7 & -0.9\\\\\n",
       "\tACS\\_PCT\\_GRANDP\\_NO\\_RESPS & -0.0675 & -0.2193 &  0.0917 & 70000 &  42.7 &  157.3 &  1.1\\\\\n",
       "\tACS\\_PCT\\_RENTER\\_65UP &  0.0620 & -0.2968 &  0.4307 & 70000 &  42.7 &  387.2 & -0.4\\\\\n",
       "\tACS\\_PCT\\_VA\\_DISABLE & -0.0599 & -0.2417 &  0.1104 & 70000 &  42.7 &  539.3 &  0.8\\\\\n",
       "\tACS\\_PCT\\_GRANDP\\_RESPS\\_NO\\_P &  0.0567 & -0.1017 &  0.2223 & 70000 &  42.7 &  158.5 &  1.0\\\\\n",
       "\tACS\\_PCT\\_GRANDP\\_RESPS &  0.0397 & -0.1235 &  0.2042 & 70000 &  42.7 &   98.0 &  1.0\\\\\n",
       "\tACS\\_PCT\\_INFORM & -0.0066 & -2.1992 &  2.2520 & 70000 &  42.7 &  372.3 & -2.3\\\\\n",
       "\tvisibility & -0.0048 & -0.0827 &  0.0713 & 70000 &  42.7 &  769.2 &  1.4\\\\\n",
       "\tduration\\_mins\\_centroid &  0.0044 &  0.0033 &  0.0055 & 70000 &  42.7 &  179.3 &  2.5\\\\\n",
       "\tduration\\_mins\\_mp\\_VAMC & -0.0009 & -0.0014 & -0.0004 & 70000 &  42.7 &  124.3 &  3.8\\\\\n",
       "\tduration\\_mins\\_mp\\_mental &  0.0005 & -0.0001 &  0.0010 & 70000 &  42.7 &  110.7 & -4.3\\\\\n",
       "\\end{tabular}\n"
      ],
      "text/markdown": [
       "\n",
       "A tibble: 91 × 7\n",
       "\n",
       "| <!--/--> | Mean &lt;dbl&gt; | 2.5% &lt;dbl&gt; | 97.5% &lt;dbl&gt; | n.sample &lt;dbl&gt; | % accept &lt;dbl&gt; | n.effective &lt;dbl&gt; | Geweke.diag &lt;dbl&gt; |\n",
       "|---|---|---|---|---|---|---|---|\n",
       "| (Intercept) | -8.2772 | -9.5180 | -7.1086 | 70000 | 42.7 | 124.9 |  0.1 |\n",
       "| ACS_PCT_WHOLESALE |  4.7417 |  3.1937 |  6.3336 | 70000 | 42.7 | 429.8 | -2.0 |\n",
       "| CCBP_RATE_CS_PER_1000 | -3.8931 | -9.3049 |  1.0028 | 70000 | 42.7 |  59.2 |  0.6 |\n",
       "| ACS_PCT_AGE_0_17 |  3.7716 |  2.5066 |  5.1715 | 70000 | 42.7 |  86.0 | -0.3 |\n",
       "| ACS_PCT_PRIVATE_MDCR | -3.4639 | -5.0727 | -1.9323 | 70000 | 42.7 | 292.5 |  2.0 |\n",
       "| ACS_PCT_NATURE |  3.4622 |  2.8264 |  4.4416 | 70000 | 42.7 |   5.3 | -1.7 |\n",
       "| ACS_PCT_PUBLIC_OTHER |  3.1189 | -1.3870 |  7.6853 | 70000 | 42.7 | 302.5 | -0.1 |\n",
       "| ACS_PCT_ADMIN |  3.1039 |  2.1740 |  4.2271 | 70000 | 42.7 | 174.4 | -6.0 |\n",
       "| ACS_PCT_AGE_0_4 | -3.0799 | -5.7081 | -0.4474 | 70000 | 42.7 | 232.5 | -0.2 |\n",
       "| ACS_PCT_COMMT_29MIN | -2.9706 | -3.7990 | -2.1340 | 70000 | 42.7 |  28.7 |  3.2 |\n",
       "| CHR_MENTAL_DR_RATE | -2.9680 | -4.4587 | -1.3816 | 70000 | 42.7 | 212.3 |  0.2 |\n",
       "| ACS_PCT_WALK_2WORK |  2.6425 |  1.5999 |  3.7152 | 70000 | 42.7 | 152.0 |  3.2 |\n",
       "| ACS_PCT_TRANSPORT |  2.5866 |  1.5545 |  3.6992 | 70000 | 42.7 | 309.7 | -4.7 |\n",
       "| ACS_PCT_1UP_PERS_1ROOM |  2.5754 | -1.8977 |  7.3514 | 70000 | 42.7 |  26.9 |  0.7 |\n",
       "| ACS_PCT_VA | -2.4340 | -3.7086 | -1.1462 | 70000 | 42.7 | 116.8 |  0.1 |\n",
       "| ACS_PCT_OTH_EURP | -2.2610 | -3.2057 | -1.2820 | 70000 | 42.7 | 275.8 |  0.7 |\n",
       "| ACS_PCT_1UP_OWNER_1ROOM | -2.0142 | -5.9850 |  1.7494 | 70000 | 42.7 |  63.9 | -0.5 |\n",
       "| ACS_PCT_PRIVATE_SELF |  1.9466 |  1.1885 |  2.7021 | 70000 | 42.7 | 209.7 | -0.7 |\n",
       "| ACS_PCT_CONSTRUCT |  1.9187 |  0.9127 |  3.0298 | 70000 | 42.7 | 222.1 | -5.9 |\n",
       "| ACS_PCT_MULT_RACE | -1.7486 | -2.8590 | -0.5854 | 70000 | 42.7 | 403.7 |  1.5 |\n",
       "| ACS_PCT_MEDICARE_ONLY |  1.7426 |  0.4376 |  3.0053 | 70000 | 42.7 | 341.3 | -0.7 |\n",
       "| ACS_PCT_WORK_NO_CAR |  1.6177 |  0.4121 |  2.8111 | 70000 | 42.7 |  47.3 | -0.7 |\n",
       "| NHC_DAILY_RES | -1.5537 | -1.8990 | -1.1287 | 70000 | 42.7 |  76.9 |  0.0 |\n",
       "| ACS_PCT_DIVORCE_SEPARAT | -1.5150 | -2.3434 | -0.7315 | 70000 | 42.7 | 377.8 | -1.5 |\n",
       "| ACS_PCT_NON_CITIZEN | -1.4543 | -2.4076 | -0.4150 | 70000 | 42.7 |  88.1 | -2.0 |\n",
       "| ACS_PCT_GRP_QRT |  1.3944 |  0.6640 |  2.1392 | 70000 | 42.7 | 183.6 | -0.6 |\n",
       "| NHC_LIC_STAFF | -1.3752 | -1.6018 | -1.1403 | 70000 | 42.7 | 407.5 | -1.1 |\n",
       "| ACS_PCT_RETAIL | -1.2655 | -2.1719 | -0.2798 | 70000 | 42.7 | 245.6 | -6.0 |\n",
       "| ACS_MEDIAN_AGE |  1.2653 |  0.8961 |  1.6207 | 70000 | 42.7 | 137.4 |  0.1 |\n",
       "| ACS_PCT_1UP_RENT_1ROOM | -1.0482 | -2.4607 |  0.3292 | 70000 | 42.7 |  75.4 | -0.9 |\n",
       "| ⋮ | ⋮ | ⋮ | ⋮ | ⋮ | ⋮ | ⋮ | ⋮ |\n",
       "| ACS_HH_SIZE | -0.3304 | -0.6940 |  0.1236 | 70000 |  42.7 |   16.6 |  2.9 |\n",
       "| ACS_PCT_MANUFACT |  0.3260 | -0.2776 |  1.1966 | 70000 |  42.7 |   50.9 | -3.6 |\n",
       "| wind_speed |  0.3246 |  0.1753 |  0.4767 | 70000 |  42.7 |  353.5 | -0.1 |\n",
       "| ACS_PCT_COMMT_59MIN |  0.3212 | -0.5095 |  1.1965 | 70000 |  42.7 |   27.1 |  2.8 |\n",
       "| ACS_PCT_TAXICAB_2WORK |  0.2946 | -1.2219 |  1.8112 | 70000 |  42.7 |  390.3 | -0.9 |\n",
       "| ACS_PCT_VA_POOR |  0.2822 |  0.0617 |  0.4921 | 70000 |  42.7 |  642.0 | -2.4 |\n",
       "| ACS_PCT_FINANCE |  0.2765 | -0.9210 |  1.5470 | 70000 |  42.7 |  193.4 | -2.2 |\n",
       "| ACS_PCT_VA_COLLEGE | -0.2736 | -0.5159 | -0.0256 | 70000 |  42.7 |  574.0 | -0.7 |\n",
       "| MP_PERCPEN | -0.2584 | -0.4487 | -0.0594 | 70000 |  42.7 |  156.8 | -1.8 |\n",
       "| ACS_PCT_ART | -0.2315 | -1.0703 |  0.8790 | 70000 |  42.7 |  114.6 | -6.4 |\n",
       "| ACS_PCT_ASSOCIATE_DGR | -0.2038 | -0.6886 |  0.3611 | 70000 |  42.7 |  249.8 |  1.7 |\n",
       "| tau2 |  0.1694 |  0.1620 |  0.1771 | 70000 | 100.0 | 6460.0 | -0.2 |\n",
       "| mean_temp |  0.1413 | -0.0831 |  0.3623 | 70000 |  42.7 |  188.4 |  1.0 |\n",
       "| ACS_PCT_UNEMPLOY |  0.1265 | -1.3438 |  1.5442 | 70000 |  42.7 |  282.5 | -2.7 |\n",
       "| ACS_PCT_GULFWAR_2001 |  0.1190 | -0.1864 |  0.4395 | 70000 |  42.7 |  367.8 | -0.8 |\n",
       "| CHR_ALCOHOL_DRIV_DEATH | -0.1175 | -0.2097 | -0.0219 | 70000 |  42.7 |  700.3 | -3.0 |\n",
       "| AHRF_HPSA_MENTAL | -0.1066 | -0.1617 | -0.0528 | 70000 |  42.7 |  576.5 | -0.7 |\n",
       "| ACS_MEDIAN_RENT |  0.0874 | -0.0698 |  0.2363 | 70000 |  42.7 |  269.9 |  1.8 |\n",
       "| ACS_PCT_VA_LABOR_FORCE | -0.0804 | -0.2477 |  0.0877 | 70000 |  42.7 |  438.1 |  0.0 |\n",
       "| CHR_DENTISTS_NUM |  0.0727 | -0.1693 |  0.2784 | 70000 |  42.7 |    9.7 | -0.9 |\n",
       "| ACS_PCT_GRANDP_NO_RESPS | -0.0675 | -0.2193 |  0.0917 | 70000 |  42.7 |  157.3 |  1.1 |\n",
       "| ACS_PCT_RENTER_65UP |  0.0620 | -0.2968 |  0.4307 | 70000 |  42.7 |  387.2 | -0.4 |\n",
       "| ACS_PCT_VA_DISABLE | -0.0599 | -0.2417 |  0.1104 | 70000 |  42.7 |  539.3 |  0.8 |\n",
       "| ACS_PCT_GRANDP_RESPS_NO_P |  0.0567 | -0.1017 |  0.2223 | 70000 |  42.7 |  158.5 |  1.0 |\n",
       "| ACS_PCT_GRANDP_RESPS |  0.0397 | -0.1235 |  0.2042 | 70000 |  42.7 |   98.0 |  1.0 |\n",
       "| ACS_PCT_INFORM | -0.0066 | -2.1992 |  2.2520 | 70000 |  42.7 |  372.3 | -2.3 |\n",
       "| visibility | -0.0048 | -0.0827 |  0.0713 | 70000 |  42.7 |  769.2 |  1.4 |\n",
       "| duration_mins_centroid |  0.0044 |  0.0033 |  0.0055 | 70000 |  42.7 |  179.3 |  2.5 |\n",
       "| duration_mins_mp_VAMC | -0.0009 | -0.0014 | -0.0004 | 70000 |  42.7 |  124.3 |  3.8 |\n",
       "| duration_mins_mp_mental |  0.0005 | -0.0001 |  0.0010 | 70000 |  42.7 |  110.7 | -4.3 |\n",
       "\n"
      ],
      "text/plain": [
       "   Mean    2.5%    97.5%   n.sample % accept n.effective Geweke.diag\n",
       "1  -8.2772 -9.5180 -7.1086 70000    42.7     124.9        0.1       \n",
       "2   4.7417  3.1937  6.3336 70000    42.7     429.8       -2.0       \n",
       "3  -3.8931 -9.3049  1.0028 70000    42.7      59.2        0.6       \n",
       "4   3.7716  2.5066  5.1715 70000    42.7      86.0       -0.3       \n",
       "5  -3.4639 -5.0727 -1.9323 70000    42.7     292.5        2.0       \n",
       "6   3.4622  2.8264  4.4416 70000    42.7       5.3       -1.7       \n",
       "7   3.1189 -1.3870  7.6853 70000    42.7     302.5       -0.1       \n",
       "8   3.1039  2.1740  4.2271 70000    42.7     174.4       -6.0       \n",
       "9  -3.0799 -5.7081 -0.4474 70000    42.7     232.5       -0.2       \n",
       "10 -2.9706 -3.7990 -2.1340 70000    42.7      28.7        3.2       \n",
       "11 -2.9680 -4.4587 -1.3816 70000    42.7     212.3        0.2       \n",
       "12  2.6425  1.5999  3.7152 70000    42.7     152.0        3.2       \n",
       "13  2.5866  1.5545  3.6992 70000    42.7     309.7       -4.7       \n",
       "14  2.5754 -1.8977  7.3514 70000    42.7      26.9        0.7       \n",
       "15 -2.4340 -3.7086 -1.1462 70000    42.7     116.8        0.1       \n",
       "16 -2.2610 -3.2057 -1.2820 70000    42.7     275.8        0.7       \n",
       "17 -2.0142 -5.9850  1.7494 70000    42.7      63.9       -0.5       \n",
       "18  1.9466  1.1885  2.7021 70000    42.7     209.7       -0.7       \n",
       "19  1.9187  0.9127  3.0298 70000    42.7     222.1       -5.9       \n",
       "20 -1.7486 -2.8590 -0.5854 70000    42.7     403.7        1.5       \n",
       "21  1.7426  0.4376  3.0053 70000    42.7     341.3       -0.7       \n",
       "22  1.6177  0.4121  2.8111 70000    42.7      47.3       -0.7       \n",
       "23 -1.5537 -1.8990 -1.1287 70000    42.7      76.9        0.0       \n",
       "24 -1.5150 -2.3434 -0.7315 70000    42.7     377.8       -1.5       \n",
       "25 -1.4543 -2.4076 -0.4150 70000    42.7      88.1       -2.0       \n",
       "26  1.3944  0.6640  2.1392 70000    42.7     183.6       -0.6       \n",
       "27 -1.3752 -1.6018 -1.1403 70000    42.7     407.5       -1.1       \n",
       "28 -1.2655 -2.1719 -0.2798 70000    42.7     245.6       -6.0       \n",
       "29  1.2653  0.8961  1.6207 70000    42.7     137.4        0.1       \n",
       "30 -1.0482 -2.4607  0.3292 70000    42.7      75.4       -0.9       \n",
       "⋮  ⋮       ⋮       ⋮       ⋮        ⋮        ⋮           ⋮          \n",
       "62 -0.3304 -0.6940  0.1236 70000     42.7      16.6       2.9       \n",
       "63  0.3260 -0.2776  1.1966 70000     42.7      50.9      -3.6       \n",
       "64  0.3246  0.1753  0.4767 70000     42.7     353.5      -0.1       \n",
       "65  0.3212 -0.5095  1.1965 70000     42.7      27.1       2.8       \n",
       "66  0.2946 -1.2219  1.8112 70000     42.7     390.3      -0.9       \n",
       "67  0.2822  0.0617  0.4921 70000     42.7     642.0      -2.4       \n",
       "68  0.2765 -0.9210  1.5470 70000     42.7     193.4      -2.2       \n",
       "69 -0.2736 -0.5159 -0.0256 70000     42.7     574.0      -0.7       \n",
       "70 -0.2584 -0.4487 -0.0594 70000     42.7     156.8      -1.8       \n",
       "71 -0.2315 -1.0703  0.8790 70000     42.7     114.6      -6.4       \n",
       "72 -0.2038 -0.6886  0.3611 70000     42.7     249.8       1.7       \n",
       "73  0.1694  0.1620  0.1771 70000    100.0    6460.0      -0.2       \n",
       "74  0.1413 -0.0831  0.3623 70000     42.7     188.4       1.0       \n",
       "75  0.1265 -1.3438  1.5442 70000     42.7     282.5      -2.7       \n",
       "76  0.1190 -0.1864  0.4395 70000     42.7     367.8      -0.8       \n",
       "77 -0.1175 -0.2097 -0.0219 70000     42.7     700.3      -3.0       \n",
       "78 -0.1066 -0.1617 -0.0528 70000     42.7     576.5      -0.7       \n",
       "79  0.0874 -0.0698  0.2363 70000     42.7     269.9       1.8       \n",
       "80 -0.0804 -0.2477  0.0877 70000     42.7     438.1       0.0       \n",
       "81  0.0727 -0.1693  0.2784 70000     42.7       9.7      -0.9       \n",
       "82 -0.0675 -0.2193  0.0917 70000     42.7     157.3       1.1       \n",
       "83  0.0620 -0.2968  0.4307 70000     42.7     387.2      -0.4       \n",
       "84 -0.0599 -0.2417  0.1104 70000     42.7     539.3       0.8       \n",
       "85  0.0567 -0.1017  0.2223 70000     42.7     158.5       1.0       \n",
       "86  0.0397 -0.1235  0.2042 70000     42.7      98.0       1.0       \n",
       "87 -0.0066 -2.1992  2.2520 70000     42.7     372.3      -2.3       \n",
       "88 -0.0048 -0.0827  0.0713 70000     42.7     769.2       1.4       \n",
       "89  0.0044  0.0033  0.0055 70000     42.7     179.3       2.5       \n",
       "90 -0.0009 -0.0014 -0.0004 70000     42.7     124.3       3.8       \n",
       "91  0.0005 -0.0001  0.0010 70000     42.7     110.7      -4.3       "
      ]
     },
     "metadata": {},
     "output_type": "display_data"
    }
   ],
   "source": [
    "fit1$summary %>%\n",
    "    as_tibble(rownames=NA) %>%\n",
    "    arrange(desc(abs(Mean)))"
   ]
  },
  {
   "cell_type": "markdown",
   "id": "3b23e91a-3131-40d0-814f-eb611b60a7a1",
   "metadata": {},
   "source": [
    "# Residuals Analysis"
   ]
  },
  {
   "cell_type": "code",
   "execution_count": 70,
   "id": "315fb68d-abd0-4efb-9186-f739e93af29f",
   "metadata": {},
   "outputs": [
    {
     "data": {
      "image/png": "[encoded data removed]",
      "text/plain": [
       "Plot with title “Series  fit1$residuals$response”"
      ]
     },
     "metadata": {
      "image/png": {
       "height": 420,
       "width": 420
      }
     },
     "output_type": "display_data"
    }
   ],
   "source": [
    "acf(fit1$residuals$response,type=\"correlation\",ylim=c(0,0.5))\n",
    "# some residual correlation at various lags in the residuals , might indicate that \n",
    "# some correlation is not fully captured."
   ]
  },
  {
   "cell_type": "code",
   "execution_count": 71,
   "id": "639c1a14-d3ab-4e89-995e-252fff5635ab",
   "metadata": {},
   "outputs": [
    {
     "data": {
      "image/png": "[encoded data removed]",
      "text/plain": [
       "Plot with title “Series  fit1$residuals$response”"
      ]
     },
     "metadata": {
      "image/png": {
       "height": 420,
       "width": 420
      }
     },
     "output_type": "display_data"
    }
   ],
   "source": [
    "acf(fit1$residuals$response,type=\"partial\")\n",
    "# less so with partial"
   ]
  },
  {
   "cell_type": "code",
   "execution_count": 17,
   "id": "a938d537-7be4-469a-b031-954387c43b87",
   "metadata": {},
   "outputs": [
    {
     "data": {
      "image/png": "[encoded data removed]",
      "text/plain": [
       "plot without title"
      ]
     },
     "metadata": {
      "image/png": {
       "height": 420,
       "width": 420
      }
     },
     "output_type": "display_data"
    }
   ],
   "source": [
    "plot(fit1$fitted, fit1$residuals$response)\n",
    "# some residual correlation is still present - can try AR2"
   ]
  },
  {
   "cell_type": "code",
   "execution_count": 44,
   "id": "8b953246-f6b7-4082-b25d-e67d05e3b982",
   "metadata": {},
   "outputs": [
    {
     "name": "stderr",
     "output_type": "stream",
     "text": [
      "\u001b[1mRows: \u001b[22m\u001b[34m3194\u001b[39m \u001b[1mColumns: \u001b[22m\u001b[34m180\u001b[39m\n",
      "\u001b[36m──\u001b[39m \u001b[1mColumn specification\u001b[22m \u001b[36m────────────────────────────────────────────────────────\u001b[39m\n",
      "\u001b[1mDelimiter:\u001b[22m \",\"\n",
      "\u001b[31mchr\u001b[39m   (6): SUMLEV, STATE, COUNTY, STNAME, CTYNAME, CENSUS2010POP\n",
      "\u001b[32mdbl\u001b[39m (174): REGION, DIVISION, ESTIMATESBASE2010, POPESTIMATE2010, POPESTIMATE...\n",
      "\n",
      "\u001b[36mℹ\u001b[39m Use `spec()` to retrieve the full column specification for this data.\n",
      "\u001b[36mℹ\u001b[39m Specify the column types or set `show_col_types = FALSE` to quiet this message.\n",
      "Warning message in mask$eval_all_mutate(quo):\n",
      "“NAs introduced by coercion”\n"
     ]
    },
    {
     "data": {
      "text/html": [
       "13.7117330403101"
      ],
      "text/latex": [
       "13.7117330403101"
      ],
      "text/markdown": [
       "13.7117330403101"
      ],
      "text/plain": [
       "[1] 13.71173"
      ]
     },
     "metadata": {},
     "output_type": "display_data"
    },
    {
     "data": {
      "text/html": [
       "1.99966226797798"
      ],
      "text/latex": [
       "1.99966226797798"
      ],
      "text/markdown": [
       "1.99966226797798"
      ],
      "text/plain": [
       "[1] 1.999662"
      ]
     },
     "metadata": {},
     "output_type": "display_data"
    }
   ],
   "source": [
    "## Rates\n",
    "\n",
    "demographic_info <- read_csv(\"data/raw/demo/2020-demographic-info.csv\")\n",
    "demographic_info <- demographic_info %>%\n",
    "    mutate(FIPSCODE = paste0(STATE, COUNTY)) %>%\n",
    "    select(FIPSCODE, CENSUS2010POP) %>%\n",
    "    rename(pop=CENSUS2010POP) %>%\n",
    "    mutate(pop=as.numeric(pop))\n",
    "\n",
    "results_df <- results_df %>% \n",
    "    merge(demographic_info) %>%\n",
    "    mutate(true_rate1000 = true_values / pop * 1000,\n",
    "           fit_rate1000 = fitted_values / pop * 1000)\n"
   ]
  },
  {
   "cell_type": "code",
   "execution_count": 51,
   "id": "de25f9e1-d7cd-4885-84ae-3e6da6ab9ff2",
   "metadata": {},
   "outputs": [
    {
     "data": {
      "text/html": [
       "<table class=\"dataframe\">\n",
       "<caption>A data.frame: 5 × 6</caption>\n",
       "<thead>\n",
       "\t<tr><th></th><th scope=col>FIPSCODE</th><th scope=col>pop</th><th scope=col>fitted_values</th><th scope=col>true_values</th><th scope=col>true_rate1000</th><th scope=col>fit_rate1000</th></tr>\n",
       "\t<tr><th></th><th scope=col>&lt;chr&gt;</th><th scope=col>&lt;dbl&gt;</th><th scope=col>&lt;dbl&gt;</th><th scope=col>&lt;dbl&gt;</th><th scope=col>&lt;dbl&gt;</th><th scope=col>&lt;dbl&gt;</th></tr>\n",
       "</thead>\n",
       "<tbody>\n",
       "\t<tr><th scope=row>1</th><td>20071</td><td>1247</td><td>101.78281</td><td>101.88889</td><td>81.70721</td><td>81.62214</td></tr>\n",
       "\t<tr><th scope=row>2</th><td>30069</td><td> 494</td><td> 39.99080</td><td> 38.00000</td><td>76.92308</td><td>80.95304</td></tr>\n",
       "\t<tr><th scope=row>3</th><td>20199</td><td>1485</td><td>111.56780</td><td>113.12500</td><td>76.17845</td><td>75.12983</td></tr>\n",
       "\t<tr><th scope=row>4</th><td>31005</td><td> 460</td><td> 12.67720</td><td> 33.11111</td><td>71.98068</td><td>27.55913</td></tr>\n",
       "\t<tr><th scope=row>5</th><td>08061</td><td>1398</td><td> 88.68336</td><td> 90.44444</td><td>64.69560</td><td>63.43588</td></tr>\n",
       "</tbody>\n",
       "</table>\n"
      ],
      "text/latex": [
       "A data.frame: 5 × 6\n",
       "\\begin{tabular}{r|llllll}\n",
       "  & FIPSCODE & pop & fitted\\_values & true\\_values & true\\_rate1000 & fit\\_rate1000\\\\\n",
       "  & <chr> & <dbl> & <dbl> & <dbl> & <dbl> & <dbl>\\\\\n",
       "\\hline\n",
       "\t1 & 20071 & 1247 & 101.78281 & 101.88889 & 81.70721 & 81.62214\\\\\n",
       "\t2 & 30069 &  494 &  39.99080 &  38.00000 & 76.92308 & 80.95304\\\\\n",
       "\t3 & 20199 & 1485 & 111.56780 & 113.12500 & 76.17845 & 75.12983\\\\\n",
       "\t4 & 31005 &  460 &  12.67720 &  33.11111 & 71.98068 & 27.55913\\\\\n",
       "\t5 & 08061 & 1398 &  88.68336 &  90.44444 & 64.69560 & 63.43588\\\\\n",
       "\\end{tabular}\n"
      ],
      "text/markdown": [
       "\n",
       "A data.frame: 5 × 6\n",
       "\n",
       "| <!--/--> | FIPSCODE &lt;chr&gt; | pop &lt;dbl&gt; | fitted_values &lt;dbl&gt; | true_values &lt;dbl&gt; | true_rate1000 &lt;dbl&gt; | fit_rate1000 &lt;dbl&gt; |\n",
       "|---|---|---|---|---|---|---|\n",
       "| 1 | 20071 | 1247 | 101.78281 | 101.88889 | 81.70721 | 81.62214 |\n",
       "| 2 | 30069 |  494 |  39.99080 |  38.00000 | 76.92308 | 80.95304 |\n",
       "| 3 | 20199 | 1485 | 111.56780 | 113.12500 | 76.17845 | 75.12983 |\n",
       "| 4 | 31005 |  460 |  12.67720 |  33.11111 | 71.98068 | 27.55913 |\n",
       "| 5 | 08061 | 1398 |  88.68336 |  90.44444 | 64.69560 | 63.43588 |\n",
       "\n"
      ],
      "text/plain": [
       "  FIPSCODE pop  fitted_values true_values true_rate1000 fit_rate1000\n",
       "1 20071    1247 101.78281     101.88889   81.70721      81.62214    \n",
       "2 30069     494  39.99080      38.00000   76.92308      80.95304    \n",
       "3 20199    1485 111.56780     113.12500   76.17845      75.12983    \n",
       "4 31005     460  12.67720      33.11111   71.98068      27.55913    \n",
       "5 08061    1398  88.68336      90.44444   64.69560      63.43588    "
      ]
     },
     "metadata": {},
     "output_type": "display_data"
    }
   ],
   "source": [
    "results_df %>%\n",
    "    arrange(desc(true_rate1000)) %>%\n",
    "    head(5)\n",
    "# top 5 FIPSCODE by true rate (by 1000) "
   ]
  },
  {
   "cell_type": "code",
   "execution_count": 52,
   "id": "63bdf81d-b5ba-496e-8027-131f63b6604a",
   "metadata": {},
   "outputs": [
    {
     "data": {
      "text/html": [
       "<table class=\"dataframe\">\n",
       "<caption>A data.frame: 5 × 6</caption>\n",
       "<thead>\n",
       "\t<tr><th></th><th scope=col>FIPSCODE</th><th scope=col>pop</th><th scope=col>fitted_values</th><th scope=col>true_values</th><th scope=col>true_rate1000</th><th scope=col>fit_rate1000</th></tr>\n",
       "\t<tr><th></th><th scope=col>&lt;chr&gt;</th><th scope=col>&lt;dbl&gt;</th><th scope=col>&lt;dbl&gt;</th><th scope=col>&lt;dbl&gt;</th><th scope=col>&lt;dbl&gt;</th><th scope=col>&lt;dbl&gt;</th></tr>\n",
       "</thead>\n",
       "<tbody>\n",
       "\t<tr><th scope=row>1</th><td>20071</td><td>1247</td><td>101.78281</td><td>101.88889</td><td>81.70721</td><td>81.62214</td></tr>\n",
       "\t<tr><th scope=row>2</th><td>30069</td><td> 494</td><td> 39.99080</td><td> 38.00000</td><td>76.92308</td><td>80.95304</td></tr>\n",
       "\t<tr><th scope=row>3</th><td>20199</td><td>1485</td><td>111.56780</td><td>113.12500</td><td>76.17845</td><td>75.12983</td></tr>\n",
       "\t<tr><th scope=row>4</th><td>31085</td><td> 967</td><td> 62.14554</td><td> 49.07500</td><td>50.74974</td><td>64.26633</td></tr>\n",
       "\t<tr><th scope=row>5</th><td>08061</td><td>1398</td><td> 88.68336</td><td> 90.44444</td><td>64.69560</td><td>63.43588</td></tr>\n",
       "</tbody>\n",
       "</table>\n"
      ],
      "text/latex": [
       "A data.frame: 5 × 6\n",
       "\\begin{tabular}{r|llllll}\n",
       "  & FIPSCODE & pop & fitted\\_values & true\\_values & true\\_rate1000 & fit\\_rate1000\\\\\n",
       "  & <chr> & <dbl> & <dbl> & <dbl> & <dbl> & <dbl>\\\\\n",
       "\\hline\n",
       "\t1 & 20071 & 1247 & 101.78281 & 101.88889 & 81.70721 & 81.62214\\\\\n",
       "\t2 & 30069 &  494 &  39.99080 &  38.00000 & 76.92308 & 80.95304\\\\\n",
       "\t3 & 20199 & 1485 & 111.56780 & 113.12500 & 76.17845 & 75.12983\\\\\n",
       "\t4 & 31085 &  967 &  62.14554 &  49.07500 & 50.74974 & 64.26633\\\\\n",
       "\t5 & 08061 & 1398 &  88.68336 &  90.44444 & 64.69560 & 63.43588\\\\\n",
       "\\end{tabular}\n"
      ],
      "text/markdown": [
       "\n",
       "A data.frame: 5 × 6\n",
       "\n",
       "| <!--/--> | FIPSCODE &lt;chr&gt; | pop &lt;dbl&gt; | fitted_values &lt;dbl&gt; | true_values &lt;dbl&gt; | true_rate1000 &lt;dbl&gt; | fit_rate1000 &lt;dbl&gt; |\n",
       "|---|---|---|---|---|---|---|\n",
       "| 1 | 20071 | 1247 | 101.78281 | 101.88889 | 81.70721 | 81.62214 |\n",
       "| 2 | 30069 |  494 |  39.99080 |  38.00000 | 76.92308 | 80.95304 |\n",
       "| 3 | 20199 | 1485 | 111.56780 | 113.12500 | 76.17845 | 75.12983 |\n",
       "| 4 | 31085 |  967 |  62.14554 |  49.07500 | 50.74974 | 64.26633 |\n",
       "| 5 | 08061 | 1398 |  88.68336 |  90.44444 | 64.69560 | 63.43588 |\n",
       "\n"
      ],
      "text/plain": [
       "  FIPSCODE pop  fitted_values true_values true_rate1000 fit_rate1000\n",
       "1 20071    1247 101.78281     101.88889   81.70721      81.62214    \n",
       "2 30069     494  39.99080      38.00000   76.92308      80.95304    \n",
       "3 20199    1485 111.56780     113.12500   76.17845      75.12983    \n",
       "4 31085     967  62.14554      49.07500   50.74974      64.26633    \n",
       "5 08061    1398  88.68336      90.44444   64.69560      63.43588    "
      ]
     },
     "metadata": {},
     "output_type": "display_data"
    }
   ],
   "source": [
    "results_df %>%\n",
    "    arrange(desc(fit_rate1000)) %>%\n",
    "    head(5) \n",
    "# top 5 FIPSCODE by fitted rate (by 1000) "
   ]
  },
  {
   "cell_type": "code",
   "execution_count": 73,
   "id": "3efa9ae9-6691-4a14-82df-36c2a95109a9",
   "metadata": {},
   "outputs": [],
   "source": [
    "# the two dataframes above print the top rates sorted by true and fitted values.\n",
    "# These can be used to identify areas of high risk."
   ]
  },
  {
   "cell_type": "code",
   "execution_count": 74,
   "id": "2b26a844-608d-4969-9158-a6ee0f01d3ca",
   "metadata": {},
   "outputs": [
    {
     "data": {
      "image/png": "[encoded data removed]",
      "text/plain": [
       "plot without title"
      ]
     },
     "metadata": {
      "image/png": {
       "height": 420,
       "width": 420
      }
     },
     "output_type": "display_data"
    }
   ],
   "source": [
    "# histogram of fitted rate\n",
    "# could be used to decide what constitues a high suicide rate, cutoff?\n",
    "results_df %>% ggplot(aes(x=fit_rate1000)) + \n",
    "    geom_histogram(binwidth=5) +\n",
    "    theme_bw() + \n",
    "    ggtitle(\"Fitted Suicide Rates - by county, for 2018\")"
   ]
  },
  {
   "cell_type": "markdown",
   "id": "12bd91f5-bcb8-444d-b02b-83825e121eac",
   "metadata": {},
   "source": [
    "# RMSE\n"
   ]
  },
  {
   "cell_type": "code",
   "execution_count": 45,
   "id": "5dbfe182-15bf-427d-89f4-b56a9a5fa06e",
   "metadata": {},
   "outputs": [
    {
     "data": {
      "text/html": [
       "13.7117330403101"
      ],
      "text/latex": [
       "13.7117330403101"
      ],
      "text/markdown": [
       "13.7117330403101"
      ],
      "text/plain": [
       "[1] 13.71173"
      ]
     },
     "metadata": {},
     "output_type": "display_data"
    },
    {
     "data": {
      "text/html": [
       "1.99966226797798"
      ],
      "text/latex": [
       "1.99966226797798"
      ],
      "text/markdown": [
       "1.99966226797798"
      ],
      "text/plain": [
       "[1] 1.999662"
      ]
     },
     "metadata": {},
     "output_type": "display_data"
    }
   ],
   "source": [
    "caret::RMSE(fitted_values,true_values)\n",
    "caret::RMSE(results_df$fit_rate1000,results_df$true_rate1000)"
   ]
  },
  {
   "cell_type": "code",
   "execution_count": null,
   "id": "ea11408b-e5cd-4997-9a11-5cf81d2f043b",
   "metadata": {},
   "outputs": [],
   "source": []
  }
 ],
 "metadata": {
  "kernelspec": {
   "display_name": "R 4.1.3 (r-venv)",
   "language": "R",
   "name": "r-venv"
  },
  "language_info": {
   "codemirror_mode": "r",
   "file_extension": ".r",
   "mimetype": "text/x-r-source",
   "name": "R",
   "pygments_lexer": "r",
   "version": "4.1.3"
  }
 },
 "nbformat": 4,
 "nbformat_minor": 5
}
