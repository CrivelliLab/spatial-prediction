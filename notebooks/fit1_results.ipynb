{
 "cells": [
  {
   "cell_type": "markdown",
   "id": "bd6f4c7a-f7ed-4889-9e4f-e8708eb701bb",
   "metadata": {},
   "source": [
    "## Model 1 Fit Results"
   ]
  },
  {
   "cell_type": "code",
   "execution_count": 1,
   "id": "b980c4ab-2f9e-47df-ab24-279e8a1251c0",
   "metadata": {},
   "outputs": [],
   "source": [
    "# results from model with subset of FIPS - no imputation"
   ]
  },
  {
   "cell_type": "code",
   "execution_count": 2,
   "id": "30e9bec6-422b-4dd8-b235-edb93878450f",
   "metadata": {},
   "outputs": [],
   "source": [
    "setwd(\"/global/project/projectdirs/m1532/Projects_MVP/geospatial/GeoSpatial_Model/spatial-prediction\")"
   ]
  },
  {
   "cell_type": "code",
   "execution_count": 3,
   "id": "74e910e8-0f95-4293-82e8-ef9cc0d56b8a",
   "metadata": {},
   "outputs": [
    {
     "name": "stderr",
     "output_type": "stream",
     "text": [
      "Loading required package: MASS\n",
      "\n",
      "Loading required package: Rcpp\n",
      "\n",
      "Registered S3 method overwritten by 'GGally':\n",
      "  method from   \n",
      "  +.gg   ggplot2\n",
      "\n",
      "── \u001b[1mAttaching packages\u001b[22m ─────────────────────────────────────── tidyverse 1.3.2 ──\n",
      "\u001b[32m✔\u001b[39m \u001b[34mggplot2\u001b[39m 3.3.6     \u001b[32m✔\u001b[39m \u001b[34mpurrr  \u001b[39m 0.3.4\n",
      "\u001b[32m✔\u001b[39m \u001b[34mtibble \u001b[39m 3.1.8     \u001b[32m✔\u001b[39m \u001b[34mdplyr  \u001b[39m 1.0.9\n",
      "\u001b[32m✔\u001b[39m \u001b[34mtidyr  \u001b[39m 1.2.0     \u001b[32m✔\u001b[39m \u001b[34mstringr\u001b[39m 1.4.0\n",
      "\u001b[32m✔\u001b[39m \u001b[34mreadr  \u001b[39m 2.1.2     \u001b[32m✔\u001b[39m \u001b[34mforcats\u001b[39m 0.5.1\n",
      "── \u001b[1mConflicts\u001b[22m ────────────────────────────────────────── tidyverse_conflicts() ──\n",
      "\u001b[31m✖\u001b[39m \u001b[34mdplyr\u001b[39m::\u001b[32mfilter()\u001b[39m masks \u001b[34mstats\u001b[39m::filter()\n",
      "\u001b[31m✖\u001b[39m \u001b[34mdplyr\u001b[39m::\u001b[32mlag()\u001b[39m    masks \u001b[34mstats\u001b[39m::lag()\n",
      "\u001b[31m✖\u001b[39m \u001b[34mdplyr\u001b[39m::\u001b[32mselect()\u001b[39m masks \u001b[34mMASS\u001b[39m::select()\n"
     ]
    }
   ],
   "source": [
    "library(CARBayesST)\n",
    "library(tidyverse)"
   ]
  },
  {
   "cell_type": "code",
   "execution_count": 4,
   "id": "7d884dbb-c70f-4486-b121-335a4dbd22b3",
   "metadata": {},
   "outputs": [],
   "source": [
    "fit1 <- readRDS(\"outputs/model_results/model_2022-09-02.rds\")"
   ]
  },
  {
   "cell_type": "code",
   "execution_count": 5,
   "id": "29cf344f-2ae6-49fa-b718-0e3d0d0cd419",
   "metadata": {},
   "outputs": [
    {
     "name": "stderr",
     "output_type": "stream",
     "text": [
      "\u001b[1mRows: \u001b[22m\u001b[34m9089\u001b[39m \u001b[1mColumns: \u001b[22m\u001b[34m103\u001b[39m\n",
      "\u001b[36m──\u001b[39m \u001b[1mColumn specification\u001b[22m \u001b[36m────────────────────────────────────────────────────────\u001b[39m\n",
      "\u001b[1mDelimiter:\u001b[22m \",\"\n",
      "\u001b[31mchr\u001b[39m   (2): FIPSCODE, county\n",
      "\u001b[32mdbl\u001b[39m (101): deaths, ACS_PCT_GRP_QRT, ACS_PCT_PRIVATE_2, mean_temp, ACS_PCT_ME...\n",
      "\n",
      "\u001b[36mℹ\u001b[39m Use `spec()` to retrieve the full column specification for this data.\n",
      "\u001b[36mℹ\u001b[39m Specify the column types or set `show_col_types = FALSE` to quiet this message.\n",
      "Warning message:\n",
      "“PROJ: proj_identify: Open of /global/homes/b/bbrusco/.conda/envs/r-venv/share/proj failed (GDAL error 1)”\n",
      "\u001b[1m\u001b[22mJoining, by = \"FIPSCODE\"\n"
     ]
    }
   ],
   "source": [
    "#get fips to keep \n",
    "\n",
    "# Note: United States total includes 3,006 counties;\n",
    "## Loading dataset and geometries ###\n",
    "vars <- read_csv(\"data/processed/combined.csv\")\n",
    "# change this to the number of years that \n",
    "# you are considering in your dataset.\n",
    "NUMBER_OF_YEARS <- length(unique(vars$year))\n",
    "\n",
    "\n",
    "county <- sf::read_sf(\n",
    "    dsn = \"data/shapefile/cb_2020_us_tract_500k\",\n",
    "    layer = \"cb_2020_us_tract_500k\"\n",
    ")\n",
    "\n",
    "county <- county %>%\n",
    "    mutate(FIPSCODE = paste0(STATEFP, COUNTYFP)) %>% \n",
    "    arrange(FIPSCODE) %>%\n",
    "    distinct(FIPSCODE, .keep_all = TRUE)\n",
    "\n",
    "df <- county %>% inner_join(vars, on=FIPSCODE)\n",
    "\n",
    "df_nona <- df %>% na.omit(suicide_rate) %>%\n",
    "  group_by(FIPSCODE) %>% \n",
    "  mutate(name_count = n()) %>%\n",
    "  ungroup() %>% \n",
    "  filter(name_count == NUMBER_OF_YEARS) %>% \n",
    "  dplyr::select(-name_count) %>%\n",
    "  arrange(desc(year), FIPSCODE)\n",
    "\n",
    "fips_to_keep <- df_nona %>% \n",
    "    distinct(FIPSCODE) %>% \n",
    "    pull(FIPSCODE)\n"
   ]
  },
  {
   "cell_type": "code",
   "execution_count": 7,
   "id": "f1c8d38e-b8c6-4bde-b33c-d79cc07b3e85",
   "metadata": {},
   "outputs": [
    {
     "data": {
      "text/html": [
       "<table class=\"dataframe\">\n",
       "<caption>A matrix: 102 × 7 of type dbl</caption>\n",
       "<thead>\n",
       "\t<tr><th></th><th scope=col>Mean</th><th scope=col>2.5%</th><th scope=col>97.5%</th><th scope=col>n.sample</th><th scope=col>% accept</th><th scope=col>n.effective</th><th scope=col>Geweke.diag</th></tr>\n",
       "</thead>\n",
       "<tbody>\n",
       "\t<tr><th scope=row>(Intercept)</th><td>-9.5651</td><td>-11.3382</td><td>-8.0104</td><td>70000</td><td>43.4</td><td> 73.0</td><td> 0.4</td></tr>\n",
       "\t<tr><th scope=row>ALAND</th><td> 0.0000</td><td>  0.0000</td><td> 0.0000</td><td>70000</td><td>43.4</td><td>  0.0</td><td> Inf</td></tr>\n",
       "\t<tr><th scope=row>AWATER</th><td> 0.0000</td><td>  0.0000</td><td> 0.0000</td><td>70000</td><td>43.4</td><td>  0.0</td><td>-Inf</td></tr>\n",
       "\t<tr><th scope=row>ACS_PCT_GRP_QRT</th><td> 1.4603</td><td>  0.6908</td><td> 2.1821</td><td>70000</td><td>43.4</td><td>179.0</td><td>-2.3</td></tr>\n",
       "\t<tr><th scope=row>ACS_PCT_PRIVATE_2</th><td> 0.7768</td><td> -1.1633</td><td> 2.6331</td><td>70000</td><td>43.4</td><td>662.6</td><td>-0.7</td></tr>\n",
       "\t<tr><th scope=row>mean_temp</th><td> 0.1270</td><td> -0.1204</td><td> 0.3612</td><td>70000</td><td>43.4</td><td>163.5</td><td>-0.1</td></tr>\n",
       "\t<tr><th scope=row>ACS_PCT_MEDICARE_ONLY</th><td> 0.4798</td><td> -0.8665</td><td> 1.8631</td><td>70000</td><td>43.4</td><td>237.5</td><td> 0.8</td></tr>\n",
       "\t<tr><th scope=row>ACS_PCT_PRIVATE_SELF</th><td> 1.7209</td><td>  0.9284</td><td> 2.5207</td><td>70000</td><td>43.4</td><td>211.6</td><td> 0.1</td></tr>\n",
       "\t<tr><th scope=row>ACS_PCT_MOBILE_HOME</th><td> 0.2467</td><td> -0.0494</td><td> 0.5288</td><td>70000</td><td>43.4</td><td>215.6</td><td>-0.2</td></tr>\n",
       "\t<tr><th scope=row>NHC_DAILY_RES</th><td>-1.3728</td><td> -1.8542</td><td>-0.8949</td><td>70000</td><td>43.4</td><td> 53.3</td><td>-2.0</td></tr>\n",
       "\t<tr><th scope=row>ACS_PCT_NON_CITIZEN</th><td> 0.6221</td><td> -1.1401</td><td> 3.1203</td><td>70000</td><td>43.4</td><td> 26.9</td><td> 1.0</td></tr>\n",
       "\t<tr><th scope=row>closest_station_index</th><td> 0.0619</td><td> -0.1686</td><td> 0.2681</td><td>70000</td><td>43.4</td><td>129.0</td><td> 1.0</td></tr>\n",
       "\t<tr><th scope=row>ACS_PCT_TRICARE_VA</th><td>-2.2432</td><td>-12.2088</td><td> 6.1969</td><td>70000</td><td>43.4</td><td>  5.8</td><td> 3.1</td></tr>\n",
       "\t<tr><th scope=row>ACS_PCT_RETAIL</th><td>-1.1690</td><td> -2.3444</td><td>-0.1847</td><td>70000</td><td>43.4</td><td>171.1</td><td> 3.0</td></tr>\n",
       "\t<tr><th scope=row>ACS_PCT_VA_LABOR_FORCE</th><td>-0.0647</td><td> -0.2384</td><td> 0.1074</td><td>70000</td><td>43.4</td><td>368.2</td><td> 0.0</td></tr>\n",
       "\t<tr><th scope=row>ACS_PCT_INFORM</th><td> 0.4655</td><td> -1.8637</td><td> 2.7234</td><td>70000</td><td>43.4</td><td>291.9</td><td> 2.8</td></tr>\n",
       "\t<tr><th scope=row>ACS_PCT_COMMT_29MIN</th><td>-2.8309</td><td> -4.0421</td><td>-1.5973</td><td>70000</td><td>43.4</td><td> 10.7</td><td>-6.0</td></tr>\n",
       "\t<tr><th scope=row>ACS_PCT_PRIVATE_MDCR</th><td>-4.3516</td><td> -5.9855</td><td>-2.6026</td><td>70000</td><td>43.4</td><td>245.6</td><td> 1.0</td></tr>\n",
       "\t<tr><th scope=row>ACS_PCT_COMMT_59MIN</th><td> 0.4292</td><td> -0.7412</td><td> 1.5914</td><td>70000</td><td>43.4</td><td>  9.8</td><td>-5.5</td></tr>\n",
       "\t<tr><th scope=row>AHRF_HPSA_MENTAL</th><td>-0.0844</td><td> -0.1374</td><td>-0.0313</td><td>70000</td><td>43.4</td><td>513.9</td><td> 0.0</td></tr>\n",
       "\t<tr><th scope=row>ACS_PCT_DIVORCE_SEPARAT</th><td>-1.1139</td><td> -1.9478</td><td>-0.2528</td><td>70000</td><td>43.4</td><td>350.9</td><td>-2.5</td></tr>\n",
       "\t<tr><th scope=row>ACS_PCT_TRANSPORT</th><td> 2.7531</td><td>  1.4638</td><td> 3.8648</td><td>70000</td><td>43.4</td><td>201.5</td><td> 3.5</td></tr>\n",
       "\t<tr><th scope=row>ACS_PCT_EDUC</th><td> 0.6628</td><td> -0.3367</td><td> 1.6160</td><td>70000</td><td>43.4</td><td> 85.0</td><td> 3.4</td></tr>\n",
       "\t<tr><th scope=row>ACS_PCT_UNINSURED64</th><td>-3.4424</td><td> -6.2834</td><td>-0.4913</td><td>70000</td><td>43.4</td><td>  7.5</td><td>-3.3</td></tr>\n",
       "\t<tr><th scope=row>CCBP_RATE_FSR_PER_1000</th><td>-0.4071</td><td> -4.2055</td><td> 3.1497</td><td>70000</td><td>43.4</td><td>412.4</td><td> 1.9</td></tr>\n",
       "\t<tr><th scope=row>distance_centroid</th><td> 0.0023</td><td>  0.0006</td><td> 0.0041</td><td>70000</td><td>43.4</td><td> 85.7</td><td> 2.0</td></tr>\n",
       "\t<tr><th scope=row>ACS_PCT_GRANDP_NO_RESPS</th><td>-0.0892</td><td> -0.2385</td><td> 0.0569</td><td>70000</td><td>43.4</td><td>203.3</td><td> 0.9</td></tr>\n",
       "\t<tr><th scope=row>PM2.5</th><td>-0.8033</td><td> -0.9787</td><td>-0.6287</td><td>70000</td><td>43.4</td><td>286.3</td><td> 0.9</td></tr>\n",
       "\t<tr><th scope=row>ACS_PCT_ASSOCIATE_DGR</th><td>-0.1646</td><td> -0.6815</td><td> 0.3226</td><td>70000</td><td>43.4</td><td>248.2</td><td>-1.6</td></tr>\n",
       "\t<tr><th scope=row>ACS_PCT_ADMIN</th><td> 3.1146</td><td>  1.9698</td><td> 4.2105</td><td>70000</td><td>43.4</td><td>120.5</td><td> 2.2</td></tr>\n",
       "\t<tr><th scope=row>⋮</th><td>⋮</td><td>⋮</td><td>⋮</td><td>⋮</td><td>⋮</td><td>⋮</td><td>⋮</td></tr>\n",
       "\t<tr><th scope=row>duration_mins_centroid</th><td> 0.0021</td><td> 0.0004</td><td> 0.0039</td><td>70000</td><td> 43.4</td><td>   83.6</td><td>-0.5</td></tr>\n",
       "\t<tr><th scope=row>ACS_PCT_MANUFACT</th><td> 0.2611</td><td>-0.7287</td><td> 1.1594</td><td>70000</td><td> 43.4</td><td>   39.8</td><td> 1.9</td></tr>\n",
       "\t<tr><th scope=row>ACS_PCT_GULFWAR_1990</th><td> 0.5374</td><td> 0.2417</td><td> 0.8328</td><td>70000</td><td> 43.4</td><td>  402.9</td><td>-2.7</td></tr>\n",
       "\t<tr><th scope=row>ACS_PCT_HH_PUB_ASSIST</th><td> 0.6945</td><td>-0.5223</td><td> 1.9263</td><td>70000</td><td> 43.4</td><td>  324.1</td><td> 0.0</td></tr>\n",
       "\t<tr><th scope=row>ACS_PCT_FEMALE</th><td>-0.0439</td><td>-1.1986</td><td> 1.1657</td><td>70000</td><td> 43.4</td><td>  170.4</td><td>-1.9</td></tr>\n",
       "\t<tr><th scope=row>wind_speed</th><td> 0.3539</td><td> 0.2020</td><td> 0.5046</td><td>70000</td><td> 43.4</td><td>  262.2</td><td>-0.6</td></tr>\n",
       "\t<tr><th scope=row>ACS_PCT_RENT_COST_30PCT</th><td>-0.6991</td><td>-0.9281</td><td>-0.4729</td><td>70000</td><td> 43.4</td><td>  261.1</td><td> 1.2</td></tr>\n",
       "\t<tr><th scope=row>ACS_PCT_CTZ_US_BORN</th><td> 1.5209</td><td> 0.3275</td><td> 3.1801</td><td>70000</td><td> 43.4</td><td>   14.7</td><td> 0.4</td></tr>\n",
       "\t<tr><th scope=row>ACS_PCT_COMMT_60MINUP</th><td>-0.4870</td><td>-1.6781</td><td> 0.8436</td><td>70000</td><td> 43.4</td><td>   22.0</td><td>-6.9</td></tr>\n",
       "\t<tr><th scope=row>ACS_PCT_RENTER_HH_CHILD</th><td> 0.3288</td><td> 0.0326</td><td> 0.6201</td><td>70000</td><td> 43.4</td><td>  213.0</td><td> 0.8</td></tr>\n",
       "\t<tr><th scope=row>NHC_BEDCOUNT</th><td>-0.6835</td><td>-1.2089</td><td>-0.1198</td><td>70000</td><td> 43.4</td><td>   38.9</td><td> 1.7</td></tr>\n",
       "\t<tr><th scope=row>NHC_LIC_STAFF</th><td>-1.3643</td><td>-1.5832</td><td>-1.1407</td><td>70000</td><td> 43.4</td><td>  444.1</td><td>-1.1</td></tr>\n",
       "\t<tr><th scope=row>ACS_PCT_10UNITS</th><td>-0.2004</td><td>-0.8182</td><td> 0.3753</td><td>70000</td><td> 43.4</td><td>   71.2</td><td> 2.8</td></tr>\n",
       "\t<tr><th scope=row>ACS_PCT_OTHER_INS</th><td>-1.1613</td><td>-2.4058</td><td> 0.2854</td><td>70000</td><td> 43.4</td><td>   31.8</td><td> 0.3</td></tr>\n",
       "\t<tr><th scope=row>ACS_PCT_1UP_OWNER_1ROOM</th><td>-5.8832</td><td>-8.2126</td><td>-2.0005</td><td>70000</td><td> 43.4</td><td>   12.5</td><td> 2.1</td></tr>\n",
       "\t<tr><th scope=row>ACS_PCT_OTHER</th><td>-0.3123</td><td>-1.7949</td><td> 1.2085</td><td>70000</td><td> 43.4</td><td>   49.7</td><td> 1.7</td></tr>\n",
       "\t<tr><th scope=row>MP_ELIGIBLES</th><td>-0.2316</td><td>-0.6527</td><td> 0.0093</td><td>70000</td><td> 43.4</td><td>    6.0</td><td>-6.5</td></tr>\n",
       "\t<tr><th scope=row>CHR_ALCOHOL_DRIV_DEATH</th><td>-0.1054</td><td>-0.2016</td><td>-0.0064</td><td>70000</td><td> 43.4</td><td>   78.1</td><td>-0.1</td></tr>\n",
       "\t<tr><th scope=row>visibility</th><td>-0.0299</td><td>-0.1217</td><td> 0.0653</td><td>70000</td><td> 43.4</td><td>  276.6</td><td>-2.0</td></tr>\n",
       "\t<tr><th scope=row>ACS_MEDIAN_RENT</th><td> 0.1299</td><td>-0.0346</td><td> 0.2837</td><td>70000</td><td> 43.4</td><td>  279.7</td><td>-2.3</td></tr>\n",
       "\t<tr><th scope=row>ACS_PCT_DRIVE_2WORK</th><td> 0.4002</td><td>-0.4288</td><td> 1.2328</td><td>70000</td><td> 43.4</td><td>   33.6</td><td> 4.6</td></tr>\n",
       "\t<tr><th scope=row>ACS_PCT_WORK_NO_CAR</th><td> 1.2393</td><td> 0.0616</td><td> 2.4879</td><td>70000</td><td> 43.4</td><td>   54.7</td><td>-2.0</td></tr>\n",
       "\t<tr><th scope=row>ACS_PCT_GRANDP_RESPS</th><td> 0.0018</td><td>-0.1528</td><td> 0.1550</td><td>70000</td><td> 43.4</td><td>  145.0</td><td> 0.9</td></tr>\n",
       "\t<tr><th scope=row>ACS_PCT_ENGLISH</th><td> 0.3164</td><td>-0.1117</td><td> 0.6964</td><td>70000</td><td> 43.4</td><td>   69.6</td><td>-0.6</td></tr>\n",
       "\t<tr><th scope=row>ACS_PCT_CONSTRUCT</th><td> 1.7771</td><td> 0.5473</td><td> 2.8376</td><td>70000</td><td> 43.4</td><td>  173.4</td><td> 2.2</td></tr>\n",
       "\t<tr><th scope=row>ACS_PCT_HH_1PERS</th><td> 0.5249</td><td>-0.1005</td><td> 1.1040</td><td>70000</td><td> 43.4</td><td>  198.6</td><td> 0.3</td></tr>\n",
       "\t<tr><th scope=row>ACS_PCT_AGE_0_4</th><td>-3.3320</td><td>-5.7496</td><td>-0.9121</td><td>70000</td><td> 43.4</td><td>  215.7</td><td>-0.8</td></tr>\n",
       "\t<tr><th scope=row>tau2</th><td> 0.1674</td><td> 0.1601</td><td> 0.1750</td><td>70000</td><td>100.0</td><td> 6099.4</td><td>-3.9</td></tr>\n",
       "\t<tr><th scope=row>rho.S</th><td> 0.4945</td><td> 0.4599</td><td> 0.5277</td><td>70000</td><td> 42.3</td><td> 2855.5</td><td> 5.4</td></tr>\n",
       "\t<tr><th scope=row>rho.T</th><td> 0.8906</td><td> 0.8685</td><td> 0.9126</td><td>70000</td><td>100.0</td><td>10249.9</td><td> 0.6</td></tr>\n",
       "</tbody>\n",
       "</table>\n"
      ],
      "text/latex": [
       "A matrix: 102 × 7 of type dbl\n",
       "\\begin{tabular}{r|lllllll}\n",
       "  & Mean & 2.5\\% & 97.5\\% & n.sample & \\% accept & n.effective & Geweke.diag\\\\\n",
       "\\hline\n",
       "\t(Intercept) & -9.5651 & -11.3382 & -8.0104 & 70000 & 43.4 &  73.0 &  0.4\\\\\n",
       "\tALAND &  0.0000 &   0.0000 &  0.0000 & 70000 & 43.4 &   0.0 &  Inf\\\\\n",
       "\tAWATER &  0.0000 &   0.0000 &  0.0000 & 70000 & 43.4 &   0.0 & -Inf\\\\\n",
       "\tACS\\_PCT\\_GRP\\_QRT &  1.4603 &   0.6908 &  2.1821 & 70000 & 43.4 & 179.0 & -2.3\\\\\n",
       "\tACS\\_PCT\\_PRIVATE\\_2 &  0.7768 &  -1.1633 &  2.6331 & 70000 & 43.4 & 662.6 & -0.7\\\\\n",
       "\tmean\\_temp &  0.1270 &  -0.1204 &  0.3612 & 70000 & 43.4 & 163.5 & -0.1\\\\\n",
       "\tACS\\_PCT\\_MEDICARE\\_ONLY &  0.4798 &  -0.8665 &  1.8631 & 70000 & 43.4 & 237.5 &  0.8\\\\\n",
       "\tACS\\_PCT\\_PRIVATE\\_SELF &  1.7209 &   0.9284 &  2.5207 & 70000 & 43.4 & 211.6 &  0.1\\\\\n",
       "\tACS\\_PCT\\_MOBILE\\_HOME &  0.2467 &  -0.0494 &  0.5288 & 70000 & 43.4 & 215.6 & -0.2\\\\\n",
       "\tNHC\\_DAILY\\_RES & -1.3728 &  -1.8542 & -0.8949 & 70000 & 43.4 &  53.3 & -2.0\\\\\n",
       "\tACS\\_PCT\\_NON\\_CITIZEN &  0.6221 &  -1.1401 &  3.1203 & 70000 & 43.4 &  26.9 &  1.0\\\\\n",
       "\tclosest\\_station\\_index &  0.0619 &  -0.1686 &  0.2681 & 70000 & 43.4 & 129.0 &  1.0\\\\\n",
       "\tACS\\_PCT\\_TRICARE\\_VA & -2.2432 & -12.2088 &  6.1969 & 70000 & 43.4 &   5.8 &  3.1\\\\\n",
       "\tACS\\_PCT\\_RETAIL & -1.1690 &  -2.3444 & -0.1847 & 70000 & 43.4 & 171.1 &  3.0\\\\\n",
       "\tACS\\_PCT\\_VA\\_LABOR\\_FORCE & -0.0647 &  -0.2384 &  0.1074 & 70000 & 43.4 & 368.2 &  0.0\\\\\n",
       "\tACS\\_PCT\\_INFORM &  0.4655 &  -1.8637 &  2.7234 & 70000 & 43.4 & 291.9 &  2.8\\\\\n",
       "\tACS\\_PCT\\_COMMT\\_29MIN & -2.8309 &  -4.0421 & -1.5973 & 70000 & 43.4 &  10.7 & -6.0\\\\\n",
       "\tACS\\_PCT\\_PRIVATE\\_MDCR & -4.3516 &  -5.9855 & -2.6026 & 70000 & 43.4 & 245.6 &  1.0\\\\\n",
       "\tACS\\_PCT\\_COMMT\\_59MIN &  0.4292 &  -0.7412 &  1.5914 & 70000 & 43.4 &   9.8 & -5.5\\\\\n",
       "\tAHRF\\_HPSA\\_MENTAL & -0.0844 &  -0.1374 & -0.0313 & 70000 & 43.4 & 513.9 &  0.0\\\\\n",
       "\tACS\\_PCT\\_DIVORCE\\_SEPARAT & -1.1139 &  -1.9478 & -0.2528 & 70000 & 43.4 & 350.9 & -2.5\\\\\n",
       "\tACS\\_PCT\\_TRANSPORT &  2.7531 &   1.4638 &  3.8648 & 70000 & 43.4 & 201.5 &  3.5\\\\\n",
       "\tACS\\_PCT\\_EDUC &  0.6628 &  -0.3367 &  1.6160 & 70000 & 43.4 &  85.0 &  3.4\\\\\n",
       "\tACS\\_PCT\\_UNINSURED64 & -3.4424 &  -6.2834 & -0.4913 & 70000 & 43.4 &   7.5 & -3.3\\\\\n",
       "\tCCBP\\_RATE\\_FSR\\_PER\\_1000 & -0.4071 &  -4.2055 &  3.1497 & 70000 & 43.4 & 412.4 &  1.9\\\\\n",
       "\tdistance\\_centroid &  0.0023 &   0.0006 &  0.0041 & 70000 & 43.4 &  85.7 &  2.0\\\\\n",
       "\tACS\\_PCT\\_GRANDP\\_NO\\_RESPS & -0.0892 &  -0.2385 &  0.0569 & 70000 & 43.4 & 203.3 &  0.9\\\\\n",
       "\tPM2.5 & -0.8033 &  -0.9787 & -0.6287 & 70000 & 43.4 & 286.3 &  0.9\\\\\n",
       "\tACS\\_PCT\\_ASSOCIATE\\_DGR & -0.1646 &  -0.6815 &  0.3226 & 70000 & 43.4 & 248.2 & -1.6\\\\\n",
       "\tACS\\_PCT\\_ADMIN &  3.1146 &   1.9698 &  4.2105 & 70000 & 43.4 & 120.5 &  2.2\\\\\n",
       "\t⋮ & ⋮ & ⋮ & ⋮ & ⋮ & ⋮ & ⋮ & ⋮\\\\\n",
       "\tduration\\_mins\\_centroid &  0.0021 &  0.0004 &  0.0039 & 70000 &  43.4 &    83.6 & -0.5\\\\\n",
       "\tACS\\_PCT\\_MANUFACT &  0.2611 & -0.7287 &  1.1594 & 70000 &  43.4 &    39.8 &  1.9\\\\\n",
       "\tACS\\_PCT\\_GULFWAR\\_1990 &  0.5374 &  0.2417 &  0.8328 & 70000 &  43.4 &   402.9 & -2.7\\\\\n",
       "\tACS\\_PCT\\_HH\\_PUB\\_ASSIST &  0.6945 & -0.5223 &  1.9263 & 70000 &  43.4 &   324.1 &  0.0\\\\\n",
       "\tACS\\_PCT\\_FEMALE & -0.0439 & -1.1986 &  1.1657 & 70000 &  43.4 &   170.4 & -1.9\\\\\n",
       "\twind\\_speed &  0.3539 &  0.2020 &  0.5046 & 70000 &  43.4 &   262.2 & -0.6\\\\\n",
       "\tACS\\_PCT\\_RENT\\_COST\\_30PCT & -0.6991 & -0.9281 & -0.4729 & 70000 &  43.4 &   261.1 &  1.2\\\\\n",
       "\tACS\\_PCT\\_CTZ\\_US\\_BORN &  1.5209 &  0.3275 &  3.1801 & 70000 &  43.4 &    14.7 &  0.4\\\\\n",
       "\tACS\\_PCT\\_COMMT\\_60MINUP & -0.4870 & -1.6781 &  0.8436 & 70000 &  43.4 &    22.0 & -6.9\\\\\n",
       "\tACS\\_PCT\\_RENTER\\_HH\\_CHILD &  0.3288 &  0.0326 &  0.6201 & 70000 &  43.4 &   213.0 &  0.8\\\\\n",
       "\tNHC\\_BEDCOUNT & -0.6835 & -1.2089 & -0.1198 & 70000 &  43.4 &    38.9 &  1.7\\\\\n",
       "\tNHC\\_LIC\\_STAFF & -1.3643 & -1.5832 & -1.1407 & 70000 &  43.4 &   444.1 & -1.1\\\\\n",
       "\tACS\\_PCT\\_10UNITS & -0.2004 & -0.8182 &  0.3753 & 70000 &  43.4 &    71.2 &  2.8\\\\\n",
       "\tACS\\_PCT\\_OTHER\\_INS & -1.1613 & -2.4058 &  0.2854 & 70000 &  43.4 &    31.8 &  0.3\\\\\n",
       "\tACS\\_PCT\\_1UP\\_OWNER\\_1ROOM & -5.8832 & -8.2126 & -2.0005 & 70000 &  43.4 &    12.5 &  2.1\\\\\n",
       "\tACS\\_PCT\\_OTHER & -0.3123 & -1.7949 &  1.2085 & 70000 &  43.4 &    49.7 &  1.7\\\\\n",
       "\tMP\\_ELIGIBLES & -0.2316 & -0.6527 &  0.0093 & 70000 &  43.4 &     6.0 & -6.5\\\\\n",
       "\tCHR\\_ALCOHOL\\_DRIV\\_DEATH & -0.1054 & -0.2016 & -0.0064 & 70000 &  43.4 &    78.1 & -0.1\\\\\n",
       "\tvisibility & -0.0299 & -0.1217 &  0.0653 & 70000 &  43.4 &   276.6 & -2.0\\\\\n",
       "\tACS\\_MEDIAN\\_RENT &  0.1299 & -0.0346 &  0.2837 & 70000 &  43.4 &   279.7 & -2.3\\\\\n",
       "\tACS\\_PCT\\_DRIVE\\_2WORK &  0.4002 & -0.4288 &  1.2328 & 70000 &  43.4 &    33.6 &  4.6\\\\\n",
       "\tACS\\_PCT\\_WORK\\_NO\\_CAR &  1.2393 &  0.0616 &  2.4879 & 70000 &  43.4 &    54.7 & -2.0\\\\\n",
       "\tACS\\_PCT\\_GRANDP\\_RESPS &  0.0018 & -0.1528 &  0.1550 & 70000 &  43.4 &   145.0 &  0.9\\\\\n",
       "\tACS\\_PCT\\_ENGLISH &  0.3164 & -0.1117 &  0.6964 & 70000 &  43.4 &    69.6 & -0.6\\\\\n",
       "\tACS\\_PCT\\_CONSTRUCT &  1.7771 &  0.5473 &  2.8376 & 70000 &  43.4 &   173.4 &  2.2\\\\\n",
       "\tACS\\_PCT\\_HH\\_1PERS &  0.5249 & -0.1005 &  1.1040 & 70000 &  43.4 &   198.6 &  0.3\\\\\n",
       "\tACS\\_PCT\\_AGE\\_0\\_4 & -3.3320 & -5.7496 & -0.9121 & 70000 &  43.4 &   215.7 & -0.8\\\\\n",
       "\ttau2 &  0.1674 &  0.1601 &  0.1750 & 70000 & 100.0 &  6099.4 & -3.9\\\\\n",
       "\trho.S &  0.4945 &  0.4599 &  0.5277 & 70000 &  42.3 &  2855.5 &  5.4\\\\\n",
       "\trho.T &  0.8906 &  0.8685 &  0.9126 & 70000 & 100.0 & 10249.9 &  0.6\\\\\n",
       "\\end{tabular}\n"
      ],
      "text/markdown": [
       "\n",
       "A matrix: 102 × 7 of type dbl\n",
       "\n",
       "| <!--/--> | Mean | 2.5% | 97.5% | n.sample | % accept | n.effective | Geweke.diag |\n",
       "|---|---|---|---|---|---|---|---|\n",
       "| (Intercept) | -9.5651 | -11.3382 | -8.0104 | 70000 | 43.4 |  73.0 |  0.4 |\n",
       "| ALAND |  0.0000 |   0.0000 |  0.0000 | 70000 | 43.4 |   0.0 |  Inf |\n",
       "| AWATER |  0.0000 |   0.0000 |  0.0000 | 70000 | 43.4 |   0.0 | -Inf |\n",
       "| ACS_PCT_GRP_QRT |  1.4603 |   0.6908 |  2.1821 | 70000 | 43.4 | 179.0 | -2.3 |\n",
       "| ACS_PCT_PRIVATE_2 |  0.7768 |  -1.1633 |  2.6331 | 70000 | 43.4 | 662.6 | -0.7 |\n",
       "| mean_temp |  0.1270 |  -0.1204 |  0.3612 | 70000 | 43.4 | 163.5 | -0.1 |\n",
       "| ACS_PCT_MEDICARE_ONLY |  0.4798 |  -0.8665 |  1.8631 | 70000 | 43.4 | 237.5 |  0.8 |\n",
       "| ACS_PCT_PRIVATE_SELF |  1.7209 |   0.9284 |  2.5207 | 70000 | 43.4 | 211.6 |  0.1 |\n",
       "| ACS_PCT_MOBILE_HOME |  0.2467 |  -0.0494 |  0.5288 | 70000 | 43.4 | 215.6 | -0.2 |\n",
       "| NHC_DAILY_RES | -1.3728 |  -1.8542 | -0.8949 | 70000 | 43.4 |  53.3 | -2.0 |\n",
       "| ACS_PCT_NON_CITIZEN |  0.6221 |  -1.1401 |  3.1203 | 70000 | 43.4 |  26.9 |  1.0 |\n",
       "| closest_station_index |  0.0619 |  -0.1686 |  0.2681 | 70000 | 43.4 | 129.0 |  1.0 |\n",
       "| ACS_PCT_TRICARE_VA | -2.2432 | -12.2088 |  6.1969 | 70000 | 43.4 |   5.8 |  3.1 |\n",
       "| ACS_PCT_RETAIL | -1.1690 |  -2.3444 | -0.1847 | 70000 | 43.4 | 171.1 |  3.0 |\n",
       "| ACS_PCT_VA_LABOR_FORCE | -0.0647 |  -0.2384 |  0.1074 | 70000 | 43.4 | 368.2 |  0.0 |\n",
       "| ACS_PCT_INFORM |  0.4655 |  -1.8637 |  2.7234 | 70000 | 43.4 | 291.9 |  2.8 |\n",
       "| ACS_PCT_COMMT_29MIN | -2.8309 |  -4.0421 | -1.5973 | 70000 | 43.4 |  10.7 | -6.0 |\n",
       "| ACS_PCT_PRIVATE_MDCR | -4.3516 |  -5.9855 | -2.6026 | 70000 | 43.4 | 245.6 |  1.0 |\n",
       "| ACS_PCT_COMMT_59MIN |  0.4292 |  -0.7412 |  1.5914 | 70000 | 43.4 |   9.8 | -5.5 |\n",
       "| AHRF_HPSA_MENTAL | -0.0844 |  -0.1374 | -0.0313 | 70000 | 43.4 | 513.9 |  0.0 |\n",
       "| ACS_PCT_DIVORCE_SEPARAT | -1.1139 |  -1.9478 | -0.2528 | 70000 | 43.4 | 350.9 | -2.5 |\n",
       "| ACS_PCT_TRANSPORT |  2.7531 |   1.4638 |  3.8648 | 70000 | 43.4 | 201.5 |  3.5 |\n",
       "| ACS_PCT_EDUC |  0.6628 |  -0.3367 |  1.6160 | 70000 | 43.4 |  85.0 |  3.4 |\n",
       "| ACS_PCT_UNINSURED64 | -3.4424 |  -6.2834 | -0.4913 | 70000 | 43.4 |   7.5 | -3.3 |\n",
       "| CCBP_RATE_FSR_PER_1000 | -0.4071 |  -4.2055 |  3.1497 | 70000 | 43.4 | 412.4 |  1.9 |\n",
       "| distance_centroid |  0.0023 |   0.0006 |  0.0041 | 70000 | 43.4 |  85.7 |  2.0 |\n",
       "| ACS_PCT_GRANDP_NO_RESPS | -0.0892 |  -0.2385 |  0.0569 | 70000 | 43.4 | 203.3 |  0.9 |\n",
       "| PM2.5 | -0.8033 |  -0.9787 | -0.6287 | 70000 | 43.4 | 286.3 |  0.9 |\n",
       "| ACS_PCT_ASSOCIATE_DGR | -0.1646 |  -0.6815 |  0.3226 | 70000 | 43.4 | 248.2 | -1.6 |\n",
       "| ACS_PCT_ADMIN |  3.1146 |   1.9698 |  4.2105 | 70000 | 43.4 | 120.5 |  2.2 |\n",
       "| ⋮ | ⋮ | ⋮ | ⋮ | ⋮ | ⋮ | ⋮ | ⋮ |\n",
       "| duration_mins_centroid |  0.0021 |  0.0004 |  0.0039 | 70000 |  43.4 |    83.6 | -0.5 |\n",
       "| ACS_PCT_MANUFACT |  0.2611 | -0.7287 |  1.1594 | 70000 |  43.4 |    39.8 |  1.9 |\n",
       "| ACS_PCT_GULFWAR_1990 |  0.5374 |  0.2417 |  0.8328 | 70000 |  43.4 |   402.9 | -2.7 |\n",
       "| ACS_PCT_HH_PUB_ASSIST |  0.6945 | -0.5223 |  1.9263 | 70000 |  43.4 |   324.1 |  0.0 |\n",
       "| ACS_PCT_FEMALE | -0.0439 | -1.1986 |  1.1657 | 70000 |  43.4 |   170.4 | -1.9 |\n",
       "| wind_speed |  0.3539 |  0.2020 |  0.5046 | 70000 |  43.4 |   262.2 | -0.6 |\n",
       "| ACS_PCT_RENT_COST_30PCT | -0.6991 | -0.9281 | -0.4729 | 70000 |  43.4 |   261.1 |  1.2 |\n",
       "| ACS_PCT_CTZ_US_BORN |  1.5209 |  0.3275 |  3.1801 | 70000 |  43.4 |    14.7 |  0.4 |\n",
       "| ACS_PCT_COMMT_60MINUP | -0.4870 | -1.6781 |  0.8436 | 70000 |  43.4 |    22.0 | -6.9 |\n",
       "| ACS_PCT_RENTER_HH_CHILD |  0.3288 |  0.0326 |  0.6201 | 70000 |  43.4 |   213.0 |  0.8 |\n",
       "| NHC_BEDCOUNT | -0.6835 | -1.2089 | -0.1198 | 70000 |  43.4 |    38.9 |  1.7 |\n",
       "| NHC_LIC_STAFF | -1.3643 | -1.5832 | -1.1407 | 70000 |  43.4 |   444.1 | -1.1 |\n",
       "| ACS_PCT_10UNITS | -0.2004 | -0.8182 |  0.3753 | 70000 |  43.4 |    71.2 |  2.8 |\n",
       "| ACS_PCT_OTHER_INS | -1.1613 | -2.4058 |  0.2854 | 70000 |  43.4 |    31.8 |  0.3 |\n",
       "| ACS_PCT_1UP_OWNER_1ROOM | -5.8832 | -8.2126 | -2.0005 | 70000 |  43.4 |    12.5 |  2.1 |\n",
       "| ACS_PCT_OTHER | -0.3123 | -1.7949 |  1.2085 | 70000 |  43.4 |    49.7 |  1.7 |\n",
       "| MP_ELIGIBLES | -0.2316 | -0.6527 |  0.0093 | 70000 |  43.4 |     6.0 | -6.5 |\n",
       "| CHR_ALCOHOL_DRIV_DEATH | -0.1054 | -0.2016 | -0.0064 | 70000 |  43.4 |    78.1 | -0.1 |\n",
       "| visibility | -0.0299 | -0.1217 |  0.0653 | 70000 |  43.4 |   276.6 | -2.0 |\n",
       "| ACS_MEDIAN_RENT |  0.1299 | -0.0346 |  0.2837 | 70000 |  43.4 |   279.7 | -2.3 |\n",
       "| ACS_PCT_DRIVE_2WORK |  0.4002 | -0.4288 |  1.2328 | 70000 |  43.4 |    33.6 |  4.6 |\n",
       "| ACS_PCT_WORK_NO_CAR |  1.2393 |  0.0616 |  2.4879 | 70000 |  43.4 |    54.7 | -2.0 |\n",
       "| ACS_PCT_GRANDP_RESPS |  0.0018 | -0.1528 |  0.1550 | 70000 |  43.4 |   145.0 |  0.9 |\n",
       "| ACS_PCT_ENGLISH |  0.3164 | -0.1117 |  0.6964 | 70000 |  43.4 |    69.6 | -0.6 |\n",
       "| ACS_PCT_CONSTRUCT |  1.7771 |  0.5473 |  2.8376 | 70000 |  43.4 |   173.4 |  2.2 |\n",
       "| ACS_PCT_HH_1PERS |  0.5249 | -0.1005 |  1.1040 | 70000 |  43.4 |   198.6 |  0.3 |\n",
       "| ACS_PCT_AGE_0_4 | -3.3320 | -5.7496 | -0.9121 | 70000 |  43.4 |   215.7 | -0.8 |\n",
       "| tau2 |  0.1674 |  0.1601 |  0.1750 | 70000 | 100.0 |  6099.4 | -3.9 |\n",
       "| rho.S |  0.4945 |  0.4599 |  0.5277 | 70000 |  42.3 |  2855.5 |  5.4 |\n",
       "| rho.T |  0.8906 |  0.8685 |  0.9126 | 70000 | 100.0 | 10249.9 |  0.6 |\n",
       "\n"
      ],
      "text/plain": [
       "                        Mean    2.5%     97.5%   n.sample % accept n.effective\n",
       "(Intercept)             -9.5651 -11.3382 -8.0104 70000    43.4      73.0      \n",
       "ALAND                    0.0000   0.0000  0.0000 70000    43.4       0.0      \n",
       "AWATER                   0.0000   0.0000  0.0000 70000    43.4       0.0      \n",
       "ACS_PCT_GRP_QRT          1.4603   0.6908  2.1821 70000    43.4     179.0      \n",
       "ACS_PCT_PRIVATE_2        0.7768  -1.1633  2.6331 70000    43.4     662.6      \n",
       "mean_temp                0.1270  -0.1204  0.3612 70000    43.4     163.5      \n",
       "ACS_PCT_MEDICARE_ONLY    0.4798  -0.8665  1.8631 70000    43.4     237.5      \n",
       "ACS_PCT_PRIVATE_SELF     1.7209   0.9284  2.5207 70000    43.4     211.6      \n",
       "ACS_PCT_MOBILE_HOME      0.2467  -0.0494  0.5288 70000    43.4     215.6      \n",
       "NHC_DAILY_RES           -1.3728  -1.8542 -0.8949 70000    43.4      53.3      \n",
       "ACS_PCT_NON_CITIZEN      0.6221  -1.1401  3.1203 70000    43.4      26.9      \n",
       "closest_station_index    0.0619  -0.1686  0.2681 70000    43.4     129.0      \n",
       "ACS_PCT_TRICARE_VA      -2.2432 -12.2088  6.1969 70000    43.4       5.8      \n",
       "ACS_PCT_RETAIL          -1.1690  -2.3444 -0.1847 70000    43.4     171.1      \n",
       "ACS_PCT_VA_LABOR_FORCE  -0.0647  -0.2384  0.1074 70000    43.4     368.2      \n",
       "ACS_PCT_INFORM           0.4655  -1.8637  2.7234 70000    43.4     291.9      \n",
       "ACS_PCT_COMMT_29MIN     -2.8309  -4.0421 -1.5973 70000    43.4      10.7      \n",
       "ACS_PCT_PRIVATE_MDCR    -4.3516  -5.9855 -2.6026 70000    43.4     245.6      \n",
       "ACS_PCT_COMMT_59MIN      0.4292  -0.7412  1.5914 70000    43.4       9.8      \n",
       "AHRF_HPSA_MENTAL        -0.0844  -0.1374 -0.0313 70000    43.4     513.9      \n",
       "ACS_PCT_DIVORCE_SEPARAT -1.1139  -1.9478 -0.2528 70000    43.4     350.9      \n",
       "ACS_PCT_TRANSPORT        2.7531   1.4638  3.8648 70000    43.4     201.5      \n",
       "ACS_PCT_EDUC             0.6628  -0.3367  1.6160 70000    43.4      85.0      \n",
       "ACS_PCT_UNINSURED64     -3.4424  -6.2834 -0.4913 70000    43.4       7.5      \n",
       "CCBP_RATE_FSR_PER_1000  -0.4071  -4.2055  3.1497 70000    43.4     412.4      \n",
       "distance_centroid        0.0023   0.0006  0.0041 70000    43.4      85.7      \n",
       "ACS_PCT_GRANDP_NO_RESPS -0.0892  -0.2385  0.0569 70000    43.4     203.3      \n",
       "PM2.5                   -0.8033  -0.9787 -0.6287 70000    43.4     286.3      \n",
       "ACS_PCT_ASSOCIATE_DGR   -0.1646  -0.6815  0.3226 70000    43.4     248.2      \n",
       "ACS_PCT_ADMIN            3.1146   1.9698  4.2105 70000    43.4     120.5      \n",
       "⋮                       ⋮       ⋮        ⋮       ⋮        ⋮        ⋮          \n",
       "duration_mins_centroid   0.0021  0.0004   0.0039 70000     43.4       83.6    \n",
       "ACS_PCT_MANUFACT         0.2611 -0.7287   1.1594 70000     43.4       39.8    \n",
       "ACS_PCT_GULFWAR_1990     0.5374  0.2417   0.8328 70000     43.4      402.9    \n",
       "ACS_PCT_HH_PUB_ASSIST    0.6945 -0.5223   1.9263 70000     43.4      324.1    \n",
       "ACS_PCT_FEMALE          -0.0439 -1.1986   1.1657 70000     43.4      170.4    \n",
       "wind_speed               0.3539  0.2020   0.5046 70000     43.4      262.2    \n",
       "ACS_PCT_RENT_COST_30PCT -0.6991 -0.9281  -0.4729 70000     43.4      261.1    \n",
       "ACS_PCT_CTZ_US_BORN      1.5209  0.3275   3.1801 70000     43.4       14.7    \n",
       "ACS_PCT_COMMT_60MINUP   -0.4870 -1.6781   0.8436 70000     43.4       22.0    \n",
       "ACS_PCT_RENTER_HH_CHILD  0.3288  0.0326   0.6201 70000     43.4      213.0    \n",
       "NHC_BEDCOUNT            -0.6835 -1.2089  -0.1198 70000     43.4       38.9    \n",
       "NHC_LIC_STAFF           -1.3643 -1.5832  -1.1407 70000     43.4      444.1    \n",
       "ACS_PCT_10UNITS         -0.2004 -0.8182   0.3753 70000     43.4       71.2    \n",
       "ACS_PCT_OTHER_INS       -1.1613 -2.4058   0.2854 70000     43.4       31.8    \n",
       "ACS_PCT_1UP_OWNER_1ROOM -5.8832 -8.2126  -2.0005 70000     43.4       12.5    \n",
       "ACS_PCT_OTHER           -0.3123 -1.7949   1.2085 70000     43.4       49.7    \n",
       "MP_ELIGIBLES            -0.2316 -0.6527   0.0093 70000     43.4        6.0    \n",
       "CHR_ALCOHOL_DRIV_DEATH  -0.1054 -0.2016  -0.0064 70000     43.4       78.1    \n",
       "visibility              -0.0299 -0.1217   0.0653 70000     43.4      276.6    \n",
       "ACS_MEDIAN_RENT          0.1299 -0.0346   0.2837 70000     43.4      279.7    \n",
       "ACS_PCT_DRIVE_2WORK      0.4002 -0.4288   1.2328 70000     43.4       33.6    \n",
       "ACS_PCT_WORK_NO_CAR      1.2393  0.0616   2.4879 70000     43.4       54.7    \n",
       "ACS_PCT_GRANDP_RESPS     0.0018 -0.1528   0.1550 70000     43.4      145.0    \n",
       "ACS_PCT_ENGLISH          0.3164 -0.1117   0.6964 70000     43.4       69.6    \n",
       "ACS_PCT_CONSTRUCT        1.7771  0.5473   2.8376 70000     43.4      173.4    \n",
       "ACS_PCT_HH_1PERS         0.5249 -0.1005   1.1040 70000     43.4      198.6    \n",
       "ACS_PCT_AGE_0_4         -3.3320 -5.7496  -0.9121 70000     43.4      215.7    \n",
       "tau2                     0.1674  0.1601   0.1750 70000    100.0     6099.4    \n",
       "rho.S                    0.4945  0.4599   0.5277 70000     42.3     2855.5    \n",
       "rho.T                    0.8906  0.8685   0.9126 70000    100.0    10249.9    \n",
       "                        Geweke.diag\n",
       "(Intercept)              0.4       \n",
       "ALAND                    Inf       \n",
       "AWATER                  -Inf       \n",
       "ACS_PCT_GRP_QRT         -2.3       \n",
       "ACS_PCT_PRIVATE_2       -0.7       \n",
       "mean_temp               -0.1       \n",
       "ACS_PCT_MEDICARE_ONLY    0.8       \n",
       "ACS_PCT_PRIVATE_SELF     0.1       \n",
       "ACS_PCT_MOBILE_HOME     -0.2       \n",
       "NHC_DAILY_RES           -2.0       \n",
       "ACS_PCT_NON_CITIZEN      1.0       \n",
       "closest_station_index    1.0       \n",
       "ACS_PCT_TRICARE_VA       3.1       \n",
       "ACS_PCT_RETAIL           3.0       \n",
       "ACS_PCT_VA_LABOR_FORCE   0.0       \n",
       "ACS_PCT_INFORM           2.8       \n",
       "ACS_PCT_COMMT_29MIN     -6.0       \n",
       "ACS_PCT_PRIVATE_MDCR     1.0       \n",
       "ACS_PCT_COMMT_59MIN     -5.5       \n",
       "AHRF_HPSA_MENTAL         0.0       \n",
       "ACS_PCT_DIVORCE_SEPARAT -2.5       \n",
       "ACS_PCT_TRANSPORT        3.5       \n",
       "ACS_PCT_EDUC             3.4       \n",
       "ACS_PCT_UNINSURED64     -3.3       \n",
       "CCBP_RATE_FSR_PER_1000   1.9       \n",
       "distance_centroid        2.0       \n",
       "ACS_PCT_GRANDP_NO_RESPS  0.9       \n",
       "PM2.5                    0.9       \n",
       "ACS_PCT_ASSOCIATE_DGR   -1.6       \n",
       "ACS_PCT_ADMIN            2.2       \n",
       "⋮                       ⋮          \n",
       "duration_mins_centroid  -0.5       \n",
       "ACS_PCT_MANUFACT         1.9       \n",
       "ACS_PCT_GULFWAR_1990    -2.7       \n",
       "ACS_PCT_HH_PUB_ASSIST    0.0       \n",
       "ACS_PCT_FEMALE          -1.9       \n",
       "wind_speed              -0.6       \n",
       "ACS_PCT_RENT_COST_30PCT  1.2       \n",
       "ACS_PCT_CTZ_US_BORN      0.4       \n",
       "ACS_PCT_COMMT_60MINUP   -6.9       \n",
       "ACS_PCT_RENTER_HH_CHILD  0.8       \n",
       "NHC_BEDCOUNT             1.7       \n",
       "NHC_LIC_STAFF           -1.1       \n",
       "ACS_PCT_10UNITS          2.8       \n",
       "ACS_PCT_OTHER_INS        0.3       \n",
       "ACS_PCT_1UP_OWNER_1ROOM  2.1       \n",
       "ACS_PCT_OTHER            1.7       \n",
       "MP_ELIGIBLES            -6.5       \n",
       "CHR_ALCOHOL_DRIV_DEATH  -0.1       \n",
       "visibility              -2.0       \n",
       "ACS_MEDIAN_RENT         -2.3       \n",
       "ACS_PCT_DRIVE_2WORK      4.6       \n",
       "ACS_PCT_WORK_NO_CAR     -2.0       \n",
       "ACS_PCT_GRANDP_RESPS     0.9       \n",
       "ACS_PCT_ENGLISH         -0.6       \n",
       "ACS_PCT_CONSTRUCT        2.2       \n",
       "ACS_PCT_HH_1PERS         0.3       \n",
       "ACS_PCT_AGE_0_4         -0.8       \n",
       "tau2                    -3.9       \n",
       "rho.S                    5.4       \n",
       "rho.T                    0.6       "
      ]
     },
     "metadata": {},
     "output_type": "display_data"
    }
   ],
   "source": [
    "fit1$summary.results"
   ]
  },
  {
   "cell_type": "code",
   "execution_count": 22,
   "id": "353c996e-4670-4f36-a1ad-47bded0a636d",
   "metadata": {},
   "outputs": [
    {
     "name": "stdout",
     "output_type": "stream",
     "text": [
      "List of 6\n",
      " $ beta  : 'mcmc' num [1:70000, 1:99] -10.5 -10.5 -10.6 -10.7 -10.6 ...\n",
      "  ..- attr(*, \"mcpar\")= num [1:3] 1 70000 1\n",
      " $ phi   : 'mcmc' num [1:70000, 1:9087] -0.147 -0.255 -0.258 -0.26 -0.477 ...\n",
      "  ..- attr(*, \"mcpar\")= num [1:3] 1 70000 1\n",
      " $ rho   : 'mcmc' num [1:70000, 1:2] 0.499 0.495 0.515 0.512 0.497 ...\n",
      "  ..- attr(*, \"dimnames\")=List of 2\n",
      "  .. ..$ : NULL\n",
      "  .. ..$ : chr [1:2] \"rho.S\" \"rho.T\"\n",
      "  ..- attr(*, \"mcpar\")= num [1:3] 1 70000 1\n",
      " $ tau2  : 'mcmc' num [1:70000, 1] 0.165 0.168 0.165 0.165 0.167 ...\n",
      "  ..- attr(*, \"mcpar\")= num [1:3] 1 70000 1\n",
      " $ fitted: 'mcmc' num [1:70000, 1:9087] 13.04 11.65 11.49 11.41 9.21 ...\n",
      "  ..- attr(*, \"mcpar\")= num [1:3] 1 70000 1\n",
      " $ Y     : 'mcmc' logi NA\n",
      "  ..- attr(*, \"mcpar\")= num [1:3] 1 1 1\n"
     ]
    }
   ],
   "source": [
    "str(fit1$samples)"
   ]
  },
  {
   "cell_type": "code",
   "execution_count": 10,
   "id": "1923273e-d1a0-4443-8a77-941f6e3e7d51",
   "metadata": {},
   "outputs": [
    {
     "data": {
      "text/html": [
       "140000"
      ],
      "text/latex": [
       "140000"
      ],
      "text/markdown": [
       "140000"
      ],
      "text/plain": [
       "[1] 140000"
      ]
     },
     "metadata": {},
     "output_type": "display_data"
    }
   ],
   "source": [
    "length(fit1$samples$rho)"
   ]
  },
  {
   "cell_type": "code",
   "execution_count": 9,
   "id": "fe43c9d0-9f49-4963-ba64-6544c8beb8ba",
   "metadata": {},
   "outputs": [],
   "source": [
    "true_values <- read_csv(\"data/raw/suicide/2018.csv\", show_col_types=F) %>%\n",
    "        filter(fips %in% fips_to_keep) %>%\n",
    "        arrange(fips) %>%\n",
    "        select(Deaths) %>%\n",
    "        pull()\n"
   ]
  },
  {
   "cell_type": "code",
   "execution_count": 11,
   "id": "458b7de9-d558-44d5-9c15-e9e38be51a09",
   "metadata": {},
   "outputs": [],
   "source": [
    "fitted_values <- fit1$fitted[6059:9087]"
   ]
  },
  {
   "cell_type": "code",
   "execution_count": 12,
   "id": "c2ef39d5-ae1a-4acf-9892-936312a8e850",
   "metadata": {},
   "outputs": [],
   "source": [
    "results_df <- tibble(\n",
    "    fitted_values = fitted_values,\n",
    "    true_values = true_values,\n",
    "    FIPSCODE = fips_to_keep\n",
    ")\n"
   ]
  },
  {
   "cell_type": "code",
   "execution_count": 13,
   "id": "c1c2cc1c-266a-44fd-bd3c-b1bc29bea793",
   "metadata": {},
   "outputs": [
    {
     "data": {
      "text/html": [
       "<table class=\"dataframe\">\n",
       "<caption>A tibble: 6 × 4</caption>\n",
       "<thead>\n",
       "\t<tr><th scope=col>fitted_values</th><th scope=col>true_values</th><th scope=col>FIPSCODE</th><th scope=col>top5_true</th></tr>\n",
       "\t<tr><th scope=col>&lt;dbl&gt;</th><th scope=col>&lt;dbl&gt;</th><th scope=col>&lt;chr&gt;</th><th scope=col>&lt;dbl&gt;</th></tr>\n",
       "</thead>\n",
       "<tbody>\n",
       "\t<tr><td>843.7987</td><td>947</td><td>06037</td><td>1</td></tr>\n",
       "\t<tr><td>690.0795</td><td>737</td><td>04013</td><td>1</td></tr>\n",
       "\t<tr><td>489.9199</td><td>481</td><td>48201</td><td>1</td></tr>\n",
       "\t<tr><td>418.0826</td><td>465</td><td>32003</td><td>1</td></tr>\n",
       "\t<tr><td>425.1484</td><td>459</td><td>17031</td><td>1</td></tr>\n",
       "\t<tr><td>415.1385</td><td>448</td><td>06073</td><td>1</td></tr>\n",
       "</tbody>\n",
       "</table>\n"
      ],
      "text/latex": [
       "A tibble: 6 × 4\n",
       "\\begin{tabular}{llll}\n",
       " fitted\\_values & true\\_values & FIPSCODE & top5\\_true\\\\\n",
       " <dbl> & <dbl> & <chr> & <dbl>\\\\\n",
       "\\hline\n",
       "\t 843.7987 & 947 & 06037 & 1\\\\\n",
       "\t 690.0795 & 737 & 04013 & 1\\\\\n",
       "\t 489.9199 & 481 & 48201 & 1\\\\\n",
       "\t 418.0826 & 465 & 32003 & 1\\\\\n",
       "\t 425.1484 & 459 & 17031 & 1\\\\\n",
       "\t 415.1385 & 448 & 06073 & 1\\\\\n",
       "\\end{tabular}\n"
      ],
      "text/markdown": [
       "\n",
       "A tibble: 6 × 4\n",
       "\n",
       "| fitted_values &lt;dbl&gt; | true_values &lt;dbl&gt; | FIPSCODE &lt;chr&gt; | top5_true &lt;dbl&gt; |\n",
       "|---|---|---|---|\n",
       "| 843.7987 | 947 | 06037 | 1 |\n",
       "| 690.0795 | 737 | 04013 | 1 |\n",
       "| 489.9199 | 481 | 48201 | 1 |\n",
       "| 418.0826 | 465 | 32003 | 1 |\n",
       "| 425.1484 | 459 | 17031 | 1 |\n",
       "| 415.1385 | 448 | 06073 | 1 |\n",
       "\n"
      ],
      "text/plain": [
       "  fitted_values true_values FIPSCODE top5_true\n",
       "1 843.7987      947         06037    1        \n",
       "2 690.0795      737         04013    1        \n",
       "3 489.9199      481         48201    1        \n",
       "4 418.0826      465         32003    1        \n",
       "5 425.1484      459         17031    1        \n",
       "6 415.1385      448         06073    1        "
      ]
     },
     "metadata": {},
     "output_type": "display_data"
    }
   ],
   "source": [
    "top_true <- results_df %>%\n",
    "    arrange(desc(true_values)) %>%\n",
    "    head(6) %>%\n",
    "    mutate(top5_true = 1)\n",
    "top_true"
   ]
  },
  {
   "cell_type": "code",
   "execution_count": 14,
   "id": "b8bd4608-4699-4926-9ebf-2b3c68f42b9a",
   "metadata": {},
   "outputs": [
    {
     "data": {
      "text/html": [
       "<table class=\"dataframe\">\n",
       "<caption>A tibble: 6 × 3</caption>\n",
       "<thead>\n",
       "\t<tr><th scope=col>fitted_values</th><th scope=col>true_values</th><th scope=col>FIPSCODE</th></tr>\n",
       "\t<tr><th scope=col>&lt;dbl&gt;</th><th scope=col>&lt;dbl&gt;</th><th scope=col>&lt;chr&gt;</th></tr>\n",
       "</thead>\n",
       "<tbody>\n",
       "\t<tr><td>843.7987</td><td>947</td><td>06037</td></tr>\n",
       "\t<tr><td>690.0795</td><td>737</td><td>04013</td></tr>\n",
       "\t<tr><td>489.9199</td><td>481</td><td>48201</td></tr>\n",
       "\t<tr><td>425.1484</td><td>459</td><td>17031</td></tr>\n",
       "\t<tr><td>418.0826</td><td>465</td><td>32003</td></tr>\n",
       "\t<tr><td>415.1385</td><td>448</td><td>06073</td></tr>\n",
       "</tbody>\n",
       "</table>\n"
      ],
      "text/latex": [
       "A tibble: 6 × 3\n",
       "\\begin{tabular}{lll}\n",
       " fitted\\_values & true\\_values & FIPSCODE\\\\\n",
       " <dbl> & <dbl> & <chr>\\\\\n",
       "\\hline\n",
       "\t 843.7987 & 947 & 06037\\\\\n",
       "\t 690.0795 & 737 & 04013\\\\\n",
       "\t 489.9199 & 481 & 48201\\\\\n",
       "\t 425.1484 & 459 & 17031\\\\\n",
       "\t 418.0826 & 465 & 32003\\\\\n",
       "\t 415.1385 & 448 & 06073\\\\\n",
       "\\end{tabular}\n"
      ],
      "text/markdown": [
       "\n",
       "A tibble: 6 × 3\n",
       "\n",
       "| fitted_values &lt;dbl&gt; | true_values &lt;dbl&gt; | FIPSCODE &lt;chr&gt; |\n",
       "|---|---|---|\n",
       "| 843.7987 | 947 | 06037 |\n",
       "| 690.0795 | 737 | 04013 |\n",
       "| 489.9199 | 481 | 48201 |\n",
       "| 425.1484 | 459 | 17031 |\n",
       "| 418.0826 | 465 | 32003 |\n",
       "| 415.1385 | 448 | 06073 |\n",
       "\n"
      ],
      "text/plain": [
       "  fitted_values true_values FIPSCODE\n",
       "1 843.7987      947         06037   \n",
       "2 690.0795      737         04013   \n",
       "3 489.9199      481         48201   \n",
       "4 425.1484      459         17031   \n",
       "5 418.0826      465         32003   \n",
       "6 415.1385      448         06073   "
      ]
     },
     "metadata": {},
     "output_type": "display_data"
    }
   ],
   "source": [
    "top_fitted <- results_df %>%\n",
    "    arrange(desc(fitted_values)) %>%\n",
    "    head(6)\n",
    "top_fitted"
   ]
  },
  {
   "cell_type": "markdown",
   "id": "0614c200-b519-44b9-85f3-8743e59a3725",
   "metadata": {},
   "source": [
    "# Coefficients\n",
    "Order by effect size of the coefficient (note: coefficients have not been standardized)"
   ]
  },
  {
   "cell_type": "code",
   "execution_count": 31,
   "id": "c08db84d-d78c-4a0a-82b4-d32b89a4dce0",
   "metadata": {},
   "outputs": [
    {
     "data": {
      "text/html": [
       "<table class=\"dataframe\">\n",
       "<caption>A tibble: 102 × 7</caption>\n",
       "<thead>\n",
       "\t<tr><th></th><th scope=col>Mean</th><th scope=col>2.5%</th><th scope=col>97.5%</th><th scope=col>n.sample</th><th scope=col>% accept</th><th scope=col>n.effective</th><th scope=col>Geweke.diag</th></tr>\n",
       "\t<tr><th></th><th scope=col>&lt;dbl&gt;</th><th scope=col>&lt;dbl&gt;</th><th scope=col>&lt;dbl&gt;</th><th scope=col>&lt;dbl&gt;</th><th scope=col>&lt;dbl&gt;</th><th scope=col>&lt;dbl&gt;</th><th scope=col>&lt;dbl&gt;</th></tr>\n",
       "</thead>\n",
       "<tbody>\n",
       "\t<tr><th scope=row>(Intercept)</th><td>-9.5651</td><td>-11.3382</td><td>-8.0104</td><td>70000</td><td>43.4</td><td> 73.0</td><td> 0.4</td></tr>\n",
       "\t<tr><th scope=row>ACS_PCT_1UP_PERS_1ROOM</th><td> 7.0484</td><td>  2.6850</td><td>10.6888</td><td>70000</td><td>43.4</td><td> 28.8</td><td>-5.0</td></tr>\n",
       "\t<tr><th scope=row>ACS_PCT_1UP_OWNER_1ROOM</th><td>-5.8832</td><td> -8.2126</td><td>-2.0005</td><td>70000</td><td>43.4</td><td> 12.5</td><td> 2.1</td></tr>\n",
       "\t<tr><th scope=row>ACS_TOTAL_HOUSEHOLD</th><td>-5.5717</td><td> -6.5588</td><td>-4.2039</td><td>70000</td><td>43.4</td><td>  3.8</td><td>10.6</td></tr>\n",
       "\t<tr><th scope=row>CHR_DENTISTS_NUM</th><td> 5.0255</td><td>  3.7770</td><td> 6.1722</td><td>70000</td><td>43.4</td><td>  4.4</td><td>-8.9</td></tr>\n",
       "\t<tr><th scope=row>ACS_PCT_WHOLESALE</th><td> 4.7574</td><td>  3.1270</td><td> 6.2979</td><td>70000</td><td>43.4</td><td>423.2</td><td> 1.6</td></tr>\n",
       "\t<tr><th scope=row>CCBP_RATE_CS_PER_1000</th><td>-4.7565</td><td> -9.8555</td><td>-0.4497</td><td>70000</td><td>43.4</td><td> 31.8</td><td>-0.9</td></tr>\n",
       "\t<tr><th scope=row>ACS_PCT_UNINSURED</th><td> 4.4150</td><td>  0.7697</td><td> 7.8586</td><td>70000</td><td>43.4</td><td>  5.8</td><td> 3.6</td></tr>\n",
       "\t<tr><th scope=row>ACS_PCT_PRIVATE_MDCR</th><td>-4.3516</td><td> -5.9855</td><td>-2.6026</td><td>70000</td><td>43.4</td><td>245.6</td><td> 1.0</td></tr>\n",
       "\t<tr><th scope=row>ACS_PCT_AGE_0_17</th><td> 4.1889</td><td>  2.9191</td><td> 5.4195</td><td>70000</td><td>43.4</td><td>120.0</td><td>-1.2</td></tr>\n",
       "\t<tr><th scope=row>ACS_PCT_AGE_65UP</th><td> 3.7873</td><td>  2.4103</td><td> 5.3214</td><td>70000</td><td>43.4</td><td> 42.9</td><td> 0.0</td></tr>\n",
       "\t<tr><th scope=row>ACS_PCT_UNINSURED64</th><td>-3.4424</td><td> -6.2834</td><td>-0.4913</td><td>70000</td><td>43.4</td><td>  7.5</td><td>-3.3</td></tr>\n",
       "\t<tr><th scope=row>ACS_PCT_AGE_0_4</th><td>-3.3320</td><td> -5.7496</td><td>-0.9121</td><td>70000</td><td>43.4</td><td>215.7</td><td>-0.8</td></tr>\n",
       "\t<tr><th scope=row>ACS_PCT_NATURE</th><td> 3.2884</td><td>  2.2443</td><td> 4.1333</td><td>70000</td><td>43.4</td><td> 44.3</td><td> 1.9</td></tr>\n",
       "\t<tr><th scope=row>ACS_PCT_ADMIN</th><td> 3.1146</td><td>  1.9698</td><td> 4.2105</td><td>70000</td><td>43.4</td><td>120.5</td><td> 2.2</td></tr>\n",
       "\t<tr><th scope=row>ACS_PCT_TRICARE_VA64</th><td> 3.0484</td><td> -4.5416</td><td>11.5707</td><td>70000</td><td>43.4</td><td>  6.4</td><td>-3.3</td></tr>\n",
       "\t<tr><th scope=row>ACS_PCT_VA</th><td>-2.9510</td><td> -4.2395</td><td>-1.5238</td><td>70000</td><td>43.4</td><td>109.3</td><td> 2.2</td></tr>\n",
       "\t<tr><th scope=row>ACS_PCT_COMMT_29MIN</th><td>-2.8309</td><td> -4.0421</td><td>-1.5973</td><td>70000</td><td>43.4</td><td> 10.7</td><td>-6.0</td></tr>\n",
       "\t<tr><th scope=row>ACS_PCT_TRANSPORT</th><td> 2.7531</td><td>  1.4638</td><td> 3.8648</td><td>70000</td><td>43.4</td><td>201.5</td><td> 3.5</td></tr>\n",
       "\t<tr><th scope=row>CHR_MENTAL_DR_RATE</th><td>-2.7326</td><td> -4.1263</td><td>-1.2407</td><td>70000</td><td>43.4</td><td>282.7</td><td> 1.5</td></tr>\n",
       "\t<tr><th scope=row>ACS_PCT_PUBLIC_OTHER</th><td> 2.6232</td><td> -1.6816</td><td> 7.1562</td><td>70000</td><td>43.4</td><td>398.4</td><td>-1.1</td></tr>\n",
       "\t<tr><th scope=row>ACS_PCT_WALK_2WORK</th><td> 2.5265</td><td>  1.3649</td><td> 3.6842</td><td>70000</td><td>43.4</td><td>130.9</td><td> 7.6</td></tr>\n",
       "\t<tr><th scope=row>ACS_PCT_1UP_RENT_1ROOM</th><td>-2.2877</td><td> -3.4966</td><td>-0.9836</td><td>70000</td><td>43.4</td><td> 81.7</td><td> 7.9</td></tr>\n",
       "\t<tr><th scope=row>ACS_PCT_TRICARE_VA</th><td>-2.2432</td><td>-12.2088</td><td> 6.1969</td><td>70000</td><td>43.4</td><td>  5.8</td><td> 3.1</td></tr>\n",
       "\t<tr><th scope=row>ACS_PCT_CONSTRUCT</th><td> 1.7771</td><td>  0.5473</td><td> 2.8376</td><td>70000</td><td>43.4</td><td>173.4</td><td> 2.2</td></tr>\n",
       "\t<tr><th scope=row>ACS_PCT_OTH_EURP</th><td>-1.7702</td><td> -2.6893</td><td>-0.8062</td><td>70000</td><td>43.4</td><td>302.8</td><td>-1.7</td></tr>\n",
       "\t<tr><th scope=row>ACS_PCT_PRIVATE_SELF</th><td> 1.7209</td><td>  0.9284</td><td> 2.5207</td><td>70000</td><td>43.4</td><td>211.6</td><td> 0.1</td></tr>\n",
       "\t<tr><th scope=row>ACS_PCT_MULT_RACE</th><td>-1.5312</td><td> -2.6660</td><td>-0.4075</td><td>70000</td><td>43.4</td><td>366.2</td><td> 1.1</td></tr>\n",
       "\t<tr><th scope=row>ACS_PCT_CTZ_US_BORN</th><td> 1.5209</td><td>  0.3275</td><td> 3.1801</td><td>70000</td><td>43.4</td><td> 14.7</td><td> 0.4</td></tr>\n",
       "\t<tr><th scope=row>ACS_PCT_GRP_QRT</th><td> 1.4603</td><td>  0.6908</td><td> 2.1821</td><td>70000</td><td>43.4</td><td>179.0</td><td>-2.3</td></tr>\n",
       "\t<tr><th scope=row>⋮</th><td>⋮</td><td>⋮</td><td>⋮</td><td>⋮</td><td>⋮</td><td>⋮</td><td>⋮</td></tr>\n",
       "\t<tr><th scope=row>ACS_PCT_MOBILE_HOME</th><td> 0.2467</td><td>-0.0494</td><td> 0.5288</td><td>70000</td><td> 43.4</td><td> 215.6</td><td>-0.2</td></tr>\n",
       "\t<tr><th scope=row>MP_ELIGIBLES</th><td>-0.2316</td><td>-0.6527</td><td> 0.0093</td><td>70000</td><td> 43.4</td><td>   6.0</td><td>-6.5</td></tr>\n",
       "\t<tr><th scope=row>ACS_HH_SIZE</th><td>-0.2256</td><td>-0.6831</td><td> 0.0886</td><td>70000</td><td> 43.4</td><td>  12.1</td><td> 1.1</td></tr>\n",
       "\t<tr><th scope=row>ACS_PCT_RENTER_65UP</th><td>-0.2146</td><td>-0.5768</td><td> 0.1398</td><td>70000</td><td> 43.4</td><td> 415.1</td><td>-0.9</td></tr>\n",
       "\t<tr><th scope=row>ACS_PCT_10UNITS</th><td>-0.2004</td><td>-0.8182</td><td> 0.3753</td><td>70000</td><td> 43.4</td><td>  71.2</td><td> 2.8</td></tr>\n",
       "\t<tr><th scope=row>tau2</th><td> 0.1674</td><td> 0.1601</td><td> 0.1750</td><td>70000</td><td>100.0</td><td>6099.4</td><td>-3.9</td></tr>\n",
       "\t<tr><th scope=row>ACS_PCT_ASSOCIATE_DGR</th><td>-0.1646</td><td>-0.6815</td><td> 0.3226</td><td>70000</td><td> 43.4</td><td> 248.2</td><td>-1.6</td></tr>\n",
       "\t<tr><th scope=row>MP_PERCPEN</th><td>-0.1631</td><td>-0.3420</td><td> 0.0211</td><td>70000</td><td> 43.4</td><td> 222.8</td><td>-0.5</td></tr>\n",
       "\t<tr><th scope=row>ACS_PCT_GULFWAR_2001</th><td> 0.1534</td><td>-0.1567</td><td> 0.4515</td><td>70000</td><td> 43.4</td><td> 349.2</td><td>-0.2</td></tr>\n",
       "\t<tr><th scope=row>ACS_PCT_INC137</th><td> 0.1463</td><td>-0.2764</td><td> 0.5501</td><td>70000</td><td> 43.4</td><td>   7.7</td><td>-0.7</td></tr>\n",
       "\t<tr><th scope=row>ACS_PCT_TAXICAB_2WORK</th><td> 0.1362</td><td>-1.4433</td><td> 1.6606</td><td>70000</td><td> 43.4</td><td> 370.3</td><td> 6.3</td></tr>\n",
       "\t<tr><th scope=row>ACS_MEDIAN_RENT</th><td> 0.1299</td><td>-0.0346</td><td> 0.2837</td><td>70000</td><td> 43.4</td><td> 279.7</td><td>-2.3</td></tr>\n",
       "\t<tr><th scope=row>mean_temp</th><td> 0.1270</td><td>-0.1204</td><td> 0.3612</td><td>70000</td><td> 43.4</td><td> 163.5</td><td>-0.1</td></tr>\n",
       "\t<tr><th scope=row>CHR_ALCOHOL_DRIV_DEATH</th><td>-0.1054</td><td>-0.2016</td><td>-0.0064</td><td>70000</td><td> 43.4</td><td>  78.1</td><td>-0.1</td></tr>\n",
       "\t<tr><th scope=row>ACS_PCT_GRANDP_NO_RESPS</th><td>-0.0892</td><td>-0.2385</td><td> 0.0569</td><td>70000</td><td> 43.4</td><td> 203.3</td><td> 0.9</td></tr>\n",
       "\t<tr><th scope=row>AHRF_HPSA_MENTAL</th><td>-0.0844</td><td>-0.1374</td><td>-0.0313</td><td>70000</td><td> 43.4</td><td> 513.9</td><td> 0.0</td></tr>\n",
       "\t<tr><th scope=row>ACS_PCT_VA_LABOR_FORCE</th><td>-0.0647</td><td>-0.2384</td><td> 0.1074</td><td>70000</td><td> 43.4</td><td> 368.2</td><td> 0.0</td></tr>\n",
       "\t<tr><th scope=row>closest_station_index</th><td> 0.0619</td><td>-0.1686</td><td> 0.2681</td><td>70000</td><td> 43.4</td><td> 129.0</td><td> 1.0</td></tr>\n",
       "\t<tr><th scope=row>ACS_PCT_VA_DISABLE</th><td>-0.0585</td><td>-0.2329</td><td> 0.1087</td><td>70000</td><td> 43.4</td><td> 519.0</td><td>-1.5</td></tr>\n",
       "\t<tr><th scope=row>ACS_PCT_FEMALE</th><td>-0.0439</td><td>-1.1986</td><td> 1.1657</td><td>70000</td><td> 43.4</td><td> 170.4</td><td>-1.9</td></tr>\n",
       "\t<tr><th scope=row>visibility</th><td>-0.0299</td><td>-0.1217</td><td> 0.0653</td><td>70000</td><td> 43.4</td><td> 276.6</td><td>-2.0</td></tr>\n",
       "\t<tr><th scope=row>ACS_PCT_ART</th><td> 0.0237</td><td>-1.1337</td><td> 1.0256</td><td>70000</td><td> 43.4</td><td>  80.2</td><td> 1.4</td></tr>\n",
       "\t<tr><th scope=row>ACS_PCT_GRANDP_RESPS_NO_P</th><td> 0.0203</td><td>-0.1372</td><td> 0.1696</td><td>70000</td><td> 43.4</td><td> 261.3</td><td> 1.7</td></tr>\n",
       "\t<tr><th scope=row>distance_centroid</th><td> 0.0023</td><td> 0.0006</td><td> 0.0041</td><td>70000</td><td> 43.4</td><td>  85.7</td><td> 2.0</td></tr>\n",
       "\t<tr><th scope=row>duration_mins_centroid</th><td> 0.0021</td><td> 0.0004</td><td> 0.0039</td><td>70000</td><td> 43.4</td><td>  83.6</td><td>-0.5</td></tr>\n",
       "\t<tr><th scope=row>ACS_PCT_GRANDP_RESPS</th><td> 0.0018</td><td>-0.1528</td><td> 0.1550</td><td>70000</td><td> 43.4</td><td> 145.0</td><td> 0.9</td></tr>\n",
       "\t<tr><th scope=row>duration_mins_mp_VAMC</th><td>-0.0009</td><td>-0.0015</td><td>-0.0004</td><td>70000</td><td> 43.4</td><td>  96.8</td><td>-0.2</td></tr>\n",
       "\t<tr><th scope=row>duration_mins_mp_mental</th><td> 0.0004</td><td>-0.0001</td><td> 0.0011</td><td>70000</td><td> 43.4</td><td>  97.3</td><td>-0.3</td></tr>\n",
       "\t<tr><th scope=row>ALAND</th><td> 0.0000</td><td> 0.0000</td><td> 0.0000</td><td>70000</td><td> 43.4</td><td>   0.0</td><td> Inf</td></tr>\n",
       "\t<tr><th scope=row>AWATER</th><td> 0.0000</td><td> 0.0000</td><td> 0.0000</td><td>70000</td><td> 43.4</td><td>   0.0</td><td>-Inf</td></tr>\n",
       "</tbody>\n",
       "</table>\n"
      ],
      "text/latex": [
       "A tibble: 102 × 7\n",
       "\\begin{tabular}{r|lllllll}\n",
       "  & Mean & 2.5\\% & 97.5\\% & n.sample & \\% accept & n.effective & Geweke.diag\\\\\n",
       "  & <dbl> & <dbl> & <dbl> & <dbl> & <dbl> & <dbl> & <dbl>\\\\\n",
       "\\hline\n",
       "\t(Intercept) & -9.5651 & -11.3382 & -8.0104 & 70000 & 43.4 &  73.0 &  0.4\\\\\n",
       "\tACS\\_PCT\\_1UP\\_PERS\\_1ROOM &  7.0484 &   2.6850 & 10.6888 & 70000 & 43.4 &  28.8 & -5.0\\\\\n",
       "\tACS\\_PCT\\_1UP\\_OWNER\\_1ROOM & -5.8832 &  -8.2126 & -2.0005 & 70000 & 43.4 &  12.5 &  2.1\\\\\n",
       "\tACS\\_TOTAL\\_HOUSEHOLD & -5.5717 &  -6.5588 & -4.2039 & 70000 & 43.4 &   3.8 & 10.6\\\\\n",
       "\tCHR\\_DENTISTS\\_NUM &  5.0255 &   3.7770 &  6.1722 & 70000 & 43.4 &   4.4 & -8.9\\\\\n",
       "\tACS\\_PCT\\_WHOLESALE &  4.7574 &   3.1270 &  6.2979 & 70000 & 43.4 & 423.2 &  1.6\\\\\n",
       "\tCCBP\\_RATE\\_CS\\_PER\\_1000 & -4.7565 &  -9.8555 & -0.4497 & 70000 & 43.4 &  31.8 & -0.9\\\\\n",
       "\tACS\\_PCT\\_UNINSURED &  4.4150 &   0.7697 &  7.8586 & 70000 & 43.4 &   5.8 &  3.6\\\\\n",
       "\tACS\\_PCT\\_PRIVATE\\_MDCR & -4.3516 &  -5.9855 & -2.6026 & 70000 & 43.4 & 245.6 &  1.0\\\\\n",
       "\tACS\\_PCT\\_AGE\\_0\\_17 &  4.1889 &   2.9191 &  5.4195 & 70000 & 43.4 & 120.0 & -1.2\\\\\n",
       "\tACS\\_PCT\\_AGE\\_65UP &  3.7873 &   2.4103 &  5.3214 & 70000 & 43.4 &  42.9 &  0.0\\\\\n",
       "\tACS\\_PCT\\_UNINSURED64 & -3.4424 &  -6.2834 & -0.4913 & 70000 & 43.4 &   7.5 & -3.3\\\\\n",
       "\tACS\\_PCT\\_AGE\\_0\\_4 & -3.3320 &  -5.7496 & -0.9121 & 70000 & 43.4 & 215.7 & -0.8\\\\\n",
       "\tACS\\_PCT\\_NATURE &  3.2884 &   2.2443 &  4.1333 & 70000 & 43.4 &  44.3 &  1.9\\\\\n",
       "\tACS\\_PCT\\_ADMIN &  3.1146 &   1.9698 &  4.2105 & 70000 & 43.4 & 120.5 &  2.2\\\\\n",
       "\tACS\\_PCT\\_TRICARE\\_VA64 &  3.0484 &  -4.5416 & 11.5707 & 70000 & 43.4 &   6.4 & -3.3\\\\\n",
       "\tACS\\_PCT\\_VA & -2.9510 &  -4.2395 & -1.5238 & 70000 & 43.4 & 109.3 &  2.2\\\\\n",
       "\tACS\\_PCT\\_COMMT\\_29MIN & -2.8309 &  -4.0421 & -1.5973 & 70000 & 43.4 &  10.7 & -6.0\\\\\n",
       "\tACS\\_PCT\\_TRANSPORT &  2.7531 &   1.4638 &  3.8648 & 70000 & 43.4 & 201.5 &  3.5\\\\\n",
       "\tCHR\\_MENTAL\\_DR\\_RATE & -2.7326 &  -4.1263 & -1.2407 & 70000 & 43.4 & 282.7 &  1.5\\\\\n",
       "\tACS\\_PCT\\_PUBLIC\\_OTHER &  2.6232 &  -1.6816 &  7.1562 & 70000 & 43.4 & 398.4 & -1.1\\\\\n",
       "\tACS\\_PCT\\_WALK\\_2WORK &  2.5265 &   1.3649 &  3.6842 & 70000 & 43.4 & 130.9 &  7.6\\\\\n",
       "\tACS\\_PCT\\_1UP\\_RENT\\_1ROOM & -2.2877 &  -3.4966 & -0.9836 & 70000 & 43.4 &  81.7 &  7.9\\\\\n",
       "\tACS\\_PCT\\_TRICARE\\_VA & -2.2432 & -12.2088 &  6.1969 & 70000 & 43.4 &   5.8 &  3.1\\\\\n",
       "\tACS\\_PCT\\_CONSTRUCT &  1.7771 &   0.5473 &  2.8376 & 70000 & 43.4 & 173.4 &  2.2\\\\\n",
       "\tACS\\_PCT\\_OTH\\_EURP & -1.7702 &  -2.6893 & -0.8062 & 70000 & 43.4 & 302.8 & -1.7\\\\\n",
       "\tACS\\_PCT\\_PRIVATE\\_SELF &  1.7209 &   0.9284 &  2.5207 & 70000 & 43.4 & 211.6 &  0.1\\\\\n",
       "\tACS\\_PCT\\_MULT\\_RACE & -1.5312 &  -2.6660 & -0.4075 & 70000 & 43.4 & 366.2 &  1.1\\\\\n",
       "\tACS\\_PCT\\_CTZ\\_US\\_BORN &  1.5209 &   0.3275 &  3.1801 & 70000 & 43.4 &  14.7 &  0.4\\\\\n",
       "\tACS\\_PCT\\_GRP\\_QRT &  1.4603 &   0.6908 &  2.1821 & 70000 & 43.4 & 179.0 & -2.3\\\\\n",
       "\t⋮ & ⋮ & ⋮ & ⋮ & ⋮ & ⋮ & ⋮ & ⋮\\\\\n",
       "\tACS\\_PCT\\_MOBILE\\_HOME &  0.2467 & -0.0494 &  0.5288 & 70000 &  43.4 &  215.6 & -0.2\\\\\n",
       "\tMP\\_ELIGIBLES & -0.2316 & -0.6527 &  0.0093 & 70000 &  43.4 &    6.0 & -6.5\\\\\n",
       "\tACS\\_HH\\_SIZE & -0.2256 & -0.6831 &  0.0886 & 70000 &  43.4 &   12.1 &  1.1\\\\\n",
       "\tACS\\_PCT\\_RENTER\\_65UP & -0.2146 & -0.5768 &  0.1398 & 70000 &  43.4 &  415.1 & -0.9\\\\\n",
       "\tACS\\_PCT\\_10UNITS & -0.2004 & -0.8182 &  0.3753 & 70000 &  43.4 &   71.2 &  2.8\\\\\n",
       "\ttau2 &  0.1674 &  0.1601 &  0.1750 & 70000 & 100.0 & 6099.4 & -3.9\\\\\n",
       "\tACS\\_PCT\\_ASSOCIATE\\_DGR & -0.1646 & -0.6815 &  0.3226 & 70000 &  43.4 &  248.2 & -1.6\\\\\n",
       "\tMP\\_PERCPEN & -0.1631 & -0.3420 &  0.0211 & 70000 &  43.4 &  222.8 & -0.5\\\\\n",
       "\tACS\\_PCT\\_GULFWAR\\_2001 &  0.1534 & -0.1567 &  0.4515 & 70000 &  43.4 &  349.2 & -0.2\\\\\n",
       "\tACS\\_PCT\\_INC137 &  0.1463 & -0.2764 &  0.5501 & 70000 &  43.4 &    7.7 & -0.7\\\\\n",
       "\tACS\\_PCT\\_TAXICAB\\_2WORK &  0.1362 & -1.4433 &  1.6606 & 70000 &  43.4 &  370.3 &  6.3\\\\\n",
       "\tACS\\_MEDIAN\\_RENT &  0.1299 & -0.0346 &  0.2837 & 70000 &  43.4 &  279.7 & -2.3\\\\\n",
       "\tmean\\_temp &  0.1270 & -0.1204 &  0.3612 & 70000 &  43.4 &  163.5 & -0.1\\\\\n",
       "\tCHR\\_ALCOHOL\\_DRIV\\_DEATH & -0.1054 & -0.2016 & -0.0064 & 70000 &  43.4 &   78.1 & -0.1\\\\\n",
       "\tACS\\_PCT\\_GRANDP\\_NO\\_RESPS & -0.0892 & -0.2385 &  0.0569 & 70000 &  43.4 &  203.3 &  0.9\\\\\n",
       "\tAHRF\\_HPSA\\_MENTAL & -0.0844 & -0.1374 & -0.0313 & 70000 &  43.4 &  513.9 &  0.0\\\\\n",
       "\tACS\\_PCT\\_VA\\_LABOR\\_FORCE & -0.0647 & -0.2384 &  0.1074 & 70000 &  43.4 &  368.2 &  0.0\\\\\n",
       "\tclosest\\_station\\_index &  0.0619 & -0.1686 &  0.2681 & 70000 &  43.4 &  129.0 &  1.0\\\\\n",
       "\tACS\\_PCT\\_VA\\_DISABLE & -0.0585 & -0.2329 &  0.1087 & 70000 &  43.4 &  519.0 & -1.5\\\\\n",
       "\tACS\\_PCT\\_FEMALE & -0.0439 & -1.1986 &  1.1657 & 70000 &  43.4 &  170.4 & -1.9\\\\\n",
       "\tvisibility & -0.0299 & -0.1217 &  0.0653 & 70000 &  43.4 &  276.6 & -2.0\\\\\n",
       "\tACS\\_PCT\\_ART &  0.0237 & -1.1337 &  1.0256 & 70000 &  43.4 &   80.2 &  1.4\\\\\n",
       "\tACS\\_PCT\\_GRANDP\\_RESPS\\_NO\\_P &  0.0203 & -0.1372 &  0.1696 & 70000 &  43.4 &  261.3 &  1.7\\\\\n",
       "\tdistance\\_centroid &  0.0023 &  0.0006 &  0.0041 & 70000 &  43.4 &   85.7 &  2.0\\\\\n",
       "\tduration\\_mins\\_centroid &  0.0021 &  0.0004 &  0.0039 & 70000 &  43.4 &   83.6 & -0.5\\\\\n",
       "\tACS\\_PCT\\_GRANDP\\_RESPS &  0.0018 & -0.1528 &  0.1550 & 70000 &  43.4 &  145.0 &  0.9\\\\\n",
       "\tduration\\_mins\\_mp\\_VAMC & -0.0009 & -0.0015 & -0.0004 & 70000 &  43.4 &   96.8 & -0.2\\\\\n",
       "\tduration\\_mins\\_mp\\_mental &  0.0004 & -0.0001 &  0.0011 & 70000 &  43.4 &   97.3 & -0.3\\\\\n",
       "\tALAND &  0.0000 &  0.0000 &  0.0000 & 70000 &  43.4 &    0.0 &  Inf\\\\\n",
       "\tAWATER &  0.0000 &  0.0000 &  0.0000 & 70000 &  43.4 &    0.0 & -Inf\\\\\n",
       "\\end{tabular}\n"
      ],
      "text/markdown": [
       "\n",
       "A tibble: 102 × 7\n",
       "\n",
       "| <!--/--> | Mean &lt;dbl&gt; | 2.5% &lt;dbl&gt; | 97.5% &lt;dbl&gt; | n.sample &lt;dbl&gt; | % accept &lt;dbl&gt; | n.effective &lt;dbl&gt; | Geweke.diag &lt;dbl&gt; |\n",
       "|---|---|---|---|---|---|---|---|\n",
       "| (Intercept) | -9.5651 | -11.3382 | -8.0104 | 70000 | 43.4 |  73.0 |  0.4 |\n",
       "| ACS_PCT_1UP_PERS_1ROOM |  7.0484 |   2.6850 | 10.6888 | 70000 | 43.4 |  28.8 | -5.0 |\n",
       "| ACS_PCT_1UP_OWNER_1ROOM | -5.8832 |  -8.2126 | -2.0005 | 70000 | 43.4 |  12.5 |  2.1 |\n",
       "| ACS_TOTAL_HOUSEHOLD | -5.5717 |  -6.5588 | -4.2039 | 70000 | 43.4 |   3.8 | 10.6 |\n",
       "| CHR_DENTISTS_NUM |  5.0255 |   3.7770 |  6.1722 | 70000 | 43.4 |   4.4 | -8.9 |\n",
       "| ACS_PCT_WHOLESALE |  4.7574 |   3.1270 |  6.2979 | 70000 | 43.4 | 423.2 |  1.6 |\n",
       "| CCBP_RATE_CS_PER_1000 | -4.7565 |  -9.8555 | -0.4497 | 70000 | 43.4 |  31.8 | -0.9 |\n",
       "| ACS_PCT_UNINSURED |  4.4150 |   0.7697 |  7.8586 | 70000 | 43.4 |   5.8 |  3.6 |\n",
       "| ACS_PCT_PRIVATE_MDCR | -4.3516 |  -5.9855 | -2.6026 | 70000 | 43.4 | 245.6 |  1.0 |\n",
       "| ACS_PCT_AGE_0_17 |  4.1889 |   2.9191 |  5.4195 | 70000 | 43.4 | 120.0 | -1.2 |\n",
       "| ACS_PCT_AGE_65UP |  3.7873 |   2.4103 |  5.3214 | 70000 | 43.4 |  42.9 |  0.0 |\n",
       "| ACS_PCT_UNINSURED64 | -3.4424 |  -6.2834 | -0.4913 | 70000 | 43.4 |   7.5 | -3.3 |\n",
       "| ACS_PCT_AGE_0_4 | -3.3320 |  -5.7496 | -0.9121 | 70000 | 43.4 | 215.7 | -0.8 |\n",
       "| ACS_PCT_NATURE |  3.2884 |   2.2443 |  4.1333 | 70000 | 43.4 |  44.3 |  1.9 |\n",
       "| ACS_PCT_ADMIN |  3.1146 |   1.9698 |  4.2105 | 70000 | 43.4 | 120.5 |  2.2 |\n",
       "| ACS_PCT_TRICARE_VA64 |  3.0484 |  -4.5416 | 11.5707 | 70000 | 43.4 |   6.4 | -3.3 |\n",
       "| ACS_PCT_VA | -2.9510 |  -4.2395 | -1.5238 | 70000 | 43.4 | 109.3 |  2.2 |\n",
       "| ACS_PCT_COMMT_29MIN | -2.8309 |  -4.0421 | -1.5973 | 70000 | 43.4 |  10.7 | -6.0 |\n",
       "| ACS_PCT_TRANSPORT |  2.7531 |   1.4638 |  3.8648 | 70000 | 43.4 | 201.5 |  3.5 |\n",
       "| CHR_MENTAL_DR_RATE | -2.7326 |  -4.1263 | -1.2407 | 70000 | 43.4 | 282.7 |  1.5 |\n",
       "| ACS_PCT_PUBLIC_OTHER |  2.6232 |  -1.6816 |  7.1562 | 70000 | 43.4 | 398.4 | -1.1 |\n",
       "| ACS_PCT_WALK_2WORK |  2.5265 |   1.3649 |  3.6842 | 70000 | 43.4 | 130.9 |  7.6 |\n",
       "| ACS_PCT_1UP_RENT_1ROOM | -2.2877 |  -3.4966 | -0.9836 | 70000 | 43.4 |  81.7 |  7.9 |\n",
       "| ACS_PCT_TRICARE_VA | -2.2432 | -12.2088 |  6.1969 | 70000 | 43.4 |   5.8 |  3.1 |\n",
       "| ACS_PCT_CONSTRUCT |  1.7771 |   0.5473 |  2.8376 | 70000 | 43.4 | 173.4 |  2.2 |\n",
       "| ACS_PCT_OTH_EURP | -1.7702 |  -2.6893 | -0.8062 | 70000 | 43.4 | 302.8 | -1.7 |\n",
       "| ACS_PCT_PRIVATE_SELF |  1.7209 |   0.9284 |  2.5207 | 70000 | 43.4 | 211.6 |  0.1 |\n",
       "| ACS_PCT_MULT_RACE | -1.5312 |  -2.6660 | -0.4075 | 70000 | 43.4 | 366.2 |  1.1 |\n",
       "| ACS_PCT_CTZ_US_BORN |  1.5209 |   0.3275 |  3.1801 | 70000 | 43.4 |  14.7 |  0.4 |\n",
       "| ACS_PCT_GRP_QRT |  1.4603 |   0.6908 |  2.1821 | 70000 | 43.4 | 179.0 | -2.3 |\n",
       "| ⋮ | ⋮ | ⋮ | ⋮ | ⋮ | ⋮ | ⋮ | ⋮ |\n",
       "| ACS_PCT_MOBILE_HOME |  0.2467 | -0.0494 |  0.5288 | 70000 |  43.4 |  215.6 | -0.2 |\n",
       "| MP_ELIGIBLES | -0.2316 | -0.6527 |  0.0093 | 70000 |  43.4 |    6.0 | -6.5 |\n",
       "| ACS_HH_SIZE | -0.2256 | -0.6831 |  0.0886 | 70000 |  43.4 |   12.1 |  1.1 |\n",
       "| ACS_PCT_RENTER_65UP | -0.2146 | -0.5768 |  0.1398 | 70000 |  43.4 |  415.1 | -0.9 |\n",
       "| ACS_PCT_10UNITS | -0.2004 | -0.8182 |  0.3753 | 70000 |  43.4 |   71.2 |  2.8 |\n",
       "| tau2 |  0.1674 |  0.1601 |  0.1750 | 70000 | 100.0 | 6099.4 | -3.9 |\n",
       "| ACS_PCT_ASSOCIATE_DGR | -0.1646 | -0.6815 |  0.3226 | 70000 |  43.4 |  248.2 | -1.6 |\n",
       "| MP_PERCPEN | -0.1631 | -0.3420 |  0.0211 | 70000 |  43.4 |  222.8 | -0.5 |\n",
       "| ACS_PCT_GULFWAR_2001 |  0.1534 | -0.1567 |  0.4515 | 70000 |  43.4 |  349.2 | -0.2 |\n",
       "| ACS_PCT_INC137 |  0.1463 | -0.2764 |  0.5501 | 70000 |  43.4 |    7.7 | -0.7 |\n",
       "| ACS_PCT_TAXICAB_2WORK |  0.1362 | -1.4433 |  1.6606 | 70000 |  43.4 |  370.3 |  6.3 |\n",
       "| ACS_MEDIAN_RENT |  0.1299 | -0.0346 |  0.2837 | 70000 |  43.4 |  279.7 | -2.3 |\n",
       "| mean_temp |  0.1270 | -0.1204 |  0.3612 | 70000 |  43.4 |  163.5 | -0.1 |\n",
       "| CHR_ALCOHOL_DRIV_DEATH | -0.1054 | -0.2016 | -0.0064 | 70000 |  43.4 |   78.1 | -0.1 |\n",
       "| ACS_PCT_GRANDP_NO_RESPS | -0.0892 | -0.2385 |  0.0569 | 70000 |  43.4 |  203.3 |  0.9 |\n",
       "| AHRF_HPSA_MENTAL | -0.0844 | -0.1374 | -0.0313 | 70000 |  43.4 |  513.9 |  0.0 |\n",
       "| ACS_PCT_VA_LABOR_FORCE | -0.0647 | -0.2384 |  0.1074 | 70000 |  43.4 |  368.2 |  0.0 |\n",
       "| closest_station_index |  0.0619 | -0.1686 |  0.2681 | 70000 |  43.4 |  129.0 |  1.0 |\n",
       "| ACS_PCT_VA_DISABLE | -0.0585 | -0.2329 |  0.1087 | 70000 |  43.4 |  519.0 | -1.5 |\n",
       "| ACS_PCT_FEMALE | -0.0439 | -1.1986 |  1.1657 | 70000 |  43.4 |  170.4 | -1.9 |\n",
       "| visibility | -0.0299 | -0.1217 |  0.0653 | 70000 |  43.4 |  276.6 | -2.0 |\n",
       "| ACS_PCT_ART |  0.0237 | -1.1337 |  1.0256 | 70000 |  43.4 |   80.2 |  1.4 |\n",
       "| ACS_PCT_GRANDP_RESPS_NO_P |  0.0203 | -0.1372 |  0.1696 | 70000 |  43.4 |  261.3 |  1.7 |\n",
       "| distance_centroid |  0.0023 |  0.0006 |  0.0041 | 70000 |  43.4 |   85.7 |  2.0 |\n",
       "| duration_mins_centroid |  0.0021 |  0.0004 |  0.0039 | 70000 |  43.4 |   83.6 | -0.5 |\n",
       "| ACS_PCT_GRANDP_RESPS |  0.0018 | -0.1528 |  0.1550 | 70000 |  43.4 |  145.0 |  0.9 |\n",
       "| duration_mins_mp_VAMC | -0.0009 | -0.0015 | -0.0004 | 70000 |  43.4 |   96.8 | -0.2 |\n",
       "| duration_mins_mp_mental |  0.0004 | -0.0001 |  0.0011 | 70000 |  43.4 |   97.3 | -0.3 |\n",
       "| ALAND |  0.0000 |  0.0000 |  0.0000 | 70000 |  43.4 |    0.0 |  Inf |\n",
       "| AWATER |  0.0000 |  0.0000 |  0.0000 | 70000 |  43.4 |    0.0 | -Inf |\n",
       "\n"
      ],
      "text/plain": [
       "    Mean    2.5%     97.5%   n.sample % accept n.effective Geweke.diag\n",
       "1   -9.5651 -11.3382 -8.0104 70000    43.4      73.0        0.4       \n",
       "2    7.0484   2.6850 10.6888 70000    43.4      28.8       -5.0       \n",
       "3   -5.8832  -8.2126 -2.0005 70000    43.4      12.5        2.1       \n",
       "4   -5.5717  -6.5588 -4.2039 70000    43.4       3.8       10.6       \n",
       "5    5.0255   3.7770  6.1722 70000    43.4       4.4       -8.9       \n",
       "6    4.7574   3.1270  6.2979 70000    43.4     423.2        1.6       \n",
       "7   -4.7565  -9.8555 -0.4497 70000    43.4      31.8       -0.9       \n",
       "8    4.4150   0.7697  7.8586 70000    43.4       5.8        3.6       \n",
       "9   -4.3516  -5.9855 -2.6026 70000    43.4     245.6        1.0       \n",
       "10   4.1889   2.9191  5.4195 70000    43.4     120.0       -1.2       \n",
       "11   3.7873   2.4103  5.3214 70000    43.4      42.9        0.0       \n",
       "12  -3.4424  -6.2834 -0.4913 70000    43.4       7.5       -3.3       \n",
       "13  -3.3320  -5.7496 -0.9121 70000    43.4     215.7       -0.8       \n",
       "14   3.2884   2.2443  4.1333 70000    43.4      44.3        1.9       \n",
       "15   3.1146   1.9698  4.2105 70000    43.4     120.5        2.2       \n",
       "16   3.0484  -4.5416 11.5707 70000    43.4       6.4       -3.3       \n",
       "17  -2.9510  -4.2395 -1.5238 70000    43.4     109.3        2.2       \n",
       "18  -2.8309  -4.0421 -1.5973 70000    43.4      10.7       -6.0       \n",
       "19   2.7531   1.4638  3.8648 70000    43.4     201.5        3.5       \n",
       "20  -2.7326  -4.1263 -1.2407 70000    43.4     282.7        1.5       \n",
       "21   2.6232  -1.6816  7.1562 70000    43.4     398.4       -1.1       \n",
       "22   2.5265   1.3649  3.6842 70000    43.4     130.9        7.6       \n",
       "23  -2.2877  -3.4966 -0.9836 70000    43.4      81.7        7.9       \n",
       "24  -2.2432 -12.2088  6.1969 70000    43.4       5.8        3.1       \n",
       "25   1.7771   0.5473  2.8376 70000    43.4     173.4        2.2       \n",
       "26  -1.7702  -2.6893 -0.8062 70000    43.4     302.8       -1.7       \n",
       "27   1.7209   0.9284  2.5207 70000    43.4     211.6        0.1       \n",
       "28  -1.5312  -2.6660 -0.4075 70000    43.4     366.2        1.1       \n",
       "29   1.5209   0.3275  3.1801 70000    43.4      14.7        0.4       \n",
       "30   1.4603   0.6908  2.1821 70000    43.4     179.0       -2.3       \n",
       "⋮   ⋮       ⋮        ⋮       ⋮        ⋮        ⋮           ⋮          \n",
       "73   0.2467 -0.0494   0.5288 70000     43.4     215.6      -0.2       \n",
       "74  -0.2316 -0.6527   0.0093 70000     43.4       6.0      -6.5       \n",
       "75  -0.2256 -0.6831   0.0886 70000     43.4      12.1       1.1       \n",
       "76  -0.2146 -0.5768   0.1398 70000     43.4     415.1      -0.9       \n",
       "77  -0.2004 -0.8182   0.3753 70000     43.4      71.2       2.8       \n",
       "78   0.1674  0.1601   0.1750 70000    100.0    6099.4      -3.9       \n",
       "79  -0.1646 -0.6815   0.3226 70000     43.4     248.2      -1.6       \n",
       "80  -0.1631 -0.3420   0.0211 70000     43.4     222.8      -0.5       \n",
       "81   0.1534 -0.1567   0.4515 70000     43.4     349.2      -0.2       \n",
       "82   0.1463 -0.2764   0.5501 70000     43.4       7.7      -0.7       \n",
       "83   0.1362 -1.4433   1.6606 70000     43.4     370.3       6.3       \n",
       "84   0.1299 -0.0346   0.2837 70000     43.4     279.7      -2.3       \n",
       "85   0.1270 -0.1204   0.3612 70000     43.4     163.5      -0.1       \n",
       "86  -0.1054 -0.2016  -0.0064 70000     43.4      78.1      -0.1       \n",
       "87  -0.0892 -0.2385   0.0569 70000     43.4     203.3       0.9       \n",
       "88  -0.0844 -0.1374  -0.0313 70000     43.4     513.9       0.0       \n",
       "89  -0.0647 -0.2384   0.1074 70000     43.4     368.2       0.0       \n",
       "90   0.0619 -0.1686   0.2681 70000     43.4     129.0       1.0       \n",
       "91  -0.0585 -0.2329   0.1087 70000     43.4     519.0      -1.5       \n",
       "92  -0.0439 -1.1986   1.1657 70000     43.4     170.4      -1.9       \n",
       "93  -0.0299 -0.1217   0.0653 70000     43.4     276.6      -2.0       \n",
       "94   0.0237 -1.1337   1.0256 70000     43.4      80.2       1.4       \n",
       "95   0.0203 -0.1372   0.1696 70000     43.4     261.3       1.7       \n",
       "96   0.0023  0.0006   0.0041 70000     43.4      85.7       2.0       \n",
       "97   0.0021  0.0004   0.0039 70000     43.4      83.6      -0.5       \n",
       "98   0.0018 -0.1528   0.1550 70000     43.4     145.0       0.9       \n",
       "99  -0.0009 -0.0015  -0.0004 70000     43.4      96.8      -0.2       \n",
       "100  0.0004 -0.0001   0.0011 70000     43.4      97.3      -0.3       \n",
       "101  0.0000  0.0000   0.0000 70000     43.4       0.0       Inf       \n",
       "102  0.0000  0.0000   0.0000 70000     43.4       0.0      -Inf       "
      ]
     },
     "metadata": {},
     "output_type": "display_data"
    }
   ],
   "source": [
    "fit1$summary %>%\n",
    "    as_tibble(rownames=NA) %>%\n",
    "    arrange(desc(abs(Mean)))"
   ]
  },
  {
   "cell_type": "markdown",
   "id": "3b23e91a-3131-40d0-814f-eb611b60a7a1",
   "metadata": {},
   "source": [
    "# Residuals Analysis"
   ]
  },
  {
   "cell_type": "code",
   "execution_count": 24,
   "id": "315fb68d-abd0-4efb-9186-f739e93af29f",
   "metadata": {},
   "outputs": [
    {
     "data": {
      "image/png": "[encoded data removed]",
      "text/plain": [
       "Plot with title “Series  fit1$residuals$response”"
      ]
     },
     "metadata": {
      "image/png": {
       "height": 420,
       "width": 420
      }
     },
     "output_type": "display_data"
    }
   ],
   "source": [
    "acf(fit1$residuals$response,type=\"correlation\",ylim=c(0,0.5))"
   ]
  },
  {
   "cell_type": "code",
   "execution_count": 28,
   "id": "639c1a14-d3ab-4e89-995e-252fff5635ab",
   "metadata": {},
   "outputs": [
    {
     "data": {
      "image/png": "[encoded data removed]",
      "text/plain": [
       "Plot with title “Series  fit1$residuals$response”"
      ]
     },
     "metadata": {
      "image/png": {
       "height": 420,
       "width": 420
      }
     },
     "output_type": "display_data"
    }
   ],
   "source": [
    "acf(fit1$residuals$response,type=\"partial\")"
   ]
  },
  {
   "cell_type": "code",
   "execution_count": 33,
   "id": "a938d537-7be4-469a-b031-954387c43b87",
   "metadata": {},
   "outputs": [
    {
     "data": {
      "image/png": "[encoded data removed]",
      "text/plain": [
       "plot without title"
      ]
     },
     "metadata": {
      "image/png": {
       "height": 420,
       "width": 420
      }
     },
     "output_type": "display_data"
    }
   ],
   "source": [
    "plot(fit1$fitted, fit1$residuals$response)\n",
    "# some residual correlation is still present - can try AR2"
   ]
  },
  {
   "cell_type": "markdown",
   "id": "b64b059a-7b81-46eb-81f0-62816a1a054c",
   "metadata": {},
   "source": [
    "# RMSE"
   ]
  },
  {
   "cell_type": "code",
   "execution_count": 27,
   "id": "b009c447-c7f9-41e6-8aa0-5d4c0b2dd8c0",
   "metadata": {},
   "outputs": [
    {
     "data": {
      "text/html": [
       "13.7014540686099"
      ],
      "text/latex": [
       "13.7014540686099"
      ],
      "text/markdown": [
       "13.7014540686099"
      ],
      "text/plain": [
       "[1] 13.70145"
      ]
     },
     "metadata": {},
     "output_type": "display_data"
    }
   ],
   "source": [
    "caret::RMSE(fitted_values,true_values)"
   ]
  },
  {
   "cell_type": "code",
   "execution_count": null,
   "id": "556e83ac-283c-4846-88ba-29f277634d0b",
   "metadata": {},
   "outputs": [],
   "source": []
  }
 ],
 "metadata": {
  "kernelspec": {
   "display_name": "R 4.1.3 (r-venv)",
   "language": "R",
   "name": "r-venv"
  },
  "language_info": {
   "codemirror_mode": "r",
   "file_extension": ".r",
   "mimetype": "text/x-r-source",
   "name": "R",
   "pygments_lexer": "r",
   "version": "4.1.3"
  }
 },
 "nbformat": 4,
 "nbformat_minor": 5
}
