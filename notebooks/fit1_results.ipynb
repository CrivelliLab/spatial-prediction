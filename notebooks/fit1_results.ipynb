{
 "cells": [
  {
   "cell_type": "markdown",
   "id": "bd6f4c7a-f7ed-4889-9e4f-e8708eb701bb",
   "metadata": {},
   "source": [
    "## Model 1 Fit Results"
   ]
  },
  {
   "cell_type": "code",
   "execution_count": 1,
   "id": "30e9bec6-422b-4dd8-b235-edb93878450f",
   "metadata": {},
   "outputs": [],
   "source": [
    "setwd(\"/global/u2/b/bbrusco/spatial-prediction\")"
   ]
  },
  {
   "cell_type": "code",
   "execution_count": 2,
   "id": "74e910e8-0f95-4293-82e8-ef9cc0d56b8a",
   "metadata": {},
   "outputs": [
    {
     "name": "stderr",
     "output_type": "stream",
     "text": [
      "Loading required package: MASS\n",
      "\n",
      "Loading required package: Rcpp\n",
      "\n",
      "Registered S3 method overwritten by 'GGally':\n",
      "  method from   \n",
      "  +.gg   ggplot2\n",
      "\n",
      "── \u001b[1mAttaching packages\u001b[22m ─────────────────────────────────────── tidyverse 1.3.2 ──\n",
      "\u001b[32m✔\u001b[39m \u001b[34mggplot2\u001b[39m 3.3.6     \u001b[32m✔\u001b[39m \u001b[34mpurrr  \u001b[39m 0.3.4\n",
      "\u001b[32m✔\u001b[39m \u001b[34mtibble \u001b[39m 3.1.8     \u001b[32m✔\u001b[39m \u001b[34mdplyr  \u001b[39m 1.0.9\n",
      "\u001b[32m✔\u001b[39m \u001b[34mtidyr  \u001b[39m 1.2.0     \u001b[32m✔\u001b[39m \u001b[34mstringr\u001b[39m 1.4.0\n",
      "\u001b[32m✔\u001b[39m \u001b[34mreadr  \u001b[39m 2.1.2     \u001b[32m✔\u001b[39m \u001b[34mforcats\u001b[39m 0.5.1\n",
      "── \u001b[1mConflicts\u001b[22m ────────────────────────────────────────── tidyverse_conflicts() ──\n",
      "\u001b[31m✖\u001b[39m \u001b[34mdplyr\u001b[39m::\u001b[32mfilter()\u001b[39m masks \u001b[34mstats\u001b[39m::filter()\n",
      "\u001b[31m✖\u001b[39m \u001b[34mdplyr\u001b[39m::\u001b[32mlag()\u001b[39m    masks \u001b[34mstats\u001b[39m::lag()\n",
      "\u001b[31m✖\u001b[39m \u001b[34mdplyr\u001b[39m::\u001b[32mselect()\u001b[39m masks \u001b[34mMASS\u001b[39m::select()\n"
     ]
    }
   ],
   "source": [
    "library(CARBayesST)\n",
    "library(tidyverse)"
   ]
  },
  {
   "cell_type": "code",
   "execution_count": 3,
   "id": "7d884dbb-c70f-4486-b121-335a4dbd22b3",
   "metadata": {},
   "outputs": [],
   "source": [
    "fit1 <- readRDS(\"outputs/model_results/model_2022-09-02.rds\")"
   ]
  },
  {
   "cell_type": "code",
   "execution_count": 10,
   "id": "29cf344f-2ae6-49fa-b718-0e3d0d0cd419",
   "metadata": {},
   "outputs": [
    {
     "name": "stderr",
     "output_type": "stream",
     "text": [
      "\u001b[1mRows: \u001b[22m\u001b[34m9089\u001b[39m \u001b[1mColumns: \u001b[22m\u001b[34m103\u001b[39m\n",
      "\u001b[36m──\u001b[39m \u001b[1mColumn specification\u001b[22m \u001b[36m────────────────────────────────────────────────────────\u001b[39m\n",
      "\u001b[1mDelimiter:\u001b[22m \",\"\n",
      "\u001b[31mchr\u001b[39m   (2): FIPSCODE, county\n",
      "\u001b[32mdbl\u001b[39m (101): deaths, ACS_PCT_GRP_QRT, ACS_PCT_PRIVATE_2, mean_temp, ACS_PCT_ME...\n",
      "\n",
      "\u001b[36mℹ\u001b[39m Use `spec()` to retrieve the full column specification for this data.\n",
      "\u001b[36mℹ\u001b[39m Specify the column types or set `show_col_types = FALSE` to quiet this message.\n",
      "Warning message:\n",
      "“PROJ: proj_identify: Open of /global/homes/b/bbrusco/.conda/envs/r-venv/share/proj failed (GDAL error 1)”\n",
      "\u001b[1m\u001b[22mJoining, by = \"FIPSCODE\"\n"
     ]
    }
   ],
   "source": [
    "#get fips to keep \n",
    "\n",
    "# Note: United States total includes 3,006 counties;\n",
    "## Loading dataset and geometries ###\n",
    "vars <- read_csv(\"data/processed/combined.csv\")\n",
    "# change this to the number of years that \n",
    "# you are considering in your dataset.\n",
    "NUMBER_OF_YEARS <- length(unique(vars$year))\n",
    "\n",
    "\n",
    "county <- sf::read_sf(\n",
    "    dsn = \"data/shapefile/cb_2020_us_tract_500k\",\n",
    "    layer = \"cb_2020_us_tract_500k\"\n",
    ")\n",
    "\n",
    "county <- county %>%\n",
    "    mutate(FIPSCODE = paste0(STATEFP, COUNTYFP)) %>% \n",
    "    arrange(FIPSCODE) %>%\n",
    "    distinct(FIPSCODE, .keep_all = TRUE)\n",
    "\n",
    "df <- county %>% inner_join(vars, on=FIPSCODE)\n",
    "\n",
    "df_nona <- df %>% na.omit(suicide_rate) %>%\n",
    "  group_by(FIPSCODE) %>% \n",
    "  mutate(name_count = n()) %>%\n",
    "  ungroup() %>% \n",
    "  filter(name_count == NUMBER_OF_YEARS) %>% \n",
    "  dplyr::select(-name_count) %>%\n",
    "  arrange(desc(year), FIPSCODE)\n",
    "\n",
    "fips_to_keep <- df_nona %>% \n",
    "    distinct(FIPSCODE) %>% \n",
    "    pull(FIPSCODE)\n"
   ]
  },
  {
   "cell_type": "code",
   "execution_count": 25,
   "id": "d445274e-fa1e-4bfb-b8d4-4730dc9d7b4a",
   "metadata": {},
   "outputs": [
    {
     "name": "stdout",
     "output_type": "stream",
     "text": [
      "List of 10\n",
      " $ summary.results    : num [1:102, 1:7] -9.565 0 0 1.46 0.777 ...\n",
      "  ..- attr(*, \"dimnames\")=List of 2\n",
      "  .. ..$ : chr [1:102] \"(Intercept)\" \"ALAND\" \"AWATER\" \"ACS_PCT_GRP_QRT\" ...\n",
      "  .. ..$ : chr [1:7] \"Mean\" \"2.5%\" \"97.5%\" \"n.sample\" ...\n",
      " $ samples            :List of 6\n",
      "  ..$ beta  : 'mcmc' num [1:70000, 1:99] -10.5 -10.5 -10.6 -10.7 -10.6 ...\n",
      "  .. ..- attr(*, \"mcpar\")= num [1:3] 1 70000 1\n",
      "  ..$ phi   : 'mcmc' num [1:70000, 1:9087] -0.147 -0.255 -0.258 -0.26 -0.477 ...\n",
      "  .. ..- attr(*, \"mcpar\")= num [1:3] 1 70000 1\n",
      "  ..$ rho   : 'mcmc' num [1:70000, 1:2] 0.499 0.495 0.515 0.512 0.497 ...\n",
      "  .. ..- attr(*, \"dimnames\")=List of 2\n",
      "  .. .. ..$ : NULL\n",
      "  .. .. ..$ : chr [1:2] \"rho.S\" \"rho.T\"\n",
      "  .. ..- attr(*, \"mcpar\")= num [1:3] 1 70000 1\n",
      "  ..$ tau2  : 'mcmc' num [1:70000, 1] 0.165 0.168 0.165 0.165 0.167 ...\n",
      "  .. ..- attr(*, \"mcpar\")= num [1:3] 1 70000 1\n",
      "  ..$ fitted: 'mcmc' num [1:70000, 1:9087] 13.04 11.65 11.49 11.41 9.21 ...\n",
      "  .. ..- attr(*, \"mcpar\")= num [1:3] 1 70000 1\n",
      "  ..$ Y     : 'mcmc' logi NA\n",
      "  .. ..- attr(*, \"mcpar\")= num [1:3] 1 1 1\n",
      " $ fitted.values      : num [1:9087] 12.8 46.5 15.6 42.9 13.7 ...\n",
      " $ residuals          :'data.frame':\t9087 obs. of  2 variables:\n",
      "  ..$ response: num [1:9087] -1.8 -2.51 -1.57 4.11 -3.75 ...\n",
      "  ..$ pearson : num [1:9087] -0.504 -0.368 -0.397 0.627 -1.011 ...\n",
      " $ modelfit           : Named num [1:6] 60479 6771 58926 3846 -31897 ...\n",
      "  ..- attr(*, \"names\")= chr [1:6] \"DIC\" \"p.d\" \"WAIC\" \"p.w\" ...\n",
      " $ accept             : Named num [1:4] 43.4 49.7 42.3 100\n",
      "  ..- attr(*, \"names\")= chr [1:4] \"beta\" \"phi\" \"rho.S\" \"rho.T\"\n",
      " $ localised.structure: NULL\n",
      " $ formula            :Class 'formula'  language deaths ~ offset(log(pop)) + ALAND + AWATER + ACS_PCT_GRP_QRT + ACS_PCT_PRIVATE_2 +      mean_temp + ACS_PCT_MEDIC| __truncated__ ...\n",
      "  .. ..- attr(*, \".Environment\")=<environment: R_GlobalEnv> \n",
      " $ model              : chr [1:2] \"Likelihood model - Poisson (log link function)\" \"\\nLatent structure model - Autoregressive order 1 CAR model\\n\"\n",
      " $ X                  : num [1:9087, 1:99] 1 1 1 1 1 1 1 1 1 1 ...\n",
      "  ..- attr(*, \"dimnames\")=List of 2\n",
      "  .. ..$ : chr [1:9087] \"1\" \"2\" \"3\" \"4\" ...\n",
      "  .. ..$ : chr [1:99] \"(Intercept)\" \"ALAND\" \"AWATER\" \"ACS_PCT_GRP_QRT\" ...\n",
      "  ..- attr(*, \"assign\")= int [1:99] 0 1 2 3 4 5 6 7 8 9 ...\n",
      " - attr(*, \"class\")= chr \"CARBayesST\"\n"
     ]
    }
   ],
   "source": [
    "str(fit1)"
   ]
  },
  {
   "cell_type": "code",
   "execution_count": 12,
   "id": "f1c8d38e-b8c6-4bde-b33c-d79cc07b3e85",
   "metadata": {},
   "outputs": [
    {
     "data": {
      "text/html": [
       "<table class=\"dataframe\">\n",
       "<caption>A matrix: 102 × 7 of type dbl</caption>\n",
       "<thead>\n",
       "\t<tr><th></th><th scope=col>Mean</th><th scope=col>2.5%</th><th scope=col>97.5%</th><th scope=col>n.sample</th><th scope=col>% accept</th><th scope=col>n.effective</th><th scope=col>Geweke.diag</th></tr>\n",
       "</thead>\n",
       "<tbody>\n",
       "\t<tr><th scope=row>(Intercept)</th><td>-9.5651</td><td>-11.3382</td><td>-8.0104</td><td>70000</td><td>43.4</td><td> 73.0</td><td> 0.4</td></tr>\n",
       "\t<tr><th scope=row>ALAND</th><td> 0.0000</td><td>  0.0000</td><td> 0.0000</td><td>70000</td><td>43.4</td><td>  0.0</td><td> Inf</td></tr>\n",
       "\t<tr><th scope=row>AWATER</th><td> 0.0000</td><td>  0.0000</td><td> 0.0000</td><td>70000</td><td>43.4</td><td>  0.0</td><td>-Inf</td></tr>\n",
       "\t<tr><th scope=row>ACS_PCT_GRP_QRT</th><td> 1.4603</td><td>  0.6908</td><td> 2.1821</td><td>70000</td><td>43.4</td><td>179.0</td><td>-2.3</td></tr>\n",
       "\t<tr><th scope=row>ACS_PCT_PRIVATE_2</th><td> 0.7768</td><td> -1.1633</td><td> 2.6331</td><td>70000</td><td>43.4</td><td>662.6</td><td>-0.7</td></tr>\n",
       "\t<tr><th scope=row>mean_temp</th><td> 0.1270</td><td> -0.1204</td><td> 0.3612</td><td>70000</td><td>43.4</td><td>163.5</td><td>-0.1</td></tr>\n",
       "\t<tr><th scope=row>ACS_PCT_MEDICARE_ONLY</th><td> 0.4798</td><td> -0.8665</td><td> 1.8631</td><td>70000</td><td>43.4</td><td>237.5</td><td> 0.8</td></tr>\n",
       "\t<tr><th scope=row>ACS_PCT_PRIVATE_SELF</th><td> 1.7209</td><td>  0.9284</td><td> 2.5207</td><td>70000</td><td>43.4</td><td>211.6</td><td> 0.1</td></tr>\n",
       "\t<tr><th scope=row>ACS_PCT_MOBILE_HOME</th><td> 0.2467</td><td> -0.0494</td><td> 0.5288</td><td>70000</td><td>43.4</td><td>215.6</td><td>-0.2</td></tr>\n",
       "\t<tr><th scope=row>NHC_DAILY_RES</th><td>-1.3728</td><td> -1.8542</td><td>-0.8949</td><td>70000</td><td>43.4</td><td> 53.3</td><td>-2.0</td></tr>\n",
       "\t<tr><th scope=row>ACS_PCT_NON_CITIZEN</th><td> 0.6221</td><td> -1.1401</td><td> 3.1203</td><td>70000</td><td>43.4</td><td> 26.9</td><td> 1.0</td></tr>\n",
       "\t<tr><th scope=row>closest_station_index</th><td> 0.0619</td><td> -0.1686</td><td> 0.2681</td><td>70000</td><td>43.4</td><td>129.0</td><td> 1.0</td></tr>\n",
       "\t<tr><th scope=row>ACS_PCT_TRICARE_VA</th><td>-2.2432</td><td>-12.2088</td><td> 6.1969</td><td>70000</td><td>43.4</td><td>  5.8</td><td> 3.1</td></tr>\n",
       "\t<tr><th scope=row>ACS_PCT_RETAIL</th><td>-1.1690</td><td> -2.3444</td><td>-0.1847</td><td>70000</td><td>43.4</td><td>171.1</td><td> 3.0</td></tr>\n",
       "\t<tr><th scope=row>ACS_PCT_VA_LABOR_FORCE</th><td>-0.0647</td><td> -0.2384</td><td> 0.1074</td><td>70000</td><td>43.4</td><td>368.2</td><td> 0.0</td></tr>\n",
       "\t<tr><th scope=row>ACS_PCT_INFORM</th><td> 0.4655</td><td> -1.8637</td><td> 2.7234</td><td>70000</td><td>43.4</td><td>291.9</td><td> 2.8</td></tr>\n",
       "\t<tr><th scope=row>ACS_PCT_COMMT_29MIN</th><td>-2.8309</td><td> -4.0421</td><td>-1.5973</td><td>70000</td><td>43.4</td><td> 10.7</td><td>-6.0</td></tr>\n",
       "\t<tr><th scope=row>ACS_PCT_PRIVATE_MDCR</th><td>-4.3516</td><td> -5.9855</td><td>-2.6026</td><td>70000</td><td>43.4</td><td>245.6</td><td> 1.0</td></tr>\n",
       "\t<tr><th scope=row>ACS_PCT_COMMT_59MIN</th><td> 0.4292</td><td> -0.7412</td><td> 1.5914</td><td>70000</td><td>43.4</td><td>  9.8</td><td>-5.5</td></tr>\n",
       "\t<tr><th scope=row>AHRF_HPSA_MENTAL</th><td>-0.0844</td><td> -0.1374</td><td>-0.0313</td><td>70000</td><td>43.4</td><td>513.9</td><td> 0.0</td></tr>\n",
       "\t<tr><th scope=row>ACS_PCT_DIVORCE_SEPARAT</th><td>-1.1139</td><td> -1.9478</td><td>-0.2528</td><td>70000</td><td>43.4</td><td>350.9</td><td>-2.5</td></tr>\n",
       "\t<tr><th scope=row>ACS_PCT_TRANSPORT</th><td> 2.7531</td><td>  1.4638</td><td> 3.8648</td><td>70000</td><td>43.4</td><td>201.5</td><td> 3.5</td></tr>\n",
       "\t<tr><th scope=row>ACS_PCT_EDUC</th><td> 0.6628</td><td> -0.3367</td><td> 1.6160</td><td>70000</td><td>43.4</td><td> 85.0</td><td> 3.4</td></tr>\n",
       "\t<tr><th scope=row>ACS_PCT_UNINSURED64</th><td>-3.4424</td><td> -6.2834</td><td>-0.4913</td><td>70000</td><td>43.4</td><td>  7.5</td><td>-3.3</td></tr>\n",
       "\t<tr><th scope=row>CCBP_RATE_FSR_PER_1000</th><td>-0.4071</td><td> -4.2055</td><td> 3.1497</td><td>70000</td><td>43.4</td><td>412.4</td><td> 1.9</td></tr>\n",
       "\t<tr><th scope=row>distance_centroid</th><td> 0.0023</td><td>  0.0006</td><td> 0.0041</td><td>70000</td><td>43.4</td><td> 85.7</td><td> 2.0</td></tr>\n",
       "\t<tr><th scope=row>ACS_PCT_GRANDP_NO_RESPS</th><td>-0.0892</td><td> -0.2385</td><td> 0.0569</td><td>70000</td><td>43.4</td><td>203.3</td><td> 0.9</td></tr>\n",
       "\t<tr><th scope=row>PM2.5</th><td>-0.8033</td><td> -0.9787</td><td>-0.6287</td><td>70000</td><td>43.4</td><td>286.3</td><td> 0.9</td></tr>\n",
       "\t<tr><th scope=row>ACS_PCT_ASSOCIATE_DGR</th><td>-0.1646</td><td> -0.6815</td><td> 0.3226</td><td>70000</td><td>43.4</td><td>248.2</td><td>-1.6</td></tr>\n",
       "\t<tr><th scope=row>ACS_PCT_ADMIN</th><td> 3.1146</td><td>  1.9698</td><td> 4.2105</td><td>70000</td><td>43.4</td><td>120.5</td><td> 2.2</td></tr>\n",
       "\t<tr><th scope=row>⋮</th><td>⋮</td><td>⋮</td><td>⋮</td><td>⋮</td><td>⋮</td><td>⋮</td><td>⋮</td></tr>\n",
       "\t<tr><th scope=row>duration_mins_centroid</th><td> 0.0021</td><td> 0.0004</td><td> 0.0039</td><td>70000</td><td> 43.4</td><td>   83.6</td><td>-0.5</td></tr>\n",
       "\t<tr><th scope=row>ACS_PCT_MANUFACT</th><td> 0.2611</td><td>-0.7287</td><td> 1.1594</td><td>70000</td><td> 43.4</td><td>   39.8</td><td> 1.9</td></tr>\n",
       "\t<tr><th scope=row>ACS_PCT_GULFWAR_1990</th><td> 0.5374</td><td> 0.2417</td><td> 0.8328</td><td>70000</td><td> 43.4</td><td>  402.9</td><td>-2.7</td></tr>\n",
       "\t<tr><th scope=row>ACS_PCT_HH_PUB_ASSIST</th><td> 0.6945</td><td>-0.5223</td><td> 1.9263</td><td>70000</td><td> 43.4</td><td>  324.1</td><td> 0.0</td></tr>\n",
       "\t<tr><th scope=row>ACS_PCT_FEMALE</th><td>-0.0439</td><td>-1.1986</td><td> 1.1657</td><td>70000</td><td> 43.4</td><td>  170.4</td><td>-1.9</td></tr>\n",
       "\t<tr><th scope=row>wind_speed</th><td> 0.3539</td><td> 0.2020</td><td> 0.5046</td><td>70000</td><td> 43.4</td><td>  262.2</td><td>-0.6</td></tr>\n",
       "\t<tr><th scope=row>ACS_PCT_RENT_COST_30PCT</th><td>-0.6991</td><td>-0.9281</td><td>-0.4729</td><td>70000</td><td> 43.4</td><td>  261.1</td><td> 1.2</td></tr>\n",
       "\t<tr><th scope=row>ACS_PCT_CTZ_US_BORN</th><td> 1.5209</td><td> 0.3275</td><td> 3.1801</td><td>70000</td><td> 43.4</td><td>   14.7</td><td> 0.4</td></tr>\n",
       "\t<tr><th scope=row>ACS_PCT_COMMT_60MINUP</th><td>-0.4870</td><td>-1.6781</td><td> 0.8436</td><td>70000</td><td> 43.4</td><td>   22.0</td><td>-6.9</td></tr>\n",
       "\t<tr><th scope=row>ACS_PCT_RENTER_HH_CHILD</th><td> 0.3288</td><td> 0.0326</td><td> 0.6201</td><td>70000</td><td> 43.4</td><td>  213.0</td><td> 0.8</td></tr>\n",
       "\t<tr><th scope=row>NHC_BEDCOUNT</th><td>-0.6835</td><td>-1.2089</td><td>-0.1198</td><td>70000</td><td> 43.4</td><td>   38.9</td><td> 1.7</td></tr>\n",
       "\t<tr><th scope=row>NHC_LIC_STAFF</th><td>-1.3643</td><td>-1.5832</td><td>-1.1407</td><td>70000</td><td> 43.4</td><td>  444.1</td><td>-1.1</td></tr>\n",
       "\t<tr><th scope=row>ACS_PCT_10UNITS</th><td>-0.2004</td><td>-0.8182</td><td> 0.3753</td><td>70000</td><td> 43.4</td><td>   71.2</td><td> 2.8</td></tr>\n",
       "\t<tr><th scope=row>ACS_PCT_OTHER_INS</th><td>-1.1613</td><td>-2.4058</td><td> 0.2854</td><td>70000</td><td> 43.4</td><td>   31.8</td><td> 0.3</td></tr>\n",
       "\t<tr><th scope=row>ACS_PCT_1UP_OWNER_1ROOM</th><td>-5.8832</td><td>-8.2126</td><td>-2.0005</td><td>70000</td><td> 43.4</td><td>   12.5</td><td> 2.1</td></tr>\n",
       "\t<tr><th scope=row>ACS_PCT_OTHER</th><td>-0.3123</td><td>-1.7949</td><td> 1.2085</td><td>70000</td><td> 43.4</td><td>   49.7</td><td> 1.7</td></tr>\n",
       "\t<tr><th scope=row>MP_ELIGIBLES</th><td>-0.2316</td><td>-0.6527</td><td> 0.0093</td><td>70000</td><td> 43.4</td><td>    6.0</td><td>-6.5</td></tr>\n",
       "\t<tr><th scope=row>CHR_ALCOHOL_DRIV_DEATH</th><td>-0.1054</td><td>-0.2016</td><td>-0.0064</td><td>70000</td><td> 43.4</td><td>   78.1</td><td>-0.1</td></tr>\n",
       "\t<tr><th scope=row>visibility</th><td>-0.0299</td><td>-0.1217</td><td> 0.0653</td><td>70000</td><td> 43.4</td><td>  276.6</td><td>-2.0</td></tr>\n",
       "\t<tr><th scope=row>ACS_MEDIAN_RENT</th><td> 0.1299</td><td>-0.0346</td><td> 0.2837</td><td>70000</td><td> 43.4</td><td>  279.7</td><td>-2.3</td></tr>\n",
       "\t<tr><th scope=row>ACS_PCT_DRIVE_2WORK</th><td> 0.4002</td><td>-0.4288</td><td> 1.2328</td><td>70000</td><td> 43.4</td><td>   33.6</td><td> 4.6</td></tr>\n",
       "\t<tr><th scope=row>ACS_PCT_WORK_NO_CAR</th><td> 1.2393</td><td> 0.0616</td><td> 2.4879</td><td>70000</td><td> 43.4</td><td>   54.7</td><td>-2.0</td></tr>\n",
       "\t<tr><th scope=row>ACS_PCT_GRANDP_RESPS</th><td> 0.0018</td><td>-0.1528</td><td> 0.1550</td><td>70000</td><td> 43.4</td><td>  145.0</td><td> 0.9</td></tr>\n",
       "\t<tr><th scope=row>ACS_PCT_ENGLISH</th><td> 0.3164</td><td>-0.1117</td><td> 0.6964</td><td>70000</td><td> 43.4</td><td>   69.6</td><td>-0.6</td></tr>\n",
       "\t<tr><th scope=row>ACS_PCT_CONSTRUCT</th><td> 1.7771</td><td> 0.5473</td><td> 2.8376</td><td>70000</td><td> 43.4</td><td>  173.4</td><td> 2.2</td></tr>\n",
       "\t<tr><th scope=row>ACS_PCT_HH_1PERS</th><td> 0.5249</td><td>-0.1005</td><td> 1.1040</td><td>70000</td><td> 43.4</td><td>  198.6</td><td> 0.3</td></tr>\n",
       "\t<tr><th scope=row>ACS_PCT_AGE_0_4</th><td>-3.3320</td><td>-5.7496</td><td>-0.9121</td><td>70000</td><td> 43.4</td><td>  215.7</td><td>-0.8</td></tr>\n",
       "\t<tr><th scope=row>tau2</th><td> 0.1674</td><td> 0.1601</td><td> 0.1750</td><td>70000</td><td>100.0</td><td> 6099.4</td><td>-3.9</td></tr>\n",
       "\t<tr><th scope=row>rho.S</th><td> 0.4945</td><td> 0.4599</td><td> 0.5277</td><td>70000</td><td> 42.3</td><td> 2855.5</td><td> 5.4</td></tr>\n",
       "\t<tr><th scope=row>rho.T</th><td> 0.8906</td><td> 0.8685</td><td> 0.9126</td><td>70000</td><td>100.0</td><td>10249.9</td><td> 0.6</td></tr>\n",
       "</tbody>\n",
       "</table>\n"
      ],
      "text/latex": [
       "A matrix: 102 × 7 of type dbl\n",
       "\\begin{tabular}{r|lllllll}\n",
       "  & Mean & 2.5\\% & 97.5\\% & n.sample & \\% accept & n.effective & Geweke.diag\\\\\n",
       "\\hline\n",
       "\t(Intercept) & -9.5651 & -11.3382 & -8.0104 & 70000 & 43.4 &  73.0 &  0.4\\\\\n",
       "\tALAND &  0.0000 &   0.0000 &  0.0000 & 70000 & 43.4 &   0.0 &  Inf\\\\\n",
       "\tAWATER &  0.0000 &   0.0000 &  0.0000 & 70000 & 43.4 &   0.0 & -Inf\\\\\n",
       "\tACS\\_PCT\\_GRP\\_QRT &  1.4603 &   0.6908 &  2.1821 & 70000 & 43.4 & 179.0 & -2.3\\\\\n",
       "\tACS\\_PCT\\_PRIVATE\\_2 &  0.7768 &  -1.1633 &  2.6331 & 70000 & 43.4 & 662.6 & -0.7\\\\\n",
       "\tmean\\_temp &  0.1270 &  -0.1204 &  0.3612 & 70000 & 43.4 & 163.5 & -0.1\\\\\n",
       "\tACS\\_PCT\\_MEDICARE\\_ONLY &  0.4798 &  -0.8665 &  1.8631 & 70000 & 43.4 & 237.5 &  0.8\\\\\n",
       "\tACS\\_PCT\\_PRIVATE\\_SELF &  1.7209 &   0.9284 &  2.5207 & 70000 & 43.4 & 211.6 &  0.1\\\\\n",
       "\tACS\\_PCT\\_MOBILE\\_HOME &  0.2467 &  -0.0494 &  0.5288 & 70000 & 43.4 & 215.6 & -0.2\\\\\n",
       "\tNHC\\_DAILY\\_RES & -1.3728 &  -1.8542 & -0.8949 & 70000 & 43.4 &  53.3 & -2.0\\\\\n",
       "\tACS\\_PCT\\_NON\\_CITIZEN &  0.6221 &  -1.1401 &  3.1203 & 70000 & 43.4 &  26.9 &  1.0\\\\\n",
       "\tclosest\\_station\\_index &  0.0619 &  -0.1686 &  0.2681 & 70000 & 43.4 & 129.0 &  1.0\\\\\n",
       "\tACS\\_PCT\\_TRICARE\\_VA & -2.2432 & -12.2088 &  6.1969 & 70000 & 43.4 &   5.8 &  3.1\\\\\n",
       "\tACS\\_PCT\\_RETAIL & -1.1690 &  -2.3444 & -0.1847 & 70000 & 43.4 & 171.1 &  3.0\\\\\n",
       "\tACS\\_PCT\\_VA\\_LABOR\\_FORCE & -0.0647 &  -0.2384 &  0.1074 & 70000 & 43.4 & 368.2 &  0.0\\\\\n",
       "\tACS\\_PCT\\_INFORM &  0.4655 &  -1.8637 &  2.7234 & 70000 & 43.4 & 291.9 &  2.8\\\\\n",
       "\tACS\\_PCT\\_COMMT\\_29MIN & -2.8309 &  -4.0421 & -1.5973 & 70000 & 43.4 &  10.7 & -6.0\\\\\n",
       "\tACS\\_PCT\\_PRIVATE\\_MDCR & -4.3516 &  -5.9855 & -2.6026 & 70000 & 43.4 & 245.6 &  1.0\\\\\n",
       "\tACS\\_PCT\\_COMMT\\_59MIN &  0.4292 &  -0.7412 &  1.5914 & 70000 & 43.4 &   9.8 & -5.5\\\\\n",
       "\tAHRF\\_HPSA\\_MENTAL & -0.0844 &  -0.1374 & -0.0313 & 70000 & 43.4 & 513.9 &  0.0\\\\\n",
       "\tACS\\_PCT\\_DIVORCE\\_SEPARAT & -1.1139 &  -1.9478 & -0.2528 & 70000 & 43.4 & 350.9 & -2.5\\\\\n",
       "\tACS\\_PCT\\_TRANSPORT &  2.7531 &   1.4638 &  3.8648 & 70000 & 43.4 & 201.5 &  3.5\\\\\n",
       "\tACS\\_PCT\\_EDUC &  0.6628 &  -0.3367 &  1.6160 & 70000 & 43.4 &  85.0 &  3.4\\\\\n",
       "\tACS\\_PCT\\_UNINSURED64 & -3.4424 &  -6.2834 & -0.4913 & 70000 & 43.4 &   7.5 & -3.3\\\\\n",
       "\tCCBP\\_RATE\\_FSR\\_PER\\_1000 & -0.4071 &  -4.2055 &  3.1497 & 70000 & 43.4 & 412.4 &  1.9\\\\\n",
       "\tdistance\\_centroid &  0.0023 &   0.0006 &  0.0041 & 70000 & 43.4 &  85.7 &  2.0\\\\\n",
       "\tACS\\_PCT\\_GRANDP\\_NO\\_RESPS & -0.0892 &  -0.2385 &  0.0569 & 70000 & 43.4 & 203.3 &  0.9\\\\\n",
       "\tPM2.5 & -0.8033 &  -0.9787 & -0.6287 & 70000 & 43.4 & 286.3 &  0.9\\\\\n",
       "\tACS\\_PCT\\_ASSOCIATE\\_DGR & -0.1646 &  -0.6815 &  0.3226 & 70000 & 43.4 & 248.2 & -1.6\\\\\n",
       "\tACS\\_PCT\\_ADMIN &  3.1146 &   1.9698 &  4.2105 & 70000 & 43.4 & 120.5 &  2.2\\\\\n",
       "\t⋮ & ⋮ & ⋮ & ⋮ & ⋮ & ⋮ & ⋮ & ⋮\\\\\n",
       "\tduration\\_mins\\_centroid &  0.0021 &  0.0004 &  0.0039 & 70000 &  43.4 &    83.6 & -0.5\\\\\n",
       "\tACS\\_PCT\\_MANUFACT &  0.2611 & -0.7287 &  1.1594 & 70000 &  43.4 &    39.8 &  1.9\\\\\n",
       "\tACS\\_PCT\\_GULFWAR\\_1990 &  0.5374 &  0.2417 &  0.8328 & 70000 &  43.4 &   402.9 & -2.7\\\\\n",
       "\tACS\\_PCT\\_HH\\_PUB\\_ASSIST &  0.6945 & -0.5223 &  1.9263 & 70000 &  43.4 &   324.1 &  0.0\\\\\n",
       "\tACS\\_PCT\\_FEMALE & -0.0439 & -1.1986 &  1.1657 & 70000 &  43.4 &   170.4 & -1.9\\\\\n",
       "\twind\\_speed &  0.3539 &  0.2020 &  0.5046 & 70000 &  43.4 &   262.2 & -0.6\\\\\n",
       "\tACS\\_PCT\\_RENT\\_COST\\_30PCT & -0.6991 & -0.9281 & -0.4729 & 70000 &  43.4 &   261.1 &  1.2\\\\\n",
       "\tACS\\_PCT\\_CTZ\\_US\\_BORN &  1.5209 &  0.3275 &  3.1801 & 70000 &  43.4 &    14.7 &  0.4\\\\\n",
       "\tACS\\_PCT\\_COMMT\\_60MINUP & -0.4870 & -1.6781 &  0.8436 & 70000 &  43.4 &    22.0 & -6.9\\\\\n",
       "\tACS\\_PCT\\_RENTER\\_HH\\_CHILD &  0.3288 &  0.0326 &  0.6201 & 70000 &  43.4 &   213.0 &  0.8\\\\\n",
       "\tNHC\\_BEDCOUNT & -0.6835 & -1.2089 & -0.1198 & 70000 &  43.4 &    38.9 &  1.7\\\\\n",
       "\tNHC\\_LIC\\_STAFF & -1.3643 & -1.5832 & -1.1407 & 70000 &  43.4 &   444.1 & -1.1\\\\\n",
       "\tACS\\_PCT\\_10UNITS & -0.2004 & -0.8182 &  0.3753 & 70000 &  43.4 &    71.2 &  2.8\\\\\n",
       "\tACS\\_PCT\\_OTHER\\_INS & -1.1613 & -2.4058 &  0.2854 & 70000 &  43.4 &    31.8 &  0.3\\\\\n",
       "\tACS\\_PCT\\_1UP\\_OWNER\\_1ROOM & -5.8832 & -8.2126 & -2.0005 & 70000 &  43.4 &    12.5 &  2.1\\\\\n",
       "\tACS\\_PCT\\_OTHER & -0.3123 & -1.7949 &  1.2085 & 70000 &  43.4 &    49.7 &  1.7\\\\\n",
       "\tMP\\_ELIGIBLES & -0.2316 & -0.6527 &  0.0093 & 70000 &  43.4 &     6.0 & -6.5\\\\\n",
       "\tCHR\\_ALCOHOL\\_DRIV\\_DEATH & -0.1054 & -0.2016 & -0.0064 & 70000 &  43.4 &    78.1 & -0.1\\\\\n",
       "\tvisibility & -0.0299 & -0.1217 &  0.0653 & 70000 &  43.4 &   276.6 & -2.0\\\\\n",
       "\tACS\\_MEDIAN\\_RENT &  0.1299 & -0.0346 &  0.2837 & 70000 &  43.4 &   279.7 & -2.3\\\\\n",
       "\tACS\\_PCT\\_DRIVE\\_2WORK &  0.4002 & -0.4288 &  1.2328 & 70000 &  43.4 &    33.6 &  4.6\\\\\n",
       "\tACS\\_PCT\\_WORK\\_NO\\_CAR &  1.2393 &  0.0616 &  2.4879 & 70000 &  43.4 &    54.7 & -2.0\\\\\n",
       "\tACS\\_PCT\\_GRANDP\\_RESPS &  0.0018 & -0.1528 &  0.1550 & 70000 &  43.4 &   145.0 &  0.9\\\\\n",
       "\tACS\\_PCT\\_ENGLISH &  0.3164 & -0.1117 &  0.6964 & 70000 &  43.4 &    69.6 & -0.6\\\\\n",
       "\tACS\\_PCT\\_CONSTRUCT &  1.7771 &  0.5473 &  2.8376 & 70000 &  43.4 &   173.4 &  2.2\\\\\n",
       "\tACS\\_PCT\\_HH\\_1PERS &  0.5249 & -0.1005 &  1.1040 & 70000 &  43.4 &   198.6 &  0.3\\\\\n",
       "\tACS\\_PCT\\_AGE\\_0\\_4 & -3.3320 & -5.7496 & -0.9121 & 70000 &  43.4 &   215.7 & -0.8\\\\\n",
       "\ttau2 &  0.1674 &  0.1601 &  0.1750 & 70000 & 100.0 &  6099.4 & -3.9\\\\\n",
       "\trho.S &  0.4945 &  0.4599 &  0.5277 & 70000 &  42.3 &  2855.5 &  5.4\\\\\n",
       "\trho.T &  0.8906 &  0.8685 &  0.9126 & 70000 & 100.0 & 10249.9 &  0.6\\\\\n",
       "\\end{tabular}\n"
      ],
      "text/markdown": [
       "\n",
       "A matrix: 102 × 7 of type dbl\n",
       "\n",
       "| <!--/--> | Mean | 2.5% | 97.5% | n.sample | % accept | n.effective | Geweke.diag |\n",
       "|---|---|---|---|---|---|---|---|\n",
       "| (Intercept) | -9.5651 | -11.3382 | -8.0104 | 70000 | 43.4 |  73.0 |  0.4 |\n",
       "| ALAND |  0.0000 |   0.0000 |  0.0000 | 70000 | 43.4 |   0.0 |  Inf |\n",
       "| AWATER |  0.0000 |   0.0000 |  0.0000 | 70000 | 43.4 |   0.0 | -Inf |\n",
       "| ACS_PCT_GRP_QRT |  1.4603 |   0.6908 |  2.1821 | 70000 | 43.4 | 179.0 | -2.3 |\n",
       "| ACS_PCT_PRIVATE_2 |  0.7768 |  -1.1633 |  2.6331 | 70000 | 43.4 | 662.6 | -0.7 |\n",
       "| mean_temp |  0.1270 |  -0.1204 |  0.3612 | 70000 | 43.4 | 163.5 | -0.1 |\n",
       "| ACS_PCT_MEDICARE_ONLY |  0.4798 |  -0.8665 |  1.8631 | 70000 | 43.4 | 237.5 |  0.8 |\n",
       "| ACS_PCT_PRIVATE_SELF |  1.7209 |   0.9284 |  2.5207 | 70000 | 43.4 | 211.6 |  0.1 |\n",
       "| ACS_PCT_MOBILE_HOME |  0.2467 |  -0.0494 |  0.5288 | 70000 | 43.4 | 215.6 | -0.2 |\n",
       "| NHC_DAILY_RES | -1.3728 |  -1.8542 | -0.8949 | 70000 | 43.4 |  53.3 | -2.0 |\n",
       "| ACS_PCT_NON_CITIZEN |  0.6221 |  -1.1401 |  3.1203 | 70000 | 43.4 |  26.9 |  1.0 |\n",
       "| closest_station_index |  0.0619 |  -0.1686 |  0.2681 | 70000 | 43.4 | 129.0 |  1.0 |\n",
       "| ACS_PCT_TRICARE_VA | -2.2432 | -12.2088 |  6.1969 | 70000 | 43.4 |   5.8 |  3.1 |\n",
       "| ACS_PCT_RETAIL | -1.1690 |  -2.3444 | -0.1847 | 70000 | 43.4 | 171.1 |  3.0 |\n",
       "| ACS_PCT_VA_LABOR_FORCE | -0.0647 |  -0.2384 |  0.1074 | 70000 | 43.4 | 368.2 |  0.0 |\n",
       "| ACS_PCT_INFORM |  0.4655 |  -1.8637 |  2.7234 | 70000 | 43.4 | 291.9 |  2.8 |\n",
       "| ACS_PCT_COMMT_29MIN | -2.8309 |  -4.0421 | -1.5973 | 70000 | 43.4 |  10.7 | -6.0 |\n",
       "| ACS_PCT_PRIVATE_MDCR | -4.3516 |  -5.9855 | -2.6026 | 70000 | 43.4 | 245.6 |  1.0 |\n",
       "| ACS_PCT_COMMT_59MIN |  0.4292 |  -0.7412 |  1.5914 | 70000 | 43.4 |   9.8 | -5.5 |\n",
       "| AHRF_HPSA_MENTAL | -0.0844 |  -0.1374 | -0.0313 | 70000 | 43.4 | 513.9 |  0.0 |\n",
       "| ACS_PCT_DIVORCE_SEPARAT | -1.1139 |  -1.9478 | -0.2528 | 70000 | 43.4 | 350.9 | -2.5 |\n",
       "| ACS_PCT_TRANSPORT |  2.7531 |   1.4638 |  3.8648 | 70000 | 43.4 | 201.5 |  3.5 |\n",
       "| ACS_PCT_EDUC |  0.6628 |  -0.3367 |  1.6160 | 70000 | 43.4 |  85.0 |  3.4 |\n",
       "| ACS_PCT_UNINSURED64 | -3.4424 |  -6.2834 | -0.4913 | 70000 | 43.4 |   7.5 | -3.3 |\n",
       "| CCBP_RATE_FSR_PER_1000 | -0.4071 |  -4.2055 |  3.1497 | 70000 | 43.4 | 412.4 |  1.9 |\n",
       "| distance_centroid |  0.0023 |   0.0006 |  0.0041 | 70000 | 43.4 |  85.7 |  2.0 |\n",
       "| ACS_PCT_GRANDP_NO_RESPS | -0.0892 |  -0.2385 |  0.0569 | 70000 | 43.4 | 203.3 |  0.9 |\n",
       "| PM2.5 | -0.8033 |  -0.9787 | -0.6287 | 70000 | 43.4 | 286.3 |  0.9 |\n",
       "| ACS_PCT_ASSOCIATE_DGR | -0.1646 |  -0.6815 |  0.3226 | 70000 | 43.4 | 248.2 | -1.6 |\n",
       "| ACS_PCT_ADMIN |  3.1146 |   1.9698 |  4.2105 | 70000 | 43.4 | 120.5 |  2.2 |\n",
       "| ⋮ | ⋮ | ⋮ | ⋮ | ⋮ | ⋮ | ⋮ | ⋮ |\n",
       "| duration_mins_centroid |  0.0021 |  0.0004 |  0.0039 | 70000 |  43.4 |    83.6 | -0.5 |\n",
       "| ACS_PCT_MANUFACT |  0.2611 | -0.7287 |  1.1594 | 70000 |  43.4 |    39.8 |  1.9 |\n",
       "| ACS_PCT_GULFWAR_1990 |  0.5374 |  0.2417 |  0.8328 | 70000 |  43.4 |   402.9 | -2.7 |\n",
       "| ACS_PCT_HH_PUB_ASSIST |  0.6945 | -0.5223 |  1.9263 | 70000 |  43.4 |   324.1 |  0.0 |\n",
       "| ACS_PCT_FEMALE | -0.0439 | -1.1986 |  1.1657 | 70000 |  43.4 |   170.4 | -1.9 |\n",
       "| wind_speed |  0.3539 |  0.2020 |  0.5046 | 70000 |  43.4 |   262.2 | -0.6 |\n",
       "| ACS_PCT_RENT_COST_30PCT | -0.6991 | -0.9281 | -0.4729 | 70000 |  43.4 |   261.1 |  1.2 |\n",
       "| ACS_PCT_CTZ_US_BORN |  1.5209 |  0.3275 |  3.1801 | 70000 |  43.4 |    14.7 |  0.4 |\n",
       "| ACS_PCT_COMMT_60MINUP | -0.4870 | -1.6781 |  0.8436 | 70000 |  43.4 |    22.0 | -6.9 |\n",
       "| ACS_PCT_RENTER_HH_CHILD |  0.3288 |  0.0326 |  0.6201 | 70000 |  43.4 |   213.0 |  0.8 |\n",
       "| NHC_BEDCOUNT | -0.6835 | -1.2089 | -0.1198 | 70000 |  43.4 |    38.9 |  1.7 |\n",
       "| NHC_LIC_STAFF | -1.3643 | -1.5832 | -1.1407 | 70000 |  43.4 |   444.1 | -1.1 |\n",
       "| ACS_PCT_10UNITS | -0.2004 | -0.8182 |  0.3753 | 70000 |  43.4 |    71.2 |  2.8 |\n",
       "| ACS_PCT_OTHER_INS | -1.1613 | -2.4058 |  0.2854 | 70000 |  43.4 |    31.8 |  0.3 |\n",
       "| ACS_PCT_1UP_OWNER_1ROOM | -5.8832 | -8.2126 | -2.0005 | 70000 |  43.4 |    12.5 |  2.1 |\n",
       "| ACS_PCT_OTHER | -0.3123 | -1.7949 |  1.2085 | 70000 |  43.4 |    49.7 |  1.7 |\n",
       "| MP_ELIGIBLES | -0.2316 | -0.6527 |  0.0093 | 70000 |  43.4 |     6.0 | -6.5 |\n",
       "| CHR_ALCOHOL_DRIV_DEATH | -0.1054 | -0.2016 | -0.0064 | 70000 |  43.4 |    78.1 | -0.1 |\n",
       "| visibility | -0.0299 | -0.1217 |  0.0653 | 70000 |  43.4 |   276.6 | -2.0 |\n",
       "| ACS_MEDIAN_RENT |  0.1299 | -0.0346 |  0.2837 | 70000 |  43.4 |   279.7 | -2.3 |\n",
       "| ACS_PCT_DRIVE_2WORK |  0.4002 | -0.4288 |  1.2328 | 70000 |  43.4 |    33.6 |  4.6 |\n",
       "| ACS_PCT_WORK_NO_CAR |  1.2393 |  0.0616 |  2.4879 | 70000 |  43.4 |    54.7 | -2.0 |\n",
       "| ACS_PCT_GRANDP_RESPS |  0.0018 | -0.1528 |  0.1550 | 70000 |  43.4 |   145.0 |  0.9 |\n",
       "| ACS_PCT_ENGLISH |  0.3164 | -0.1117 |  0.6964 | 70000 |  43.4 |    69.6 | -0.6 |\n",
       "| ACS_PCT_CONSTRUCT |  1.7771 |  0.5473 |  2.8376 | 70000 |  43.4 |   173.4 |  2.2 |\n",
       "| ACS_PCT_HH_1PERS |  0.5249 | -0.1005 |  1.1040 | 70000 |  43.4 |   198.6 |  0.3 |\n",
       "| ACS_PCT_AGE_0_4 | -3.3320 | -5.7496 | -0.9121 | 70000 |  43.4 |   215.7 | -0.8 |\n",
       "| tau2 |  0.1674 |  0.1601 |  0.1750 | 70000 | 100.0 |  6099.4 | -3.9 |\n",
       "| rho.S |  0.4945 |  0.4599 |  0.5277 | 70000 |  42.3 |  2855.5 |  5.4 |\n",
       "| rho.T |  0.8906 |  0.8685 |  0.9126 | 70000 | 100.0 | 10249.9 |  0.6 |\n",
       "\n"
      ],
      "text/plain": [
       "                        Mean    2.5%     97.5%   n.sample % accept n.effective\n",
       "(Intercept)             -9.5651 -11.3382 -8.0104 70000    43.4      73.0      \n",
       "ALAND                    0.0000   0.0000  0.0000 70000    43.4       0.0      \n",
       "AWATER                   0.0000   0.0000  0.0000 70000    43.4       0.0      \n",
       "ACS_PCT_GRP_QRT          1.4603   0.6908  2.1821 70000    43.4     179.0      \n",
       "ACS_PCT_PRIVATE_2        0.7768  -1.1633  2.6331 70000    43.4     662.6      \n",
       "mean_temp                0.1270  -0.1204  0.3612 70000    43.4     163.5      \n",
       "ACS_PCT_MEDICARE_ONLY    0.4798  -0.8665  1.8631 70000    43.4     237.5      \n",
       "ACS_PCT_PRIVATE_SELF     1.7209   0.9284  2.5207 70000    43.4     211.6      \n",
       "ACS_PCT_MOBILE_HOME      0.2467  -0.0494  0.5288 70000    43.4     215.6      \n",
       "NHC_DAILY_RES           -1.3728  -1.8542 -0.8949 70000    43.4      53.3      \n",
       "ACS_PCT_NON_CITIZEN      0.6221  -1.1401  3.1203 70000    43.4      26.9      \n",
       "closest_station_index    0.0619  -0.1686  0.2681 70000    43.4     129.0      \n",
       "ACS_PCT_TRICARE_VA      -2.2432 -12.2088  6.1969 70000    43.4       5.8      \n",
       "ACS_PCT_RETAIL          -1.1690  -2.3444 -0.1847 70000    43.4     171.1      \n",
       "ACS_PCT_VA_LABOR_FORCE  -0.0647  -0.2384  0.1074 70000    43.4     368.2      \n",
       "ACS_PCT_INFORM           0.4655  -1.8637  2.7234 70000    43.4     291.9      \n",
       "ACS_PCT_COMMT_29MIN     -2.8309  -4.0421 -1.5973 70000    43.4      10.7      \n",
       "ACS_PCT_PRIVATE_MDCR    -4.3516  -5.9855 -2.6026 70000    43.4     245.6      \n",
       "ACS_PCT_COMMT_59MIN      0.4292  -0.7412  1.5914 70000    43.4       9.8      \n",
       "AHRF_HPSA_MENTAL        -0.0844  -0.1374 -0.0313 70000    43.4     513.9      \n",
       "ACS_PCT_DIVORCE_SEPARAT -1.1139  -1.9478 -0.2528 70000    43.4     350.9      \n",
       "ACS_PCT_TRANSPORT        2.7531   1.4638  3.8648 70000    43.4     201.5      \n",
       "ACS_PCT_EDUC             0.6628  -0.3367  1.6160 70000    43.4      85.0      \n",
       "ACS_PCT_UNINSURED64     -3.4424  -6.2834 -0.4913 70000    43.4       7.5      \n",
       "CCBP_RATE_FSR_PER_1000  -0.4071  -4.2055  3.1497 70000    43.4     412.4      \n",
       "distance_centroid        0.0023   0.0006  0.0041 70000    43.4      85.7      \n",
       "ACS_PCT_GRANDP_NO_RESPS -0.0892  -0.2385  0.0569 70000    43.4     203.3      \n",
       "PM2.5                   -0.8033  -0.9787 -0.6287 70000    43.4     286.3      \n",
       "ACS_PCT_ASSOCIATE_DGR   -0.1646  -0.6815  0.3226 70000    43.4     248.2      \n",
       "ACS_PCT_ADMIN            3.1146   1.9698  4.2105 70000    43.4     120.5      \n",
       "⋮                       ⋮       ⋮        ⋮       ⋮        ⋮        ⋮          \n",
       "duration_mins_centroid   0.0021  0.0004   0.0039 70000     43.4       83.6    \n",
       "ACS_PCT_MANUFACT         0.2611 -0.7287   1.1594 70000     43.4       39.8    \n",
       "ACS_PCT_GULFWAR_1990     0.5374  0.2417   0.8328 70000     43.4      402.9    \n",
       "ACS_PCT_HH_PUB_ASSIST    0.6945 -0.5223   1.9263 70000     43.4      324.1    \n",
       "ACS_PCT_FEMALE          -0.0439 -1.1986   1.1657 70000     43.4      170.4    \n",
       "wind_speed               0.3539  0.2020   0.5046 70000     43.4      262.2    \n",
       "ACS_PCT_RENT_COST_30PCT -0.6991 -0.9281  -0.4729 70000     43.4      261.1    \n",
       "ACS_PCT_CTZ_US_BORN      1.5209  0.3275   3.1801 70000     43.4       14.7    \n",
       "ACS_PCT_COMMT_60MINUP   -0.4870 -1.6781   0.8436 70000     43.4       22.0    \n",
       "ACS_PCT_RENTER_HH_CHILD  0.3288  0.0326   0.6201 70000     43.4      213.0    \n",
       "NHC_BEDCOUNT            -0.6835 -1.2089  -0.1198 70000     43.4       38.9    \n",
       "NHC_LIC_STAFF           -1.3643 -1.5832  -1.1407 70000     43.4      444.1    \n",
       "ACS_PCT_10UNITS         -0.2004 -0.8182   0.3753 70000     43.4       71.2    \n",
       "ACS_PCT_OTHER_INS       -1.1613 -2.4058   0.2854 70000     43.4       31.8    \n",
       "ACS_PCT_1UP_OWNER_1ROOM -5.8832 -8.2126  -2.0005 70000     43.4       12.5    \n",
       "ACS_PCT_OTHER           -0.3123 -1.7949   1.2085 70000     43.4       49.7    \n",
       "MP_ELIGIBLES            -0.2316 -0.6527   0.0093 70000     43.4        6.0    \n",
       "CHR_ALCOHOL_DRIV_DEATH  -0.1054 -0.2016  -0.0064 70000     43.4       78.1    \n",
       "visibility              -0.0299 -0.1217   0.0653 70000     43.4      276.6    \n",
       "ACS_MEDIAN_RENT          0.1299 -0.0346   0.2837 70000     43.4      279.7    \n",
       "ACS_PCT_DRIVE_2WORK      0.4002 -0.4288   1.2328 70000     43.4       33.6    \n",
       "ACS_PCT_WORK_NO_CAR      1.2393  0.0616   2.4879 70000     43.4       54.7    \n",
       "ACS_PCT_GRANDP_RESPS     0.0018 -0.1528   0.1550 70000     43.4      145.0    \n",
       "ACS_PCT_ENGLISH          0.3164 -0.1117   0.6964 70000     43.4       69.6    \n",
       "ACS_PCT_CONSTRUCT        1.7771  0.5473   2.8376 70000     43.4      173.4    \n",
       "ACS_PCT_HH_1PERS         0.5249 -0.1005   1.1040 70000     43.4      198.6    \n",
       "ACS_PCT_AGE_0_4         -3.3320 -5.7496  -0.9121 70000     43.4      215.7    \n",
       "tau2                     0.1674  0.1601   0.1750 70000    100.0     6099.4    \n",
       "rho.S                    0.4945  0.4599   0.5277 70000     42.3     2855.5    \n",
       "rho.T                    0.8906  0.8685   0.9126 70000    100.0    10249.9    \n",
       "                        Geweke.diag\n",
       "(Intercept)              0.4       \n",
       "ALAND                    Inf       \n",
       "AWATER                  -Inf       \n",
       "ACS_PCT_GRP_QRT         -2.3       \n",
       "ACS_PCT_PRIVATE_2       -0.7       \n",
       "mean_temp               -0.1       \n",
       "ACS_PCT_MEDICARE_ONLY    0.8       \n",
       "ACS_PCT_PRIVATE_SELF     0.1       \n",
       "ACS_PCT_MOBILE_HOME     -0.2       \n",
       "NHC_DAILY_RES           -2.0       \n",
       "ACS_PCT_NON_CITIZEN      1.0       \n",
       "closest_station_index    1.0       \n",
       "ACS_PCT_TRICARE_VA       3.1       \n",
       "ACS_PCT_RETAIL           3.0       \n",
       "ACS_PCT_VA_LABOR_FORCE   0.0       \n",
       "ACS_PCT_INFORM           2.8       \n",
       "ACS_PCT_COMMT_29MIN     -6.0       \n",
       "ACS_PCT_PRIVATE_MDCR     1.0       \n",
       "ACS_PCT_COMMT_59MIN     -5.5       \n",
       "AHRF_HPSA_MENTAL         0.0       \n",
       "ACS_PCT_DIVORCE_SEPARAT -2.5       \n",
       "ACS_PCT_TRANSPORT        3.5       \n",
       "ACS_PCT_EDUC             3.4       \n",
       "ACS_PCT_UNINSURED64     -3.3       \n",
       "CCBP_RATE_FSR_PER_1000   1.9       \n",
       "distance_centroid        2.0       \n",
       "ACS_PCT_GRANDP_NO_RESPS  0.9       \n",
       "PM2.5                    0.9       \n",
       "ACS_PCT_ASSOCIATE_DGR   -1.6       \n",
       "ACS_PCT_ADMIN            2.2       \n",
       "⋮                       ⋮          \n",
       "duration_mins_centroid  -0.5       \n",
       "ACS_PCT_MANUFACT         1.9       \n",
       "ACS_PCT_GULFWAR_1990    -2.7       \n",
       "ACS_PCT_HH_PUB_ASSIST    0.0       \n",
       "ACS_PCT_FEMALE          -1.9       \n",
       "wind_speed              -0.6       \n",
       "ACS_PCT_RENT_COST_30PCT  1.2       \n",
       "ACS_PCT_CTZ_US_BORN      0.4       \n",
       "ACS_PCT_COMMT_60MINUP   -6.9       \n",
       "ACS_PCT_RENTER_HH_CHILD  0.8       \n",
       "NHC_BEDCOUNT             1.7       \n",
       "NHC_LIC_STAFF           -1.1       \n",
       "ACS_PCT_10UNITS          2.8       \n",
       "ACS_PCT_OTHER_INS        0.3       \n",
       "ACS_PCT_1UP_OWNER_1ROOM  2.1       \n",
       "ACS_PCT_OTHER            1.7       \n",
       "MP_ELIGIBLES            -6.5       \n",
       "CHR_ALCOHOL_DRIV_DEATH  -0.1       \n",
       "visibility              -2.0       \n",
       "ACS_MEDIAN_RENT         -2.3       \n",
       "ACS_PCT_DRIVE_2WORK      4.6       \n",
       "ACS_PCT_WORK_NO_CAR     -2.0       \n",
       "ACS_PCT_GRANDP_RESPS     0.9       \n",
       "ACS_PCT_ENGLISH         -0.6       \n",
       "ACS_PCT_CONSTRUCT        2.2       \n",
       "ACS_PCT_HH_1PERS         0.3       \n",
       "ACS_PCT_AGE_0_4         -0.8       \n",
       "tau2                    -3.9       \n",
       "rho.S                    5.4       \n",
       "rho.T                    0.6       "
      ]
     },
     "metadata": {},
     "output_type": "display_data"
    }
   ],
   "source": [
    "fit1$summary.results"
   ]
  },
  {
   "cell_type": "code",
   "execution_count": 26,
   "id": "279e9271-fd1d-4b26-9315-6e6666493f0a",
   "metadata": {},
   "outputs": [
    {
     "data": {
      "text/html": [
       "9087"
      ],
      "text/latex": [
       "9087"
      ],
      "text/markdown": [
       "9087"
      ],
      "text/plain": [
       "[1] 9087"
      ]
     },
     "metadata": {},
     "output_type": "display_data"
    }
   ],
   "source": [
    "length(fit1$fitted.values)"
   ]
  },
  {
   "cell_type": "code",
   "execution_count": 27,
   "id": "092849fc-d524-4f61-806d-8c280d37491d",
   "metadata": {},
   "outputs": [
    {
     "data": {
      "text/html": [
       "3029"
      ],
      "text/latex": [
       "3029"
      ],
      "text/markdown": [
       "3029"
      ],
      "text/plain": [
       "[1] 3029"
      ]
     },
     "metadata": {},
     "output_type": "display_data"
    }
   ],
   "source": [
    "length(fips_to_keep)"
   ]
  },
  {
   "cell_type": "code",
   "execution_count": 28,
   "id": "353c996e-4670-4f36-a1ad-47bded0a636d",
   "metadata": {},
   "outputs": [
    {
     "name": "stdout",
     "output_type": "stream",
     "text": [
      "List of 6\n",
      " $ beta  : 'mcmc' num [1:70000, 1:99] -10.5 -10.5 -10.6 -10.7 -10.6 ...\n",
      "  ..- attr(*, \"mcpar\")= num [1:3] 1 70000 1\n",
      " $ phi   : 'mcmc' num [1:70000, 1:9087] -0.147 -0.255 -0.258 -0.26 -0.477 ...\n",
      "  ..- attr(*, \"mcpar\")= num [1:3] 1 70000 1\n",
      " $ rho   : 'mcmc' num [1:70000, 1:2] 0.499 0.495 0.515 0.512 0.497 ...\n",
      "  ..- attr(*, \"dimnames\")=List of 2\n",
      "  .. ..$ : NULL\n",
      "  .. ..$ : chr [1:2] \"rho.S\" \"rho.T\"\n",
      "  ..- attr(*, \"mcpar\")= num [1:3] 1 70000 1\n",
      " $ tau2  : 'mcmc' num [1:70000, 1] 0.165 0.168 0.165 0.165 0.167 ...\n",
      "  ..- attr(*, \"mcpar\")= num [1:3] 1 70000 1\n",
      " $ fitted: 'mcmc' num [1:70000, 1:9087] 13.04 11.65 11.49 11.41 9.21 ...\n",
      "  ..- attr(*, \"mcpar\")= num [1:3] 1 70000 1\n",
      " $ Y     : 'mcmc' logi NA\n",
      "  ..- attr(*, \"mcpar\")= num [1:3] 1 1 1\n"
     ]
    }
   ],
   "source": [
    "str(fit1$samples)"
   ]
  },
  {
   "cell_type": "code",
   "execution_count": 17,
   "id": "1923273e-d1a0-4443-8a77-941f6e3e7d51",
   "metadata": {},
   "outputs": [
    {
     "data": {
      "text/html": [
       "140000"
      ],
      "text/latex": [
       "140000"
      ],
      "text/markdown": [
       "140000"
      ],
      "text/plain": [
       "[1] 140000"
      ]
     },
     "metadata": {},
     "output_type": "display_data"
    }
   ],
   "source": [
    "length(fit1$samples$rho)"
   ]
  },
  {
   "cell_type": "code",
   "execution_count": 31,
   "id": "fe43c9d0-9f49-4963-ba64-6544c8beb8ba",
   "metadata": {},
   "outputs": [],
   "source": [
    "true_values <- read_csv(\"data/raw/suicide/2018.csv\", show_col_types=F) %>%\n",
    "        filter(fips %in% fips_to_keep) %>%\n",
    "        select(Deaths) %>%\n",
    "        pull()\n"
   ]
  },
  {
   "cell_type": "code",
   "execution_count": 36,
   "id": "458b7de9-d558-44d5-9c15-e9e38be51a09",
   "metadata": {},
   "outputs": [],
   "source": [
    "fitted_values <- fit1$fitted[6059:9087]"
   ]
  },
  {
   "cell_type": "code",
   "execution_count": 37,
   "id": "c2ef39d5-ae1a-4acf-9892-936312a8e850",
   "metadata": {},
   "outputs": [],
   "source": [
    "results_df <- tibble(fitted_values = fitted_values, true_values = true_values, FIPSCODE = fips_to_keep)\n"
   ]
  },
  {
   "cell_type": "code",
   "execution_count": 40,
   "id": "c1c2cc1c-266a-44fd-bd3c-b1bc29bea793",
   "metadata": {},
   "outputs": [],
   "source": [
    "top_true <- results_df %>%\n",
    "    arrange(desc(true_values)) %>%\n",
    "    head(6) %>%\n",
    "    mutate(top5_true = 1)"
   ]
  },
  {
   "cell_type": "code",
   "execution_count": 161,
   "id": "b8bd4608-4699-4926-9ebf-2b3c68f42b9a",
   "metadata": {},
   "outputs": [
    {
     "data": {
      "text/html": [
       "<table class=\"dataframe\">\n",
       "<caption>A tibble: 6 × 4</caption>\n",
       "<thead>\n",
       "\t<tr><th scope=col>fitted_values</th><th scope=col>true_values</th><th scope=col>FIPSCODE</th><th scope=col>top5_true</th></tr>\n",
       "\t<tr><th scope=col>&lt;dbl&gt;</th><th scope=col>&lt;dbl&gt;</th><th scope=col>&lt;chr&gt;</th><th scope=col>&lt;dbl&gt;</th></tr>\n",
       "</thead>\n",
       "<tbody>\n",
       "\t<tr><td>2771.789</td><td>3070</td><td>17031</td><td>1</td></tr>\n",
       "\t<tr><td>2709.097</td><td>2939</td><td>06037</td><td>1</td></tr>\n",
       "\t<tr><td>2020.340</td><td>2388</td><td>04013</td><td>1</td></tr>\n",
       "\t<tr><td>1463.028</td><td>1687</td><td>06073</td><td>1</td></tr>\n",
       "\t<tr><td>1394.455</td><td>1604</td><td>25017</td><td>1</td></tr>\n",
       "\t<tr><td>1601.035</td><td>1578</td><td>48201</td><td>1</td></tr>\n",
       "</tbody>\n",
       "</table>\n"
      ],
      "text/latex": [
       "A tibble: 6 × 4\n",
       "\\begin{tabular}{llll}\n",
       " fitted\\_values & true\\_values & FIPSCODE & top5\\_true\\\\\n",
       " <dbl> & <dbl> & <chr> & <dbl>\\\\\n",
       "\\hline\n",
       "\t 2771.789 & 3070 & 17031 & 1\\\\\n",
       "\t 2709.097 & 2939 & 06037 & 1\\\\\n",
       "\t 2020.340 & 2388 & 04013 & 1\\\\\n",
       "\t 1463.028 & 1687 & 06073 & 1\\\\\n",
       "\t 1394.455 & 1604 & 25017 & 1\\\\\n",
       "\t 1601.035 & 1578 & 48201 & 1\\\\\n",
       "\\end{tabular}\n"
      ],
      "text/markdown": [
       "\n",
       "A tibble: 6 × 4\n",
       "\n",
       "| fitted_values &lt;dbl&gt; | true_values &lt;dbl&gt; | FIPSCODE &lt;chr&gt; | top5_true &lt;dbl&gt; |\n",
       "|---|---|---|---|\n",
       "| 2771.789 | 3070 | 17031 | 1 |\n",
       "| 2709.097 | 2939 | 06037 | 1 |\n",
       "| 2020.340 | 2388 | 04013 | 1 |\n",
       "| 1463.028 | 1687 | 06073 | 1 |\n",
       "| 1394.455 | 1604 | 25017 | 1 |\n",
       "| 1601.035 | 1578 | 48201 | 1 |\n",
       "\n"
      ],
      "text/plain": [
       "  fitted_values true_values FIPSCODE top5_true\n",
       "1 2771.789      3070        17031    1        \n",
       "2 2709.097      2939        06037    1        \n",
       "3 2020.340      2388        04013    1        \n",
       "4 1463.028      1687        06073    1        \n",
       "5 1394.455      1604        25017    1        \n",
       "6 1601.035      1578        48201    1        "
      ]
     },
     "metadata": {},
     "output_type": "display_data"
    }
   ],
   "source": [
    "top_true"
   ]
  },
  {
   "cell_type": "code",
   "execution_count": 152,
   "id": "0cc4da52-a370-478d-b267-d617df7c3400",
   "metadata": {},
   "outputs": [],
   "source": [
    "county <- county %>%\n",
    "    mutate(FIPSCODE = paste0(STATEFP, COUNTYFP))"
   ]
  },
  {
   "cell_type": "markdown",
   "id": "27d6a863-bc19-47cd-b330-b6d87c651008",
   "metadata": {},
   "source": [
    "# Plotting"
   ]
  },
  {
   "cell_type": "code",
   "execution_count": 111,
   "id": "5d427b9b-3033-4403-a584-bdc539f0bbb5",
   "metadata": {},
   "outputs": [
    {
     "name": "stderr",
     "output_type": "stream",
     "text": [
      "Warning message in CPL_read_ogr(dsn, layer, query, as.character(options), quiet, :\n",
      "“GDAL Error 1: PROJ: proj_identify: Open of /global/homes/b/bbrusco/.conda/envs/r-venv/share/proj failed”\n"
     ]
    }
   ],
   "source": [
    "county <- sf::read_sf(\n",
    "    dsn = \"data/shapefile/cb_2020_us_tract_500k\",\n",
    "    layer = \"cb_2020_us_tract_500k\"\n",
    ")"
   ]
  },
  {
   "cell_type": "code",
   "execution_count": 124,
   "id": "647b3736-7477-4ef9-9b86-65222ee6e325",
   "metadata": {},
   "outputs": [
    {
     "name": "stderr",
     "output_type": "stream",
     "text": [
      "Warning message:\n",
      "“attribute variables are assumed to be spatially constant throughout all geometries”\n"
     ]
    }
   ],
   "source": [
    "# restrict to only continental U.S.\n",
    "continental <- sf::st_crop(\n",
    "    df,\n",
    "    xmin = -130, xmax = -45,\n",
    "    ymin = 20, ymax = 50\n",
    ") %>% mutate(FIPSCODE = paste0(STATEFP, COUNTYFP)) %>%\n",
    "select(FIPSCODE, geometry) %>% distinct()"
   ]
  },
  {
   "cell_type": "code",
   "execution_count": 162,
   "id": "0b6e35ad-468f-4345-b5ff-8847f51b4156",
   "metadata": {},
   "outputs": [
    {
     "data": {
      "text/html": [
       "<style>\n",
       ".list-inline {list-style: none; margin:0; padding: 0}\n",
       ".list-inline>li {display: inline-block}\n",
       ".list-inline>li:not(:last-child)::after {content: \"\\00b7\"; padding: 0 .5ex}\n",
       "</style>\n",
       "<ol class=list-inline><li>8910</li><li>125</li></ol>\n"
      ],
      "text/latex": [
       "\\begin{enumerate*}\n",
       "\\item 8910\n",
       "\\item 125\n",
       "\\end{enumerate*}\n"
      ],
      "text/markdown": [
       "1. 8910\n",
       "2. 125\n",
       "\n",
       "\n"
      ],
      "text/plain": [
       "[1] 8910  125"
      ]
     },
     "metadata": {},
     "output_type": "display_data"
    }
   ],
   "source": [
    "dim(df)"
   ]
  },
  {
   "cell_type": "code",
   "execution_count": 4,
   "id": "315fb68d-abd0-4efb-9186-f739e93af29f",
   "metadata": {},
   "outputs": [],
   "source": []
  },
  {
   "cell_type": "code",
   "execution_count": 6,
   "id": "a938d537-7be4-469a-b031-954387c43b87",
   "metadata": {},
   "outputs": [],
   "source": []
  },
  {
   "cell_type": "code",
   "execution_count": null,
   "id": "370c0d8d-8f51-4699-8c9d-88d836f569b4",
   "metadata": {},
   "outputs": [],
   "source": []
  },
  {
   "cell_type": "code",
   "execution_count": null,
   "id": "b009c447-c7f9-41e6-8aa0-5d4c0b2dd8c0",
   "metadata": {},
   "outputs": [],
   "source": []
  },
  {
   "cell_type": "code",
   "execution_count": null,
   "id": "556e83ac-283c-4846-88ba-29f277634d0b",
   "metadata": {},
   "outputs": [],
   "source": []
  }
 ],
 "metadata": {
  "kernelspec": {
   "display_name": "R 4.1.3 (r-venv)",
   "language": "R",
   "name": "r-venv"
  },
  "language_info": {
   "codemirror_mode": "r",
   "file_extension": ".r",
   "mimetype": "text/x-r-source",
   "name": "R",
   "pygments_lexer": "r",
   "version": "4.1.3"
  }
 },
 "nbformat": 4,
 "nbformat_minor": 5
}
