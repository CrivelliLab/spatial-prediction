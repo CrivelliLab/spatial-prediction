{
 "cells": [
  {
   "cell_type": "markdown",
   "id": "bd6f4c7a-f7ed-4889-9e4f-e8708eb701bb",
   "metadata": {},
   "source": [
    "## Model 2 Fit Results"
   ]
  },
  {
   "cell_type": "code",
   "execution_count": 1,
   "id": "30e9bec6-422b-4dd8-b235-edb93878450f",
   "metadata": {},
   "outputs": [],
   "source": [
    "setwd(\"/global/project/projectdirs/m1532/Projects_MVP/geospatial/GeoSpatial_Model/spatial-prediction\")"
   ]
  },
  {
   "cell_type": "code",
   "execution_count": 2,
   "id": "74e910e8-0f95-4293-82e8-ef9cc0d56b8a",
   "metadata": {},
   "outputs": [
    {
     "name": "stderr",
     "output_type": "stream",
     "text": [
      "Loading required package: MASS\n",
      "\n",
      "Loading required package: Rcpp\n",
      "\n",
      "Registered S3 method overwritten by 'GGally':\n",
      "  method from   \n",
      "  +.gg   ggplot2\n",
      "\n",
      "── \u001b[1mAttaching packages\u001b[22m ─────────────────────────────────────── tidyverse 1.3.2 ──\n",
      "\u001b[32m✔\u001b[39m \u001b[34mggplot2\u001b[39m 3.3.6     \u001b[32m✔\u001b[39m \u001b[34mpurrr  \u001b[39m 0.3.4\n",
      "\u001b[32m✔\u001b[39m \u001b[34mtibble \u001b[39m 3.1.8     \u001b[32m✔\u001b[39m \u001b[34mdplyr  \u001b[39m 1.0.9\n",
      "\u001b[32m✔\u001b[39m \u001b[34mtidyr  \u001b[39m 1.2.0     \u001b[32m✔\u001b[39m \u001b[34mstringr\u001b[39m 1.4.0\n",
      "\u001b[32m✔\u001b[39m \u001b[34mreadr  \u001b[39m 2.1.2     \u001b[32m✔\u001b[39m \u001b[34mforcats\u001b[39m 0.5.1\n",
      "── \u001b[1mConflicts\u001b[22m ────────────────────────────────────────── tidyverse_conflicts() ──\n",
      "\u001b[31m✖\u001b[39m \u001b[34mdplyr\u001b[39m::\u001b[32mfilter()\u001b[39m masks \u001b[34mstats\u001b[39m::filter()\n",
      "\u001b[31m✖\u001b[39m \u001b[34mdplyr\u001b[39m::\u001b[32mlag()\u001b[39m    masks \u001b[34mstats\u001b[39m::lag()\n",
      "\u001b[31m✖\u001b[39m \u001b[34mdplyr\u001b[39m::\u001b[32mselect()\u001b[39m masks \u001b[34mMASS\u001b[39m::select()\n"
     ]
    }
   ],
   "source": [
    "library(CARBayesST)\n",
    "library(tidyverse)"
   ]
  },
  {
   "cell_type": "code",
   "execution_count": 3,
   "id": "7d884dbb-c70f-4486-b121-335a4dbd22b3",
   "metadata": {},
   "outputs": [],
   "source": [
    "fit2 <- readRDS(\"outputs/model_results/fixedtime_model_2022-09-08.rds\")"
   ]
  },
  {
   "cell_type": "code",
   "execution_count": 4,
   "id": "29cf344f-2ae6-49fa-b718-0e3d0d0cd419",
   "metadata": {},
   "outputs": [
    {
     "name": "stderr",
     "output_type": "stream",
     "text": [
      "\u001b[1mRows: \u001b[22m\u001b[34m9089\u001b[39m \u001b[1mColumns: \u001b[22m\u001b[34m103\u001b[39m\n",
      "\u001b[36m──\u001b[39m \u001b[1mColumn specification\u001b[22m \u001b[36m────────────────────────────────────────────────────────\u001b[39m\n",
      "\u001b[1mDelimiter:\u001b[22m \",\"\n",
      "\u001b[31mchr\u001b[39m   (2): FIPSCODE, county\n",
      "\u001b[32mdbl\u001b[39m (101): deaths, ACS_PCT_GRP_QRT, ACS_PCT_PRIVATE_2, mean_temp, ACS_PCT_ME...\n",
      "\n",
      "\u001b[36mℹ\u001b[39m Use `spec()` to retrieve the full column specification for this data.\n",
      "\u001b[36mℹ\u001b[39m Specify the column types or set `show_col_types = FALSE` to quiet this message.\n",
      "Warning message:\n",
      "“PROJ: proj_identify: Open of /global/homes/b/bbrusco/.conda/envs/r-venv/share/proj failed (GDAL error 1)”\n",
      "\u001b[1m\u001b[22mJoining, by = \"FIPSCODE\"\n"
     ]
    }
   ],
   "source": [
    "#get fips to keep \n",
    "\n",
    "# Note: United States total includes 3,006 counties;\n",
    "## Loading dataset and geometries ###\n",
    "vars <- read_csv(\"data/processed/combined.csv\")\n",
    "# change this to the number of years that \n",
    "# you are considering in your dataset.\n",
    "NUMBER_OF_YEARS <- length(unique(vars$year))\n",
    "\n",
    "\n",
    "county <- sf::read_sf(\n",
    "    dsn = \"data/shapefile/cb_2020_us_tract_500k\",\n",
    "    layer = \"cb_2020_us_tract_500k\"\n",
    ")\n",
    "\n",
    "county <- county %>%\n",
    "    mutate(FIPSCODE = paste0(STATEFP, COUNTYFP)) %>% \n",
    "    arrange(FIPSCODE) %>%\n",
    "    distinct(FIPSCODE, .keep_all = TRUE)\n",
    "\n",
    "df <- county %>% inner_join(vars, on=FIPSCODE)\n",
    "\n",
    "df_nona <- df %>% na.omit(suicide_rate) %>%\n",
    "  group_by(FIPSCODE) %>% \n",
    "  mutate(name_count = n()) %>%\n",
    "  ungroup() %>% \n",
    "  filter(name_count == NUMBER_OF_YEARS) %>% \n",
    "  dplyr::select(-name_count) %>%\n",
    "  arrange(desc(year), FIPSCODE)\n",
    "\n",
    "fips_to_keep <- df_nona %>% \n",
    "    distinct(FIPSCODE) %>% \n",
    "    pull(FIPSCODE)\n"
   ]
  },
  {
   "cell_type": "code",
   "execution_count": 5,
   "id": "d445274e-fa1e-4bfb-b8d4-4730dc9d7b4a",
   "metadata": {},
   "outputs": [
    {
     "name": "stdout",
     "output_type": "stream",
     "text": [
      "List of 10\n",
      " $ summary.results    : num [1:104, 1:7] -10.46 0 0 1.49 2.36 ...\n",
      "  ..- attr(*, \"dimnames\")=List of 2\n",
      "  .. ..$ : chr [1:104] \"(Intercept)\" \"ALAND\" \"AWATER\" \"ACS_PCT_GRP_QRT\" ...\n",
      "  .. ..$ : chr [1:7] \"Mean\" \"2.5%\" \"97.5%\" \"n.sample\" ...\n",
      " $ samples            :List of 8\n",
      "  ..$ beta  : 'mcmc' num [1:70000, 1:99] -12.1 -12.1 -12.1 -12 -12.1 ...\n",
      "  .. ..- attr(*, \"mcpar\")= num [1:3] 1 70000 1\n",
      "  ..$ alpha : 'mcmc' num [1:70000, 1] -0.0624 -0.0624 -0.0681 -0.0681 -0.0681 ...\n",
      "  .. ..- attr(*, \"mcpar\")= num [1:3] 1 70000 1\n",
      "  ..$ phi   : 'mcmc' num [1:70000, 1:3029] -0.465 -0.464 -0.454 -0.456 -0.331 ...\n",
      "  .. ..- attr(*, \"mcpar\")= num [1:3] 1 70000 1\n",
      "  ..$ delta : 'mcmc' num [1:70000, 1:3029] 0.455 0.186 0.403 0.298 0.715 ...\n",
      "  .. ..- attr(*, \"mcpar\")= num [1:3] 1 70000 1\n",
      "  ..$ tau2  : 'mcmc' num [1:70000, 1:2] 0.338 0.321 0.338 0.333 0.332 ...\n",
      "  .. ..- attr(*, \"dimnames\")=List of 2\n",
      "  .. .. ..$ : NULL\n",
      "  .. .. ..$ : chr [1:2] \"tau2.int\" \"tau2.slo\"\n",
      "  .. ..- attr(*, \"mcpar\")= num [1:3] 1 70000 1\n",
      "  ..$ rho   : 'mcmc' num [1:70000, 1:2] 0.441 0.424 0.424 0.424 0.424 ...\n",
      "  .. ..- attr(*, \"dimnames\")=List of 2\n",
      "  .. .. ..$ : NULL\n",
      "  .. .. ..$ : chr [1:2] \"rho.int\" \"rho.slo\"\n",
      "  .. ..- attr(*, \"mcpar\")= num [1:3] 1 70000 1\n",
      "  ..$ fitted: 'mcmc' num [1:70000, 1:9087] 9.04 9.89 9.23 9.43 9.15 ...\n",
      "  .. ..- attr(*, \"mcpar\")= num [1:3] 1 70000 1\n",
      "  ..$ Y     : 'mcmc' logi NA\n",
      "  .. ..- attr(*, \"mcpar\")= num [1:3] 1 1 1\n",
      " $ fitted.values      : num [1:9087] 12.3 42.5 14.3 50.3 11.8 ...\n",
      " $ residuals          :'data.frame':\t9087 obs. of  2 variables:\n",
      "  ..$ response: num [1:9087] -1.25 1.54 -0.31 -3.28 -1.75 ...\n",
      "  ..$ pearson : num [1:9087] -0.358 0.2362 -0.0821 -0.4623 -0.5112 ...\n",
      " $ modelfit           : Named num [1:6] 61811 4462 63279 4532 -32907 ...\n",
      "  ..- attr(*, \"names\")= chr [1:6] \"DIC\" \"p.d\" \"WAIC\" \"p.w\" ...\n",
      " $ accept             : Named num [1:6] 41.4 34.5 49 48.6 37.1 ...\n",
      "  ..- attr(*, \"names\")= chr [1:6] \"beta\" \"alpha\" \"phi\" \"delta\" ...\n",
      " $ localised.structure: NULL\n",
      " $ formula            :Class 'formula'  language deaths ~ offset(log(pop)) + ALAND + AWATER + ACS_PCT_GRP_QRT + ACS_PCT_PRIVATE_2 +      mean_temp + ACS_PCT_MEDIC| __truncated__ ...\n",
      "  .. ..- attr(*, \".Environment\")=<environment: R_GlobalEnv> \n",
      " $ model              : chr [1:2] \"Likelihood model - Poisson (log link function)\" \"\\nLatent structure model - Spatially autocorrelated linear time trends\\n\"\n",
      " $ X                  : num [1:9087, 1:99] 1 1 1 1 1 1 1 1 1 1 ...\n",
      "  ..- attr(*, \"dimnames\")=List of 2\n",
      "  .. ..$ : chr [1:9087] \"1\" \"2\" \"3\" \"4\" ...\n",
      "  .. ..$ : chr [1:99] \"(Intercept)\" \"ALAND\" \"AWATER\" \"ACS_PCT_GRP_QRT\" ...\n",
      "  ..- attr(*, \"assign\")= int [1:99] 0 1 2 3 4 5 6 7 8 9 ...\n",
      " - attr(*, \"class\")= chr \"CARBayesST\"\n"
     ]
    }
   ],
   "source": [
    "str(fit2)"
   ]
  },
  {
   "cell_type": "code",
   "execution_count": 5,
   "id": "f1c8d38e-b8c6-4bde-b33c-d79cc07b3e85",
   "metadata": {},
   "outputs": [
    {
     "data": {
      "text/html": [
       "<table class=\"dataframe\">\n",
       "<caption>A matrix: 104 × 7 of type dbl</caption>\n",
       "<thead>\n",
       "\t<tr><th></th><th scope=col>Mean</th><th scope=col>2.5%</th><th scope=col>97.5%</th><th scope=col>n.sample</th><th scope=col>% accept</th><th scope=col>n.effective</th><th scope=col>Geweke.diag</th></tr>\n",
       "</thead>\n",
       "<tbody>\n",
       "\t<tr><th scope=row>(Intercept)</th><td>-10.4573</td><td>-12.1540</td><td>-9.0986</td><td>70000</td><td>41.4</td><td> 96.0</td><td> -2.7</td></tr>\n",
       "\t<tr><th scope=row>ALAND</th><td>  0.0000</td><td>  0.0000</td><td> 0.0000</td><td>70000</td><td>41.4</td><td>  0.0</td><td> -Inf</td></tr>\n",
       "\t<tr><th scope=row>AWATER</th><td>  0.0000</td><td>  0.0000</td><td> 0.0000</td><td>70000</td><td>41.4</td><td>  0.0</td><td>  Inf</td></tr>\n",
       "\t<tr><th scope=row>ACS_PCT_GRP_QRT</th><td>  1.4852</td><td>  0.6287</td><td> 2.3227</td><td>70000</td><td>41.4</td><td>156.0</td><td>  0.4</td></tr>\n",
       "\t<tr><th scope=row>ACS_PCT_PRIVATE_2</th><td>  2.3630</td><td>  0.6900</td><td> 4.0431</td><td>70000</td><td>41.4</td><td>917.8</td><td> -0.4</td></tr>\n",
       "\t<tr><th scope=row>mean_temp</th><td> -0.0241</td><td> -0.2084</td><td> 0.1590</td><td>70000</td><td>41.4</td><td>268.0</td><td>  0.0</td></tr>\n",
       "\t<tr><th scope=row>ACS_PCT_MEDICARE_ONLY</th><td>  0.0163</td><td> -1.2272</td><td> 1.2557</td><td>70000</td><td>41.4</td><td>318.2</td><td>  3.5</td></tr>\n",
       "\t<tr><th scope=row>ACS_PCT_PRIVATE_SELF</th><td>  1.8529</td><td>  1.1037</td><td> 2.5381</td><td>70000</td><td>41.4</td><td>272.0</td><td> -0.8</td></tr>\n",
       "\t<tr><th scope=row>ACS_PCT_MOBILE_HOME</th><td>  0.3774</td><td>  0.0120</td><td> 0.7011</td><td>70000</td><td>41.4</td><td>151.1</td><td>  0.6</td></tr>\n",
       "\t<tr><th scope=row>NHC_DAILY_RES</th><td> -0.8626</td><td> -1.2591</td><td>-0.5192</td><td>70000</td><td>41.4</td><td> 98.8</td><td> -1.5</td></tr>\n",
       "\t<tr><th scope=row>ACS_PCT_NON_CITIZEN</th><td>  2.0096</td><td>  0.3048</td><td> 3.8514</td><td>70000</td><td>41.4</td><td> 40.7</td><td>  0.1</td></tr>\n",
       "\t<tr><th scope=row>closest_station_index</th><td> -0.1540</td><td> -0.3209</td><td> 0.0107</td><td>70000</td><td>41.4</td><td>249.2</td><td>  0.1</td></tr>\n",
       "\t<tr><th scope=row>ACS_PCT_TRICARE_VA</th><td>  7.8825</td><td> -0.2995</td><td>15.8647</td><td>70000</td><td>41.4</td><td>  5.5</td><td>  2.7</td></tr>\n",
       "\t<tr><th scope=row>ACS_PCT_RETAIL</th><td> -0.6131</td><td> -1.5118</td><td> 0.3986</td><td>70000</td><td>41.4</td><td>172.0</td><td> -0.7</td></tr>\n",
       "\t<tr><th scope=row>ACS_PCT_VA_LABOR_FORCE</th><td> -0.0246</td><td> -0.1761</td><td> 0.1298</td><td>70000</td><td>41.4</td><td>471.1</td><td> -0.6</td></tr>\n",
       "\t<tr><th scope=row>ACS_PCT_INFORM</th><td>  0.7273</td><td> -1.2760</td><td> 2.6643</td><td>70000</td><td>41.4</td><td>452.7</td><td> -1.6</td></tr>\n",
       "\t<tr><th scope=row>ACS_PCT_COMMT_29MIN</th><td> -2.1590</td><td> -3.0531</td><td>-1.1366</td><td>70000</td><td>41.4</td><td> 23.5</td><td>  2.0</td></tr>\n",
       "\t<tr><th scope=row>ACS_PCT_PRIVATE_MDCR</th><td> -3.5935</td><td> -5.2757</td><td>-1.9101</td><td>70000</td><td>41.4</td><td>250.4</td><td>  2.0</td></tr>\n",
       "\t<tr><th scope=row>ACS_PCT_COMMT_59MIN</th><td>  0.5069</td><td> -0.3679</td><td> 1.5329</td><td>70000</td><td>41.4</td><td> 19.5</td><td>  1.9</td></tr>\n",
       "\t<tr><th scope=row>AHRF_HPSA_MENTAL</th><td> -0.0111</td><td> -0.0588</td><td> 0.0375</td><td>70000</td><td>41.4</td><td>678.8</td><td> -0.3</td></tr>\n",
       "\t<tr><th scope=row>ACS_PCT_DIVORCE_SEPARAT</th><td> -0.6588</td><td> -1.3874</td><td> 0.0827</td><td>70000</td><td>41.4</td><td>510.4</td><td> -2.2</td></tr>\n",
       "\t<tr><th scope=row>ACS_PCT_TRANSPORT</th><td>  1.9194</td><td>  0.9119</td><td> 2.9773</td><td>70000</td><td>41.4</td><td>288.7</td><td> -1.8</td></tr>\n",
       "\t<tr><th scope=row>ACS_PCT_EDUC</th><td>  0.3383</td><td> -0.4211</td><td> 1.2320</td><td>70000</td><td>41.4</td><td> 90.9</td><td> -0.7</td></tr>\n",
       "\t<tr><th scope=row>ACS_PCT_UNINSURED64</th><td> -5.0558</td><td> -9.1668</td><td>-1.9105</td><td>70000</td><td>41.4</td><td>  4.6</td><td>-14.2</td></tr>\n",
       "\t<tr><th scope=row>CCBP_RATE_FSR_PER_1000</th><td>  1.8243</td><td> -1.3142</td><td> 4.9992</td><td>70000</td><td>41.4</td><td>656.7</td><td> -1.1</td></tr>\n",
       "\t<tr><th scope=row>distance_centroid</th><td>  0.0050</td><td>  0.0029</td><td> 0.0068</td><td>70000</td><td>41.4</td><td> 74.3</td><td>  0.0</td></tr>\n",
       "\t<tr><th scope=row>ACS_PCT_GRANDP_NO_RESPS</th><td> -0.0362</td><td> -0.1554</td><td> 0.0849</td><td>70000</td><td>41.4</td><td>272.8</td><td>  0.7</td></tr>\n",
       "\t<tr><th scope=row>PM2.5</th><td> -0.3784</td><td> -0.5096</td><td>-0.2556</td><td>70000</td><td>41.4</td><td>574.8</td><td> -0.3</td></tr>\n",
       "\t<tr><th scope=row>ACS_PCT_ASSOCIATE_DGR</th><td> -0.2606</td><td> -0.7694</td><td> 0.2334</td><td>70000</td><td>41.4</td><td>274.2</td><td> -2.1</td></tr>\n",
       "\t<tr><th scope=row>ACS_PCT_ADMIN</th><td>  2.3197</td><td>  1.3409</td><td> 3.5398</td><td>70000</td><td>41.4</td><td>153.9</td><td> -0.7</td></tr>\n",
       "\t<tr><th scope=row>⋮</th><td>⋮</td><td>⋮</td><td>⋮</td><td>⋮</td><td>⋮</td><td>⋮</td><td>⋮</td></tr>\n",
       "\t<tr><th scope=row>ACS_PCT_GULFWAR_1990</th><td> 0.2991</td><td> 0.0558</td><td> 0.5449</td><td>70000</td><td> 41.4</td><td> 614.6</td><td> 0.9</td></tr>\n",
       "\t<tr><th scope=row>ACS_PCT_HH_PUB_ASSIST</th><td>-0.0225</td><td>-1.2008</td><td> 1.2034</td><td>70000</td><td> 41.4</td><td> 337.6</td><td> 0.5</td></tr>\n",
       "\t<tr><th scope=row>ACS_PCT_FEMALE</th><td> 0.2888</td><td>-0.8506</td><td> 1.3575</td><td>70000</td><td> 41.4</td><td> 203.2</td><td> 2.6</td></tr>\n",
       "\t<tr><th scope=row>wind_speed</th><td> 0.2546</td><td> 0.1018</td><td> 0.4078</td><td>70000</td><td> 41.4</td><td> 256.5</td><td>-1.5</td></tr>\n",
       "\t<tr><th scope=row>ACS_PCT_RENT_COST_30PCT</th><td>-0.3929</td><td>-0.5985</td><td>-0.1891</td><td>70000</td><td> 41.4</td><td> 359.1</td><td> 1.3</td></tr>\n",
       "\t<tr><th scope=row>ACS_PCT_CTZ_US_BORN</th><td> 2.3521</td><td> 1.2867</td><td> 3.8627</td><td>70000</td><td> 41.4</td><td>  19.9</td><td> 0.4</td></tr>\n",
       "\t<tr><th scope=row>ACS_PCT_COMMT_60MINUP</th><td> 0.0701</td><td>-0.8134</td><td> 1.1422</td><td>70000</td><td> 41.4</td><td>  46.5</td><td> 2.8</td></tr>\n",
       "\t<tr><th scope=row>ACS_PCT_RENTER_HH_CHILD</th><td> 0.3200</td><td> 0.0755</td><td> 0.5757</td><td>70000</td><td> 41.4</td><td> 294.8</td><td>-0.8</td></tr>\n",
       "\t<tr><th scope=row>NHC_BEDCOUNT</th><td>-1.3007</td><td>-1.7262</td><td>-0.7725</td><td>70000</td><td> 41.4</td><td>  54.8</td><td> 1.3</td></tr>\n",
       "\t<tr><th scope=row>NHC_LIC_STAFF</th><td>-0.7640</td><td>-0.9665</td><td>-0.5633</td><td>70000</td><td> 41.4</td><td> 574.8</td><td>-1.3</td></tr>\n",
       "\t<tr><th scope=row>ACS_PCT_10UNITS</th><td>-0.2577</td><td>-0.8164</td><td> 0.4617</td><td>70000</td><td> 41.4</td><td>  56.2</td><td>-0.2</td></tr>\n",
       "\t<tr><th scope=row>ACS_PCT_OTHER_INS</th><td>-0.1582</td><td>-1.3150</td><td> 0.7428</td><td>70000</td><td> 41.4</td><td>  52.8</td><td> 1.9</td></tr>\n",
       "\t<tr><th scope=row>ACS_PCT_1UP_OWNER_1ROOM</th><td> 0.1455</td><td>-2.7008</td><td> 3.0601</td><td>70000</td><td> 41.4</td><td>   9.4</td><td>-2.9</td></tr>\n",
       "\t<tr><th scope=row>ACS_PCT_OTHER</th><td>-0.1779</td><td>-1.2687</td><td> 1.0589</td><td>70000</td><td> 41.4</td><td>  78.1</td><td> 0.6</td></tr>\n",
       "\t<tr><th scope=row>MP_ELIGIBLES</th><td>-0.7804</td><td>-1.0547</td><td>-0.4292</td><td>70000</td><td> 41.4</td><td>   5.8</td><td>-4.9</td></tr>\n",
       "\t<tr><th scope=row>CHR_ALCOHOL_DRIV_DEATH</th><td>-0.0649</td><td>-0.1395</td><td> 0.0154</td><td>70000</td><td> 41.4</td><td> 119.5</td><td>-2.1</td></tr>\n",
       "\t<tr><th scope=row>visibility</th><td>-0.0063</td><td>-0.1043</td><td> 0.0910</td><td>70000</td><td> 41.4</td><td> 229.8</td><td>-0.2</td></tr>\n",
       "\t<tr><th scope=row>ACS_MEDIAN_RENT</th><td> 0.0208</td><td>-0.1229</td><td> 0.1554</td><td>70000</td><td> 41.4</td><td> 269.7</td><td>-0.6</td></tr>\n",
       "\t<tr><th scope=row>ACS_PCT_DRIVE_2WORK</th><td>-0.4579</td><td>-1.2150</td><td> 0.3008</td><td>70000</td><td> 41.4</td><td>  33.9</td><td>-2.2</td></tr>\n",
       "\t<tr><th scope=row>ACS_PCT_WORK_NO_CAR</th><td> 0.6607</td><td>-0.5191</td><td> 1.9153</td><td>70000</td><td> 41.4</td><td>  57.0</td><td> 1.6</td></tr>\n",
       "\t<tr><th scope=row>ACS_PCT_GRANDP_RESPS</th><td>-0.0120</td><td>-0.1347</td><td> 0.1146</td><td>70000</td><td> 41.4</td><td> 209.8</td><td> 0.6</td></tr>\n",
       "\t<tr><th scope=row>ACS_PCT_ENGLISH</th><td> 0.2052</td><td>-0.1878</td><td> 0.6086</td><td>70000</td><td> 41.4</td><td>  70.3</td><td>-1.7</td></tr>\n",
       "\t<tr><th scope=row>ACS_PCT_CONSTRUCT</th><td> 0.8779</td><td>-0.1243</td><td> 1.9739</td><td>70000</td><td> 41.4</td><td> 228.4</td><td>-1.8</td></tr>\n",
       "\t<tr><th scope=row>ACS_PCT_HH_1PERS</th><td> 0.3197</td><td>-0.2392</td><td> 0.8602</td><td>70000</td><td> 41.4</td><td> 253.8</td><td>-0.6</td></tr>\n",
       "\t<tr><th scope=row>ACS_PCT_AGE_0_4</th><td>-1.9468</td><td>-4.0906</td><td> 0.3973</td><td>70000</td><td> 41.4</td><td> 252.7</td><td>-2.2</td></tr>\n",
       "\t<tr><th scope=row>alpha</th><td>-0.0346</td><td>-0.1273</td><td> 0.0532</td><td>70000</td><td> 34.5</td><td> 167.2</td><td> 0.2</td></tr>\n",
       "\t<tr><th scope=row>tau2.int</th><td> 0.3267</td><td> 0.3077</td><td> 0.3471</td><td>70000</td><td>100.0</td><td>5992.9</td><td>-0.4</td></tr>\n",
       "\t<tr><th scope=row>tau2.slo</th><td> 0.1442</td><td> 0.1189</td><td> 0.1711</td><td>70000</td><td>100.0</td><td>1051.4</td><td> 3.7</td></tr>\n",
       "\t<tr><th scope=row>rho.int</th><td> 0.4287</td><td> 0.3752</td><td> 0.4803</td><td>70000</td><td> 37.1</td><td>3505.4</td><td> 4.6</td></tr>\n",
       "\t<tr><th scope=row>rho.slo</th><td> 0.7910</td><td> 0.7394</td><td> 0.8366</td><td>70000</td><td> 46.6</td><td>1042.6</td><td>-3.0</td></tr>\n",
       "</tbody>\n",
       "</table>\n"
      ],
      "text/latex": [
       "A matrix: 104 × 7 of type dbl\n",
       "\\begin{tabular}{r|lllllll}\n",
       "  & Mean & 2.5\\% & 97.5\\% & n.sample & \\% accept & n.effective & Geweke.diag\\\\\n",
       "\\hline\n",
       "\t(Intercept) & -10.4573 & -12.1540 & -9.0986 & 70000 & 41.4 &  96.0 &  -2.7\\\\\n",
       "\tALAND &   0.0000 &   0.0000 &  0.0000 & 70000 & 41.4 &   0.0 &  -Inf\\\\\n",
       "\tAWATER &   0.0000 &   0.0000 &  0.0000 & 70000 & 41.4 &   0.0 &   Inf\\\\\n",
       "\tACS\\_PCT\\_GRP\\_QRT &   1.4852 &   0.6287 &  2.3227 & 70000 & 41.4 & 156.0 &   0.4\\\\\n",
       "\tACS\\_PCT\\_PRIVATE\\_2 &   2.3630 &   0.6900 &  4.0431 & 70000 & 41.4 & 917.8 &  -0.4\\\\\n",
       "\tmean\\_temp &  -0.0241 &  -0.2084 &  0.1590 & 70000 & 41.4 & 268.0 &   0.0\\\\\n",
       "\tACS\\_PCT\\_MEDICARE\\_ONLY &   0.0163 &  -1.2272 &  1.2557 & 70000 & 41.4 & 318.2 &   3.5\\\\\n",
       "\tACS\\_PCT\\_PRIVATE\\_SELF &   1.8529 &   1.1037 &  2.5381 & 70000 & 41.4 & 272.0 &  -0.8\\\\\n",
       "\tACS\\_PCT\\_MOBILE\\_HOME &   0.3774 &   0.0120 &  0.7011 & 70000 & 41.4 & 151.1 &   0.6\\\\\n",
       "\tNHC\\_DAILY\\_RES &  -0.8626 &  -1.2591 & -0.5192 & 70000 & 41.4 &  98.8 &  -1.5\\\\\n",
       "\tACS\\_PCT\\_NON\\_CITIZEN &   2.0096 &   0.3048 &  3.8514 & 70000 & 41.4 &  40.7 &   0.1\\\\\n",
       "\tclosest\\_station\\_index &  -0.1540 &  -0.3209 &  0.0107 & 70000 & 41.4 & 249.2 &   0.1\\\\\n",
       "\tACS\\_PCT\\_TRICARE\\_VA &   7.8825 &  -0.2995 & 15.8647 & 70000 & 41.4 &   5.5 &   2.7\\\\\n",
       "\tACS\\_PCT\\_RETAIL &  -0.6131 &  -1.5118 &  0.3986 & 70000 & 41.4 & 172.0 &  -0.7\\\\\n",
       "\tACS\\_PCT\\_VA\\_LABOR\\_FORCE &  -0.0246 &  -0.1761 &  0.1298 & 70000 & 41.4 & 471.1 &  -0.6\\\\\n",
       "\tACS\\_PCT\\_INFORM &   0.7273 &  -1.2760 &  2.6643 & 70000 & 41.4 & 452.7 &  -1.6\\\\\n",
       "\tACS\\_PCT\\_COMMT\\_29MIN &  -2.1590 &  -3.0531 & -1.1366 & 70000 & 41.4 &  23.5 &   2.0\\\\\n",
       "\tACS\\_PCT\\_PRIVATE\\_MDCR &  -3.5935 &  -5.2757 & -1.9101 & 70000 & 41.4 & 250.4 &   2.0\\\\\n",
       "\tACS\\_PCT\\_COMMT\\_59MIN &   0.5069 &  -0.3679 &  1.5329 & 70000 & 41.4 &  19.5 &   1.9\\\\\n",
       "\tAHRF\\_HPSA\\_MENTAL &  -0.0111 &  -0.0588 &  0.0375 & 70000 & 41.4 & 678.8 &  -0.3\\\\\n",
       "\tACS\\_PCT\\_DIVORCE\\_SEPARAT &  -0.6588 &  -1.3874 &  0.0827 & 70000 & 41.4 & 510.4 &  -2.2\\\\\n",
       "\tACS\\_PCT\\_TRANSPORT &   1.9194 &   0.9119 &  2.9773 & 70000 & 41.4 & 288.7 &  -1.8\\\\\n",
       "\tACS\\_PCT\\_EDUC &   0.3383 &  -0.4211 &  1.2320 & 70000 & 41.4 &  90.9 &  -0.7\\\\\n",
       "\tACS\\_PCT\\_UNINSURED64 &  -5.0558 &  -9.1668 & -1.9105 & 70000 & 41.4 &   4.6 & -14.2\\\\\n",
       "\tCCBP\\_RATE\\_FSR\\_PER\\_1000 &   1.8243 &  -1.3142 &  4.9992 & 70000 & 41.4 & 656.7 &  -1.1\\\\\n",
       "\tdistance\\_centroid &   0.0050 &   0.0029 &  0.0068 & 70000 & 41.4 &  74.3 &   0.0\\\\\n",
       "\tACS\\_PCT\\_GRANDP\\_NO\\_RESPS &  -0.0362 &  -0.1554 &  0.0849 & 70000 & 41.4 & 272.8 &   0.7\\\\\n",
       "\tPM2.5 &  -0.3784 &  -0.5096 & -0.2556 & 70000 & 41.4 & 574.8 &  -0.3\\\\\n",
       "\tACS\\_PCT\\_ASSOCIATE\\_DGR &  -0.2606 &  -0.7694 &  0.2334 & 70000 & 41.4 & 274.2 &  -2.1\\\\\n",
       "\tACS\\_PCT\\_ADMIN &   2.3197 &   1.3409 &  3.5398 & 70000 & 41.4 & 153.9 &  -0.7\\\\\n",
       "\t⋮ & ⋮ & ⋮ & ⋮ & ⋮ & ⋮ & ⋮ & ⋮\\\\\n",
       "\tACS\\_PCT\\_GULFWAR\\_1990 &  0.2991 &  0.0558 &  0.5449 & 70000 &  41.4 &  614.6 &  0.9\\\\\n",
       "\tACS\\_PCT\\_HH\\_PUB\\_ASSIST & -0.0225 & -1.2008 &  1.2034 & 70000 &  41.4 &  337.6 &  0.5\\\\\n",
       "\tACS\\_PCT\\_FEMALE &  0.2888 & -0.8506 &  1.3575 & 70000 &  41.4 &  203.2 &  2.6\\\\\n",
       "\twind\\_speed &  0.2546 &  0.1018 &  0.4078 & 70000 &  41.4 &  256.5 & -1.5\\\\\n",
       "\tACS\\_PCT\\_RENT\\_COST\\_30PCT & -0.3929 & -0.5985 & -0.1891 & 70000 &  41.4 &  359.1 &  1.3\\\\\n",
       "\tACS\\_PCT\\_CTZ\\_US\\_BORN &  2.3521 &  1.2867 &  3.8627 & 70000 &  41.4 &   19.9 &  0.4\\\\\n",
       "\tACS\\_PCT\\_COMMT\\_60MINUP &  0.0701 & -0.8134 &  1.1422 & 70000 &  41.4 &   46.5 &  2.8\\\\\n",
       "\tACS\\_PCT\\_RENTER\\_HH\\_CHILD &  0.3200 &  0.0755 &  0.5757 & 70000 &  41.4 &  294.8 & -0.8\\\\\n",
       "\tNHC\\_BEDCOUNT & -1.3007 & -1.7262 & -0.7725 & 70000 &  41.4 &   54.8 &  1.3\\\\\n",
       "\tNHC\\_LIC\\_STAFF & -0.7640 & -0.9665 & -0.5633 & 70000 &  41.4 &  574.8 & -1.3\\\\\n",
       "\tACS\\_PCT\\_10UNITS & -0.2577 & -0.8164 &  0.4617 & 70000 &  41.4 &   56.2 & -0.2\\\\\n",
       "\tACS\\_PCT\\_OTHER\\_INS & -0.1582 & -1.3150 &  0.7428 & 70000 &  41.4 &   52.8 &  1.9\\\\\n",
       "\tACS\\_PCT\\_1UP\\_OWNER\\_1ROOM &  0.1455 & -2.7008 &  3.0601 & 70000 &  41.4 &    9.4 & -2.9\\\\\n",
       "\tACS\\_PCT\\_OTHER & -0.1779 & -1.2687 &  1.0589 & 70000 &  41.4 &   78.1 &  0.6\\\\\n",
       "\tMP\\_ELIGIBLES & -0.7804 & -1.0547 & -0.4292 & 70000 &  41.4 &    5.8 & -4.9\\\\\n",
       "\tCHR\\_ALCOHOL\\_DRIV\\_DEATH & -0.0649 & -0.1395 &  0.0154 & 70000 &  41.4 &  119.5 & -2.1\\\\\n",
       "\tvisibility & -0.0063 & -0.1043 &  0.0910 & 70000 &  41.4 &  229.8 & -0.2\\\\\n",
       "\tACS\\_MEDIAN\\_RENT &  0.0208 & -0.1229 &  0.1554 & 70000 &  41.4 &  269.7 & -0.6\\\\\n",
       "\tACS\\_PCT\\_DRIVE\\_2WORK & -0.4579 & -1.2150 &  0.3008 & 70000 &  41.4 &   33.9 & -2.2\\\\\n",
       "\tACS\\_PCT\\_WORK\\_NO\\_CAR &  0.6607 & -0.5191 &  1.9153 & 70000 &  41.4 &   57.0 &  1.6\\\\\n",
       "\tACS\\_PCT\\_GRANDP\\_RESPS & -0.0120 & -0.1347 &  0.1146 & 70000 &  41.4 &  209.8 &  0.6\\\\\n",
       "\tACS\\_PCT\\_ENGLISH &  0.2052 & -0.1878 &  0.6086 & 70000 &  41.4 &   70.3 & -1.7\\\\\n",
       "\tACS\\_PCT\\_CONSTRUCT &  0.8779 & -0.1243 &  1.9739 & 70000 &  41.4 &  228.4 & -1.8\\\\\n",
       "\tACS\\_PCT\\_HH\\_1PERS &  0.3197 & -0.2392 &  0.8602 & 70000 &  41.4 &  253.8 & -0.6\\\\\n",
       "\tACS\\_PCT\\_AGE\\_0\\_4 & -1.9468 & -4.0906 &  0.3973 & 70000 &  41.4 &  252.7 & -2.2\\\\\n",
       "\talpha & -0.0346 & -0.1273 &  0.0532 & 70000 &  34.5 &  167.2 &  0.2\\\\\n",
       "\ttau2.int &  0.3267 &  0.3077 &  0.3471 & 70000 & 100.0 & 5992.9 & -0.4\\\\\n",
       "\ttau2.slo &  0.1442 &  0.1189 &  0.1711 & 70000 & 100.0 & 1051.4 &  3.7\\\\\n",
       "\trho.int &  0.4287 &  0.3752 &  0.4803 & 70000 &  37.1 & 3505.4 &  4.6\\\\\n",
       "\trho.slo &  0.7910 &  0.7394 &  0.8366 & 70000 &  46.6 & 1042.6 & -3.0\\\\\n",
       "\\end{tabular}\n"
      ],
      "text/markdown": [
       "\n",
       "A matrix: 104 × 7 of type dbl\n",
       "\n",
       "| <!--/--> | Mean | 2.5% | 97.5% | n.sample | % accept | n.effective | Geweke.diag |\n",
       "|---|---|---|---|---|---|---|---|\n",
       "| (Intercept) | -10.4573 | -12.1540 | -9.0986 | 70000 | 41.4 |  96.0 |  -2.7 |\n",
       "| ALAND |   0.0000 |   0.0000 |  0.0000 | 70000 | 41.4 |   0.0 |  -Inf |\n",
       "| AWATER |   0.0000 |   0.0000 |  0.0000 | 70000 | 41.4 |   0.0 |   Inf |\n",
       "| ACS_PCT_GRP_QRT |   1.4852 |   0.6287 |  2.3227 | 70000 | 41.4 | 156.0 |   0.4 |\n",
       "| ACS_PCT_PRIVATE_2 |   2.3630 |   0.6900 |  4.0431 | 70000 | 41.4 | 917.8 |  -0.4 |\n",
       "| mean_temp |  -0.0241 |  -0.2084 |  0.1590 | 70000 | 41.4 | 268.0 |   0.0 |\n",
       "| ACS_PCT_MEDICARE_ONLY |   0.0163 |  -1.2272 |  1.2557 | 70000 | 41.4 | 318.2 |   3.5 |\n",
       "| ACS_PCT_PRIVATE_SELF |   1.8529 |   1.1037 |  2.5381 | 70000 | 41.4 | 272.0 |  -0.8 |\n",
       "| ACS_PCT_MOBILE_HOME |   0.3774 |   0.0120 |  0.7011 | 70000 | 41.4 | 151.1 |   0.6 |\n",
       "| NHC_DAILY_RES |  -0.8626 |  -1.2591 | -0.5192 | 70000 | 41.4 |  98.8 |  -1.5 |\n",
       "| ACS_PCT_NON_CITIZEN |   2.0096 |   0.3048 |  3.8514 | 70000 | 41.4 |  40.7 |   0.1 |\n",
       "| closest_station_index |  -0.1540 |  -0.3209 |  0.0107 | 70000 | 41.4 | 249.2 |   0.1 |\n",
       "| ACS_PCT_TRICARE_VA |   7.8825 |  -0.2995 | 15.8647 | 70000 | 41.4 |   5.5 |   2.7 |\n",
       "| ACS_PCT_RETAIL |  -0.6131 |  -1.5118 |  0.3986 | 70000 | 41.4 | 172.0 |  -0.7 |\n",
       "| ACS_PCT_VA_LABOR_FORCE |  -0.0246 |  -0.1761 |  0.1298 | 70000 | 41.4 | 471.1 |  -0.6 |\n",
       "| ACS_PCT_INFORM |   0.7273 |  -1.2760 |  2.6643 | 70000 | 41.4 | 452.7 |  -1.6 |\n",
       "| ACS_PCT_COMMT_29MIN |  -2.1590 |  -3.0531 | -1.1366 | 70000 | 41.4 |  23.5 |   2.0 |\n",
       "| ACS_PCT_PRIVATE_MDCR |  -3.5935 |  -5.2757 | -1.9101 | 70000 | 41.4 | 250.4 |   2.0 |\n",
       "| ACS_PCT_COMMT_59MIN |   0.5069 |  -0.3679 |  1.5329 | 70000 | 41.4 |  19.5 |   1.9 |\n",
       "| AHRF_HPSA_MENTAL |  -0.0111 |  -0.0588 |  0.0375 | 70000 | 41.4 | 678.8 |  -0.3 |\n",
       "| ACS_PCT_DIVORCE_SEPARAT |  -0.6588 |  -1.3874 |  0.0827 | 70000 | 41.4 | 510.4 |  -2.2 |\n",
       "| ACS_PCT_TRANSPORT |   1.9194 |   0.9119 |  2.9773 | 70000 | 41.4 | 288.7 |  -1.8 |\n",
       "| ACS_PCT_EDUC |   0.3383 |  -0.4211 |  1.2320 | 70000 | 41.4 |  90.9 |  -0.7 |\n",
       "| ACS_PCT_UNINSURED64 |  -5.0558 |  -9.1668 | -1.9105 | 70000 | 41.4 |   4.6 | -14.2 |\n",
       "| CCBP_RATE_FSR_PER_1000 |   1.8243 |  -1.3142 |  4.9992 | 70000 | 41.4 | 656.7 |  -1.1 |\n",
       "| distance_centroid |   0.0050 |   0.0029 |  0.0068 | 70000 | 41.4 |  74.3 |   0.0 |\n",
       "| ACS_PCT_GRANDP_NO_RESPS |  -0.0362 |  -0.1554 |  0.0849 | 70000 | 41.4 | 272.8 |   0.7 |\n",
       "| PM2.5 |  -0.3784 |  -0.5096 | -0.2556 | 70000 | 41.4 | 574.8 |  -0.3 |\n",
       "| ACS_PCT_ASSOCIATE_DGR |  -0.2606 |  -0.7694 |  0.2334 | 70000 | 41.4 | 274.2 |  -2.1 |\n",
       "| ACS_PCT_ADMIN |   2.3197 |   1.3409 |  3.5398 | 70000 | 41.4 | 153.9 |  -0.7 |\n",
       "| ⋮ | ⋮ | ⋮ | ⋮ | ⋮ | ⋮ | ⋮ | ⋮ |\n",
       "| ACS_PCT_GULFWAR_1990 |  0.2991 |  0.0558 |  0.5449 | 70000 |  41.4 |  614.6 |  0.9 |\n",
       "| ACS_PCT_HH_PUB_ASSIST | -0.0225 | -1.2008 |  1.2034 | 70000 |  41.4 |  337.6 |  0.5 |\n",
       "| ACS_PCT_FEMALE |  0.2888 | -0.8506 |  1.3575 | 70000 |  41.4 |  203.2 |  2.6 |\n",
       "| wind_speed |  0.2546 |  0.1018 |  0.4078 | 70000 |  41.4 |  256.5 | -1.5 |\n",
       "| ACS_PCT_RENT_COST_30PCT | -0.3929 | -0.5985 | -0.1891 | 70000 |  41.4 |  359.1 |  1.3 |\n",
       "| ACS_PCT_CTZ_US_BORN |  2.3521 |  1.2867 |  3.8627 | 70000 |  41.4 |   19.9 |  0.4 |\n",
       "| ACS_PCT_COMMT_60MINUP |  0.0701 | -0.8134 |  1.1422 | 70000 |  41.4 |   46.5 |  2.8 |\n",
       "| ACS_PCT_RENTER_HH_CHILD |  0.3200 |  0.0755 |  0.5757 | 70000 |  41.4 |  294.8 | -0.8 |\n",
       "| NHC_BEDCOUNT | -1.3007 | -1.7262 | -0.7725 | 70000 |  41.4 |   54.8 |  1.3 |\n",
       "| NHC_LIC_STAFF | -0.7640 | -0.9665 | -0.5633 | 70000 |  41.4 |  574.8 | -1.3 |\n",
       "| ACS_PCT_10UNITS | -0.2577 | -0.8164 |  0.4617 | 70000 |  41.4 |   56.2 | -0.2 |\n",
       "| ACS_PCT_OTHER_INS | -0.1582 | -1.3150 |  0.7428 | 70000 |  41.4 |   52.8 |  1.9 |\n",
       "| ACS_PCT_1UP_OWNER_1ROOM |  0.1455 | -2.7008 |  3.0601 | 70000 |  41.4 |    9.4 | -2.9 |\n",
       "| ACS_PCT_OTHER | -0.1779 | -1.2687 |  1.0589 | 70000 |  41.4 |   78.1 |  0.6 |\n",
       "| MP_ELIGIBLES | -0.7804 | -1.0547 | -0.4292 | 70000 |  41.4 |    5.8 | -4.9 |\n",
       "| CHR_ALCOHOL_DRIV_DEATH | -0.0649 | -0.1395 |  0.0154 | 70000 |  41.4 |  119.5 | -2.1 |\n",
       "| visibility | -0.0063 | -0.1043 |  0.0910 | 70000 |  41.4 |  229.8 | -0.2 |\n",
       "| ACS_MEDIAN_RENT |  0.0208 | -0.1229 |  0.1554 | 70000 |  41.4 |  269.7 | -0.6 |\n",
       "| ACS_PCT_DRIVE_2WORK | -0.4579 | -1.2150 |  0.3008 | 70000 |  41.4 |   33.9 | -2.2 |\n",
       "| ACS_PCT_WORK_NO_CAR |  0.6607 | -0.5191 |  1.9153 | 70000 |  41.4 |   57.0 |  1.6 |\n",
       "| ACS_PCT_GRANDP_RESPS | -0.0120 | -0.1347 |  0.1146 | 70000 |  41.4 |  209.8 |  0.6 |\n",
       "| ACS_PCT_ENGLISH |  0.2052 | -0.1878 |  0.6086 | 70000 |  41.4 |   70.3 | -1.7 |\n",
       "| ACS_PCT_CONSTRUCT |  0.8779 | -0.1243 |  1.9739 | 70000 |  41.4 |  228.4 | -1.8 |\n",
       "| ACS_PCT_HH_1PERS |  0.3197 | -0.2392 |  0.8602 | 70000 |  41.4 |  253.8 | -0.6 |\n",
       "| ACS_PCT_AGE_0_4 | -1.9468 | -4.0906 |  0.3973 | 70000 |  41.4 |  252.7 | -2.2 |\n",
       "| alpha | -0.0346 | -0.1273 |  0.0532 | 70000 |  34.5 |  167.2 |  0.2 |\n",
       "| tau2.int |  0.3267 |  0.3077 |  0.3471 | 70000 | 100.0 | 5992.9 | -0.4 |\n",
       "| tau2.slo |  0.1442 |  0.1189 |  0.1711 | 70000 | 100.0 | 1051.4 |  3.7 |\n",
       "| rho.int |  0.4287 |  0.3752 |  0.4803 | 70000 |  37.1 | 3505.4 |  4.6 |\n",
       "| rho.slo |  0.7910 |  0.7394 |  0.8366 | 70000 |  46.6 | 1042.6 | -3.0 |\n",
       "\n"
      ],
      "text/plain": [
       "                        Mean     2.5%     97.5%   n.sample % accept n.effective\n",
       "(Intercept)             -10.4573 -12.1540 -9.0986 70000    41.4      96.0      \n",
       "ALAND                     0.0000   0.0000  0.0000 70000    41.4       0.0      \n",
       "AWATER                    0.0000   0.0000  0.0000 70000    41.4       0.0      \n",
       "ACS_PCT_GRP_QRT           1.4852   0.6287  2.3227 70000    41.4     156.0      \n",
       "ACS_PCT_PRIVATE_2         2.3630   0.6900  4.0431 70000    41.4     917.8      \n",
       "mean_temp                -0.0241  -0.2084  0.1590 70000    41.4     268.0      \n",
       "ACS_PCT_MEDICARE_ONLY     0.0163  -1.2272  1.2557 70000    41.4     318.2      \n",
       "ACS_PCT_PRIVATE_SELF      1.8529   1.1037  2.5381 70000    41.4     272.0      \n",
       "ACS_PCT_MOBILE_HOME       0.3774   0.0120  0.7011 70000    41.4     151.1      \n",
       "NHC_DAILY_RES            -0.8626  -1.2591 -0.5192 70000    41.4      98.8      \n",
       "ACS_PCT_NON_CITIZEN       2.0096   0.3048  3.8514 70000    41.4      40.7      \n",
       "closest_station_index    -0.1540  -0.3209  0.0107 70000    41.4     249.2      \n",
       "ACS_PCT_TRICARE_VA        7.8825  -0.2995 15.8647 70000    41.4       5.5      \n",
       "ACS_PCT_RETAIL           -0.6131  -1.5118  0.3986 70000    41.4     172.0      \n",
       "ACS_PCT_VA_LABOR_FORCE   -0.0246  -0.1761  0.1298 70000    41.4     471.1      \n",
       "ACS_PCT_INFORM            0.7273  -1.2760  2.6643 70000    41.4     452.7      \n",
       "ACS_PCT_COMMT_29MIN      -2.1590  -3.0531 -1.1366 70000    41.4      23.5      \n",
       "ACS_PCT_PRIVATE_MDCR     -3.5935  -5.2757 -1.9101 70000    41.4     250.4      \n",
       "ACS_PCT_COMMT_59MIN       0.5069  -0.3679  1.5329 70000    41.4      19.5      \n",
       "AHRF_HPSA_MENTAL         -0.0111  -0.0588  0.0375 70000    41.4     678.8      \n",
       "ACS_PCT_DIVORCE_SEPARAT  -0.6588  -1.3874  0.0827 70000    41.4     510.4      \n",
       "ACS_PCT_TRANSPORT         1.9194   0.9119  2.9773 70000    41.4     288.7      \n",
       "ACS_PCT_EDUC              0.3383  -0.4211  1.2320 70000    41.4      90.9      \n",
       "ACS_PCT_UNINSURED64      -5.0558  -9.1668 -1.9105 70000    41.4       4.6      \n",
       "CCBP_RATE_FSR_PER_1000    1.8243  -1.3142  4.9992 70000    41.4     656.7      \n",
       "distance_centroid         0.0050   0.0029  0.0068 70000    41.4      74.3      \n",
       "ACS_PCT_GRANDP_NO_RESPS  -0.0362  -0.1554  0.0849 70000    41.4     272.8      \n",
       "PM2.5                    -0.3784  -0.5096 -0.2556 70000    41.4     574.8      \n",
       "ACS_PCT_ASSOCIATE_DGR    -0.2606  -0.7694  0.2334 70000    41.4     274.2      \n",
       "ACS_PCT_ADMIN             2.3197   1.3409  3.5398 70000    41.4     153.9      \n",
       "⋮                       ⋮        ⋮        ⋮       ⋮        ⋮        ⋮          \n",
       "ACS_PCT_GULFWAR_1990     0.2991   0.0558   0.5449 70000     41.4     614.6     \n",
       "ACS_PCT_HH_PUB_ASSIST   -0.0225  -1.2008   1.2034 70000     41.4     337.6     \n",
       "ACS_PCT_FEMALE           0.2888  -0.8506   1.3575 70000     41.4     203.2     \n",
       "wind_speed               0.2546   0.1018   0.4078 70000     41.4     256.5     \n",
       "ACS_PCT_RENT_COST_30PCT -0.3929  -0.5985  -0.1891 70000     41.4     359.1     \n",
       "ACS_PCT_CTZ_US_BORN      2.3521   1.2867   3.8627 70000     41.4      19.9     \n",
       "ACS_PCT_COMMT_60MINUP    0.0701  -0.8134   1.1422 70000     41.4      46.5     \n",
       "ACS_PCT_RENTER_HH_CHILD  0.3200   0.0755   0.5757 70000     41.4     294.8     \n",
       "NHC_BEDCOUNT            -1.3007  -1.7262  -0.7725 70000     41.4      54.8     \n",
       "NHC_LIC_STAFF           -0.7640  -0.9665  -0.5633 70000     41.4     574.8     \n",
       "ACS_PCT_10UNITS         -0.2577  -0.8164   0.4617 70000     41.4      56.2     \n",
       "ACS_PCT_OTHER_INS       -0.1582  -1.3150   0.7428 70000     41.4      52.8     \n",
       "ACS_PCT_1UP_OWNER_1ROOM  0.1455  -2.7008   3.0601 70000     41.4       9.4     \n",
       "ACS_PCT_OTHER           -0.1779  -1.2687   1.0589 70000     41.4      78.1     \n",
       "MP_ELIGIBLES            -0.7804  -1.0547  -0.4292 70000     41.4       5.8     \n",
       "CHR_ALCOHOL_DRIV_DEATH  -0.0649  -0.1395   0.0154 70000     41.4     119.5     \n",
       "visibility              -0.0063  -0.1043   0.0910 70000     41.4     229.8     \n",
       "ACS_MEDIAN_RENT          0.0208  -0.1229   0.1554 70000     41.4     269.7     \n",
       "ACS_PCT_DRIVE_2WORK     -0.4579  -1.2150   0.3008 70000     41.4      33.9     \n",
       "ACS_PCT_WORK_NO_CAR      0.6607  -0.5191   1.9153 70000     41.4      57.0     \n",
       "ACS_PCT_GRANDP_RESPS    -0.0120  -0.1347   0.1146 70000     41.4     209.8     \n",
       "ACS_PCT_ENGLISH          0.2052  -0.1878   0.6086 70000     41.4      70.3     \n",
       "ACS_PCT_CONSTRUCT        0.8779  -0.1243   1.9739 70000     41.4     228.4     \n",
       "ACS_PCT_HH_1PERS         0.3197  -0.2392   0.8602 70000     41.4     253.8     \n",
       "ACS_PCT_AGE_0_4         -1.9468  -4.0906   0.3973 70000     41.4     252.7     \n",
       "alpha                   -0.0346  -0.1273   0.0532 70000     34.5     167.2     \n",
       "tau2.int                 0.3267   0.3077   0.3471 70000    100.0    5992.9     \n",
       "tau2.slo                 0.1442   0.1189   0.1711 70000    100.0    1051.4     \n",
       "rho.int                  0.4287   0.3752   0.4803 70000     37.1    3505.4     \n",
       "rho.slo                  0.7910   0.7394   0.8366 70000     46.6    1042.6     \n",
       "                        Geweke.diag\n",
       "(Intercept)              -2.7      \n",
       "ALAND                    -Inf      \n",
       "AWATER                    Inf      \n",
       "ACS_PCT_GRP_QRT           0.4      \n",
       "ACS_PCT_PRIVATE_2        -0.4      \n",
       "mean_temp                 0.0      \n",
       "ACS_PCT_MEDICARE_ONLY     3.5      \n",
       "ACS_PCT_PRIVATE_SELF     -0.8      \n",
       "ACS_PCT_MOBILE_HOME       0.6      \n",
       "NHC_DAILY_RES            -1.5      \n",
       "ACS_PCT_NON_CITIZEN       0.1      \n",
       "closest_station_index     0.1      \n",
       "ACS_PCT_TRICARE_VA        2.7      \n",
       "ACS_PCT_RETAIL           -0.7      \n",
       "ACS_PCT_VA_LABOR_FORCE   -0.6      \n",
       "ACS_PCT_INFORM           -1.6      \n",
       "ACS_PCT_COMMT_29MIN       2.0      \n",
       "ACS_PCT_PRIVATE_MDCR      2.0      \n",
       "ACS_PCT_COMMT_59MIN       1.9      \n",
       "AHRF_HPSA_MENTAL         -0.3      \n",
       "ACS_PCT_DIVORCE_SEPARAT  -2.2      \n",
       "ACS_PCT_TRANSPORT        -1.8      \n",
       "ACS_PCT_EDUC             -0.7      \n",
       "ACS_PCT_UNINSURED64     -14.2      \n",
       "CCBP_RATE_FSR_PER_1000   -1.1      \n",
       "distance_centroid         0.0      \n",
       "ACS_PCT_GRANDP_NO_RESPS   0.7      \n",
       "PM2.5                    -0.3      \n",
       "ACS_PCT_ASSOCIATE_DGR    -2.1      \n",
       "ACS_PCT_ADMIN            -0.7      \n",
       "⋮                       ⋮          \n",
       "ACS_PCT_GULFWAR_1990     0.9       \n",
       "ACS_PCT_HH_PUB_ASSIST    0.5       \n",
       "ACS_PCT_FEMALE           2.6       \n",
       "wind_speed              -1.5       \n",
       "ACS_PCT_RENT_COST_30PCT  1.3       \n",
       "ACS_PCT_CTZ_US_BORN      0.4       \n",
       "ACS_PCT_COMMT_60MINUP    2.8       \n",
       "ACS_PCT_RENTER_HH_CHILD -0.8       \n",
       "NHC_BEDCOUNT             1.3       \n",
       "NHC_LIC_STAFF           -1.3       \n",
       "ACS_PCT_10UNITS         -0.2       \n",
       "ACS_PCT_OTHER_INS        1.9       \n",
       "ACS_PCT_1UP_OWNER_1ROOM -2.9       \n",
       "ACS_PCT_OTHER            0.6       \n",
       "MP_ELIGIBLES            -4.9       \n",
       "CHR_ALCOHOL_DRIV_DEATH  -2.1       \n",
       "visibility              -0.2       \n",
       "ACS_MEDIAN_RENT         -0.6       \n",
       "ACS_PCT_DRIVE_2WORK     -2.2       \n",
       "ACS_PCT_WORK_NO_CAR      1.6       \n",
       "ACS_PCT_GRANDP_RESPS     0.6       \n",
       "ACS_PCT_ENGLISH         -1.7       \n",
       "ACS_PCT_CONSTRUCT       -1.8       \n",
       "ACS_PCT_HH_1PERS        -0.6       \n",
       "ACS_PCT_AGE_0_4         -2.2       \n",
       "alpha                    0.2       \n",
       "tau2.int                -0.4       \n",
       "tau2.slo                 3.7       \n",
       "rho.int                  4.6       \n",
       "rho.slo                 -3.0       "
      ]
     },
     "metadata": {},
     "output_type": "display_data"
    }
   ],
   "source": [
    "fit2$summary.results"
   ]
  },
  {
   "cell_type": "code",
   "execution_count": 6,
   "id": "279e9271-fd1d-4b26-9315-6e6666493f0a",
   "metadata": {},
   "outputs": [
    {
     "data": {
      "text/html": [
       "9087"
      ],
      "text/latex": [
       "9087"
      ],
      "text/markdown": [
       "9087"
      ],
      "text/plain": [
       "[1] 9087"
      ]
     },
     "metadata": {},
     "output_type": "display_data"
    }
   ],
   "source": [
    "length(fit2$fitted.values)"
   ]
  },
  {
   "cell_type": "code",
   "execution_count": 7,
   "id": "092849fc-d524-4f61-806d-8c280d37491d",
   "metadata": {},
   "outputs": [
    {
     "data": {
      "text/html": [
       "3029"
      ],
      "text/latex": [
       "3029"
      ],
      "text/markdown": [
       "3029"
      ],
      "text/plain": [
       "[1] 3029"
      ]
     },
     "metadata": {},
     "output_type": "display_data"
    }
   ],
   "source": [
    "length(fips_to_keep)"
   ]
  },
  {
   "cell_type": "code",
   "execution_count": 8,
   "id": "353c996e-4670-4f36-a1ad-47bded0a636d",
   "metadata": {},
   "outputs": [
    {
     "name": "stdout",
     "output_type": "stream",
     "text": [
      "List of 8\n",
      " $ beta  : 'mcmc' num [1:70000, 1:99] -12.1 -12.1 -12.1 -12 -12.1 ...\n",
      "  ..- attr(*, \"mcpar\")= num [1:3] 1 70000 1\n",
      " $ alpha : 'mcmc' num [1:70000, 1] -0.0624 -0.0624 -0.0681 -0.0681 -0.0681 ...\n",
      "  ..- attr(*, \"mcpar\")= num [1:3] 1 70000 1\n",
      " $ phi   : 'mcmc' num [1:70000, 1:3029] -0.465 -0.464 -0.454 -0.456 -0.331 ...\n",
      "  ..- attr(*, \"mcpar\")= num [1:3] 1 70000 1\n",
      " $ delta : 'mcmc' num [1:70000, 1:3029] 0.455 0.186 0.403 0.298 0.715 ...\n",
      "  ..- attr(*, \"mcpar\")= num [1:3] 1 70000 1\n",
      " $ tau2  : 'mcmc' num [1:70000, 1:2] 0.338 0.321 0.338 0.333 0.332 ...\n",
      "  ..- attr(*, \"dimnames\")=List of 2\n",
      "  .. ..$ : NULL\n",
      "  .. ..$ : chr [1:2] \"tau2.int\" \"tau2.slo\"\n",
      "  ..- attr(*, \"mcpar\")= num [1:3] 1 70000 1\n",
      " $ rho   : 'mcmc' num [1:70000, 1:2] 0.441 0.424 0.424 0.424 0.424 ...\n",
      "  ..- attr(*, \"dimnames\")=List of 2\n",
      "  .. ..$ : NULL\n",
      "  .. ..$ : chr [1:2] \"rho.int\" \"rho.slo\"\n",
      "  ..- attr(*, \"mcpar\")= num [1:3] 1 70000 1\n",
      " $ fitted: 'mcmc' num [1:70000, 1:9087] 9.04 9.89 9.23 9.43 9.15 ...\n",
      "  ..- attr(*, \"mcpar\")= num [1:3] 1 70000 1\n",
      " $ Y     : 'mcmc' logi NA\n",
      "  ..- attr(*, \"mcpar\")= num [1:3] 1 1 1\n"
     ]
    }
   ],
   "source": [
    "str(fit2$samples)"
   ]
  },
  {
   "cell_type": "code",
   "execution_count": 9,
   "id": "1923273e-d1a0-4443-8a77-941f6e3e7d51",
   "metadata": {},
   "outputs": [
    {
     "data": {
      "text/html": [
       "140000"
      ],
      "text/latex": [
       "140000"
      ],
      "text/markdown": [
       "140000"
      ],
      "text/plain": [
       "[1] 140000"
      ]
     },
     "metadata": {},
     "output_type": "display_data"
    }
   ],
   "source": [
    "length(fit2$samples$rho)"
   ]
  },
  {
   "cell_type": "code",
   "execution_count": 28,
   "id": "fe43c9d0-9f49-4963-ba64-6544c8beb8ba",
   "metadata": {},
   "outputs": [],
   "source": [
    "true_values <- read_csv(\"data/raw/suicide/2018.csv\", show_col_types=F) %>%\n",
    "        filter(fips %in% fips_to_keep) %>%\n",
    "        arrange(fips) %>%\n",
    "        select(Deaths) %>%\n",
    "        pull()\n"
   ]
  },
  {
   "cell_type": "code",
   "execution_count": 29,
   "id": "458b7de9-d558-44d5-9c15-e9e38be51a09",
   "metadata": {},
   "outputs": [],
   "source": [
    "fitted_values <- fit2$fitted[6059:9087]"
   ]
  },
  {
   "cell_type": "code",
   "execution_count": 30,
   "id": "c2ef39d5-ae1a-4acf-9892-936312a8e850",
   "metadata": {},
   "outputs": [],
   "source": [
    "results_df <- tibble(fitted_values = fitted_values, true_values = true_values, FIPSCODE = fips_to_keep)\n"
   ]
  },
  {
   "cell_type": "code",
   "execution_count": 31,
   "id": "5fc0d1d4-f292-4df0-864e-31afa2e975de",
   "metadata": {},
   "outputs": [
    {
     "data": {
      "text/html": [
       "<table class=\"dataframe\">\n",
       "<caption>A tibble: 6 × 3</caption>\n",
       "<thead>\n",
       "\t<tr><th scope=col>fitted_values</th><th scope=col>true_values</th><th scope=col>FIPSCODE</th></tr>\n",
       "\t<tr><th scope=col>&lt;dbl&gt;</th><th scope=col>&lt;dbl&gt;</th><th scope=col>&lt;chr&gt;</th></tr>\n",
       "</thead>\n",
       "<tbody>\n",
       "\t<tr><td>13.56079</td><td>11.00000</td><td>01001</td></tr>\n",
       "\t<tr><td>40.88320</td><td>44.00000</td><td>01003</td></tr>\n",
       "\t<tr><td>16.33542</td><td>14.00000</td><td>01005</td></tr>\n",
       "\t<tr><td>46.57536</td><td>47.33333</td><td>01007</td></tr>\n",
       "\t<tr><td>11.00114</td><td>10.00000</td><td>01009</td></tr>\n",
       "\t<tr><td>24.59934</td><td>19.00000</td><td>01011</td></tr>\n",
       "</tbody>\n",
       "</table>\n"
      ],
      "text/latex": [
       "A tibble: 6 × 3\n",
       "\\begin{tabular}{lll}\n",
       " fitted\\_values & true\\_values & FIPSCODE\\\\\n",
       " <dbl> & <dbl> & <chr>\\\\\n",
       "\\hline\n",
       "\t 13.56079 & 11.00000 & 01001\\\\\n",
       "\t 40.88320 & 44.00000 & 01003\\\\\n",
       "\t 16.33542 & 14.00000 & 01005\\\\\n",
       "\t 46.57536 & 47.33333 & 01007\\\\\n",
       "\t 11.00114 & 10.00000 & 01009\\\\\n",
       "\t 24.59934 & 19.00000 & 01011\\\\\n",
       "\\end{tabular}\n"
      ],
      "text/markdown": [
       "\n",
       "A tibble: 6 × 3\n",
       "\n",
       "| fitted_values &lt;dbl&gt; | true_values &lt;dbl&gt; | FIPSCODE &lt;chr&gt; |\n",
       "|---|---|---|\n",
       "| 13.56079 | 11.00000 | 01001 |\n",
       "| 40.88320 | 44.00000 | 01003 |\n",
       "| 16.33542 | 14.00000 | 01005 |\n",
       "| 46.57536 | 47.33333 | 01007 |\n",
       "| 11.00114 | 10.00000 | 01009 |\n",
       "| 24.59934 | 19.00000 | 01011 |\n",
       "\n"
      ],
      "text/plain": [
       "  fitted_values true_values FIPSCODE\n",
       "1 13.56079      11.00000    01001   \n",
       "2 40.88320      44.00000    01003   \n",
       "3 16.33542      14.00000    01005   \n",
       "4 46.57536      47.33333    01007   \n",
       "5 11.00114      10.00000    01009   \n",
       "6 24.59934      19.00000    01011   "
      ]
     },
     "metadata": {},
     "output_type": "display_data"
    }
   ],
   "source": [
    "head(results_df)"
   ]
  },
  {
   "cell_type": "code",
   "execution_count": 32,
   "id": "c1c2cc1c-266a-44fd-bd3c-b1bc29bea793",
   "metadata": {},
   "outputs": [],
   "source": [
    "top_true <- results_df %>%\n",
    "    arrange(desc(true_values)) %>%\n",
    "    head(6) %>%\n",
    "    mutate(top5_true = 1)"
   ]
  },
  {
   "cell_type": "code",
   "execution_count": 33,
   "id": "b8bd4608-4699-4926-9ebf-2b3c68f42b9a",
   "metadata": {},
   "outputs": [
    {
     "data": {
      "text/html": [
       "<table class=\"dataframe\">\n",
       "<caption>A tibble: 6 × 4</caption>\n",
       "<thead>\n",
       "\t<tr><th scope=col>fitted_values</th><th scope=col>true_values</th><th scope=col>FIPSCODE</th><th scope=col>top5_true</th></tr>\n",
       "\t<tr><th scope=col>&lt;dbl&gt;</th><th scope=col>&lt;dbl&gt;</th><th scope=col>&lt;chr&gt;</th><th scope=col>&lt;dbl&gt;</th></tr>\n",
       "</thead>\n",
       "<tbody>\n",
       "\t<tr><td>853.5600</td><td>947</td><td>06037</td><td>1</td></tr>\n",
       "\t<tr><td>672.6854</td><td>737</td><td>04013</td><td>1</td></tr>\n",
       "\t<tr><td>486.9012</td><td>481</td><td>48201</td><td>1</td></tr>\n",
       "\t<tr><td>410.0783</td><td>465</td><td>32003</td><td>1</td></tr>\n",
       "\t<tr><td>432.0675</td><td>459</td><td>17031</td><td>1</td></tr>\n",
       "\t<tr><td>416.3312</td><td>448</td><td>06073</td><td>1</td></tr>\n",
       "</tbody>\n",
       "</table>\n"
      ],
      "text/latex": [
       "A tibble: 6 × 4\n",
       "\\begin{tabular}{llll}\n",
       " fitted\\_values & true\\_values & FIPSCODE & top5\\_true\\\\\n",
       " <dbl> & <dbl> & <chr> & <dbl>\\\\\n",
       "\\hline\n",
       "\t 853.5600 & 947 & 06037 & 1\\\\\n",
       "\t 672.6854 & 737 & 04013 & 1\\\\\n",
       "\t 486.9012 & 481 & 48201 & 1\\\\\n",
       "\t 410.0783 & 465 & 32003 & 1\\\\\n",
       "\t 432.0675 & 459 & 17031 & 1\\\\\n",
       "\t 416.3312 & 448 & 06073 & 1\\\\\n",
       "\\end{tabular}\n"
      ],
      "text/markdown": [
       "\n",
       "A tibble: 6 × 4\n",
       "\n",
       "| fitted_values &lt;dbl&gt; | true_values &lt;dbl&gt; | FIPSCODE &lt;chr&gt; | top5_true &lt;dbl&gt; |\n",
       "|---|---|---|---|\n",
       "| 853.5600 | 947 | 06037 | 1 |\n",
       "| 672.6854 | 737 | 04013 | 1 |\n",
       "| 486.9012 | 481 | 48201 | 1 |\n",
       "| 410.0783 | 465 | 32003 | 1 |\n",
       "| 432.0675 | 459 | 17031 | 1 |\n",
       "| 416.3312 | 448 | 06073 | 1 |\n",
       "\n"
      ],
      "text/plain": [
       "  fitted_values true_values FIPSCODE top5_true\n",
       "1 853.5600      947         06037    1        \n",
       "2 672.6854      737         04013    1        \n",
       "3 486.9012      481         48201    1        \n",
       "4 410.0783      465         32003    1        \n",
       "5 432.0675      459         17031    1        \n",
       "6 416.3312      448         06073    1        "
      ]
     },
     "metadata": {},
     "output_type": "display_data"
    }
   ],
   "source": [
    "top_true"
   ]
  },
  {
   "cell_type": "code",
   "execution_count": 35,
   "id": "0cc4da52-a370-478d-b267-d617df7c3400",
   "metadata": {},
   "outputs": [
    {
     "data": {
      "text/html": [
       "<table class=\"dataframe\">\n",
       "<caption>A tibble: 6 × 3</caption>\n",
       "<thead>\n",
       "\t<tr><th scope=col>fitted_values</th><th scope=col>true_values</th><th scope=col>FIPSCODE</th></tr>\n",
       "\t<tr><th scope=col>&lt;dbl&gt;</th><th scope=col>&lt;dbl&gt;</th><th scope=col>&lt;chr&gt;</th></tr>\n",
       "</thead>\n",
       "<tbody>\n",
       "\t<tr><td>853.5600</td><td>947</td><td>06037</td></tr>\n",
       "\t<tr><td>672.6854</td><td>737</td><td>04013</td></tr>\n",
       "\t<tr><td>486.9012</td><td>481</td><td>48201</td></tr>\n",
       "\t<tr><td>432.0675</td><td>459</td><td>17031</td></tr>\n",
       "\t<tr><td>416.3312</td><td>448</td><td>06073</td></tr>\n",
       "\t<tr><td>410.0783</td><td>465</td><td>32003</td></tr>\n",
       "</tbody>\n",
       "</table>\n"
      ],
      "text/latex": [
       "A tibble: 6 × 3\n",
       "\\begin{tabular}{lll}\n",
       " fitted\\_values & true\\_values & FIPSCODE\\\\\n",
       " <dbl> & <dbl> & <chr>\\\\\n",
       "\\hline\n",
       "\t 853.5600 & 947 & 06037\\\\\n",
       "\t 672.6854 & 737 & 04013\\\\\n",
       "\t 486.9012 & 481 & 48201\\\\\n",
       "\t 432.0675 & 459 & 17031\\\\\n",
       "\t 416.3312 & 448 & 06073\\\\\n",
       "\t 410.0783 & 465 & 32003\\\\\n",
       "\\end{tabular}\n"
      ],
      "text/markdown": [
       "\n",
       "A tibble: 6 × 3\n",
       "\n",
       "| fitted_values &lt;dbl&gt; | true_values &lt;dbl&gt; | FIPSCODE &lt;chr&gt; |\n",
       "|---|---|---|\n",
       "| 853.5600 | 947 | 06037 |\n",
       "| 672.6854 | 737 | 04013 |\n",
       "| 486.9012 | 481 | 48201 |\n",
       "| 432.0675 | 459 | 17031 |\n",
       "| 416.3312 | 448 | 06073 |\n",
       "| 410.0783 | 465 | 32003 |\n",
       "\n"
      ],
      "text/plain": [
       "  fitted_values true_values FIPSCODE\n",
       "1 853.5600      947         06037   \n",
       "2 672.6854      737         04013   \n",
       "3 486.9012      481         48201   \n",
       "4 432.0675      459         17031   \n",
       "5 416.3312      448         06073   \n",
       "6 410.0783      465         32003   "
      ]
     },
     "metadata": {},
     "output_type": "display_data"
    }
   ],
   "source": [
    "top_fitted <- results_df %>%\n",
    "    arrange(desc(fitted_values)) %>%\n",
    "    head(6)\n",
    "top_fitted"
   ]
  },
  {
   "cell_type": "markdown",
   "id": "6982de64-4718-4af7-ad93-00c96d61abbd",
   "metadata": {},
   "source": [
    "# Residual Analysis"
   ]
  },
  {
   "cell_type": "code",
   "execution_count": 34,
   "id": "315fb68d-abd0-4efb-9186-f739e93af29f",
   "metadata": {},
   "outputs": [
    {
     "data": {
      "image/png": "[encoded data removed]",
      "text/plain": [
       "plot without title"
      ]
     },
     "metadata": {
      "image/png": {
       "height": 420,
       "width": 420
      }
     },
     "output_type": "display_data"
    }
   ],
   "source": [
    "plot(fit2$fitted, fit2$residuals$response)"
   ]
  },
  {
   "cell_type": "code",
   "execution_count": 38,
   "id": "da6b7ce6-f3cf-41e9-930f-15034a9687d3",
   "metadata": {},
   "outputs": [
    {
     "data": {
      "image/png": "[encoded data removed]",
      "text/plain": [
       "Plot with title “Series  fit2$residuals$response”"
      ]
     },
     "metadata": {
      "image/png": {
       "height": 420,
       "width": 420
      }
     },
     "output_type": "display_data"
    }
   ],
   "source": [
    "acf(fit2$residuals$response,ylim=c(0,0.5))"
   ]
  },
  {
   "cell_type": "code",
   "execution_count": 40,
   "id": "a938d537-7be4-469a-b031-954387c43b87",
   "metadata": {},
   "outputs": [
    {
     "data": {
      "image/png": "[encoded data removed]",
      "text/plain": [
       "Plot with title “Series  fit2$residuals$response”"
      ]
     },
     "metadata": {
      "image/png": {
       "height": 420,
       "width": 420
      }
     },
     "output_type": "display_data"
    }
   ],
   "source": [
    "acf(fit2$residuals$response,\"partial\")\n",
    "# correlation after AR1 is accounted for"
   ]
  },
  {
   "cell_type": "markdown",
   "id": "a7f5792d-b06d-4200-8483-56f3e29e1659",
   "metadata": {},
   "source": [
    "# Coefficients\n",
    "Order by effect size of the coefficient (note: coefficients have not been standardized)"
   ]
  },
  {
   "cell_type": "code",
   "execution_count": 58,
   "id": "a56d2b42-4737-45ec-98cb-e248dda341a9",
   "metadata": {},
   "outputs": [
    {
     "data": {
      "text/html": [
       "<table class=\"dataframe\">\n",
       "<caption>A tibble: 104 × 7</caption>\n",
       "<thead>\n",
       "\t<tr><th></th><th scope=col>Mean</th><th scope=col>2.5%</th><th scope=col>97.5%</th><th scope=col>n.sample</th><th scope=col>% accept</th><th scope=col>n.effective</th><th scope=col>Geweke.diag</th></tr>\n",
       "\t<tr><th></th><th scope=col>&lt;dbl&gt;</th><th scope=col>&lt;dbl&gt;</th><th scope=col>&lt;dbl&gt;</th><th scope=col>&lt;dbl&gt;</th><th scope=col>&lt;dbl&gt;</th><th scope=col>&lt;dbl&gt;</th><th scope=col>&lt;dbl&gt;</th></tr>\n",
       "</thead>\n",
       "<tbody>\n",
       "\t<tr><th scope=row>(Intercept)</th><td>-10.4573</td><td>-12.1540</td><td>-9.0986</td><td>70000</td><td>41.4</td><td> 96.0</td><td> -2.7</td></tr>\n",
       "\t<tr><th scope=row>ACS_PCT_TRICARE_VA</th><td>  7.8825</td><td> -0.2995</td><td>15.8647</td><td>70000</td><td>41.4</td><td>  5.5</td><td>  2.7</td></tr>\n",
       "\t<tr><th scope=row>ACS_PCT_UNINSURED</th><td>  6.8593</td><td>  2.9254</td><td>11.9641</td><td>70000</td><td>41.4</td><td>  3.8</td><td> 13.4</td></tr>\n",
       "\t<tr><th scope=row>ACS_PCT_TRICARE_VA64</th><td> -5.7948</td><td>-12.7554</td><td> 1.3657</td><td>70000</td><td>41.4</td><td>  6.5</td><td> -2.9</td></tr>\n",
       "\t<tr><th scope=row>CCBP_RATE_CS_PER_1000</th><td> -5.4911</td><td>-10.7442</td><td>-1.8487</td><td>70000</td><td>41.4</td><td> 39.0</td><td>  0.2</td></tr>\n",
       "\t<tr><th scope=row>CHR_DENTISTS_NUM</th><td>  5.3659</td><td>  4.3049</td><td> 6.7763</td><td>70000</td><td>41.4</td><td>  2.1</td><td> -2.6</td></tr>\n",
       "\t<tr><th scope=row>ACS_TOTAL_HOUSEHOLD</th><td> -5.3335</td><td> -6.6735</td><td>-4.3479</td><td>70000</td><td>41.4</td><td>  2.0</td><td>  2.6</td></tr>\n",
       "\t<tr><th scope=row>ACS_PCT_UNINSURED64</th><td> -5.0558</td><td> -9.1668</td><td>-1.9105</td><td>70000</td><td>41.4</td><td>  4.6</td><td>-14.2</td></tr>\n",
       "\t<tr><th scope=row>ACS_PCT_PUBLIC_OTHER</th><td>  3.9199</td><td> -0.2213</td><td> 7.8187</td><td>70000</td><td>41.4</td><td>484.3</td><td>  2.9</td></tr>\n",
       "\t<tr><th scope=row>ACS_PCT_PRIVATE_MDCR</th><td> -3.5935</td><td> -5.2757</td><td>-1.9101</td><td>70000</td><td>41.4</td><td>250.4</td><td>  2.0</td></tr>\n",
       "\t<tr><th scope=row>ACS_PCT_AGE_0_17</th><td>  3.5476</td><td>  2.1272</td><td> 4.8072</td><td>70000</td><td>41.4</td><td>112.7</td><td>  0.2</td></tr>\n",
       "\t<tr><th scope=row>ACS_PCT_WHOLESALE</th><td>  3.5102</td><td>  2.1047</td><td> 4.9303</td><td>70000</td><td>41.4</td><td>566.5</td><td>  0.7</td></tr>\n",
       "\t<tr><th scope=row>CHR_MENTAL_DR_RATE</th><td> -3.4644</td><td> -5.1808</td><td>-1.7350</td><td>70000</td><td>41.4</td><td>202.7</td><td>  1.7</td></tr>\n",
       "\t<tr><th scope=row>ACS_PCT_AGE_65UP</th><td>  3.2169</td><td>  1.8346</td><td> 4.7579</td><td>70000</td><td>41.4</td><td> 42.1</td><td>  1.7</td></tr>\n",
       "\t<tr><th scope=row>ACS_PCT_NATURE</th><td>  2.6455</td><td>  1.8715</td><td> 3.6305</td><td>70000</td><td>41.4</td><td> 63.2</td><td> -1.1</td></tr>\n",
       "\t<tr><th scope=row>ACS_PCT_PRIVATE_2</th><td>  2.3630</td><td>  0.6900</td><td> 4.0431</td><td>70000</td><td>41.4</td><td>917.8</td><td> -0.4</td></tr>\n",
       "\t<tr><th scope=row>ACS_PCT_CTZ_US_BORN</th><td>  2.3521</td><td>  1.2867</td><td> 3.8627</td><td>70000</td><td>41.4</td><td> 19.9</td><td>  0.4</td></tr>\n",
       "\t<tr><th scope=row>ACS_PCT_ADMIN</th><td>  2.3197</td><td>  1.3409</td><td> 3.5398</td><td>70000</td><td>41.4</td><td>153.9</td><td> -0.7</td></tr>\n",
       "\t<tr><th scope=row>ACS_PCT_COMMT_29MIN</th><td> -2.1590</td><td> -3.0531</td><td>-1.1366</td><td>70000</td><td>41.4</td><td> 23.5</td><td>  2.0</td></tr>\n",
       "\t<tr><th scope=row>ACS_PCT_NON_CITIZEN</th><td>  2.0096</td><td>  0.3048</td><td> 3.8514</td><td>70000</td><td>41.4</td><td> 40.7</td><td>  0.1</td></tr>\n",
       "\t<tr><th scope=row>ACS_PCT_AGE_0_4</th><td> -1.9468</td><td> -4.0906</td><td> 0.3973</td><td>70000</td><td>41.4</td><td>252.7</td><td> -2.2</td></tr>\n",
       "\t<tr><th scope=row>ACS_PCT_TRANSPORT</th><td>  1.9194</td><td>  0.9119</td><td> 2.9773</td><td>70000</td><td>41.4</td><td>288.7</td><td> -1.8</td></tr>\n",
       "\t<tr><th scope=row>ACS_PCT_PRIVATE_SELF</th><td>  1.8529</td><td>  1.1037</td><td> 2.5381</td><td>70000</td><td>41.4</td><td>272.0</td><td> -0.8</td></tr>\n",
       "\t<tr><th scope=row>ACS_PCT_VA</th><td> -1.8283</td><td> -3.0119</td><td>-0.6115</td><td>70000</td><td>41.4</td><td>148.3</td><td>  0.9</td></tr>\n",
       "\t<tr><th scope=row>CCBP_RATE_FSR_PER_1000</th><td>  1.8243</td><td> -1.3142</td><td> 4.9992</td><td>70000</td><td>41.4</td><td>656.7</td><td> -1.1</td></tr>\n",
       "\t<tr><th scope=row>ACS_PCT_GRP_QRT</th><td>  1.4852</td><td>  0.6287</td><td> 2.3227</td><td>70000</td><td>41.4</td><td>156.0</td><td>  0.4</td></tr>\n",
       "\t<tr><th scope=row>CHR_DENTIST_RATE</th><td> -1.3876</td><td> -2.1683</td><td>-0.5065</td><td>70000</td><td>41.4</td><td>252.1</td><td>  1.0</td></tr>\n",
       "\t<tr><th scope=row>ACS_PCT_OTH_EURP</th><td> -1.3170</td><td> -2.4352</td><td>-0.2285</td><td>70000</td><td>41.4</td><td>215.6</td><td> -3.8</td></tr>\n",
       "\t<tr><th scope=row>NHC_BEDCOUNT</th><td> -1.3007</td><td> -1.7262</td><td>-0.7725</td><td>70000</td><td>41.4</td><td> 54.8</td><td>  1.3</td></tr>\n",
       "\t<tr><th scope=row>ACS_PCT_MULT_RACE</th><td> -1.0292</td><td> -2.1661</td><td> 0.0987</td><td>70000</td><td>41.4</td><td>408.2</td><td>  1.1</td></tr>\n",
       "\t<tr><th scope=row>⋮</th><td>⋮</td><td>⋮</td><td>⋮</td><td>⋮</td><td>⋮</td><td>⋮</td><td>⋮</td></tr>\n",
       "\t<tr><th scope=row>closest_station_index</th><td>-0.1540</td><td>-0.3209</td><td> 0.0107</td><td>70000</td><td> 41.4</td><td> 249.2</td><td> 0.1</td></tr>\n",
       "\t<tr><th scope=row>ACS_PCT_VA_POOR</th><td> 0.1514</td><td>-0.0306</td><td> 0.3278</td><td>70000</td><td> 41.4</td><td> 910.2</td><td>-0.3</td></tr>\n",
       "\t<tr><th scope=row>ACS_PCT_1UP_OWNER_1ROOM</th><td> 0.1455</td><td>-2.7008</td><td> 3.0601</td><td>70000</td><td> 41.4</td><td>   9.4</td><td>-2.9</td></tr>\n",
       "\t<tr><th scope=row>tau2.slo</th><td> 0.1442</td><td> 0.1189</td><td> 0.1711</td><td>70000</td><td>100.0</td><td>1051.4</td><td> 3.7</td></tr>\n",
       "\t<tr><th scope=row>ACS_PCT_CHILD_DISAB</th><td>-0.1189</td><td>-0.7543</td><td> 0.5200</td><td>70000</td><td> 41.4</td><td> 921.9</td><td> 0.9</td></tr>\n",
       "\t<tr><th scope=row>ACS_PCT_VA_COLLEGE</th><td>-0.1115</td><td>-0.3210</td><td> 0.0978</td><td>70000</td><td> 41.4</td><td> 831.3</td><td> 2.0</td></tr>\n",
       "\t<tr><th scope=row>ACS_PCT_COMMT_15MIN</th><td>-0.1017</td><td>-0.9326</td><td> 0.8833</td><td>70000</td><td> 41.4</td><td>   8.6</td><td> 1.2</td></tr>\n",
       "\t<tr><th scope=row>ACS_PCT_GULFWAR_2001</th><td> 0.0736</td><td>-0.1824</td><td> 0.3339</td><td>70000</td><td> 41.4</td><td> 492.9</td><td>-2.0</td></tr>\n",
       "\t<tr><th scope=row>ACS_PCT_COMMT_60MINUP</th><td> 0.0701</td><td>-0.8134</td><td> 1.1422</td><td>70000</td><td> 41.4</td><td>  46.5</td><td> 2.8</td></tr>\n",
       "\t<tr><th scope=row>CHR_ALCOHOL_DRIV_DEATH</th><td>-0.0649</td><td>-0.1395</td><td> 0.0154</td><td>70000</td><td> 41.4</td><td> 119.5</td><td>-2.1</td></tr>\n",
       "\t<tr><th scope=row>ACS_PCT_RENTER_65UP</th><td>-0.0647</td><td>-0.3803</td><td> 0.2368</td><td>70000</td><td> 41.4</td><td> 541.2</td><td> 1.2</td></tr>\n",
       "\t<tr><th scope=row>ACS_PCT_MANUFACT</th><td> 0.0545</td><td>-0.6401</td><td> 0.9159</td><td>70000</td><td> 41.4</td><td>  60.5</td><td>-0.4</td></tr>\n",
       "\t<tr><th scope=row>ACS_PCT_VA_DISABLE</th><td>-0.0540</td><td>-0.2014</td><td> 0.0866</td><td>70000</td><td> 41.4</td><td> 829.8</td><td>-1.2</td></tr>\n",
       "\t<tr><th scope=row>ACS_PCT_GRANDP_NO_RESPS</th><td>-0.0362</td><td>-0.1554</td><td> 0.0849</td><td>70000</td><td> 41.4</td><td> 272.8</td><td> 0.7</td></tr>\n",
       "\t<tr><th scope=row>alpha</th><td>-0.0346</td><td>-0.1273</td><td> 0.0532</td><td>70000</td><td> 34.5</td><td> 167.2</td><td> 0.2</td></tr>\n",
       "\t<tr><th scope=row>ACS_PCT_VA_LABOR_FORCE</th><td>-0.0246</td><td>-0.1761</td><td> 0.1298</td><td>70000</td><td> 41.4</td><td> 471.1</td><td>-0.6</td></tr>\n",
       "\t<tr><th scope=row>mean_temp</th><td>-0.0241</td><td>-0.2084</td><td> 0.1590</td><td>70000</td><td> 41.4</td><td> 268.0</td><td> 0.0</td></tr>\n",
       "\t<tr><th scope=row>ACS_PCT_HH_PUB_ASSIST</th><td>-0.0225</td><td>-1.2008</td><td> 1.2034</td><td>70000</td><td> 41.4</td><td> 337.6</td><td> 0.5</td></tr>\n",
       "\t<tr><th scope=row>ACS_PCT_GRANDP_RESPS_NO_P</th><td> 0.0215</td><td>-0.0969</td><td> 0.1429</td><td>70000</td><td> 41.4</td><td> 409.5</td><td> 0.7</td></tr>\n",
       "\t<tr><th scope=row>ACS_MEDIAN_RENT</th><td> 0.0208</td><td>-0.1229</td><td> 0.1554</td><td>70000</td><td> 41.4</td><td> 269.7</td><td>-0.6</td></tr>\n",
       "\t<tr><th scope=row>ACS_PCT_MEDICARE_ONLY</th><td> 0.0163</td><td>-1.2272</td><td> 1.2557</td><td>70000</td><td> 41.4</td><td> 318.2</td><td> 3.5</td></tr>\n",
       "\t<tr><th scope=row>ACS_PCT_GRANDP_RESPS</th><td>-0.0120</td><td>-0.1347</td><td> 0.1146</td><td>70000</td><td> 41.4</td><td> 209.8</td><td> 0.6</td></tr>\n",
       "\t<tr><th scope=row>AHRF_HPSA_MENTAL</th><td>-0.0111</td><td>-0.0588</td><td> 0.0375</td><td>70000</td><td> 41.4</td><td> 678.8</td><td>-0.3</td></tr>\n",
       "\t<tr><th scope=row>visibility</th><td>-0.0063</td><td>-0.1043</td><td> 0.0910</td><td>70000</td><td> 41.4</td><td> 229.8</td><td>-0.2</td></tr>\n",
       "\t<tr><th scope=row>distance_centroid</th><td> 0.0050</td><td> 0.0029</td><td> 0.0068</td><td>70000</td><td> 41.4</td><td>  74.3</td><td> 0.0</td></tr>\n",
       "\t<tr><th scope=row>duration_mins_mp_VAMC</th><td>-0.0010</td><td>-0.0017</td><td>-0.0004</td><td>70000</td><td> 41.4</td><td>  63.1</td><td> 0.3</td></tr>\n",
       "\t<tr><th scope=row>duration_mins_mp_mental</th><td> 0.0007</td><td> 0.0000</td><td> 0.0015</td><td>70000</td><td> 41.4</td><td>  63.2</td><td>-0.7</td></tr>\n",
       "\t<tr><th scope=row>duration_mins_centroid</th><td> 0.0004</td><td>-0.0014</td><td> 0.0025</td><td>70000</td><td> 41.4</td><td>  78.5</td><td> 0.8</td></tr>\n",
       "\t<tr><th scope=row>ALAND</th><td> 0.0000</td><td> 0.0000</td><td> 0.0000</td><td>70000</td><td> 41.4</td><td>   0.0</td><td>-Inf</td></tr>\n",
       "\t<tr><th scope=row>AWATER</th><td> 0.0000</td><td> 0.0000</td><td> 0.0000</td><td>70000</td><td> 41.4</td><td>   0.0</td><td> Inf</td></tr>\n",
       "</tbody>\n",
       "</table>\n"
      ],
      "text/latex": [
       "A tibble: 104 × 7\n",
       "\\begin{tabular}{r|lllllll}\n",
       "  & Mean & 2.5\\% & 97.5\\% & n.sample & \\% accept & n.effective & Geweke.diag\\\\\n",
       "  & <dbl> & <dbl> & <dbl> & <dbl> & <dbl> & <dbl> & <dbl>\\\\\n",
       "\\hline\n",
       "\t(Intercept) & -10.4573 & -12.1540 & -9.0986 & 70000 & 41.4 &  96.0 &  -2.7\\\\\n",
       "\tACS\\_PCT\\_TRICARE\\_VA &   7.8825 &  -0.2995 & 15.8647 & 70000 & 41.4 &   5.5 &   2.7\\\\\n",
       "\tACS\\_PCT\\_UNINSURED &   6.8593 &   2.9254 & 11.9641 & 70000 & 41.4 &   3.8 &  13.4\\\\\n",
       "\tACS\\_PCT\\_TRICARE\\_VA64 &  -5.7948 & -12.7554 &  1.3657 & 70000 & 41.4 &   6.5 &  -2.9\\\\\n",
       "\tCCBP\\_RATE\\_CS\\_PER\\_1000 &  -5.4911 & -10.7442 & -1.8487 & 70000 & 41.4 &  39.0 &   0.2\\\\\n",
       "\tCHR\\_DENTISTS\\_NUM &   5.3659 &   4.3049 &  6.7763 & 70000 & 41.4 &   2.1 &  -2.6\\\\\n",
       "\tACS\\_TOTAL\\_HOUSEHOLD &  -5.3335 &  -6.6735 & -4.3479 & 70000 & 41.4 &   2.0 &   2.6\\\\\n",
       "\tACS\\_PCT\\_UNINSURED64 &  -5.0558 &  -9.1668 & -1.9105 & 70000 & 41.4 &   4.6 & -14.2\\\\\n",
       "\tACS\\_PCT\\_PUBLIC\\_OTHER &   3.9199 &  -0.2213 &  7.8187 & 70000 & 41.4 & 484.3 &   2.9\\\\\n",
       "\tACS\\_PCT\\_PRIVATE\\_MDCR &  -3.5935 &  -5.2757 & -1.9101 & 70000 & 41.4 & 250.4 &   2.0\\\\\n",
       "\tACS\\_PCT\\_AGE\\_0\\_17 &   3.5476 &   2.1272 &  4.8072 & 70000 & 41.4 & 112.7 &   0.2\\\\\n",
       "\tACS\\_PCT\\_WHOLESALE &   3.5102 &   2.1047 &  4.9303 & 70000 & 41.4 & 566.5 &   0.7\\\\\n",
       "\tCHR\\_MENTAL\\_DR\\_RATE &  -3.4644 &  -5.1808 & -1.7350 & 70000 & 41.4 & 202.7 &   1.7\\\\\n",
       "\tACS\\_PCT\\_AGE\\_65UP &   3.2169 &   1.8346 &  4.7579 & 70000 & 41.4 &  42.1 &   1.7\\\\\n",
       "\tACS\\_PCT\\_NATURE &   2.6455 &   1.8715 &  3.6305 & 70000 & 41.4 &  63.2 &  -1.1\\\\\n",
       "\tACS\\_PCT\\_PRIVATE\\_2 &   2.3630 &   0.6900 &  4.0431 & 70000 & 41.4 & 917.8 &  -0.4\\\\\n",
       "\tACS\\_PCT\\_CTZ\\_US\\_BORN &   2.3521 &   1.2867 &  3.8627 & 70000 & 41.4 &  19.9 &   0.4\\\\\n",
       "\tACS\\_PCT\\_ADMIN &   2.3197 &   1.3409 &  3.5398 & 70000 & 41.4 & 153.9 &  -0.7\\\\\n",
       "\tACS\\_PCT\\_COMMT\\_29MIN &  -2.1590 &  -3.0531 & -1.1366 & 70000 & 41.4 &  23.5 &   2.0\\\\\n",
       "\tACS\\_PCT\\_NON\\_CITIZEN &   2.0096 &   0.3048 &  3.8514 & 70000 & 41.4 &  40.7 &   0.1\\\\\n",
       "\tACS\\_PCT\\_AGE\\_0\\_4 &  -1.9468 &  -4.0906 &  0.3973 & 70000 & 41.4 & 252.7 &  -2.2\\\\\n",
       "\tACS\\_PCT\\_TRANSPORT &   1.9194 &   0.9119 &  2.9773 & 70000 & 41.4 & 288.7 &  -1.8\\\\\n",
       "\tACS\\_PCT\\_PRIVATE\\_SELF &   1.8529 &   1.1037 &  2.5381 & 70000 & 41.4 & 272.0 &  -0.8\\\\\n",
       "\tACS\\_PCT\\_VA &  -1.8283 &  -3.0119 & -0.6115 & 70000 & 41.4 & 148.3 &   0.9\\\\\n",
       "\tCCBP\\_RATE\\_FSR\\_PER\\_1000 &   1.8243 &  -1.3142 &  4.9992 & 70000 & 41.4 & 656.7 &  -1.1\\\\\n",
       "\tACS\\_PCT\\_GRP\\_QRT &   1.4852 &   0.6287 &  2.3227 & 70000 & 41.4 & 156.0 &   0.4\\\\\n",
       "\tCHR\\_DENTIST\\_RATE &  -1.3876 &  -2.1683 & -0.5065 & 70000 & 41.4 & 252.1 &   1.0\\\\\n",
       "\tACS\\_PCT\\_OTH\\_EURP &  -1.3170 &  -2.4352 & -0.2285 & 70000 & 41.4 & 215.6 &  -3.8\\\\\n",
       "\tNHC\\_BEDCOUNT &  -1.3007 &  -1.7262 & -0.7725 & 70000 & 41.4 &  54.8 &   1.3\\\\\n",
       "\tACS\\_PCT\\_MULT\\_RACE &  -1.0292 &  -2.1661 &  0.0987 & 70000 & 41.4 & 408.2 &   1.1\\\\\n",
       "\t⋮ & ⋮ & ⋮ & ⋮ & ⋮ & ⋮ & ⋮ & ⋮\\\\\n",
       "\tclosest\\_station\\_index & -0.1540 & -0.3209 &  0.0107 & 70000 &  41.4 &  249.2 &  0.1\\\\\n",
       "\tACS\\_PCT\\_VA\\_POOR &  0.1514 & -0.0306 &  0.3278 & 70000 &  41.4 &  910.2 & -0.3\\\\\n",
       "\tACS\\_PCT\\_1UP\\_OWNER\\_1ROOM &  0.1455 & -2.7008 &  3.0601 & 70000 &  41.4 &    9.4 & -2.9\\\\\n",
       "\ttau2.slo &  0.1442 &  0.1189 &  0.1711 & 70000 & 100.0 & 1051.4 &  3.7\\\\\n",
       "\tACS\\_PCT\\_CHILD\\_DISAB & -0.1189 & -0.7543 &  0.5200 & 70000 &  41.4 &  921.9 &  0.9\\\\\n",
       "\tACS\\_PCT\\_VA\\_COLLEGE & -0.1115 & -0.3210 &  0.0978 & 70000 &  41.4 &  831.3 &  2.0\\\\\n",
       "\tACS\\_PCT\\_COMMT\\_15MIN & -0.1017 & -0.9326 &  0.8833 & 70000 &  41.4 &    8.6 &  1.2\\\\\n",
       "\tACS\\_PCT\\_GULFWAR\\_2001 &  0.0736 & -0.1824 &  0.3339 & 70000 &  41.4 &  492.9 & -2.0\\\\\n",
       "\tACS\\_PCT\\_COMMT\\_60MINUP &  0.0701 & -0.8134 &  1.1422 & 70000 &  41.4 &   46.5 &  2.8\\\\\n",
       "\tCHR\\_ALCOHOL\\_DRIV\\_DEATH & -0.0649 & -0.1395 &  0.0154 & 70000 &  41.4 &  119.5 & -2.1\\\\\n",
       "\tACS\\_PCT\\_RENTER\\_65UP & -0.0647 & -0.3803 &  0.2368 & 70000 &  41.4 &  541.2 &  1.2\\\\\n",
       "\tACS\\_PCT\\_MANUFACT &  0.0545 & -0.6401 &  0.9159 & 70000 &  41.4 &   60.5 & -0.4\\\\\n",
       "\tACS\\_PCT\\_VA\\_DISABLE & -0.0540 & -0.2014 &  0.0866 & 70000 &  41.4 &  829.8 & -1.2\\\\\n",
       "\tACS\\_PCT\\_GRANDP\\_NO\\_RESPS & -0.0362 & -0.1554 &  0.0849 & 70000 &  41.4 &  272.8 &  0.7\\\\\n",
       "\talpha & -0.0346 & -0.1273 &  0.0532 & 70000 &  34.5 &  167.2 &  0.2\\\\\n",
       "\tACS\\_PCT\\_VA\\_LABOR\\_FORCE & -0.0246 & -0.1761 &  0.1298 & 70000 &  41.4 &  471.1 & -0.6\\\\\n",
       "\tmean\\_temp & -0.0241 & -0.2084 &  0.1590 & 70000 &  41.4 &  268.0 &  0.0\\\\\n",
       "\tACS\\_PCT\\_HH\\_PUB\\_ASSIST & -0.0225 & -1.2008 &  1.2034 & 70000 &  41.4 &  337.6 &  0.5\\\\\n",
       "\tACS\\_PCT\\_GRANDP\\_RESPS\\_NO\\_P &  0.0215 & -0.0969 &  0.1429 & 70000 &  41.4 &  409.5 &  0.7\\\\\n",
       "\tACS\\_MEDIAN\\_RENT &  0.0208 & -0.1229 &  0.1554 & 70000 &  41.4 &  269.7 & -0.6\\\\\n",
       "\tACS\\_PCT\\_MEDICARE\\_ONLY &  0.0163 & -1.2272 &  1.2557 & 70000 &  41.4 &  318.2 &  3.5\\\\\n",
       "\tACS\\_PCT\\_GRANDP\\_RESPS & -0.0120 & -0.1347 &  0.1146 & 70000 &  41.4 &  209.8 &  0.6\\\\\n",
       "\tAHRF\\_HPSA\\_MENTAL & -0.0111 & -0.0588 &  0.0375 & 70000 &  41.4 &  678.8 & -0.3\\\\\n",
       "\tvisibility & -0.0063 & -0.1043 &  0.0910 & 70000 &  41.4 &  229.8 & -0.2\\\\\n",
       "\tdistance\\_centroid &  0.0050 &  0.0029 &  0.0068 & 70000 &  41.4 &   74.3 &  0.0\\\\\n",
       "\tduration\\_mins\\_mp\\_VAMC & -0.0010 & -0.0017 & -0.0004 & 70000 &  41.4 &   63.1 &  0.3\\\\\n",
       "\tduration\\_mins\\_mp\\_mental &  0.0007 &  0.0000 &  0.0015 & 70000 &  41.4 &   63.2 & -0.7\\\\\n",
       "\tduration\\_mins\\_centroid &  0.0004 & -0.0014 &  0.0025 & 70000 &  41.4 &   78.5 &  0.8\\\\\n",
       "\tALAND &  0.0000 &  0.0000 &  0.0000 & 70000 &  41.4 &    0.0 & -Inf\\\\\n",
       "\tAWATER &  0.0000 &  0.0000 &  0.0000 & 70000 &  41.4 &    0.0 &  Inf\\\\\n",
       "\\end{tabular}\n"
      ],
      "text/markdown": [
       "\n",
       "A tibble: 104 × 7\n",
       "\n",
       "| <!--/--> | Mean &lt;dbl&gt; | 2.5% &lt;dbl&gt; | 97.5% &lt;dbl&gt; | n.sample &lt;dbl&gt; | % accept &lt;dbl&gt; | n.effective &lt;dbl&gt; | Geweke.diag &lt;dbl&gt; |\n",
       "|---|---|---|---|---|---|---|---|\n",
       "| (Intercept) | -10.4573 | -12.1540 | -9.0986 | 70000 | 41.4 |  96.0 |  -2.7 |\n",
       "| ACS_PCT_TRICARE_VA |   7.8825 |  -0.2995 | 15.8647 | 70000 | 41.4 |   5.5 |   2.7 |\n",
       "| ACS_PCT_UNINSURED |   6.8593 |   2.9254 | 11.9641 | 70000 | 41.4 |   3.8 |  13.4 |\n",
       "| ACS_PCT_TRICARE_VA64 |  -5.7948 | -12.7554 |  1.3657 | 70000 | 41.4 |   6.5 |  -2.9 |\n",
       "| CCBP_RATE_CS_PER_1000 |  -5.4911 | -10.7442 | -1.8487 | 70000 | 41.4 |  39.0 |   0.2 |\n",
       "| CHR_DENTISTS_NUM |   5.3659 |   4.3049 |  6.7763 | 70000 | 41.4 |   2.1 |  -2.6 |\n",
       "| ACS_TOTAL_HOUSEHOLD |  -5.3335 |  -6.6735 | -4.3479 | 70000 | 41.4 |   2.0 |   2.6 |\n",
       "| ACS_PCT_UNINSURED64 |  -5.0558 |  -9.1668 | -1.9105 | 70000 | 41.4 |   4.6 | -14.2 |\n",
       "| ACS_PCT_PUBLIC_OTHER |   3.9199 |  -0.2213 |  7.8187 | 70000 | 41.4 | 484.3 |   2.9 |\n",
       "| ACS_PCT_PRIVATE_MDCR |  -3.5935 |  -5.2757 | -1.9101 | 70000 | 41.4 | 250.4 |   2.0 |\n",
       "| ACS_PCT_AGE_0_17 |   3.5476 |   2.1272 |  4.8072 | 70000 | 41.4 | 112.7 |   0.2 |\n",
       "| ACS_PCT_WHOLESALE |   3.5102 |   2.1047 |  4.9303 | 70000 | 41.4 | 566.5 |   0.7 |\n",
       "| CHR_MENTAL_DR_RATE |  -3.4644 |  -5.1808 | -1.7350 | 70000 | 41.4 | 202.7 |   1.7 |\n",
       "| ACS_PCT_AGE_65UP |   3.2169 |   1.8346 |  4.7579 | 70000 | 41.4 |  42.1 |   1.7 |\n",
       "| ACS_PCT_NATURE |   2.6455 |   1.8715 |  3.6305 | 70000 | 41.4 |  63.2 |  -1.1 |\n",
       "| ACS_PCT_PRIVATE_2 |   2.3630 |   0.6900 |  4.0431 | 70000 | 41.4 | 917.8 |  -0.4 |\n",
       "| ACS_PCT_CTZ_US_BORN |   2.3521 |   1.2867 |  3.8627 | 70000 | 41.4 |  19.9 |   0.4 |\n",
       "| ACS_PCT_ADMIN |   2.3197 |   1.3409 |  3.5398 | 70000 | 41.4 | 153.9 |  -0.7 |\n",
       "| ACS_PCT_COMMT_29MIN |  -2.1590 |  -3.0531 | -1.1366 | 70000 | 41.4 |  23.5 |   2.0 |\n",
       "| ACS_PCT_NON_CITIZEN |   2.0096 |   0.3048 |  3.8514 | 70000 | 41.4 |  40.7 |   0.1 |\n",
       "| ACS_PCT_AGE_0_4 |  -1.9468 |  -4.0906 |  0.3973 | 70000 | 41.4 | 252.7 |  -2.2 |\n",
       "| ACS_PCT_TRANSPORT |   1.9194 |   0.9119 |  2.9773 | 70000 | 41.4 | 288.7 |  -1.8 |\n",
       "| ACS_PCT_PRIVATE_SELF |   1.8529 |   1.1037 |  2.5381 | 70000 | 41.4 | 272.0 |  -0.8 |\n",
       "| ACS_PCT_VA |  -1.8283 |  -3.0119 | -0.6115 | 70000 | 41.4 | 148.3 |   0.9 |\n",
       "| CCBP_RATE_FSR_PER_1000 |   1.8243 |  -1.3142 |  4.9992 | 70000 | 41.4 | 656.7 |  -1.1 |\n",
       "| ACS_PCT_GRP_QRT |   1.4852 |   0.6287 |  2.3227 | 70000 | 41.4 | 156.0 |   0.4 |\n",
       "| CHR_DENTIST_RATE |  -1.3876 |  -2.1683 | -0.5065 | 70000 | 41.4 | 252.1 |   1.0 |\n",
       "| ACS_PCT_OTH_EURP |  -1.3170 |  -2.4352 | -0.2285 | 70000 | 41.4 | 215.6 |  -3.8 |\n",
       "| NHC_BEDCOUNT |  -1.3007 |  -1.7262 | -0.7725 | 70000 | 41.4 |  54.8 |   1.3 |\n",
       "| ACS_PCT_MULT_RACE |  -1.0292 |  -2.1661 |  0.0987 | 70000 | 41.4 | 408.2 |   1.1 |\n",
       "| ⋮ | ⋮ | ⋮ | ⋮ | ⋮ | ⋮ | ⋮ | ⋮ |\n",
       "| closest_station_index | -0.1540 | -0.3209 |  0.0107 | 70000 |  41.4 |  249.2 |  0.1 |\n",
       "| ACS_PCT_VA_POOR |  0.1514 | -0.0306 |  0.3278 | 70000 |  41.4 |  910.2 | -0.3 |\n",
       "| ACS_PCT_1UP_OWNER_1ROOM |  0.1455 | -2.7008 |  3.0601 | 70000 |  41.4 |    9.4 | -2.9 |\n",
       "| tau2.slo |  0.1442 |  0.1189 |  0.1711 | 70000 | 100.0 | 1051.4 |  3.7 |\n",
       "| ACS_PCT_CHILD_DISAB | -0.1189 | -0.7543 |  0.5200 | 70000 |  41.4 |  921.9 |  0.9 |\n",
       "| ACS_PCT_VA_COLLEGE | -0.1115 | -0.3210 |  0.0978 | 70000 |  41.4 |  831.3 |  2.0 |\n",
       "| ACS_PCT_COMMT_15MIN | -0.1017 | -0.9326 |  0.8833 | 70000 |  41.4 |    8.6 |  1.2 |\n",
       "| ACS_PCT_GULFWAR_2001 |  0.0736 | -0.1824 |  0.3339 | 70000 |  41.4 |  492.9 | -2.0 |\n",
       "| ACS_PCT_COMMT_60MINUP |  0.0701 | -0.8134 |  1.1422 | 70000 |  41.4 |   46.5 |  2.8 |\n",
       "| CHR_ALCOHOL_DRIV_DEATH | -0.0649 | -0.1395 |  0.0154 | 70000 |  41.4 |  119.5 | -2.1 |\n",
       "| ACS_PCT_RENTER_65UP | -0.0647 | -0.3803 |  0.2368 | 70000 |  41.4 |  541.2 |  1.2 |\n",
       "| ACS_PCT_MANUFACT |  0.0545 | -0.6401 |  0.9159 | 70000 |  41.4 |   60.5 | -0.4 |\n",
       "| ACS_PCT_VA_DISABLE | -0.0540 | -0.2014 |  0.0866 | 70000 |  41.4 |  829.8 | -1.2 |\n",
       "| ACS_PCT_GRANDP_NO_RESPS | -0.0362 | -0.1554 |  0.0849 | 70000 |  41.4 |  272.8 |  0.7 |\n",
       "| alpha | -0.0346 | -0.1273 |  0.0532 | 70000 |  34.5 |  167.2 |  0.2 |\n",
       "| ACS_PCT_VA_LABOR_FORCE | -0.0246 | -0.1761 |  0.1298 | 70000 |  41.4 |  471.1 | -0.6 |\n",
       "| mean_temp | -0.0241 | -0.2084 |  0.1590 | 70000 |  41.4 |  268.0 |  0.0 |\n",
       "| ACS_PCT_HH_PUB_ASSIST | -0.0225 | -1.2008 |  1.2034 | 70000 |  41.4 |  337.6 |  0.5 |\n",
       "| ACS_PCT_GRANDP_RESPS_NO_P |  0.0215 | -0.0969 |  0.1429 | 70000 |  41.4 |  409.5 |  0.7 |\n",
       "| ACS_MEDIAN_RENT |  0.0208 | -0.1229 |  0.1554 | 70000 |  41.4 |  269.7 | -0.6 |\n",
       "| ACS_PCT_MEDICARE_ONLY |  0.0163 | -1.2272 |  1.2557 | 70000 |  41.4 |  318.2 |  3.5 |\n",
       "| ACS_PCT_GRANDP_RESPS | -0.0120 | -0.1347 |  0.1146 | 70000 |  41.4 |  209.8 |  0.6 |\n",
       "| AHRF_HPSA_MENTAL | -0.0111 | -0.0588 |  0.0375 | 70000 |  41.4 |  678.8 | -0.3 |\n",
       "| visibility | -0.0063 | -0.1043 |  0.0910 | 70000 |  41.4 |  229.8 | -0.2 |\n",
       "| distance_centroid |  0.0050 |  0.0029 |  0.0068 | 70000 |  41.4 |   74.3 |  0.0 |\n",
       "| duration_mins_mp_VAMC | -0.0010 | -0.0017 | -0.0004 | 70000 |  41.4 |   63.1 |  0.3 |\n",
       "| duration_mins_mp_mental |  0.0007 |  0.0000 |  0.0015 | 70000 |  41.4 |   63.2 | -0.7 |\n",
       "| duration_mins_centroid |  0.0004 | -0.0014 |  0.0025 | 70000 |  41.4 |   78.5 |  0.8 |\n",
       "| ALAND |  0.0000 |  0.0000 |  0.0000 | 70000 |  41.4 |    0.0 | -Inf |\n",
       "| AWATER |  0.0000 |  0.0000 |  0.0000 | 70000 |  41.4 |    0.0 |  Inf |\n",
       "\n"
      ],
      "text/plain": [
       "    Mean     2.5%     97.5%   n.sample % accept n.effective Geweke.diag\n",
       "1   -10.4573 -12.1540 -9.0986 70000    41.4      96.0        -2.7      \n",
       "2     7.8825  -0.2995 15.8647 70000    41.4       5.5         2.7      \n",
       "3     6.8593   2.9254 11.9641 70000    41.4       3.8        13.4      \n",
       "4    -5.7948 -12.7554  1.3657 70000    41.4       6.5        -2.9      \n",
       "5    -5.4911 -10.7442 -1.8487 70000    41.4      39.0         0.2      \n",
       "6     5.3659   4.3049  6.7763 70000    41.4       2.1        -2.6      \n",
       "7    -5.3335  -6.6735 -4.3479 70000    41.4       2.0         2.6      \n",
       "8    -5.0558  -9.1668 -1.9105 70000    41.4       4.6       -14.2      \n",
       "9     3.9199  -0.2213  7.8187 70000    41.4     484.3         2.9      \n",
       "10   -3.5935  -5.2757 -1.9101 70000    41.4     250.4         2.0      \n",
       "11    3.5476   2.1272  4.8072 70000    41.4     112.7         0.2      \n",
       "12    3.5102   2.1047  4.9303 70000    41.4     566.5         0.7      \n",
       "13   -3.4644  -5.1808 -1.7350 70000    41.4     202.7         1.7      \n",
       "14    3.2169   1.8346  4.7579 70000    41.4      42.1         1.7      \n",
       "15    2.6455   1.8715  3.6305 70000    41.4      63.2        -1.1      \n",
       "16    2.3630   0.6900  4.0431 70000    41.4     917.8        -0.4      \n",
       "17    2.3521   1.2867  3.8627 70000    41.4      19.9         0.4      \n",
       "18    2.3197   1.3409  3.5398 70000    41.4     153.9        -0.7      \n",
       "19   -2.1590  -3.0531 -1.1366 70000    41.4      23.5         2.0      \n",
       "20    2.0096   0.3048  3.8514 70000    41.4      40.7         0.1      \n",
       "21   -1.9468  -4.0906  0.3973 70000    41.4     252.7        -2.2      \n",
       "22    1.9194   0.9119  2.9773 70000    41.4     288.7        -1.8      \n",
       "23    1.8529   1.1037  2.5381 70000    41.4     272.0        -0.8      \n",
       "24   -1.8283  -3.0119 -0.6115 70000    41.4     148.3         0.9      \n",
       "25    1.8243  -1.3142  4.9992 70000    41.4     656.7        -1.1      \n",
       "26    1.4852   0.6287  2.3227 70000    41.4     156.0         0.4      \n",
       "27   -1.3876  -2.1683 -0.5065 70000    41.4     252.1         1.0      \n",
       "28   -1.3170  -2.4352 -0.2285 70000    41.4     215.6        -3.8      \n",
       "29   -1.3007  -1.7262 -0.7725 70000    41.4      54.8         1.3      \n",
       "30   -1.0292  -2.1661  0.0987 70000    41.4     408.2         1.1      \n",
       "⋮   ⋮        ⋮        ⋮       ⋮        ⋮        ⋮           ⋮          \n",
       "75  -0.1540  -0.3209   0.0107 70000     41.4     249.2       0.1       \n",
       "76   0.1514  -0.0306   0.3278 70000     41.4     910.2      -0.3       \n",
       "77   0.1455  -2.7008   3.0601 70000     41.4       9.4      -2.9       \n",
       "78   0.1442   0.1189   0.1711 70000    100.0    1051.4       3.7       \n",
       "79  -0.1189  -0.7543   0.5200 70000     41.4     921.9       0.9       \n",
       "80  -0.1115  -0.3210   0.0978 70000     41.4     831.3       2.0       \n",
       "81  -0.1017  -0.9326   0.8833 70000     41.4       8.6       1.2       \n",
       "82   0.0736  -0.1824   0.3339 70000     41.4     492.9      -2.0       \n",
       "83   0.0701  -0.8134   1.1422 70000     41.4      46.5       2.8       \n",
       "84  -0.0649  -0.1395   0.0154 70000     41.4     119.5      -2.1       \n",
       "85  -0.0647  -0.3803   0.2368 70000     41.4     541.2       1.2       \n",
       "86   0.0545  -0.6401   0.9159 70000     41.4      60.5      -0.4       \n",
       "87  -0.0540  -0.2014   0.0866 70000     41.4     829.8      -1.2       \n",
       "88  -0.0362  -0.1554   0.0849 70000     41.4     272.8       0.7       \n",
       "89  -0.0346  -0.1273   0.0532 70000     34.5     167.2       0.2       \n",
       "90  -0.0246  -0.1761   0.1298 70000     41.4     471.1      -0.6       \n",
       "91  -0.0241  -0.2084   0.1590 70000     41.4     268.0       0.0       \n",
       "92  -0.0225  -1.2008   1.2034 70000     41.4     337.6       0.5       \n",
       "93   0.0215  -0.0969   0.1429 70000     41.4     409.5       0.7       \n",
       "94   0.0208  -0.1229   0.1554 70000     41.4     269.7      -0.6       \n",
       "95   0.0163  -1.2272   1.2557 70000     41.4     318.2       3.5       \n",
       "96  -0.0120  -0.1347   0.1146 70000     41.4     209.8       0.6       \n",
       "97  -0.0111  -0.0588   0.0375 70000     41.4     678.8      -0.3       \n",
       "98  -0.0063  -0.1043   0.0910 70000     41.4     229.8      -0.2       \n",
       "99   0.0050   0.0029   0.0068 70000     41.4      74.3       0.0       \n",
       "100 -0.0010  -0.0017  -0.0004 70000     41.4      63.1       0.3       \n",
       "101  0.0007   0.0000   0.0015 70000     41.4      63.2      -0.7       \n",
       "102  0.0004  -0.0014   0.0025 70000     41.4      78.5       0.8       \n",
       "103  0.0000   0.0000   0.0000 70000     41.4       0.0      -Inf       \n",
       "104  0.0000   0.0000   0.0000 70000     41.4       0.0       Inf       "
      ]
     },
     "metadata": {},
     "output_type": "display_data"
    }
   ],
   "source": [
    "fit2$summary %>%\n",
    "    as_tibble(rownames=NA) %>%\n",
    "    arrange(desc(abs(Mean)))"
   ]
  },
  {
   "cell_type": "markdown",
   "id": "c7b2309e-81e7-4038-b3b4-10a29efd9367",
   "metadata": {},
   "source": [
    "# RMSE"
   ]
  },
  {
   "cell_type": "code",
   "execution_count": 39,
   "id": "b009c447-c7f9-41e6-8aa0-5d4c0b2dd8c0",
   "metadata": {},
   "outputs": [
    {
     "data": {
      "text/html": [
       "13.2188036667379"
      ],
      "text/latex": [
       "13.2188036667379"
      ],
      "text/markdown": [
       "13.2188036667379"
      ],
      "text/plain": [
       "[1] 13.2188"
      ]
     },
     "metadata": {},
     "output_type": "display_data"
    }
   ],
   "source": [
    "caret::RMSE(fitted_values,true_values)"
   ]
  }
 ],
 "metadata": {
  "kernelspec": {
   "display_name": "R 4.1.3 (r-venv)",
   "language": "R",
   "name": "r-venv"
  },
  "language_info": {
   "codemirror_mode": "r",
   "file_extension": ".r",
   "mimetype": "text/x-r-source",
   "name": "R",
   "pygments_lexer": "r",
   "version": "4.1.3"
  }
 },
 "nbformat": 4,
 "nbformat_minor": 5
}
