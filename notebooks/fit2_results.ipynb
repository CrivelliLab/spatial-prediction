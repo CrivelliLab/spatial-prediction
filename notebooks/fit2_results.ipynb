{
 "cells": [
  {
   "cell_type": "markdown",
   "id": "bd6f4c7a-f7ed-4889-9e4f-e8708eb701bb",
   "metadata": {},
   "source": [
    "## Model 2 Fit Results"
   ]
  },
  {
   "cell_type": "code",
   "execution_count": 1,
   "id": "30e9bec6-422b-4dd8-b235-edb93878450f",
   "metadata": {},
   "outputs": [],
   "source": [
    "setwd(\"/global/project/projectdirs/m1532/Projects_MVP/geospatial/GeoSpatial_Model/spatial-prediction\")"
   ]
  },
  {
   "cell_type": "code",
   "execution_count": 2,
   "id": "74e910e8-0f95-4293-82e8-ef9cc0d56b8a",
   "metadata": {},
   "outputs": [
    {
     "name": "stderr",
     "output_type": "stream",
     "text": [
      "Loading required package: MASS\n",
      "\n",
      "Loading required package: Rcpp\n",
      "\n",
      "Registered S3 method overwritten by 'GGally':\n",
      "  method from   \n",
      "  +.gg   ggplot2\n",
      "\n",
      "── \u001b[1mAttaching packages\u001b[22m ─────────────────────────────────────── tidyverse 1.3.2 ──\n",
      "\u001b[32m✔\u001b[39m \u001b[34mggplot2\u001b[39m 3.3.6     \u001b[32m✔\u001b[39m \u001b[34mpurrr  \u001b[39m 0.3.4\n",
      "\u001b[32m✔\u001b[39m \u001b[34mtibble \u001b[39m 3.1.8     \u001b[32m✔\u001b[39m \u001b[34mdplyr  \u001b[39m 1.0.9\n",
      "\u001b[32m✔\u001b[39m \u001b[34mtidyr  \u001b[39m 1.2.0     \u001b[32m✔\u001b[39m \u001b[34mstringr\u001b[39m 1.4.0\n",
      "\u001b[32m✔\u001b[39m \u001b[34mreadr  \u001b[39m 2.1.2     \u001b[32m✔\u001b[39m \u001b[34mforcats\u001b[39m 0.5.1\n",
      "── \u001b[1mConflicts\u001b[22m ────────────────────────────────────────── tidyverse_conflicts() ──\n",
      "\u001b[31m✖\u001b[39m \u001b[34mdplyr\u001b[39m::\u001b[32mfilter()\u001b[39m masks \u001b[34mstats\u001b[39m::filter()\n",
      "\u001b[31m✖\u001b[39m \u001b[34mdplyr\u001b[39m::\u001b[32mlag()\u001b[39m    masks \u001b[34mstats\u001b[39m::lag()\n",
      "\u001b[31m✖\u001b[39m \u001b[34mdplyr\u001b[39m::\u001b[32mselect()\u001b[39m masks \u001b[34mMASS\u001b[39m::select()\n"
     ]
    }
   ],
   "source": [
    "library(CARBayesST)\n",
    "library(tidyverse)"
   ]
  },
  {
   "cell_type": "code",
   "execution_count": 3,
   "id": "7d884dbb-c70f-4486-b121-335a4dbd22b3",
   "metadata": {},
   "outputs": [],
   "source": [
    "fit2 <- readRDS(\"outputs/model_results/fixedtime_model_2022-09-13.rds\")"
   ]
  },
  {
   "cell_type": "code",
   "execution_count": 4,
   "id": "29cf344f-2ae6-49fa-b718-0e3d0d0cd419",
   "metadata": {},
   "outputs": [
    {
     "name": "stderr",
     "output_type": "stream",
     "text": [
      "\u001b[1mRows: \u001b[22m\u001b[34m9089\u001b[39m \u001b[1mColumns: \u001b[22m\u001b[34m103\u001b[39m\n",
      "\u001b[36m──\u001b[39m \u001b[1mColumn specification\u001b[22m \u001b[36m────────────────────────────────────────────────────────\u001b[39m\n",
      "\u001b[1mDelimiter:\u001b[22m \",\"\n",
      "\u001b[31mchr\u001b[39m   (2): FIPSCODE, county\n",
      "\u001b[32mdbl\u001b[39m (101): deaths, ACS_PCT_GRP_QRT, ACS_PCT_PRIVATE_2, mean_temp, ACS_PCT_ME...\n",
      "\n",
      "\u001b[36mℹ\u001b[39m Use `spec()` to retrieve the full column specification for this data.\n",
      "\u001b[36mℹ\u001b[39m Specify the column types or set `show_col_types = FALSE` to quiet this message.\n",
      "Warning message:\n",
      "“PROJ: proj_identify: Open of /global/homes/b/bbrusco/.conda/envs/r-venv/share/proj failed (GDAL error 1)”\n",
      "\u001b[1m\u001b[22mJoining, by = \"FIPSCODE\"\n"
     ]
    }
   ],
   "source": [
    "#get fips to keep \n",
    "\n",
    "# Note: United States total includes 3,006 counties;\n",
    "## Loading dataset and geometries ###\n",
    "vars <- read_csv(\"data/processed/combined.csv\")\n",
    "# change this to the number of years that \n",
    "# you are considering in your dataset.\n",
    "NUMBER_OF_YEARS <- length(unique(vars$year))\n",
    "\n",
    "\n",
    "county <- sf::read_sf(\n",
    "    dsn = \"data/shapefile/cb_2020_us_tract_500k\",\n",
    "    layer = \"cb_2020_us_tract_500k\"\n",
    ")\n",
    "\n",
    "county <- county %>%\n",
    "    mutate(FIPSCODE = paste0(STATEFP, COUNTYFP)) %>% \n",
    "    arrange(FIPSCODE) %>%\n",
    "    distinct(FIPSCODE, .keep_all = TRUE)\n",
    "\n",
    "df <- county %>% inner_join(vars, on=FIPSCODE)\n",
    "\n",
    "df_nona <- df %>% na.omit(suicide_rate) %>%\n",
    "  group_by(FIPSCODE) %>% \n",
    "  mutate(name_count = n()) %>%\n",
    "  ungroup() %>% \n",
    "  filter(name_count == NUMBER_OF_YEARS) %>% \n",
    "  dplyr::select(-name_count) %>%\n",
    "  arrange(desc(year), FIPSCODE)\n",
    "\n",
    "fips_to_keep <- df_nona %>% \n",
    "    distinct(FIPSCODE) %>% \n",
    "    pull(FIPSCODE)\n"
   ]
  },
  {
   "cell_type": "code",
   "execution_count": 5,
   "id": "d445274e-fa1e-4bfb-b8d4-4730dc9d7b4a",
   "metadata": {},
   "outputs": [
    {
     "name": "stdout",
     "output_type": "stream",
     "text": [
      "List of 10\n",
      " $ summary.results    : num [1:93, 1:7] -8.022 1.395 2.511 -0.117 0.522 ...\n",
      "  ..- attr(*, \"dimnames\")=List of 2\n",
      "  .. ..$ : chr [1:93] \"(Intercept)\" \"ACS_PCT_GRP_QRT\" \"ACS_PCT_PRIVATE_2\" \"mean_temp\" ...\n",
      "  .. ..$ : chr [1:7] \"Mean\" \"2.5%\" \"97.5%\" \"n.sample\" ...\n",
      " $ samples            :List of 8\n",
      "  ..$ beta  : 'mcmc' num [1:70000, 1:88] -7.76 -7.72 -7.79 -7.85 -7.83 ...\n",
      "  .. ..- attr(*, \"mcpar\")= num [1:3] 1 70000 1\n",
      "  ..$ alpha : 'mcmc' num [1:70000, 1] -0.003649 -0.003649 0.001321 0.001321 -0.000285 ...\n",
      "  .. ..- attr(*, \"mcpar\")= num [1:3] 1 70000 1\n",
      "  ..$ phi   : 'mcmc' num [1:70000, 1:3029] 0.0949 0.0911 0.089 -0.2049 -0.1858 ...\n",
      "  .. ..- attr(*, \"mcpar\")= num [1:3] 1 70000 1\n",
      "  ..$ delta : 'mcmc' num [1:70000, 1:3029] 0.327 0.183 0.179 0.615 0.172 ...\n",
      "  .. ..- attr(*, \"mcpar\")= num [1:3] 1 70000 1\n",
      "  ..$ tau2  : 'mcmc' num [1:70000, 1:2] 0.334 0.331 0.327 0.342 0.342 ...\n",
      "  .. ..- attr(*, \"dimnames\")=List of 2\n",
      "  .. .. ..$ : NULL\n",
      "  .. .. ..$ : chr [1:2] \"tau2.int\" \"tau2.slo\"\n",
      "  .. ..- attr(*, \"mcpar\")= num [1:3] 1 70000 1\n",
      "  ..$ rho   : 'mcmc' num [1:70000, 1:2] 0.464 0.464 0.464 0.452 0.452 ...\n",
      "  .. ..- attr(*, \"dimnames\")=List of 2\n",
      "  .. .. ..$ : NULL\n",
      "  .. .. ..$ : chr [1:2] \"rho.int\" \"rho.slo\"\n",
      "  .. ..- attr(*, \"mcpar\")= num [1:3] 1 70000 1\n",
      "  ..$ fitted: 'mcmc' num [1:70000, 1:9087] 15.2 16.1 16.1 10.4 12.5 ...\n",
      "  .. ..- attr(*, \"mcpar\")= num [1:3] 1 70000 1\n",
      "  ..$ Y     : 'mcmc' logi NA\n",
      "  .. ..- attr(*, \"mcpar\")= num [1:3] 1 1 1\n",
      " $ fitted.values      : num [1:9087] 12.1 42.5 14.4 49.9 11.7 ...\n",
      " $ residuals          :'data.frame':\t9087 obs. of  2 variables:\n",
      "  ..$ response: num [1:9087] -1.145 1.498 -0.356 -2.902 -1.729 ...\n",
      "  ..$ pearson : num [1:9087] -0.3287 0.2298 -0.0939 -0.4109 -0.505 ...\n",
      " $ modelfit           : Named num [1:6] 61850 4469 63329 4545 -32938 ...\n",
      "  ..- attr(*, \"names\")= chr [1:6] \"DIC\" \"p.d\" \"WAIC\" \"p.w\" ...\n",
      " $ accept             : Named num [1:6] 42.7 35.4 48.8 48.6 45.9 ...\n",
      "  ..- attr(*, \"names\")= chr [1:6] \"beta\" \"alpha\" \"phi\" \"delta\" ...\n",
      " $ localised.structure: NULL\n",
      " $ formula            :Class 'formula'  language deaths ~ offset(log(pop)) + ACS_PCT_GRP_QRT + ACS_PCT_PRIVATE_2 + mean_temp +      ACS_PCT_MEDICARE_ONLY + ACS_PC| __truncated__ ...\n",
      "  .. ..- attr(*, \".Environment\")=<environment: R_GlobalEnv> \n",
      " $ model              : chr [1:2] \"Likelihood model - Poisson (log link function)\" \"\\nLatent structure model - Spatially autocorrelated linear time trends\\n\"\n",
      " $ X                  : num [1:9087, 1:88] 1 1 1 1 1 1 1 1 1 1 ...\n",
      "  ..- attr(*, \"dimnames\")=List of 2\n",
      "  .. ..$ : chr [1:9087] \"1\" \"2\" \"3\" \"4\" ...\n",
      "  .. ..$ : chr [1:88] \"(Intercept)\" \"ACS_PCT_GRP_QRT\" \"ACS_PCT_PRIVATE_2\" \"mean_temp\" ...\n",
      "  ..- attr(*, \"assign\")= int [1:88] 0 1 2 3 4 5 6 7 8 9 ...\n",
      " - attr(*, \"class\")= chr \"CARBayesST\"\n"
     ]
    }
   ],
   "source": [
    "str(fit2)"
   ]
  },
  {
   "cell_type": "code",
   "execution_count": 6,
   "id": "f1c8d38e-b8c6-4bde-b33c-d79cc07b3e85",
   "metadata": {},
   "outputs": [
    {
     "data": {
      "text/html": [
       "<table class=\"dataframe\">\n",
       "<caption>A matrix: 93 × 7 of type dbl</caption>\n",
       "<thead>\n",
       "\t<tr><th></th><th scope=col>Mean</th><th scope=col>2.5%</th><th scope=col>97.5%</th><th scope=col>n.sample</th><th scope=col>% accept</th><th scope=col>n.effective</th><th scope=col>Geweke.diag</th></tr>\n",
       "</thead>\n",
       "<tbody>\n",
       "\t<tr><th scope=row>(Intercept)</th><td>-8.0218</td><td>-9.2084</td><td>-6.9268</td><td>70000</td><td>42.7</td><td>132.0</td><td> -1.6</td></tr>\n",
       "\t<tr><th scope=row>ACS_PCT_GRP_QRT</th><td> 1.3951</td><td> 0.6425</td><td> 2.1414</td><td>70000</td><td>42.7</td><td>182.2</td><td>  0.0</td></tr>\n",
       "\t<tr><th scope=row>ACS_PCT_PRIVATE_2</th><td> 2.5114</td><td> 0.8958</td><td> 4.1055</td><td>70000</td><td>42.7</td><td>947.6</td><td>  1.3</td></tr>\n",
       "\t<tr><th scope=row>mean_temp</th><td>-0.1172</td><td>-0.2972</td><td> 0.0499</td><td>70000</td><td>42.7</td><td>329.8</td><td> -0.6</td></tr>\n",
       "\t<tr><th scope=row>ACS_PCT_MEDICARE_ONLY</th><td> 0.5217</td><td>-0.7115</td><td> 1.7332</td><td>70000</td><td>42.7</td><td>425.9</td><td> -2.3</td></tr>\n",
       "\t<tr><th scope=row>ACS_PCT_PRIVATE_SELF</th><td> 2.0391</td><td> 1.3174</td><td> 2.7673</td><td>70000</td><td>42.7</td><td>226.2</td><td> -0.2</td></tr>\n",
       "\t<tr><th scope=row>ACS_PCT_MOBILE_HOME</th><td> 0.5131</td><td> 0.1954</td><td> 0.8757</td><td>70000</td><td>42.7</td><td>155.3</td><td>  1.2</td></tr>\n",
       "\t<tr><th scope=row>NHC_DAILY_RES</th><td>-0.9623</td><td>-1.3308</td><td>-0.5876</td><td>70000</td><td>42.7</td><td> 71.9</td><td>  2.3</td></tr>\n",
       "\t<tr><th scope=row>ACS_PCT_NON_CITIZEN</th><td>-0.7668</td><td>-1.7782</td><td> 0.1867</td><td>70000</td><td>42.7</td><td> 92.6</td><td>  4.7</td></tr>\n",
       "\t<tr><th scope=row>ACS_PCT_TRICARE_VA</th><td> 0.8848</td><td>-0.4656</td><td> 2.2055</td><td>70000</td><td>42.7</td><td>200.7</td><td>  0.8</td></tr>\n",
       "\t<tr><th scope=row>ACS_PCT_RETAIL</th><td>-0.6237</td><td>-1.8586</td><td> 0.4579</td><td>70000</td><td>42.7</td><td>106.5</td><td>-11.0</td></tr>\n",
       "\t<tr><th scope=row>ACS_PCT_VA_LABOR_FORCE</th><td>-0.0107</td><td>-0.1543</td><td> 0.1294</td><td>70000</td><td>42.7</td><td>641.1</td><td>  0.7</td></tr>\n",
       "\t<tr><th scope=row>ACS_PCT_INFORM</th><td> 0.5243</td><td>-1.5602</td><td> 2.5838</td><td>70000</td><td>42.7</td><td>395.9</td><td> -7.9</td></tr>\n",
       "\t<tr><th scope=row>ACS_PCT_COMMT_29MIN</th><td>-2.7725</td><td>-3.9695</td><td>-1.4932</td><td>70000</td><td>42.7</td><td> 12.5</td><td>  2.3</td></tr>\n",
       "\t<tr><th scope=row>ACS_PCT_PRIVATE_MDCR</th><td>-3.0985</td><td>-4.8007</td><td>-1.4168</td><td>70000</td><td>42.7</td><td>300.6</td><td> -1.9</td></tr>\n",
       "\t<tr><th scope=row>ACS_PCT_COMMT_59MIN</th><td>-0.0701</td><td>-1.2027</td><td> 1.1111</td><td>70000</td><td>42.7</td><td> 12.7</td><td>  2.3</td></tr>\n",
       "\t<tr><th scope=row>AHRF_HPSA_MENTAL</th><td>-0.0256</td><td>-0.0722</td><td> 0.0228</td><td>70000</td><td>42.7</td><td>821.7</td><td> -1.3</td></tr>\n",
       "\t<tr><th scope=row>ACS_PCT_DIVORCE_SEPARAT</th><td>-1.0282</td><td>-1.7795</td><td>-0.2731</td><td>70000</td><td>42.7</td><td>476.0</td><td> -1.6</td></tr>\n",
       "\t<tr><th scope=row>ACS_PCT_TRANSPORT</th><td> 1.9833</td><td> 0.6543</td><td> 3.2537</td><td>70000</td><td>42.7</td><td>171.9</td><td>-10.0</td></tr>\n",
       "\t<tr><th scope=row>ACS_PCT_EDUC</th><td> 0.4464</td><td>-0.6583</td><td> 1.3796</td><td>70000</td><td>42.7</td><td> 47.2</td><td> -6.6</td></tr>\n",
       "\t<tr><th scope=row>ACS_PCT_UNINSURED64</th><td> 0.5908</td><td> 0.1274</td><td> 1.0652</td><td>70000</td><td>42.7</td><td>272.5</td><td>  0.8</td></tr>\n",
       "\t<tr><th scope=row>CCBP_RATE_FSR_PER_1000</th><td> 1.5904</td><td>-1.6084</td><td> 4.6608</td><td>70000</td><td>42.7</td><td>609.6</td><td> -2.1</td></tr>\n",
       "\t<tr><th scope=row>ACS_PCT_GRANDP_NO_RESPS</th><td>-0.0281</td><td>-0.1630</td><td> 0.1014</td><td>70000</td><td>42.7</td><td>203.0</td><td>  1.6</td></tr>\n",
       "\t<tr><th scope=row>PM2.5</th><td>-0.4155</td><td>-0.5372</td><td>-0.2923</td><td>70000</td><td>42.7</td><td>687.2</td><td>  1.4</td></tr>\n",
       "\t<tr><th scope=row>ACS_PCT_ASSOCIATE_DGR</th><td>-0.1836</td><td>-0.6917</td><td> 0.3436</td><td>70000</td><td>42.7</td><td>267.3</td><td> -0.1</td></tr>\n",
       "\t<tr><th scope=row>ACS_PCT_ADMIN</th><td> 2.4044</td><td> 1.1999</td><td> 3.5855</td><td>70000</td><td>42.7</td><td>105.7</td><td> -8.5</td></tr>\n",
       "\t<tr><th scope=row>ACS_PCT_RENTER_65UP</th><td> 0.1142</td><td>-0.2008</td><td> 0.4351</td><td>70000</td><td>42.7</td><td>537.1</td><td>  0.3</td></tr>\n",
       "\t<tr><th scope=row>duration_mins_mp_mental</th><td> 0.0007</td><td> 0.0000</td><td> 0.0013</td><td>70000</td><td>42.7</td><td> 69.9</td><td>  1.9</td></tr>\n",
       "\t<tr><th scope=row>ACS_PCT_WALK_2WORK</th><td> 1.2930</td><td> 0.0487</td><td> 2.3273</td><td>70000</td><td>42.7</td><td>139.5</td><td>  2.2</td></tr>\n",
       "\t<tr><th scope=row>ACS_PCT_OTH_EURP</th><td>-1.8156</td><td>-2.9394</td><td>-0.6708</td><td>70000</td><td>42.7</td><td>218.3</td><td>  0.9</td></tr>\n",
       "\t<tr><th scope=row>⋮</th><td>⋮</td><td>⋮</td><td>⋮</td><td>⋮</td><td>⋮</td><td>⋮</td><td>⋮</td></tr>\n",
       "\t<tr><th scope=row>duration_mins_centroid</th><td> 0.0055</td><td> 0.0042</td><td> 0.0068</td><td>70000</td><td> 42.7</td><td> 136.8</td><td>  1.3</td></tr>\n",
       "\t<tr><th scope=row>ACS_PCT_MANUFACT</th><td> 0.1899</td><td>-0.9115</td><td> 1.0883</td><td>70000</td><td> 42.7</td><td>  23.8</td><td> -6.9</td></tr>\n",
       "\t<tr><th scope=row>ACS_PCT_GULFWAR_1990</th><td> 0.2206</td><td>-0.0324</td><td> 0.4710</td><td>70000</td><td> 42.7</td><td> 674.7</td><td> -1.0</td></tr>\n",
       "\t<tr><th scope=row>ACS_PCT_HH_PUB_ASSIST</th><td>-0.1467</td><td>-1.3204</td><td> 1.0907</td><td>70000</td><td> 42.7</td><td> 445.7</td><td>  0.4</td></tr>\n",
       "\t<tr><th scope=row>ACS_PCT_FEMALE</th><td> 0.5592</td><td>-0.4681</td><td> 1.6038</td><td>70000</td><td> 42.7</td><td> 357.5</td><td> -3.0</td></tr>\n",
       "\t<tr><th scope=row>wind_speed</th><td> 0.2812</td><td> 0.1154</td><td> 0.4453</td><td>70000</td><td> 42.7</td><td> 324.3</td><td>  3.5</td></tr>\n",
       "\t<tr><th scope=row>ACS_PCT_RENT_COST_30PCT</th><td>-0.4078</td><td>-0.6067</td><td>-0.2111</td><td>70000</td><td> 42.7</td><td> 585.4</td><td> -1.2</td></tr>\n",
       "\t<tr><th scope=row>ACS_PCT_COMMT_60MINUP</th><td>-0.6133</td><td>-1.9397</td><td> 0.7336</td><td>70000</td><td> 42.7</td><td>  22.0</td><td>  2.8</td></tr>\n",
       "\t<tr><th scope=row>ACS_PCT_RENTER_HH_CHILD</th><td> 0.3215</td><td> 0.0772</td><td> 0.5628</td><td>70000</td><td> 42.7</td><td> 288.5</td><td>  0.1</td></tr>\n",
       "\t<tr><th scope=row>NHC_BEDCOUNT</th><td>-1.2426</td><td>-1.6821</td><td>-0.8089</td><td>70000</td><td> 42.7</td><td>  54.4</td><td> -1.4</td></tr>\n",
       "\t<tr><th scope=row>NHC_LIC_STAFF</th><td>-0.8196</td><td>-1.0268</td><td>-0.6102</td><td>70000</td><td> 42.7</td><td> 525.2</td><td> -0.6</td></tr>\n",
       "\t<tr><th scope=row>ACS_PCT_10UNITS</th><td>-0.6603</td><td>-1.4227</td><td> 0.0384</td><td>70000</td><td> 42.7</td><td>  42.5</td><td> -0.4</td></tr>\n",
       "\t<tr><th scope=row>ACS_PCT_OTHER_INS</th><td> 0.0678</td><td>-1.0117</td><td> 1.1405</td><td>70000</td><td> 42.7</td><td> 482.7</td><td> -1.1</td></tr>\n",
       "\t<tr><th scope=row>ACS_PCT_1UP_OWNER_1ROOM</th><td> 0.7849</td><td>-3.3053</td><td> 5.3719</td><td>70000</td><td> 42.7</td><td>  43.7</td><td> -2.2</td></tr>\n",
       "\t<tr><th scope=row>ACS_PCT_OTHER</th><td>-0.0903</td><td>-1.5696</td><td> 1.2544</td><td>70000</td><td> 42.7</td><td> 278.0</td><td>-12.7</td></tr>\n",
       "\t<tr><th scope=row>CHR_ALCOHOL_DRIV_DEATH</th><td>-0.0631</td><td>-0.1401</td><td> 0.0157</td><td>70000</td><td> 42.7</td><td>1133.5</td><td>  0.0</td></tr>\n",
       "\t<tr><th scope=row>visibility</th><td>-0.0327</td><td>-0.1300</td><td> 0.0674</td><td>70000</td><td> 42.7</td><td> 333.3</td><td> -1.3</td></tr>\n",
       "\t<tr><th scope=row>ACS_MEDIAN_RENT</th><td>-0.0290</td><td>-0.1546</td><td> 0.0940</td><td>70000</td><td> 42.7</td><td> 273.1</td><td>  2.8</td></tr>\n",
       "\t<tr><th scope=row>ACS_PCT_DRIVE_2WORK</th><td> 0.1637</td><td>-0.7547</td><td> 0.9335</td><td>70000</td><td> 42.7</td><td>  26.2</td><td>  1.0</td></tr>\n",
       "\t<tr><th scope=row>ACS_PCT_WORK_NO_CAR</th><td> 1.5367</td><td> 0.2260</td><td> 2.9464</td><td>70000</td><td> 42.7</td><td>  33.2</td><td> -1.8</td></tr>\n",
       "\t<tr><th scope=row>ACS_PCT_GRANDP_RESPS</th><td> 0.0048</td><td>-0.1301</td><td> 0.1318</td><td>70000</td><td> 42.7</td><td> 153.1</td><td>  1.2</td></tr>\n",
       "\t<tr><th scope=row>ACS_PCT_ENGLISH</th><td> 0.3639</td><td>-0.0758</td><td> 0.8321</td><td>70000</td><td> 42.7</td><td>  26.8</td><td>  2.8</td></tr>\n",
       "\t<tr><th scope=row>ACS_PCT_CONSTRUCT</th><td> 0.9776</td><td>-0.2357</td><td> 2.1436</td><td>70000</td><td> 42.7</td><td> 121.5</td><td>-11.0</td></tr>\n",
       "\t<tr><th scope=row>ACS_PCT_HH_1PERS</th><td> 0.3510</td><td>-0.1766</td><td> 0.8994</td><td>70000</td><td> 42.7</td><td> 344.5</td><td> -0.2</td></tr>\n",
       "\t<tr><th scope=row>ACS_PCT_AGE_0_4</th><td>-1.7973</td><td>-4.1481</td><td> 0.4153</td><td>70000</td><td> 42.7</td><td> 328.9</td><td>  0.1</td></tr>\n",
       "\t<tr><th scope=row>alpha</th><td>-0.0321</td><td>-0.1139</td><td> 0.0575</td><td>70000</td><td> 35.4</td><td> 194.3</td><td> -3.9</td></tr>\n",
       "\t<tr><th scope=row>tau2.int</th><td> 0.3322</td><td> 0.3127</td><td> 0.3527</td><td>70000</td><td>100.0</td><td>5327.2</td><td>  4.4</td></tr>\n",
       "\t<tr><th scope=row>tau2.slo</th><td> 0.1461</td><td> 0.1213</td><td> 0.1722</td><td>70000</td><td>100.0</td><td>1144.9</td><td> -0.3</td></tr>\n",
       "\t<tr><th scope=row>rho.int</th><td> 0.4374</td><td> 0.3842</td><td> 0.4887</td><td>70000</td><td> 45.9</td><td>2841.0</td><td> -1.6</td></tr>\n",
       "\t<tr><th scope=row>rho.slo</th><td> 0.7889</td><td> 0.7381</td><td> 0.8338</td><td>70000</td><td> 47.1</td><td>1196.3</td><td>  0.2</td></tr>\n",
       "</tbody>\n",
       "</table>\n"
      ],
      "text/latex": [
       "A matrix: 93 × 7 of type dbl\n",
       "\\begin{tabular}{r|lllllll}\n",
       "  & Mean & 2.5\\% & 97.5\\% & n.sample & \\% accept & n.effective & Geweke.diag\\\\\n",
       "\\hline\n",
       "\t(Intercept) & -8.0218 & -9.2084 & -6.9268 & 70000 & 42.7 & 132.0 &  -1.6\\\\\n",
       "\tACS\\_PCT\\_GRP\\_QRT &  1.3951 &  0.6425 &  2.1414 & 70000 & 42.7 & 182.2 &   0.0\\\\\n",
       "\tACS\\_PCT\\_PRIVATE\\_2 &  2.5114 &  0.8958 &  4.1055 & 70000 & 42.7 & 947.6 &   1.3\\\\\n",
       "\tmean\\_temp & -0.1172 & -0.2972 &  0.0499 & 70000 & 42.7 & 329.8 &  -0.6\\\\\n",
       "\tACS\\_PCT\\_MEDICARE\\_ONLY &  0.5217 & -0.7115 &  1.7332 & 70000 & 42.7 & 425.9 &  -2.3\\\\\n",
       "\tACS\\_PCT\\_PRIVATE\\_SELF &  2.0391 &  1.3174 &  2.7673 & 70000 & 42.7 & 226.2 &  -0.2\\\\\n",
       "\tACS\\_PCT\\_MOBILE\\_HOME &  0.5131 &  0.1954 &  0.8757 & 70000 & 42.7 & 155.3 &   1.2\\\\\n",
       "\tNHC\\_DAILY\\_RES & -0.9623 & -1.3308 & -0.5876 & 70000 & 42.7 &  71.9 &   2.3\\\\\n",
       "\tACS\\_PCT\\_NON\\_CITIZEN & -0.7668 & -1.7782 &  0.1867 & 70000 & 42.7 &  92.6 &   4.7\\\\\n",
       "\tACS\\_PCT\\_TRICARE\\_VA &  0.8848 & -0.4656 &  2.2055 & 70000 & 42.7 & 200.7 &   0.8\\\\\n",
       "\tACS\\_PCT\\_RETAIL & -0.6237 & -1.8586 &  0.4579 & 70000 & 42.7 & 106.5 & -11.0\\\\\n",
       "\tACS\\_PCT\\_VA\\_LABOR\\_FORCE & -0.0107 & -0.1543 &  0.1294 & 70000 & 42.7 & 641.1 &   0.7\\\\\n",
       "\tACS\\_PCT\\_INFORM &  0.5243 & -1.5602 &  2.5838 & 70000 & 42.7 & 395.9 &  -7.9\\\\\n",
       "\tACS\\_PCT\\_COMMT\\_29MIN & -2.7725 & -3.9695 & -1.4932 & 70000 & 42.7 &  12.5 &   2.3\\\\\n",
       "\tACS\\_PCT\\_PRIVATE\\_MDCR & -3.0985 & -4.8007 & -1.4168 & 70000 & 42.7 & 300.6 &  -1.9\\\\\n",
       "\tACS\\_PCT\\_COMMT\\_59MIN & -0.0701 & -1.2027 &  1.1111 & 70000 & 42.7 &  12.7 &   2.3\\\\\n",
       "\tAHRF\\_HPSA\\_MENTAL & -0.0256 & -0.0722 &  0.0228 & 70000 & 42.7 & 821.7 &  -1.3\\\\\n",
       "\tACS\\_PCT\\_DIVORCE\\_SEPARAT & -1.0282 & -1.7795 & -0.2731 & 70000 & 42.7 & 476.0 &  -1.6\\\\\n",
       "\tACS\\_PCT\\_TRANSPORT &  1.9833 &  0.6543 &  3.2537 & 70000 & 42.7 & 171.9 & -10.0\\\\\n",
       "\tACS\\_PCT\\_EDUC &  0.4464 & -0.6583 &  1.3796 & 70000 & 42.7 &  47.2 &  -6.6\\\\\n",
       "\tACS\\_PCT\\_UNINSURED64 &  0.5908 &  0.1274 &  1.0652 & 70000 & 42.7 & 272.5 &   0.8\\\\\n",
       "\tCCBP\\_RATE\\_FSR\\_PER\\_1000 &  1.5904 & -1.6084 &  4.6608 & 70000 & 42.7 & 609.6 &  -2.1\\\\\n",
       "\tACS\\_PCT\\_GRANDP\\_NO\\_RESPS & -0.0281 & -0.1630 &  0.1014 & 70000 & 42.7 & 203.0 &   1.6\\\\\n",
       "\tPM2.5 & -0.4155 & -0.5372 & -0.2923 & 70000 & 42.7 & 687.2 &   1.4\\\\\n",
       "\tACS\\_PCT\\_ASSOCIATE\\_DGR & -0.1836 & -0.6917 &  0.3436 & 70000 & 42.7 & 267.3 &  -0.1\\\\\n",
       "\tACS\\_PCT\\_ADMIN &  2.4044 &  1.1999 &  3.5855 & 70000 & 42.7 & 105.7 &  -8.5\\\\\n",
       "\tACS\\_PCT\\_RENTER\\_65UP &  0.1142 & -0.2008 &  0.4351 & 70000 & 42.7 & 537.1 &   0.3\\\\\n",
       "\tduration\\_mins\\_mp\\_mental &  0.0007 &  0.0000 &  0.0013 & 70000 & 42.7 &  69.9 &   1.9\\\\\n",
       "\tACS\\_PCT\\_WALK\\_2WORK &  1.2930 &  0.0487 &  2.3273 & 70000 & 42.7 & 139.5 &   2.2\\\\\n",
       "\tACS\\_PCT\\_OTH\\_EURP & -1.8156 & -2.9394 & -0.6708 & 70000 & 42.7 & 218.3 &   0.9\\\\\n",
       "\t⋮ & ⋮ & ⋮ & ⋮ & ⋮ & ⋮ & ⋮ & ⋮\\\\\n",
       "\tduration\\_mins\\_centroid &  0.0055 &  0.0042 &  0.0068 & 70000 &  42.7 &  136.8 &   1.3\\\\\n",
       "\tACS\\_PCT\\_MANUFACT &  0.1899 & -0.9115 &  1.0883 & 70000 &  42.7 &   23.8 &  -6.9\\\\\n",
       "\tACS\\_PCT\\_GULFWAR\\_1990 &  0.2206 & -0.0324 &  0.4710 & 70000 &  42.7 &  674.7 &  -1.0\\\\\n",
       "\tACS\\_PCT\\_HH\\_PUB\\_ASSIST & -0.1467 & -1.3204 &  1.0907 & 70000 &  42.7 &  445.7 &   0.4\\\\\n",
       "\tACS\\_PCT\\_FEMALE &  0.5592 & -0.4681 &  1.6038 & 70000 &  42.7 &  357.5 &  -3.0\\\\\n",
       "\twind\\_speed &  0.2812 &  0.1154 &  0.4453 & 70000 &  42.7 &  324.3 &   3.5\\\\\n",
       "\tACS\\_PCT\\_RENT\\_COST\\_30PCT & -0.4078 & -0.6067 & -0.2111 & 70000 &  42.7 &  585.4 &  -1.2\\\\\n",
       "\tACS\\_PCT\\_COMMT\\_60MINUP & -0.6133 & -1.9397 &  0.7336 & 70000 &  42.7 &   22.0 &   2.8\\\\\n",
       "\tACS\\_PCT\\_RENTER\\_HH\\_CHILD &  0.3215 &  0.0772 &  0.5628 & 70000 &  42.7 &  288.5 &   0.1\\\\\n",
       "\tNHC\\_BEDCOUNT & -1.2426 & -1.6821 & -0.8089 & 70000 &  42.7 &   54.4 &  -1.4\\\\\n",
       "\tNHC\\_LIC\\_STAFF & -0.8196 & -1.0268 & -0.6102 & 70000 &  42.7 &  525.2 &  -0.6\\\\\n",
       "\tACS\\_PCT\\_10UNITS & -0.6603 & -1.4227 &  0.0384 & 70000 &  42.7 &   42.5 &  -0.4\\\\\n",
       "\tACS\\_PCT\\_OTHER\\_INS &  0.0678 & -1.0117 &  1.1405 & 70000 &  42.7 &  482.7 &  -1.1\\\\\n",
       "\tACS\\_PCT\\_1UP\\_OWNER\\_1ROOM &  0.7849 & -3.3053 &  5.3719 & 70000 &  42.7 &   43.7 &  -2.2\\\\\n",
       "\tACS\\_PCT\\_OTHER & -0.0903 & -1.5696 &  1.2544 & 70000 &  42.7 &  278.0 & -12.7\\\\\n",
       "\tCHR\\_ALCOHOL\\_DRIV\\_DEATH & -0.0631 & -0.1401 &  0.0157 & 70000 &  42.7 & 1133.5 &   0.0\\\\\n",
       "\tvisibility & -0.0327 & -0.1300 &  0.0674 & 70000 &  42.7 &  333.3 &  -1.3\\\\\n",
       "\tACS\\_MEDIAN\\_RENT & -0.0290 & -0.1546 &  0.0940 & 70000 &  42.7 &  273.1 &   2.8\\\\\n",
       "\tACS\\_PCT\\_DRIVE\\_2WORK &  0.1637 & -0.7547 &  0.9335 & 70000 &  42.7 &   26.2 &   1.0\\\\\n",
       "\tACS\\_PCT\\_WORK\\_NO\\_CAR &  1.5367 &  0.2260 &  2.9464 & 70000 &  42.7 &   33.2 &  -1.8\\\\\n",
       "\tACS\\_PCT\\_GRANDP\\_RESPS &  0.0048 & -0.1301 &  0.1318 & 70000 &  42.7 &  153.1 &   1.2\\\\\n",
       "\tACS\\_PCT\\_ENGLISH &  0.3639 & -0.0758 &  0.8321 & 70000 &  42.7 &   26.8 &   2.8\\\\\n",
       "\tACS\\_PCT\\_CONSTRUCT &  0.9776 & -0.2357 &  2.1436 & 70000 &  42.7 &  121.5 & -11.0\\\\\n",
       "\tACS\\_PCT\\_HH\\_1PERS &  0.3510 & -0.1766 &  0.8994 & 70000 &  42.7 &  344.5 &  -0.2\\\\\n",
       "\tACS\\_PCT\\_AGE\\_0\\_4 & -1.7973 & -4.1481 &  0.4153 & 70000 &  42.7 &  328.9 &   0.1\\\\\n",
       "\talpha & -0.0321 & -0.1139 &  0.0575 & 70000 &  35.4 &  194.3 &  -3.9\\\\\n",
       "\ttau2.int &  0.3322 &  0.3127 &  0.3527 & 70000 & 100.0 & 5327.2 &   4.4\\\\\n",
       "\ttau2.slo &  0.1461 &  0.1213 &  0.1722 & 70000 & 100.0 & 1144.9 &  -0.3\\\\\n",
       "\trho.int &  0.4374 &  0.3842 &  0.4887 & 70000 &  45.9 & 2841.0 &  -1.6\\\\\n",
       "\trho.slo &  0.7889 &  0.7381 &  0.8338 & 70000 &  47.1 & 1196.3 &   0.2\\\\\n",
       "\\end{tabular}\n"
      ],
      "text/markdown": [
       "\n",
       "A matrix: 93 × 7 of type dbl\n",
       "\n",
       "| <!--/--> | Mean | 2.5% | 97.5% | n.sample | % accept | n.effective | Geweke.diag |\n",
       "|---|---|---|---|---|---|---|---|\n",
       "| (Intercept) | -8.0218 | -9.2084 | -6.9268 | 70000 | 42.7 | 132.0 |  -1.6 |\n",
       "| ACS_PCT_GRP_QRT |  1.3951 |  0.6425 |  2.1414 | 70000 | 42.7 | 182.2 |   0.0 |\n",
       "| ACS_PCT_PRIVATE_2 |  2.5114 |  0.8958 |  4.1055 | 70000 | 42.7 | 947.6 |   1.3 |\n",
       "| mean_temp | -0.1172 | -0.2972 |  0.0499 | 70000 | 42.7 | 329.8 |  -0.6 |\n",
       "| ACS_PCT_MEDICARE_ONLY |  0.5217 | -0.7115 |  1.7332 | 70000 | 42.7 | 425.9 |  -2.3 |\n",
       "| ACS_PCT_PRIVATE_SELF |  2.0391 |  1.3174 |  2.7673 | 70000 | 42.7 | 226.2 |  -0.2 |\n",
       "| ACS_PCT_MOBILE_HOME |  0.5131 |  0.1954 |  0.8757 | 70000 | 42.7 | 155.3 |   1.2 |\n",
       "| NHC_DAILY_RES | -0.9623 | -1.3308 | -0.5876 | 70000 | 42.7 |  71.9 |   2.3 |\n",
       "| ACS_PCT_NON_CITIZEN | -0.7668 | -1.7782 |  0.1867 | 70000 | 42.7 |  92.6 |   4.7 |\n",
       "| ACS_PCT_TRICARE_VA |  0.8848 | -0.4656 |  2.2055 | 70000 | 42.7 | 200.7 |   0.8 |\n",
       "| ACS_PCT_RETAIL | -0.6237 | -1.8586 |  0.4579 | 70000 | 42.7 | 106.5 | -11.0 |\n",
       "| ACS_PCT_VA_LABOR_FORCE | -0.0107 | -0.1543 |  0.1294 | 70000 | 42.7 | 641.1 |   0.7 |\n",
       "| ACS_PCT_INFORM |  0.5243 | -1.5602 |  2.5838 | 70000 | 42.7 | 395.9 |  -7.9 |\n",
       "| ACS_PCT_COMMT_29MIN | -2.7725 | -3.9695 | -1.4932 | 70000 | 42.7 |  12.5 |   2.3 |\n",
       "| ACS_PCT_PRIVATE_MDCR | -3.0985 | -4.8007 | -1.4168 | 70000 | 42.7 | 300.6 |  -1.9 |\n",
       "| ACS_PCT_COMMT_59MIN | -0.0701 | -1.2027 |  1.1111 | 70000 | 42.7 |  12.7 |   2.3 |\n",
       "| AHRF_HPSA_MENTAL | -0.0256 | -0.0722 |  0.0228 | 70000 | 42.7 | 821.7 |  -1.3 |\n",
       "| ACS_PCT_DIVORCE_SEPARAT | -1.0282 | -1.7795 | -0.2731 | 70000 | 42.7 | 476.0 |  -1.6 |\n",
       "| ACS_PCT_TRANSPORT |  1.9833 |  0.6543 |  3.2537 | 70000 | 42.7 | 171.9 | -10.0 |\n",
       "| ACS_PCT_EDUC |  0.4464 | -0.6583 |  1.3796 | 70000 | 42.7 |  47.2 |  -6.6 |\n",
       "| ACS_PCT_UNINSURED64 |  0.5908 |  0.1274 |  1.0652 | 70000 | 42.7 | 272.5 |   0.8 |\n",
       "| CCBP_RATE_FSR_PER_1000 |  1.5904 | -1.6084 |  4.6608 | 70000 | 42.7 | 609.6 |  -2.1 |\n",
       "| ACS_PCT_GRANDP_NO_RESPS | -0.0281 | -0.1630 |  0.1014 | 70000 | 42.7 | 203.0 |   1.6 |\n",
       "| PM2.5 | -0.4155 | -0.5372 | -0.2923 | 70000 | 42.7 | 687.2 |   1.4 |\n",
       "| ACS_PCT_ASSOCIATE_DGR | -0.1836 | -0.6917 |  0.3436 | 70000 | 42.7 | 267.3 |  -0.1 |\n",
       "| ACS_PCT_ADMIN |  2.4044 |  1.1999 |  3.5855 | 70000 | 42.7 | 105.7 |  -8.5 |\n",
       "| ACS_PCT_RENTER_65UP |  0.1142 | -0.2008 |  0.4351 | 70000 | 42.7 | 537.1 |   0.3 |\n",
       "| duration_mins_mp_mental |  0.0007 |  0.0000 |  0.0013 | 70000 | 42.7 |  69.9 |   1.9 |\n",
       "| ACS_PCT_WALK_2WORK |  1.2930 |  0.0487 |  2.3273 | 70000 | 42.7 | 139.5 |   2.2 |\n",
       "| ACS_PCT_OTH_EURP | -1.8156 | -2.9394 | -0.6708 | 70000 | 42.7 | 218.3 |   0.9 |\n",
       "| ⋮ | ⋮ | ⋮ | ⋮ | ⋮ | ⋮ | ⋮ | ⋮ |\n",
       "| duration_mins_centroid |  0.0055 |  0.0042 |  0.0068 | 70000 |  42.7 |  136.8 |   1.3 |\n",
       "| ACS_PCT_MANUFACT |  0.1899 | -0.9115 |  1.0883 | 70000 |  42.7 |   23.8 |  -6.9 |\n",
       "| ACS_PCT_GULFWAR_1990 |  0.2206 | -0.0324 |  0.4710 | 70000 |  42.7 |  674.7 |  -1.0 |\n",
       "| ACS_PCT_HH_PUB_ASSIST | -0.1467 | -1.3204 |  1.0907 | 70000 |  42.7 |  445.7 |   0.4 |\n",
       "| ACS_PCT_FEMALE |  0.5592 | -0.4681 |  1.6038 | 70000 |  42.7 |  357.5 |  -3.0 |\n",
       "| wind_speed |  0.2812 |  0.1154 |  0.4453 | 70000 |  42.7 |  324.3 |   3.5 |\n",
       "| ACS_PCT_RENT_COST_30PCT | -0.4078 | -0.6067 | -0.2111 | 70000 |  42.7 |  585.4 |  -1.2 |\n",
       "| ACS_PCT_COMMT_60MINUP | -0.6133 | -1.9397 |  0.7336 | 70000 |  42.7 |   22.0 |   2.8 |\n",
       "| ACS_PCT_RENTER_HH_CHILD |  0.3215 |  0.0772 |  0.5628 | 70000 |  42.7 |  288.5 |   0.1 |\n",
       "| NHC_BEDCOUNT | -1.2426 | -1.6821 | -0.8089 | 70000 |  42.7 |   54.4 |  -1.4 |\n",
       "| NHC_LIC_STAFF | -0.8196 | -1.0268 | -0.6102 | 70000 |  42.7 |  525.2 |  -0.6 |\n",
       "| ACS_PCT_10UNITS | -0.6603 | -1.4227 |  0.0384 | 70000 |  42.7 |   42.5 |  -0.4 |\n",
       "| ACS_PCT_OTHER_INS |  0.0678 | -1.0117 |  1.1405 | 70000 |  42.7 |  482.7 |  -1.1 |\n",
       "| ACS_PCT_1UP_OWNER_1ROOM |  0.7849 | -3.3053 |  5.3719 | 70000 |  42.7 |   43.7 |  -2.2 |\n",
       "| ACS_PCT_OTHER | -0.0903 | -1.5696 |  1.2544 | 70000 |  42.7 |  278.0 | -12.7 |\n",
       "| CHR_ALCOHOL_DRIV_DEATH | -0.0631 | -0.1401 |  0.0157 | 70000 |  42.7 | 1133.5 |   0.0 |\n",
       "| visibility | -0.0327 | -0.1300 |  0.0674 | 70000 |  42.7 |  333.3 |  -1.3 |\n",
       "| ACS_MEDIAN_RENT | -0.0290 | -0.1546 |  0.0940 | 70000 |  42.7 |  273.1 |   2.8 |\n",
       "| ACS_PCT_DRIVE_2WORK |  0.1637 | -0.7547 |  0.9335 | 70000 |  42.7 |   26.2 |   1.0 |\n",
       "| ACS_PCT_WORK_NO_CAR |  1.5367 |  0.2260 |  2.9464 | 70000 |  42.7 |   33.2 |  -1.8 |\n",
       "| ACS_PCT_GRANDP_RESPS |  0.0048 | -0.1301 |  0.1318 | 70000 |  42.7 |  153.1 |   1.2 |\n",
       "| ACS_PCT_ENGLISH |  0.3639 | -0.0758 |  0.8321 | 70000 |  42.7 |   26.8 |   2.8 |\n",
       "| ACS_PCT_CONSTRUCT |  0.9776 | -0.2357 |  2.1436 | 70000 |  42.7 |  121.5 | -11.0 |\n",
       "| ACS_PCT_HH_1PERS |  0.3510 | -0.1766 |  0.8994 | 70000 |  42.7 |  344.5 |  -0.2 |\n",
       "| ACS_PCT_AGE_0_4 | -1.7973 | -4.1481 |  0.4153 | 70000 |  42.7 |  328.9 |   0.1 |\n",
       "| alpha | -0.0321 | -0.1139 |  0.0575 | 70000 |  35.4 |  194.3 |  -3.9 |\n",
       "| tau2.int |  0.3322 |  0.3127 |  0.3527 | 70000 | 100.0 | 5327.2 |   4.4 |\n",
       "| tau2.slo |  0.1461 |  0.1213 |  0.1722 | 70000 | 100.0 | 1144.9 |  -0.3 |\n",
       "| rho.int |  0.4374 |  0.3842 |  0.4887 | 70000 |  45.9 | 2841.0 |  -1.6 |\n",
       "| rho.slo |  0.7889 |  0.7381 |  0.8338 | 70000 |  47.1 | 1196.3 |   0.2 |\n",
       "\n"
      ],
      "text/plain": [
       "                        Mean    2.5%    97.5%   n.sample % accept n.effective\n",
       "(Intercept)             -8.0218 -9.2084 -6.9268 70000    42.7     132.0      \n",
       "ACS_PCT_GRP_QRT          1.3951  0.6425  2.1414 70000    42.7     182.2      \n",
       "ACS_PCT_PRIVATE_2        2.5114  0.8958  4.1055 70000    42.7     947.6      \n",
       "mean_temp               -0.1172 -0.2972  0.0499 70000    42.7     329.8      \n",
       "ACS_PCT_MEDICARE_ONLY    0.5217 -0.7115  1.7332 70000    42.7     425.9      \n",
       "ACS_PCT_PRIVATE_SELF     2.0391  1.3174  2.7673 70000    42.7     226.2      \n",
       "ACS_PCT_MOBILE_HOME      0.5131  0.1954  0.8757 70000    42.7     155.3      \n",
       "NHC_DAILY_RES           -0.9623 -1.3308 -0.5876 70000    42.7      71.9      \n",
       "ACS_PCT_NON_CITIZEN     -0.7668 -1.7782  0.1867 70000    42.7      92.6      \n",
       "ACS_PCT_TRICARE_VA       0.8848 -0.4656  2.2055 70000    42.7     200.7      \n",
       "ACS_PCT_RETAIL          -0.6237 -1.8586  0.4579 70000    42.7     106.5      \n",
       "ACS_PCT_VA_LABOR_FORCE  -0.0107 -0.1543  0.1294 70000    42.7     641.1      \n",
       "ACS_PCT_INFORM           0.5243 -1.5602  2.5838 70000    42.7     395.9      \n",
       "ACS_PCT_COMMT_29MIN     -2.7725 -3.9695 -1.4932 70000    42.7      12.5      \n",
       "ACS_PCT_PRIVATE_MDCR    -3.0985 -4.8007 -1.4168 70000    42.7     300.6      \n",
       "ACS_PCT_COMMT_59MIN     -0.0701 -1.2027  1.1111 70000    42.7      12.7      \n",
       "AHRF_HPSA_MENTAL        -0.0256 -0.0722  0.0228 70000    42.7     821.7      \n",
       "ACS_PCT_DIVORCE_SEPARAT -1.0282 -1.7795 -0.2731 70000    42.7     476.0      \n",
       "ACS_PCT_TRANSPORT        1.9833  0.6543  3.2537 70000    42.7     171.9      \n",
       "ACS_PCT_EDUC             0.4464 -0.6583  1.3796 70000    42.7      47.2      \n",
       "ACS_PCT_UNINSURED64      0.5908  0.1274  1.0652 70000    42.7     272.5      \n",
       "CCBP_RATE_FSR_PER_1000   1.5904 -1.6084  4.6608 70000    42.7     609.6      \n",
       "ACS_PCT_GRANDP_NO_RESPS -0.0281 -0.1630  0.1014 70000    42.7     203.0      \n",
       "PM2.5                   -0.4155 -0.5372 -0.2923 70000    42.7     687.2      \n",
       "ACS_PCT_ASSOCIATE_DGR   -0.1836 -0.6917  0.3436 70000    42.7     267.3      \n",
       "ACS_PCT_ADMIN            2.4044  1.1999  3.5855 70000    42.7     105.7      \n",
       "ACS_PCT_RENTER_65UP      0.1142 -0.2008  0.4351 70000    42.7     537.1      \n",
       "duration_mins_mp_mental  0.0007  0.0000  0.0013 70000    42.7      69.9      \n",
       "ACS_PCT_WALK_2WORK       1.2930  0.0487  2.3273 70000    42.7     139.5      \n",
       "ACS_PCT_OTH_EURP        -1.8156 -2.9394 -0.6708 70000    42.7     218.3      \n",
       "⋮                       ⋮       ⋮       ⋮       ⋮        ⋮        ⋮          \n",
       "duration_mins_centroid   0.0055  0.0042  0.0068 70000     42.7     136.8     \n",
       "ACS_PCT_MANUFACT         0.1899 -0.9115  1.0883 70000     42.7      23.8     \n",
       "ACS_PCT_GULFWAR_1990     0.2206 -0.0324  0.4710 70000     42.7     674.7     \n",
       "ACS_PCT_HH_PUB_ASSIST   -0.1467 -1.3204  1.0907 70000     42.7     445.7     \n",
       "ACS_PCT_FEMALE           0.5592 -0.4681  1.6038 70000     42.7     357.5     \n",
       "wind_speed               0.2812  0.1154  0.4453 70000     42.7     324.3     \n",
       "ACS_PCT_RENT_COST_30PCT -0.4078 -0.6067 -0.2111 70000     42.7     585.4     \n",
       "ACS_PCT_COMMT_60MINUP   -0.6133 -1.9397  0.7336 70000     42.7      22.0     \n",
       "ACS_PCT_RENTER_HH_CHILD  0.3215  0.0772  0.5628 70000     42.7     288.5     \n",
       "NHC_BEDCOUNT            -1.2426 -1.6821 -0.8089 70000     42.7      54.4     \n",
       "NHC_LIC_STAFF           -0.8196 -1.0268 -0.6102 70000     42.7     525.2     \n",
       "ACS_PCT_10UNITS         -0.6603 -1.4227  0.0384 70000     42.7      42.5     \n",
       "ACS_PCT_OTHER_INS        0.0678 -1.0117  1.1405 70000     42.7     482.7     \n",
       "ACS_PCT_1UP_OWNER_1ROOM  0.7849 -3.3053  5.3719 70000     42.7      43.7     \n",
       "ACS_PCT_OTHER           -0.0903 -1.5696  1.2544 70000     42.7     278.0     \n",
       "CHR_ALCOHOL_DRIV_DEATH  -0.0631 -0.1401  0.0157 70000     42.7    1133.5     \n",
       "visibility              -0.0327 -0.1300  0.0674 70000     42.7     333.3     \n",
       "ACS_MEDIAN_RENT         -0.0290 -0.1546  0.0940 70000     42.7     273.1     \n",
       "ACS_PCT_DRIVE_2WORK      0.1637 -0.7547  0.9335 70000     42.7      26.2     \n",
       "ACS_PCT_WORK_NO_CAR      1.5367  0.2260  2.9464 70000     42.7      33.2     \n",
       "ACS_PCT_GRANDP_RESPS     0.0048 -0.1301  0.1318 70000     42.7     153.1     \n",
       "ACS_PCT_ENGLISH          0.3639 -0.0758  0.8321 70000     42.7      26.8     \n",
       "ACS_PCT_CONSTRUCT        0.9776 -0.2357  2.1436 70000     42.7     121.5     \n",
       "ACS_PCT_HH_1PERS         0.3510 -0.1766  0.8994 70000     42.7     344.5     \n",
       "ACS_PCT_AGE_0_4         -1.7973 -4.1481  0.4153 70000     42.7     328.9     \n",
       "alpha                   -0.0321 -0.1139  0.0575 70000     35.4     194.3     \n",
       "tau2.int                 0.3322  0.3127  0.3527 70000    100.0    5327.2     \n",
       "tau2.slo                 0.1461  0.1213  0.1722 70000    100.0    1144.9     \n",
       "rho.int                  0.4374  0.3842  0.4887 70000     45.9    2841.0     \n",
       "rho.slo                  0.7889  0.7381  0.8338 70000     47.1    1196.3     \n",
       "                        Geweke.diag\n",
       "(Intercept)              -1.6      \n",
       "ACS_PCT_GRP_QRT           0.0      \n",
       "ACS_PCT_PRIVATE_2         1.3      \n",
       "mean_temp                -0.6      \n",
       "ACS_PCT_MEDICARE_ONLY    -2.3      \n",
       "ACS_PCT_PRIVATE_SELF     -0.2      \n",
       "ACS_PCT_MOBILE_HOME       1.2      \n",
       "NHC_DAILY_RES             2.3      \n",
       "ACS_PCT_NON_CITIZEN       4.7      \n",
       "ACS_PCT_TRICARE_VA        0.8      \n",
       "ACS_PCT_RETAIL          -11.0      \n",
       "ACS_PCT_VA_LABOR_FORCE    0.7      \n",
       "ACS_PCT_INFORM           -7.9      \n",
       "ACS_PCT_COMMT_29MIN       2.3      \n",
       "ACS_PCT_PRIVATE_MDCR     -1.9      \n",
       "ACS_PCT_COMMT_59MIN       2.3      \n",
       "AHRF_HPSA_MENTAL         -1.3      \n",
       "ACS_PCT_DIVORCE_SEPARAT  -1.6      \n",
       "ACS_PCT_TRANSPORT       -10.0      \n",
       "ACS_PCT_EDUC             -6.6      \n",
       "ACS_PCT_UNINSURED64       0.8      \n",
       "CCBP_RATE_FSR_PER_1000   -2.1      \n",
       "ACS_PCT_GRANDP_NO_RESPS   1.6      \n",
       "PM2.5                     1.4      \n",
       "ACS_PCT_ASSOCIATE_DGR    -0.1      \n",
       "ACS_PCT_ADMIN            -8.5      \n",
       "ACS_PCT_RENTER_65UP       0.3      \n",
       "duration_mins_mp_mental   1.9      \n",
       "ACS_PCT_WALK_2WORK        2.2      \n",
       "ACS_PCT_OTH_EURP          0.9      \n",
       "⋮                       ⋮          \n",
       "duration_mins_centroid    1.3      \n",
       "ACS_PCT_MANUFACT         -6.9      \n",
       "ACS_PCT_GULFWAR_1990     -1.0      \n",
       "ACS_PCT_HH_PUB_ASSIST     0.4      \n",
       "ACS_PCT_FEMALE           -3.0      \n",
       "wind_speed                3.5      \n",
       "ACS_PCT_RENT_COST_30PCT  -1.2      \n",
       "ACS_PCT_COMMT_60MINUP     2.8      \n",
       "ACS_PCT_RENTER_HH_CHILD   0.1      \n",
       "NHC_BEDCOUNT             -1.4      \n",
       "NHC_LIC_STAFF            -0.6      \n",
       "ACS_PCT_10UNITS          -0.4      \n",
       "ACS_PCT_OTHER_INS        -1.1      \n",
       "ACS_PCT_1UP_OWNER_1ROOM  -2.2      \n",
       "ACS_PCT_OTHER           -12.7      \n",
       "CHR_ALCOHOL_DRIV_DEATH    0.0      \n",
       "visibility               -1.3      \n",
       "ACS_MEDIAN_RENT           2.8      \n",
       "ACS_PCT_DRIVE_2WORK       1.0      \n",
       "ACS_PCT_WORK_NO_CAR      -1.8      \n",
       "ACS_PCT_GRANDP_RESPS      1.2      \n",
       "ACS_PCT_ENGLISH           2.8      \n",
       "ACS_PCT_CONSTRUCT       -11.0      \n",
       "ACS_PCT_HH_1PERS         -0.2      \n",
       "ACS_PCT_AGE_0_4           0.1      \n",
       "alpha                    -3.9      \n",
       "tau2.int                  4.4      \n",
       "tau2.slo                 -0.3      \n",
       "rho.int                  -1.6      \n",
       "rho.slo                   0.2      "
      ]
     },
     "metadata": {},
     "output_type": "display_data"
    }
   ],
   "source": [
    "fit2$summary.results"
   ]
  },
  {
   "cell_type": "code",
   "execution_count": null,
   "id": "1ad85e17-9e1f-42aa-bb93-810fd108e170",
   "metadata": {},
   "outputs": [],
   "source": []
  },
  {
   "cell_type": "code",
   "execution_count": 7,
   "id": "279e9271-fd1d-4b26-9315-6e6666493f0a",
   "metadata": {},
   "outputs": [
    {
     "data": {
      "text/html": [
       "9087"
      ],
      "text/latex": [
       "9087"
      ],
      "text/markdown": [
       "9087"
      ],
      "text/plain": [
       "[1] 9087"
      ]
     },
     "metadata": {},
     "output_type": "display_data"
    }
   ],
   "source": [
    "length(fit2$fitted.values)"
   ]
  },
  {
   "cell_type": "code",
   "execution_count": 8,
   "id": "092849fc-d524-4f61-806d-8c280d37491d",
   "metadata": {},
   "outputs": [
    {
     "data": {
      "text/html": [
       "3029"
      ],
      "text/latex": [
       "3029"
      ],
      "text/markdown": [
       "3029"
      ],
      "text/plain": [
       "[1] 3029"
      ]
     },
     "metadata": {},
     "output_type": "display_data"
    }
   ],
   "source": [
    "length(fips_to_keep)"
   ]
  },
  {
   "cell_type": "code",
   "execution_count": 9,
   "id": "353c996e-4670-4f36-a1ad-47bded0a636d",
   "metadata": {},
   "outputs": [
    {
     "name": "stdout",
     "output_type": "stream",
     "text": [
      "List of 8\n",
      " $ beta  : 'mcmc' num [1:70000, 1:88] -7.76 -7.72 -7.79 -7.85 -7.83 ...\n",
      "  ..- attr(*, \"mcpar\")= num [1:3] 1 70000 1\n",
      " $ alpha : 'mcmc' num [1:70000, 1] -0.003649 -0.003649 0.001321 0.001321 -0.000285 ...\n",
      "  ..- attr(*, \"mcpar\")= num [1:3] 1 70000 1\n",
      " $ phi   : 'mcmc' num [1:70000, 1:3029] 0.0949 0.0911 0.089 -0.2049 -0.1858 ...\n",
      "  ..- attr(*, \"mcpar\")= num [1:3] 1 70000 1\n",
      " $ delta : 'mcmc' num [1:70000, 1:3029] 0.327 0.183 0.179 0.615 0.172 ...\n",
      "  ..- attr(*, \"mcpar\")= num [1:3] 1 70000 1\n",
      " $ tau2  : 'mcmc' num [1:70000, 1:2] 0.334 0.331 0.327 0.342 0.342 ...\n",
      "  ..- attr(*, \"dimnames\")=List of 2\n",
      "  .. ..$ : NULL\n",
      "  .. ..$ : chr [1:2] \"tau2.int\" \"tau2.slo\"\n",
      "  ..- attr(*, \"mcpar\")= num [1:3] 1 70000 1\n",
      " $ rho   : 'mcmc' num [1:70000, 1:2] 0.464 0.464 0.464 0.452 0.452 ...\n",
      "  ..- attr(*, \"dimnames\")=List of 2\n",
      "  .. ..$ : NULL\n",
      "  .. ..$ : chr [1:2] \"rho.int\" \"rho.slo\"\n",
      "  ..- attr(*, \"mcpar\")= num [1:3] 1 70000 1\n",
      " $ fitted: 'mcmc' num [1:70000, 1:9087] 15.2 16.1 16.1 10.4 12.5 ...\n",
      "  ..- attr(*, \"mcpar\")= num [1:3] 1 70000 1\n",
      " $ Y     : 'mcmc' logi NA\n",
      "  ..- attr(*, \"mcpar\")= num [1:3] 1 1 1\n"
     ]
    }
   ],
   "source": [
    "str(fit2$samples)"
   ]
  },
  {
   "cell_type": "code",
   "execution_count": 10,
   "id": "1923273e-d1a0-4443-8a77-941f6e3e7d51",
   "metadata": {},
   "outputs": [
    {
     "data": {
      "text/html": [
       "140000"
      ],
      "text/latex": [
       "140000"
      ],
      "text/markdown": [
       "140000"
      ],
      "text/plain": [
       "[1] 140000"
      ]
     },
     "metadata": {},
     "output_type": "display_data"
    }
   ],
   "source": [
    "length(fit2$samples$rho)"
   ]
  },
  {
   "cell_type": "code",
   "execution_count": 11,
   "id": "fe43c9d0-9f49-4963-ba64-6544c8beb8ba",
   "metadata": {},
   "outputs": [],
   "source": [
    "true_values <- read_csv(\"data/raw/suicide/2018.csv\", show_col_types=F) %>%\n",
    "        filter(fips %in% fips_to_keep) %>%\n",
    "        arrange(fips) %>%\n",
    "        select(Deaths) %>%\n",
    "        pull()\n"
   ]
  },
  {
   "cell_type": "code",
   "execution_count": 12,
   "id": "458b7de9-d558-44d5-9c15-e9e38be51a09",
   "metadata": {},
   "outputs": [],
   "source": [
    "fitted_values <- fit2$fitted[6059:9087]"
   ]
  },
  {
   "cell_type": "code",
   "execution_count": 13,
   "id": "c2ef39d5-ae1a-4acf-9892-936312a8e850",
   "metadata": {},
   "outputs": [],
   "source": [
    "results_df <- tibble(fitted_values = fitted_values, true_values = true_values, FIPSCODE = fips_to_keep)\n"
   ]
  },
  {
   "cell_type": "code",
   "execution_count": 14,
   "id": "5fc0d1d4-f292-4df0-864e-31afa2e975de",
   "metadata": {},
   "outputs": [
    {
     "data": {
      "text/html": [
       "<table class=\"dataframe\">\n",
       "<caption>A tibble: 6 × 3</caption>\n",
       "<thead>\n",
       "\t<tr><th scope=col>fitted_values</th><th scope=col>true_values</th><th scope=col>FIPSCODE</th></tr>\n",
       "\t<tr><th scope=col>&lt;dbl&gt;</th><th scope=col>&lt;dbl&gt;</th><th scope=col>&lt;chr&gt;</th></tr>\n",
       "</thead>\n",
       "<tbody>\n",
       "\t<tr><td>13.50063</td><td>11.00000</td><td>01001</td></tr>\n",
       "\t<tr><td>40.61262</td><td>44.00000</td><td>01003</td></tr>\n",
       "\t<tr><td>16.45430</td><td>14.00000</td><td>01005</td></tr>\n",
       "\t<tr><td>46.82014</td><td>47.33333</td><td>01007</td></tr>\n",
       "\t<tr><td>10.84690</td><td>10.00000</td><td>01009</td></tr>\n",
       "\t<tr><td>24.26135</td><td>19.00000</td><td>01011</td></tr>\n",
       "</tbody>\n",
       "</table>\n"
      ],
      "text/latex": [
       "A tibble: 6 × 3\n",
       "\\begin{tabular}{lll}\n",
       " fitted\\_values & true\\_values & FIPSCODE\\\\\n",
       " <dbl> & <dbl> & <chr>\\\\\n",
       "\\hline\n",
       "\t 13.50063 & 11.00000 & 01001\\\\\n",
       "\t 40.61262 & 44.00000 & 01003\\\\\n",
       "\t 16.45430 & 14.00000 & 01005\\\\\n",
       "\t 46.82014 & 47.33333 & 01007\\\\\n",
       "\t 10.84690 & 10.00000 & 01009\\\\\n",
       "\t 24.26135 & 19.00000 & 01011\\\\\n",
       "\\end{tabular}\n"
      ],
      "text/markdown": [
       "\n",
       "A tibble: 6 × 3\n",
       "\n",
       "| fitted_values &lt;dbl&gt; | true_values &lt;dbl&gt; | FIPSCODE &lt;chr&gt; |\n",
       "|---|---|---|\n",
       "| 13.50063 | 11.00000 | 01001 |\n",
       "| 40.61262 | 44.00000 | 01003 |\n",
       "| 16.45430 | 14.00000 | 01005 |\n",
       "| 46.82014 | 47.33333 | 01007 |\n",
       "| 10.84690 | 10.00000 | 01009 |\n",
       "| 24.26135 | 19.00000 | 01011 |\n",
       "\n"
      ],
      "text/plain": [
       "  fitted_values true_values FIPSCODE\n",
       "1 13.50063      11.00000    01001   \n",
       "2 40.61262      44.00000    01003   \n",
       "3 16.45430      14.00000    01005   \n",
       "4 46.82014      47.33333    01007   \n",
       "5 10.84690      10.00000    01009   \n",
       "6 24.26135      19.00000    01011   "
      ]
     },
     "metadata": {},
     "output_type": "display_data"
    }
   ],
   "source": [
    "head(results_df)"
   ]
  },
  {
   "cell_type": "code",
   "execution_count": 15,
   "id": "c1c2cc1c-266a-44fd-bd3c-b1bc29bea793",
   "metadata": {},
   "outputs": [],
   "source": [
    "top_true <- results_df %>%\n",
    "    arrange(desc(true_values)) %>%\n",
    "    head(6) %>%\n",
    "    mutate(top5_true = 1)"
   ]
  },
  {
   "cell_type": "code",
   "execution_count": 16,
   "id": "b8bd4608-4699-4926-9ebf-2b3c68f42b9a",
   "metadata": {},
   "outputs": [
    {
     "data": {
      "text/html": [
       "<table class=\"dataframe\">\n",
       "<caption>A tibble: 6 × 4</caption>\n",
       "<thead>\n",
       "\t<tr><th scope=col>fitted_values</th><th scope=col>true_values</th><th scope=col>FIPSCODE</th><th scope=col>top5_true</th></tr>\n",
       "\t<tr><th scope=col>&lt;dbl&gt;</th><th scope=col>&lt;dbl&gt;</th><th scope=col>&lt;chr&gt;</th><th scope=col>&lt;dbl&gt;</th></tr>\n",
       "</thead>\n",
       "<tbody>\n",
       "\t<tr><td>856.9159</td><td>947</td><td>06037</td><td>1</td></tr>\n",
       "\t<tr><td>674.5779</td><td>737</td><td>04013</td><td>1</td></tr>\n",
       "\t<tr><td>486.2214</td><td>481</td><td>48201</td><td>1</td></tr>\n",
       "\t<tr><td>411.0847</td><td>465</td><td>32003</td><td>1</td></tr>\n",
       "\t<tr><td>431.9326</td><td>459</td><td>17031</td><td>1</td></tr>\n",
       "\t<tr><td>414.9652</td><td>448</td><td>06073</td><td>1</td></tr>\n",
       "</tbody>\n",
       "</table>\n"
      ],
      "text/latex": [
       "A tibble: 6 × 4\n",
       "\\begin{tabular}{llll}\n",
       " fitted\\_values & true\\_values & FIPSCODE & top5\\_true\\\\\n",
       " <dbl> & <dbl> & <chr> & <dbl>\\\\\n",
       "\\hline\n",
       "\t 856.9159 & 947 & 06037 & 1\\\\\n",
       "\t 674.5779 & 737 & 04013 & 1\\\\\n",
       "\t 486.2214 & 481 & 48201 & 1\\\\\n",
       "\t 411.0847 & 465 & 32003 & 1\\\\\n",
       "\t 431.9326 & 459 & 17031 & 1\\\\\n",
       "\t 414.9652 & 448 & 06073 & 1\\\\\n",
       "\\end{tabular}\n"
      ],
      "text/markdown": [
       "\n",
       "A tibble: 6 × 4\n",
       "\n",
       "| fitted_values &lt;dbl&gt; | true_values &lt;dbl&gt; | FIPSCODE &lt;chr&gt; | top5_true &lt;dbl&gt; |\n",
       "|---|---|---|---|\n",
       "| 856.9159 | 947 | 06037 | 1 |\n",
       "| 674.5779 | 737 | 04013 | 1 |\n",
       "| 486.2214 | 481 | 48201 | 1 |\n",
       "| 411.0847 | 465 | 32003 | 1 |\n",
       "| 431.9326 | 459 | 17031 | 1 |\n",
       "| 414.9652 | 448 | 06073 | 1 |\n",
       "\n"
      ],
      "text/plain": [
       "  fitted_values true_values FIPSCODE top5_true\n",
       "1 856.9159      947         06037    1        \n",
       "2 674.5779      737         04013    1        \n",
       "3 486.2214      481         48201    1        \n",
       "4 411.0847      465         32003    1        \n",
       "5 431.9326      459         17031    1        \n",
       "6 414.9652      448         06073    1        "
      ]
     },
     "metadata": {},
     "output_type": "display_data"
    }
   ],
   "source": [
    "top_true"
   ]
  },
  {
   "cell_type": "code",
   "execution_count": 17,
   "id": "0cc4da52-a370-478d-b267-d617df7c3400",
   "metadata": {},
   "outputs": [
    {
     "data": {
      "text/html": [
       "<table class=\"dataframe\">\n",
       "<caption>A tibble: 6 × 3</caption>\n",
       "<thead>\n",
       "\t<tr><th scope=col>fitted_values</th><th scope=col>true_values</th><th scope=col>FIPSCODE</th></tr>\n",
       "\t<tr><th scope=col>&lt;dbl&gt;</th><th scope=col>&lt;dbl&gt;</th><th scope=col>&lt;chr&gt;</th></tr>\n",
       "</thead>\n",
       "<tbody>\n",
       "\t<tr><td>856.9159</td><td>947</td><td>06037</td></tr>\n",
       "\t<tr><td>674.5779</td><td>737</td><td>04013</td></tr>\n",
       "\t<tr><td>486.2214</td><td>481</td><td>48201</td></tr>\n",
       "\t<tr><td>431.9326</td><td>459</td><td>17031</td></tr>\n",
       "\t<tr><td>414.9652</td><td>448</td><td>06073</td></tr>\n",
       "\t<tr><td>411.0847</td><td>465</td><td>32003</td></tr>\n",
       "</tbody>\n",
       "</table>\n"
      ],
      "text/latex": [
       "A tibble: 6 × 3\n",
       "\\begin{tabular}{lll}\n",
       " fitted\\_values & true\\_values & FIPSCODE\\\\\n",
       " <dbl> & <dbl> & <chr>\\\\\n",
       "\\hline\n",
       "\t 856.9159 & 947 & 06037\\\\\n",
       "\t 674.5779 & 737 & 04013\\\\\n",
       "\t 486.2214 & 481 & 48201\\\\\n",
       "\t 431.9326 & 459 & 17031\\\\\n",
       "\t 414.9652 & 448 & 06073\\\\\n",
       "\t 411.0847 & 465 & 32003\\\\\n",
       "\\end{tabular}\n"
      ],
      "text/markdown": [
       "\n",
       "A tibble: 6 × 3\n",
       "\n",
       "| fitted_values &lt;dbl&gt; | true_values &lt;dbl&gt; | FIPSCODE &lt;chr&gt; |\n",
       "|---|---|---|\n",
       "| 856.9159 | 947 | 06037 |\n",
       "| 674.5779 | 737 | 04013 |\n",
       "| 486.2214 | 481 | 48201 |\n",
       "| 431.9326 | 459 | 17031 |\n",
       "| 414.9652 | 448 | 06073 |\n",
       "| 411.0847 | 465 | 32003 |\n",
       "\n"
      ],
      "text/plain": [
       "  fitted_values true_values FIPSCODE\n",
       "1 856.9159      947         06037   \n",
       "2 674.5779      737         04013   \n",
       "3 486.2214      481         48201   \n",
       "4 431.9326      459         17031   \n",
       "5 414.9652      448         06073   \n",
       "6 411.0847      465         32003   "
      ]
     },
     "metadata": {},
     "output_type": "display_data"
    }
   ],
   "source": [
    "top_fitted <- results_df %>%\n",
    "    arrange(desc(fitted_values)) %>%\n",
    "    head(6)\n",
    "top_fitted"
   ]
  },
  {
   "cell_type": "markdown",
   "id": "6982de64-4718-4af7-ad93-00c96d61abbd",
   "metadata": {},
   "source": [
    "# Residual Analysis"
   ]
  },
  {
   "cell_type": "code",
   "execution_count": 18,
   "id": "315fb68d-abd0-4efb-9186-f739e93af29f",
   "metadata": {},
   "outputs": [
    {
     "data": {
      "image/png": "[encoded data removed]",
      "text/plain": [
       "plot without title"
      ]
     },
     "metadata": {
      "image/png": {
       "height": 420,
       "width": 420
      }
     },
     "output_type": "display_data"
    }
   ],
   "source": [
    "plot(fit2$fitted, fit2$residuals$response)"
   ]
  },
  {
   "cell_type": "code",
   "execution_count": 19,
   "id": "da6b7ce6-f3cf-41e9-930f-15034a9687d3",
   "metadata": {},
   "outputs": [
    {
     "data": {
      "image/png": "[encoded data removed]",
      "text/plain": [
       "Plot with title “Series  fit2$residuals$response”"
      ]
     },
     "metadata": {
      "image/png": {
       "height": 420,
       "width": 420
      }
     },
     "output_type": "display_data"
    }
   ],
   "source": [
    "acf(fit2$residuals$response,ylim=c(0,0.5))"
   ]
  },
  {
   "cell_type": "code",
   "execution_count": 20,
   "id": "a938d537-7be4-469a-b031-954387c43b87",
   "metadata": {},
   "outputs": [
    {
     "data": {
      "image/png": "[encoded data removed]",
      "text/plain": [
       "Plot with title “Series  fit2$residuals$response”"
      ]
     },
     "metadata": {
      "image/png": {
       "height": 420,
       "width": 420
      }
     },
     "output_type": "display_data"
    }
   ],
   "source": [
    "acf(fit2$residuals$response,\"partial\")\n",
    "# correlation after AR1 is accounted for"
   ]
  },
  {
   "cell_type": "markdown",
   "id": "a7f5792d-b06d-4200-8483-56f3e29e1659",
   "metadata": {},
   "source": [
    "# Coefficients\n",
    "Order by effect size of the coefficient (note: coefficients have not been standardized)"
   ]
  },
  {
   "cell_type": "code",
   "execution_count": 21,
   "id": "a56d2b42-4737-45ec-98cb-e248dda341a9",
   "metadata": {},
   "outputs": [
    {
     "data": {
      "text/html": [
       "<table class=\"dataframe\">\n",
       "<caption>A tibble: 93 × 7</caption>\n",
       "<thead>\n",
       "\t<tr><th></th><th scope=col>Mean</th><th scope=col>2.5%</th><th scope=col>97.5%</th><th scope=col>n.sample</th><th scope=col>% accept</th><th scope=col>n.effective</th><th scope=col>Geweke.diag</th></tr>\n",
       "\t<tr><th></th><th scope=col>&lt;dbl&gt;</th><th scope=col>&lt;dbl&gt;</th><th scope=col>&lt;dbl&gt;</th><th scope=col>&lt;dbl&gt;</th><th scope=col>&lt;dbl&gt;</th><th scope=col>&lt;dbl&gt;</th><th scope=col>&lt;dbl&gt;</th></tr>\n",
       "</thead>\n",
       "<tbody>\n",
       "\t<tr><th scope=row>(Intercept)</th><td>-8.0218</td><td>-9.2084</td><td>-6.9268</td><td>70000</td><td>42.7</td><td>132.0</td><td> -1.6</td></tr>\n",
       "\t<tr><th scope=row>CCBP_RATE_CS_PER_1000</th><td>-5.2836</td><td>-9.8757</td><td>-1.2679</td><td>70000</td><td>42.7</td><td> 91.4</td><td>  4.7</td></tr>\n",
       "\t<tr><th scope=row>ACS_PCT_PUBLIC_OTHER</th><td> 4.1878</td><td> 0.2545</td><td> 8.0281</td><td>70000</td><td>42.7</td><td>416.3</td><td>  2.2</td></tr>\n",
       "\t<tr><th scope=row>CHR_MENTAL_DR_RATE</th><td>-3.7578</td><td>-5.4840</td><td>-2.1185</td><td>70000</td><td>42.7</td><td>194.7</td><td> -0.9</td></tr>\n",
       "\t<tr><th scope=row>ACS_PCT_WHOLESALE</th><td> 3.6404</td><td> 2.0009</td><td> 5.2771</td><td>70000</td><td>42.7</td><td>333.5</td><td>-10.9</td></tr>\n",
       "\t<tr><th scope=row>ACS_PCT_AGE_0_17</th><td> 3.5504</td><td> 2.2293</td><td> 4.8121</td><td>70000</td><td>42.7</td><td> 87.3</td><td>  0.7</td></tr>\n",
       "\t<tr><th scope=row>ACS_PCT_PRIVATE_MDCR</th><td>-3.0985</td><td>-4.8007</td><td>-1.4168</td><td>70000</td><td>42.7</td><td>300.6</td><td> -1.9</td></tr>\n",
       "\t<tr><th scope=row>ACS_PCT_NATURE</th><td> 2.9406</td><td> 1.6380</td><td> 3.8369</td><td>70000</td><td>42.7</td><td>  2.4</td><td> -2.1</td></tr>\n",
       "\t<tr><th scope=row>ACS_PCT_COMMT_29MIN</th><td>-2.7725</td><td>-3.9695</td><td>-1.4932</td><td>70000</td><td>42.7</td><td> 12.5</td><td>  2.3</td></tr>\n",
       "\t<tr><th scope=row>ACS_PCT_PRIVATE_2</th><td> 2.5114</td><td> 0.8958</td><td> 4.1055</td><td>70000</td><td>42.7</td><td>947.6</td><td>  1.3</td></tr>\n",
       "\t<tr><th scope=row>ACS_PCT_ADMIN</th><td> 2.4044</td><td> 1.1999</td><td> 3.5855</td><td>70000</td><td>42.7</td><td>105.7</td><td> -8.5</td></tr>\n",
       "\t<tr><th scope=row>ACS_PCT_PRIVATE_SELF</th><td> 2.0391</td><td> 1.3174</td><td> 2.7673</td><td>70000</td><td>42.7</td><td>226.2</td><td> -0.2</td></tr>\n",
       "\t<tr><th scope=row>ACS_PCT_TRANSPORT</th><td> 1.9833</td><td> 0.6543</td><td> 3.2537</td><td>70000</td><td>42.7</td><td>171.9</td><td>-10.0</td></tr>\n",
       "\t<tr><th scope=row>ACS_PCT_OTH_EURP</th><td>-1.8156</td><td>-2.9394</td><td>-0.6708</td><td>70000</td><td>42.7</td><td>218.3</td><td>  0.9</td></tr>\n",
       "\t<tr><th scope=row>ACS_PCT_AGE_0_4</th><td>-1.7973</td><td>-4.1481</td><td> 0.4153</td><td>70000</td><td>42.7</td><td>328.9</td><td>  0.1</td></tr>\n",
       "\t<tr><th scope=row>ACS_PCT_VA</th><td>-1.6800</td><td>-2.8517</td><td>-0.4807</td><td>70000</td><td>42.7</td><td>157.4</td><td>  0.3</td></tr>\n",
       "\t<tr><th scope=row>ACS_PCT_1UP_PERS_1ROOM</th><td>-1.6117</td><td>-7.6959</td><td> 3.7900</td><td>70000</td><td>42.7</td><td> 15.6</td><td>  1.6</td></tr>\n",
       "\t<tr><th scope=row>CCBP_RATE_FSR_PER_1000</th><td> 1.5904</td><td>-1.6084</td><td> 4.6608</td><td>70000</td><td>42.7</td><td>609.6</td><td> -2.1</td></tr>\n",
       "\t<tr><th scope=row>ACS_PCT_WORK_NO_CAR</th><td> 1.5367</td><td> 0.2260</td><td> 2.9464</td><td>70000</td><td>42.7</td><td> 33.2</td><td> -1.8</td></tr>\n",
       "\t<tr><th scope=row>ACS_PCT_GRP_QRT</th><td> 1.3951</td><td> 0.6425</td><td> 2.1414</td><td>70000</td><td>42.7</td><td>182.2</td><td>  0.0</td></tr>\n",
       "\t<tr><th scope=row>ACS_PCT_MULT_RACE</th><td>-1.2992</td><td>-2.4111</td><td>-0.1019</td><td>70000</td><td>42.7</td><td>431.1</td><td> -0.8</td></tr>\n",
       "\t<tr><th scope=row>ACS_PCT_WALK_2WORK</th><td> 1.2930</td><td> 0.0487</td><td> 2.3273</td><td>70000</td><td>42.7</td><td>139.5</td><td>  2.2</td></tr>\n",
       "\t<tr><th scope=row>NHC_BEDCOUNT</th><td>-1.2426</td><td>-1.6821</td><td>-0.8089</td><td>70000</td><td>42.7</td><td> 54.4</td><td> -1.4</td></tr>\n",
       "\t<tr><th scope=row>CHR_DENTIST_RATE</th><td>-1.2377</td><td>-2.0858</td><td>-0.4370</td><td>70000</td><td>42.7</td><td>200.6</td><td> -0.9</td></tr>\n",
       "\t<tr><th scope=row>ACS_MEDIAN_AGE</th><td> 1.1922</td><td> 0.7840</td><td> 1.5435</td><td>70000</td><td>42.7</td><td>131.4</td><td>  2.1</td></tr>\n",
       "\t<tr><th scope=row>ACS_PCT_DIVORCE_SEPARAT</th><td>-1.0282</td><td>-1.7795</td><td>-0.2731</td><td>70000</td><td>42.7</td><td>476.0</td><td> -1.6</td></tr>\n",
       "\t<tr><th scope=row>ACS_PCT_CONSTRUCT</th><td> 0.9776</td><td>-0.2357</td><td> 2.1436</td><td>70000</td><td>42.7</td><td>121.5</td><td>-11.0</td></tr>\n",
       "\t<tr><th scope=row>NHC_DAILY_RES</th><td>-0.9623</td><td>-1.3308</td><td>-0.5876</td><td>70000</td><td>42.7</td><td> 71.9</td><td>  2.3</td></tr>\n",
       "\t<tr><th scope=row>ACS_PCT_UNEMPLOY</th><td>-0.9322</td><td>-2.2748</td><td> 0.3721</td><td>70000</td><td>42.7</td><td>358.8</td><td>  1.6</td></tr>\n",
       "\t<tr><th scope=row>ACS_PCT_TRICARE_VA</th><td> 0.8848</td><td>-0.4656</td><td> 2.2055</td><td>70000</td><td>42.7</td><td>200.7</td><td>  0.8</td></tr>\n",
       "\t<tr><th scope=row>⋮</th><td>⋮</td><td>⋮</td><td>⋮</td><td>⋮</td><td>⋮</td><td>⋮</td><td>⋮</td></tr>\n",
       "\t<tr><th scope=row>ACS_PCT_1UP_RENT_1ROOM</th><td>-0.1935</td><td>-1.7400</td><td> 1.5557</td><td>70000</td><td> 42.7</td><td>  38.1</td><td> -2.4</td></tr>\n",
       "\t<tr><th scope=row>ACS_PCT_MANUFACT</th><td> 0.1899</td><td>-0.9115</td><td> 1.0883</td><td>70000</td><td> 42.7</td><td>  23.8</td><td> -6.9</td></tr>\n",
       "\t<tr><th scope=row>ACS_PCT_ASSOCIATE_DGR</th><td>-0.1836</td><td>-0.6917</td><td> 0.3436</td><td>70000</td><td> 42.7</td><td> 267.3</td><td> -0.1</td></tr>\n",
       "\t<tr><th scope=row>ACS_PCT_DRIVE_2WORK</th><td> 0.1637</td><td>-0.7547</td><td> 0.9335</td><td>70000</td><td> 42.7</td><td>  26.2</td><td>  1.0</td></tr>\n",
       "\t<tr><th scope=row>ACS_PCT_CHILD_DISAB</th><td>-0.1571</td><td>-0.7844</td><td> 0.4815</td><td>70000</td><td> 42.7</td><td> 901.1</td><td>  0.9</td></tr>\n",
       "\t<tr><th scope=row>ACS_PCT_HH_PUB_ASSIST</th><td>-0.1467</td><td>-1.3204</td><td> 1.0907</td><td>70000</td><td> 42.7</td><td> 445.7</td><td>  0.4</td></tr>\n",
       "\t<tr><th scope=row>tau2.slo</th><td> 0.1461</td><td> 0.1213</td><td> 0.1722</td><td>70000</td><td>100.0</td><td>1144.9</td><td> -0.3</td></tr>\n",
       "\t<tr><th scope=row>ACS_PCT_VA_COLLEGE</th><td>-0.1354</td><td>-0.3446</td><td> 0.0725</td><td>70000</td><td> 42.7</td><td> 821.7</td><td> -0.4</td></tr>\n",
       "\t<tr><th scope=row>ACS_PCT_VA_POOR</th><td> 0.1236</td><td>-0.0531</td><td> 0.3050</td><td>70000</td><td> 42.7</td><td>1051.5</td><td> -0.7</td></tr>\n",
       "\t<tr><th scope=row>mean_temp</th><td>-0.1172</td><td>-0.2972</td><td> 0.0499</td><td>70000</td><td> 42.7</td><td> 329.8</td><td> -0.6</td></tr>\n",
       "\t<tr><th scope=row>ACS_PCT_RENTER_65UP</th><td> 0.1142</td><td>-0.2008</td><td> 0.4351</td><td>70000</td><td> 42.7</td><td> 537.1</td><td>  0.3</td></tr>\n",
       "\t<tr><th scope=row>ACS_PCT_OTHER</th><td>-0.0903</td><td>-1.5696</td><td> 1.2544</td><td>70000</td><td> 42.7</td><td> 278.0</td><td>-12.7</td></tr>\n",
       "\t<tr><th scope=row>CHR_DENTISTS_NUM</th><td>-0.0727</td><td>-0.3611</td><td> 0.1509</td><td>70000</td><td> 42.7</td><td>   8.8</td><td>  2.7</td></tr>\n",
       "\t<tr><th scope=row>ACS_PCT_COMMT_59MIN</th><td>-0.0701</td><td>-1.2027</td><td> 1.1111</td><td>70000</td><td> 42.7</td><td>  12.7</td><td>  2.3</td></tr>\n",
       "\t<tr><th scope=row>ACS_PCT_OTHER_INS</th><td> 0.0678</td><td>-1.0117</td><td> 1.1405</td><td>70000</td><td> 42.7</td><td> 482.7</td><td> -1.1</td></tr>\n",
       "\t<tr><th scope=row>ACS_PCT_TAXICAB_2WORK</th><td> 0.0636</td><td>-1.3867</td><td> 1.5430</td><td>70000</td><td> 42.7</td><td> 463.1</td><td>  2.1</td></tr>\n",
       "\t<tr><th scope=row>CHR_ALCOHOL_DRIV_DEATH</th><td>-0.0631</td><td>-0.1401</td><td> 0.0157</td><td>70000</td><td> 42.7</td><td>1133.5</td><td>  0.0</td></tr>\n",
       "\t<tr><th scope=row>ACS_PCT_VA_DISABLE</th><td>-0.0509</td><td>-0.1935</td><td> 0.0902</td><td>70000</td><td> 42.7</td><td> 913.9</td><td>  0.3</td></tr>\n",
       "\t<tr><th scope=row>ACS_PCT_GULFWAR_2001</th><td> 0.0477</td><td>-0.2285</td><td> 0.3143</td><td>70000</td><td> 42.7</td><td> 503.2</td><td> -1.2</td></tr>\n",
       "\t<tr><th scope=row>ACS_PCT_GRANDP_RESPS_NO_P</th><td> 0.0339</td><td>-0.0993</td><td> 0.1575</td><td>70000</td><td> 42.7</td><td> 216.2</td><td>  1.7</td></tr>\n",
       "\t<tr><th scope=row>visibility</th><td>-0.0327</td><td>-0.1300</td><td> 0.0674</td><td>70000</td><td> 42.7</td><td> 333.3</td><td> -1.3</td></tr>\n",
       "\t<tr><th scope=row>alpha</th><td>-0.0321</td><td>-0.1139</td><td> 0.0575</td><td>70000</td><td> 35.4</td><td> 194.3</td><td> -3.9</td></tr>\n",
       "\t<tr><th scope=row>ACS_MEDIAN_RENT</th><td>-0.0290</td><td>-0.1546</td><td> 0.0940</td><td>70000</td><td> 42.7</td><td> 273.1</td><td>  2.8</td></tr>\n",
       "\t<tr><th scope=row>ACS_PCT_GRANDP_NO_RESPS</th><td>-0.0281</td><td>-0.1630</td><td> 0.1014</td><td>70000</td><td> 42.7</td><td> 203.0</td><td>  1.6</td></tr>\n",
       "\t<tr><th scope=row>AHRF_HPSA_MENTAL</th><td>-0.0256</td><td>-0.0722</td><td> 0.0228</td><td>70000</td><td> 42.7</td><td> 821.7</td><td> -1.3</td></tr>\n",
       "\t<tr><th scope=row>ACS_PCT_VA_LABOR_FORCE</th><td>-0.0107</td><td>-0.1543</td><td> 0.1294</td><td>70000</td><td> 42.7</td><td> 641.1</td><td>  0.7</td></tr>\n",
       "\t<tr><th scope=row>duration_mins_centroid</th><td> 0.0055</td><td> 0.0042</td><td> 0.0068</td><td>70000</td><td> 42.7</td><td> 136.8</td><td>  1.3</td></tr>\n",
       "\t<tr><th scope=row>ACS_PCT_GRANDP_RESPS</th><td> 0.0048</td><td>-0.1301</td><td> 0.1318</td><td>70000</td><td> 42.7</td><td> 153.1</td><td>  1.2</td></tr>\n",
       "\t<tr><th scope=row>duration_mins_mp_VAMC</th><td>-0.0009</td><td>-0.0015</td><td>-0.0003</td><td>70000</td><td> 42.7</td><td>  86.1</td><td> -2.5</td></tr>\n",
       "\t<tr><th scope=row>duration_mins_mp_mental</th><td> 0.0007</td><td> 0.0000</td><td> 0.0013</td><td>70000</td><td> 42.7</td><td>  69.9</td><td>  1.9</td></tr>\n",
       "</tbody>\n",
       "</table>\n"
      ],
      "text/latex": [
       "A tibble: 93 × 7\n",
       "\\begin{tabular}{r|lllllll}\n",
       "  & Mean & 2.5\\% & 97.5\\% & n.sample & \\% accept & n.effective & Geweke.diag\\\\\n",
       "  & <dbl> & <dbl> & <dbl> & <dbl> & <dbl> & <dbl> & <dbl>\\\\\n",
       "\\hline\n",
       "\t(Intercept) & -8.0218 & -9.2084 & -6.9268 & 70000 & 42.7 & 132.0 &  -1.6\\\\\n",
       "\tCCBP\\_RATE\\_CS\\_PER\\_1000 & -5.2836 & -9.8757 & -1.2679 & 70000 & 42.7 &  91.4 &   4.7\\\\\n",
       "\tACS\\_PCT\\_PUBLIC\\_OTHER &  4.1878 &  0.2545 &  8.0281 & 70000 & 42.7 & 416.3 &   2.2\\\\\n",
       "\tCHR\\_MENTAL\\_DR\\_RATE & -3.7578 & -5.4840 & -2.1185 & 70000 & 42.7 & 194.7 &  -0.9\\\\\n",
       "\tACS\\_PCT\\_WHOLESALE &  3.6404 &  2.0009 &  5.2771 & 70000 & 42.7 & 333.5 & -10.9\\\\\n",
       "\tACS\\_PCT\\_AGE\\_0\\_17 &  3.5504 &  2.2293 &  4.8121 & 70000 & 42.7 &  87.3 &   0.7\\\\\n",
       "\tACS\\_PCT\\_PRIVATE\\_MDCR & -3.0985 & -4.8007 & -1.4168 & 70000 & 42.7 & 300.6 &  -1.9\\\\\n",
       "\tACS\\_PCT\\_NATURE &  2.9406 &  1.6380 &  3.8369 & 70000 & 42.7 &   2.4 &  -2.1\\\\\n",
       "\tACS\\_PCT\\_COMMT\\_29MIN & -2.7725 & -3.9695 & -1.4932 & 70000 & 42.7 &  12.5 &   2.3\\\\\n",
       "\tACS\\_PCT\\_PRIVATE\\_2 &  2.5114 &  0.8958 &  4.1055 & 70000 & 42.7 & 947.6 &   1.3\\\\\n",
       "\tACS\\_PCT\\_ADMIN &  2.4044 &  1.1999 &  3.5855 & 70000 & 42.7 & 105.7 &  -8.5\\\\\n",
       "\tACS\\_PCT\\_PRIVATE\\_SELF &  2.0391 &  1.3174 &  2.7673 & 70000 & 42.7 & 226.2 &  -0.2\\\\\n",
       "\tACS\\_PCT\\_TRANSPORT &  1.9833 &  0.6543 &  3.2537 & 70000 & 42.7 & 171.9 & -10.0\\\\\n",
       "\tACS\\_PCT\\_OTH\\_EURP & -1.8156 & -2.9394 & -0.6708 & 70000 & 42.7 & 218.3 &   0.9\\\\\n",
       "\tACS\\_PCT\\_AGE\\_0\\_4 & -1.7973 & -4.1481 &  0.4153 & 70000 & 42.7 & 328.9 &   0.1\\\\\n",
       "\tACS\\_PCT\\_VA & -1.6800 & -2.8517 & -0.4807 & 70000 & 42.7 & 157.4 &   0.3\\\\\n",
       "\tACS\\_PCT\\_1UP\\_PERS\\_1ROOM & -1.6117 & -7.6959 &  3.7900 & 70000 & 42.7 &  15.6 &   1.6\\\\\n",
       "\tCCBP\\_RATE\\_FSR\\_PER\\_1000 &  1.5904 & -1.6084 &  4.6608 & 70000 & 42.7 & 609.6 &  -2.1\\\\\n",
       "\tACS\\_PCT\\_WORK\\_NO\\_CAR &  1.5367 &  0.2260 &  2.9464 & 70000 & 42.7 &  33.2 &  -1.8\\\\\n",
       "\tACS\\_PCT\\_GRP\\_QRT &  1.3951 &  0.6425 &  2.1414 & 70000 & 42.7 & 182.2 &   0.0\\\\\n",
       "\tACS\\_PCT\\_MULT\\_RACE & -1.2992 & -2.4111 & -0.1019 & 70000 & 42.7 & 431.1 &  -0.8\\\\\n",
       "\tACS\\_PCT\\_WALK\\_2WORK &  1.2930 &  0.0487 &  2.3273 & 70000 & 42.7 & 139.5 &   2.2\\\\\n",
       "\tNHC\\_BEDCOUNT & -1.2426 & -1.6821 & -0.8089 & 70000 & 42.7 &  54.4 &  -1.4\\\\\n",
       "\tCHR\\_DENTIST\\_RATE & -1.2377 & -2.0858 & -0.4370 & 70000 & 42.7 & 200.6 &  -0.9\\\\\n",
       "\tACS\\_MEDIAN\\_AGE &  1.1922 &  0.7840 &  1.5435 & 70000 & 42.7 & 131.4 &   2.1\\\\\n",
       "\tACS\\_PCT\\_DIVORCE\\_SEPARAT & -1.0282 & -1.7795 & -0.2731 & 70000 & 42.7 & 476.0 &  -1.6\\\\\n",
       "\tACS\\_PCT\\_CONSTRUCT &  0.9776 & -0.2357 &  2.1436 & 70000 & 42.7 & 121.5 & -11.0\\\\\n",
       "\tNHC\\_DAILY\\_RES & -0.9623 & -1.3308 & -0.5876 & 70000 & 42.7 &  71.9 &   2.3\\\\\n",
       "\tACS\\_PCT\\_UNEMPLOY & -0.9322 & -2.2748 &  0.3721 & 70000 & 42.7 & 358.8 &   1.6\\\\\n",
       "\tACS\\_PCT\\_TRICARE\\_VA &  0.8848 & -0.4656 &  2.2055 & 70000 & 42.7 & 200.7 &   0.8\\\\\n",
       "\t⋮ & ⋮ & ⋮ & ⋮ & ⋮ & ⋮ & ⋮ & ⋮\\\\\n",
       "\tACS\\_PCT\\_1UP\\_RENT\\_1ROOM & -0.1935 & -1.7400 &  1.5557 & 70000 &  42.7 &   38.1 &  -2.4\\\\\n",
       "\tACS\\_PCT\\_MANUFACT &  0.1899 & -0.9115 &  1.0883 & 70000 &  42.7 &   23.8 &  -6.9\\\\\n",
       "\tACS\\_PCT\\_ASSOCIATE\\_DGR & -0.1836 & -0.6917 &  0.3436 & 70000 &  42.7 &  267.3 &  -0.1\\\\\n",
       "\tACS\\_PCT\\_DRIVE\\_2WORK &  0.1637 & -0.7547 &  0.9335 & 70000 &  42.7 &   26.2 &   1.0\\\\\n",
       "\tACS\\_PCT\\_CHILD\\_DISAB & -0.1571 & -0.7844 &  0.4815 & 70000 &  42.7 &  901.1 &   0.9\\\\\n",
       "\tACS\\_PCT\\_HH\\_PUB\\_ASSIST & -0.1467 & -1.3204 &  1.0907 & 70000 &  42.7 &  445.7 &   0.4\\\\\n",
       "\ttau2.slo &  0.1461 &  0.1213 &  0.1722 & 70000 & 100.0 & 1144.9 &  -0.3\\\\\n",
       "\tACS\\_PCT\\_VA\\_COLLEGE & -0.1354 & -0.3446 &  0.0725 & 70000 &  42.7 &  821.7 &  -0.4\\\\\n",
       "\tACS\\_PCT\\_VA\\_POOR &  0.1236 & -0.0531 &  0.3050 & 70000 &  42.7 & 1051.5 &  -0.7\\\\\n",
       "\tmean\\_temp & -0.1172 & -0.2972 &  0.0499 & 70000 &  42.7 &  329.8 &  -0.6\\\\\n",
       "\tACS\\_PCT\\_RENTER\\_65UP &  0.1142 & -0.2008 &  0.4351 & 70000 &  42.7 &  537.1 &   0.3\\\\\n",
       "\tACS\\_PCT\\_OTHER & -0.0903 & -1.5696 &  1.2544 & 70000 &  42.7 &  278.0 & -12.7\\\\\n",
       "\tCHR\\_DENTISTS\\_NUM & -0.0727 & -0.3611 &  0.1509 & 70000 &  42.7 &    8.8 &   2.7\\\\\n",
       "\tACS\\_PCT\\_COMMT\\_59MIN & -0.0701 & -1.2027 &  1.1111 & 70000 &  42.7 &   12.7 &   2.3\\\\\n",
       "\tACS\\_PCT\\_OTHER\\_INS &  0.0678 & -1.0117 &  1.1405 & 70000 &  42.7 &  482.7 &  -1.1\\\\\n",
       "\tACS\\_PCT\\_TAXICAB\\_2WORK &  0.0636 & -1.3867 &  1.5430 & 70000 &  42.7 &  463.1 &   2.1\\\\\n",
       "\tCHR\\_ALCOHOL\\_DRIV\\_DEATH & -0.0631 & -0.1401 &  0.0157 & 70000 &  42.7 & 1133.5 &   0.0\\\\\n",
       "\tACS\\_PCT\\_VA\\_DISABLE & -0.0509 & -0.1935 &  0.0902 & 70000 &  42.7 &  913.9 &   0.3\\\\\n",
       "\tACS\\_PCT\\_GULFWAR\\_2001 &  0.0477 & -0.2285 &  0.3143 & 70000 &  42.7 &  503.2 &  -1.2\\\\\n",
       "\tACS\\_PCT\\_GRANDP\\_RESPS\\_NO\\_P &  0.0339 & -0.0993 &  0.1575 & 70000 &  42.7 &  216.2 &   1.7\\\\\n",
       "\tvisibility & -0.0327 & -0.1300 &  0.0674 & 70000 &  42.7 &  333.3 &  -1.3\\\\\n",
       "\talpha & -0.0321 & -0.1139 &  0.0575 & 70000 &  35.4 &  194.3 &  -3.9\\\\\n",
       "\tACS\\_MEDIAN\\_RENT & -0.0290 & -0.1546 &  0.0940 & 70000 &  42.7 &  273.1 &   2.8\\\\\n",
       "\tACS\\_PCT\\_GRANDP\\_NO\\_RESPS & -0.0281 & -0.1630 &  0.1014 & 70000 &  42.7 &  203.0 &   1.6\\\\\n",
       "\tAHRF\\_HPSA\\_MENTAL & -0.0256 & -0.0722 &  0.0228 & 70000 &  42.7 &  821.7 &  -1.3\\\\\n",
       "\tACS\\_PCT\\_VA\\_LABOR\\_FORCE & -0.0107 & -0.1543 &  0.1294 & 70000 &  42.7 &  641.1 &   0.7\\\\\n",
       "\tduration\\_mins\\_centroid &  0.0055 &  0.0042 &  0.0068 & 70000 &  42.7 &  136.8 &   1.3\\\\\n",
       "\tACS\\_PCT\\_GRANDP\\_RESPS &  0.0048 & -0.1301 &  0.1318 & 70000 &  42.7 &  153.1 &   1.2\\\\\n",
       "\tduration\\_mins\\_mp\\_VAMC & -0.0009 & -0.0015 & -0.0003 & 70000 &  42.7 &   86.1 &  -2.5\\\\\n",
       "\tduration\\_mins\\_mp\\_mental &  0.0007 &  0.0000 &  0.0013 & 70000 &  42.7 &   69.9 &   1.9\\\\\n",
       "\\end{tabular}\n"
      ],
      "text/markdown": [
       "\n",
       "A tibble: 93 × 7\n",
       "\n",
       "| <!--/--> | Mean &lt;dbl&gt; | 2.5% &lt;dbl&gt; | 97.5% &lt;dbl&gt; | n.sample &lt;dbl&gt; | % accept &lt;dbl&gt; | n.effective &lt;dbl&gt; | Geweke.diag &lt;dbl&gt; |\n",
       "|---|---|---|---|---|---|---|---|\n",
       "| (Intercept) | -8.0218 | -9.2084 | -6.9268 | 70000 | 42.7 | 132.0 |  -1.6 |\n",
       "| CCBP_RATE_CS_PER_1000 | -5.2836 | -9.8757 | -1.2679 | 70000 | 42.7 |  91.4 |   4.7 |\n",
       "| ACS_PCT_PUBLIC_OTHER |  4.1878 |  0.2545 |  8.0281 | 70000 | 42.7 | 416.3 |   2.2 |\n",
       "| CHR_MENTAL_DR_RATE | -3.7578 | -5.4840 | -2.1185 | 70000 | 42.7 | 194.7 |  -0.9 |\n",
       "| ACS_PCT_WHOLESALE |  3.6404 |  2.0009 |  5.2771 | 70000 | 42.7 | 333.5 | -10.9 |\n",
       "| ACS_PCT_AGE_0_17 |  3.5504 |  2.2293 |  4.8121 | 70000 | 42.7 |  87.3 |   0.7 |\n",
       "| ACS_PCT_PRIVATE_MDCR | -3.0985 | -4.8007 | -1.4168 | 70000 | 42.7 | 300.6 |  -1.9 |\n",
       "| ACS_PCT_NATURE |  2.9406 |  1.6380 |  3.8369 | 70000 | 42.7 |   2.4 |  -2.1 |\n",
       "| ACS_PCT_COMMT_29MIN | -2.7725 | -3.9695 | -1.4932 | 70000 | 42.7 |  12.5 |   2.3 |\n",
       "| ACS_PCT_PRIVATE_2 |  2.5114 |  0.8958 |  4.1055 | 70000 | 42.7 | 947.6 |   1.3 |\n",
       "| ACS_PCT_ADMIN |  2.4044 |  1.1999 |  3.5855 | 70000 | 42.7 | 105.7 |  -8.5 |\n",
       "| ACS_PCT_PRIVATE_SELF |  2.0391 |  1.3174 |  2.7673 | 70000 | 42.7 | 226.2 |  -0.2 |\n",
       "| ACS_PCT_TRANSPORT |  1.9833 |  0.6543 |  3.2537 | 70000 | 42.7 | 171.9 | -10.0 |\n",
       "| ACS_PCT_OTH_EURP | -1.8156 | -2.9394 | -0.6708 | 70000 | 42.7 | 218.3 |   0.9 |\n",
       "| ACS_PCT_AGE_0_4 | -1.7973 | -4.1481 |  0.4153 | 70000 | 42.7 | 328.9 |   0.1 |\n",
       "| ACS_PCT_VA | -1.6800 | -2.8517 | -0.4807 | 70000 | 42.7 | 157.4 |   0.3 |\n",
       "| ACS_PCT_1UP_PERS_1ROOM | -1.6117 | -7.6959 |  3.7900 | 70000 | 42.7 |  15.6 |   1.6 |\n",
       "| CCBP_RATE_FSR_PER_1000 |  1.5904 | -1.6084 |  4.6608 | 70000 | 42.7 | 609.6 |  -2.1 |\n",
       "| ACS_PCT_WORK_NO_CAR |  1.5367 |  0.2260 |  2.9464 | 70000 | 42.7 |  33.2 |  -1.8 |\n",
       "| ACS_PCT_GRP_QRT |  1.3951 |  0.6425 |  2.1414 | 70000 | 42.7 | 182.2 |   0.0 |\n",
       "| ACS_PCT_MULT_RACE | -1.2992 | -2.4111 | -0.1019 | 70000 | 42.7 | 431.1 |  -0.8 |\n",
       "| ACS_PCT_WALK_2WORK |  1.2930 |  0.0487 |  2.3273 | 70000 | 42.7 | 139.5 |   2.2 |\n",
       "| NHC_BEDCOUNT | -1.2426 | -1.6821 | -0.8089 | 70000 | 42.7 |  54.4 |  -1.4 |\n",
       "| CHR_DENTIST_RATE | -1.2377 | -2.0858 | -0.4370 | 70000 | 42.7 | 200.6 |  -0.9 |\n",
       "| ACS_MEDIAN_AGE |  1.1922 |  0.7840 |  1.5435 | 70000 | 42.7 | 131.4 |   2.1 |\n",
       "| ACS_PCT_DIVORCE_SEPARAT | -1.0282 | -1.7795 | -0.2731 | 70000 | 42.7 | 476.0 |  -1.6 |\n",
       "| ACS_PCT_CONSTRUCT |  0.9776 | -0.2357 |  2.1436 | 70000 | 42.7 | 121.5 | -11.0 |\n",
       "| NHC_DAILY_RES | -0.9623 | -1.3308 | -0.5876 | 70000 | 42.7 |  71.9 |   2.3 |\n",
       "| ACS_PCT_UNEMPLOY | -0.9322 | -2.2748 |  0.3721 | 70000 | 42.7 | 358.8 |   1.6 |\n",
       "| ACS_PCT_TRICARE_VA |  0.8848 | -0.4656 |  2.2055 | 70000 | 42.7 | 200.7 |   0.8 |\n",
       "| ⋮ | ⋮ | ⋮ | ⋮ | ⋮ | ⋮ | ⋮ | ⋮ |\n",
       "| ACS_PCT_1UP_RENT_1ROOM | -0.1935 | -1.7400 |  1.5557 | 70000 |  42.7 |   38.1 |  -2.4 |\n",
       "| ACS_PCT_MANUFACT |  0.1899 | -0.9115 |  1.0883 | 70000 |  42.7 |   23.8 |  -6.9 |\n",
       "| ACS_PCT_ASSOCIATE_DGR | -0.1836 | -0.6917 |  0.3436 | 70000 |  42.7 |  267.3 |  -0.1 |\n",
       "| ACS_PCT_DRIVE_2WORK |  0.1637 | -0.7547 |  0.9335 | 70000 |  42.7 |   26.2 |   1.0 |\n",
       "| ACS_PCT_CHILD_DISAB | -0.1571 | -0.7844 |  0.4815 | 70000 |  42.7 |  901.1 |   0.9 |\n",
       "| ACS_PCT_HH_PUB_ASSIST | -0.1467 | -1.3204 |  1.0907 | 70000 |  42.7 |  445.7 |   0.4 |\n",
       "| tau2.slo |  0.1461 |  0.1213 |  0.1722 | 70000 | 100.0 | 1144.9 |  -0.3 |\n",
       "| ACS_PCT_VA_COLLEGE | -0.1354 | -0.3446 |  0.0725 | 70000 |  42.7 |  821.7 |  -0.4 |\n",
       "| ACS_PCT_VA_POOR |  0.1236 | -0.0531 |  0.3050 | 70000 |  42.7 | 1051.5 |  -0.7 |\n",
       "| mean_temp | -0.1172 | -0.2972 |  0.0499 | 70000 |  42.7 |  329.8 |  -0.6 |\n",
       "| ACS_PCT_RENTER_65UP |  0.1142 | -0.2008 |  0.4351 | 70000 |  42.7 |  537.1 |   0.3 |\n",
       "| ACS_PCT_OTHER | -0.0903 | -1.5696 |  1.2544 | 70000 |  42.7 |  278.0 | -12.7 |\n",
       "| CHR_DENTISTS_NUM | -0.0727 | -0.3611 |  0.1509 | 70000 |  42.7 |    8.8 |   2.7 |\n",
       "| ACS_PCT_COMMT_59MIN | -0.0701 | -1.2027 |  1.1111 | 70000 |  42.7 |   12.7 |   2.3 |\n",
       "| ACS_PCT_OTHER_INS |  0.0678 | -1.0117 |  1.1405 | 70000 |  42.7 |  482.7 |  -1.1 |\n",
       "| ACS_PCT_TAXICAB_2WORK |  0.0636 | -1.3867 |  1.5430 | 70000 |  42.7 |  463.1 |   2.1 |\n",
       "| CHR_ALCOHOL_DRIV_DEATH | -0.0631 | -0.1401 |  0.0157 | 70000 |  42.7 | 1133.5 |   0.0 |\n",
       "| ACS_PCT_VA_DISABLE | -0.0509 | -0.1935 |  0.0902 | 70000 |  42.7 |  913.9 |   0.3 |\n",
       "| ACS_PCT_GULFWAR_2001 |  0.0477 | -0.2285 |  0.3143 | 70000 |  42.7 |  503.2 |  -1.2 |\n",
       "| ACS_PCT_GRANDP_RESPS_NO_P |  0.0339 | -0.0993 |  0.1575 | 70000 |  42.7 |  216.2 |   1.7 |\n",
       "| visibility | -0.0327 | -0.1300 |  0.0674 | 70000 |  42.7 |  333.3 |  -1.3 |\n",
       "| alpha | -0.0321 | -0.1139 |  0.0575 | 70000 |  35.4 |  194.3 |  -3.9 |\n",
       "| ACS_MEDIAN_RENT | -0.0290 | -0.1546 |  0.0940 | 70000 |  42.7 |  273.1 |   2.8 |\n",
       "| ACS_PCT_GRANDP_NO_RESPS | -0.0281 | -0.1630 |  0.1014 | 70000 |  42.7 |  203.0 |   1.6 |\n",
       "| AHRF_HPSA_MENTAL | -0.0256 | -0.0722 |  0.0228 | 70000 |  42.7 |  821.7 |  -1.3 |\n",
       "| ACS_PCT_VA_LABOR_FORCE | -0.0107 | -0.1543 |  0.1294 | 70000 |  42.7 |  641.1 |   0.7 |\n",
       "| duration_mins_centroid |  0.0055 |  0.0042 |  0.0068 | 70000 |  42.7 |  136.8 |   1.3 |\n",
       "| ACS_PCT_GRANDP_RESPS |  0.0048 | -0.1301 |  0.1318 | 70000 |  42.7 |  153.1 |   1.2 |\n",
       "| duration_mins_mp_VAMC | -0.0009 | -0.0015 | -0.0003 | 70000 |  42.7 |   86.1 |  -2.5 |\n",
       "| duration_mins_mp_mental |  0.0007 |  0.0000 |  0.0013 | 70000 |  42.7 |   69.9 |   1.9 |\n",
       "\n"
      ],
      "text/plain": [
       "   Mean    2.5%    97.5%   n.sample % accept n.effective Geweke.diag\n",
       "1  -8.0218 -9.2084 -6.9268 70000    42.7     132.0        -1.6      \n",
       "2  -5.2836 -9.8757 -1.2679 70000    42.7      91.4         4.7      \n",
       "3   4.1878  0.2545  8.0281 70000    42.7     416.3         2.2      \n",
       "4  -3.7578 -5.4840 -2.1185 70000    42.7     194.7        -0.9      \n",
       "5   3.6404  2.0009  5.2771 70000    42.7     333.5       -10.9      \n",
       "6   3.5504  2.2293  4.8121 70000    42.7      87.3         0.7      \n",
       "7  -3.0985 -4.8007 -1.4168 70000    42.7     300.6        -1.9      \n",
       "8   2.9406  1.6380  3.8369 70000    42.7       2.4        -2.1      \n",
       "9  -2.7725 -3.9695 -1.4932 70000    42.7      12.5         2.3      \n",
       "10  2.5114  0.8958  4.1055 70000    42.7     947.6         1.3      \n",
       "11  2.4044  1.1999  3.5855 70000    42.7     105.7        -8.5      \n",
       "12  2.0391  1.3174  2.7673 70000    42.7     226.2        -0.2      \n",
       "13  1.9833  0.6543  3.2537 70000    42.7     171.9       -10.0      \n",
       "14 -1.8156 -2.9394 -0.6708 70000    42.7     218.3         0.9      \n",
       "15 -1.7973 -4.1481  0.4153 70000    42.7     328.9         0.1      \n",
       "16 -1.6800 -2.8517 -0.4807 70000    42.7     157.4         0.3      \n",
       "17 -1.6117 -7.6959  3.7900 70000    42.7      15.6         1.6      \n",
       "18  1.5904 -1.6084  4.6608 70000    42.7     609.6        -2.1      \n",
       "19  1.5367  0.2260  2.9464 70000    42.7      33.2        -1.8      \n",
       "20  1.3951  0.6425  2.1414 70000    42.7     182.2         0.0      \n",
       "21 -1.2992 -2.4111 -0.1019 70000    42.7     431.1        -0.8      \n",
       "22  1.2930  0.0487  2.3273 70000    42.7     139.5         2.2      \n",
       "23 -1.2426 -1.6821 -0.8089 70000    42.7      54.4        -1.4      \n",
       "24 -1.2377 -2.0858 -0.4370 70000    42.7     200.6        -0.9      \n",
       "25  1.1922  0.7840  1.5435 70000    42.7     131.4         2.1      \n",
       "26 -1.0282 -1.7795 -0.2731 70000    42.7     476.0        -1.6      \n",
       "27  0.9776 -0.2357  2.1436 70000    42.7     121.5       -11.0      \n",
       "28 -0.9623 -1.3308 -0.5876 70000    42.7      71.9         2.3      \n",
       "29 -0.9322 -2.2748  0.3721 70000    42.7     358.8         1.6      \n",
       "30  0.8848 -0.4656  2.2055 70000    42.7     200.7         0.8      \n",
       "⋮  ⋮       ⋮       ⋮       ⋮        ⋮        ⋮           ⋮          \n",
       "64 -0.1935 -1.7400  1.5557 70000     42.7      38.1       -2.4      \n",
       "65  0.1899 -0.9115  1.0883 70000     42.7      23.8       -6.9      \n",
       "66 -0.1836 -0.6917  0.3436 70000     42.7     267.3       -0.1      \n",
       "67  0.1637 -0.7547  0.9335 70000     42.7      26.2        1.0      \n",
       "68 -0.1571 -0.7844  0.4815 70000     42.7     901.1        0.9      \n",
       "69 -0.1467 -1.3204  1.0907 70000     42.7     445.7        0.4      \n",
       "70  0.1461  0.1213  0.1722 70000    100.0    1144.9       -0.3      \n",
       "71 -0.1354 -0.3446  0.0725 70000     42.7     821.7       -0.4      \n",
       "72  0.1236 -0.0531  0.3050 70000     42.7    1051.5       -0.7      \n",
       "73 -0.1172 -0.2972  0.0499 70000     42.7     329.8       -0.6      \n",
       "74  0.1142 -0.2008  0.4351 70000     42.7     537.1        0.3      \n",
       "75 -0.0903 -1.5696  1.2544 70000     42.7     278.0      -12.7      \n",
       "76 -0.0727 -0.3611  0.1509 70000     42.7       8.8        2.7      \n",
       "77 -0.0701 -1.2027  1.1111 70000     42.7      12.7        2.3      \n",
       "78  0.0678 -1.0117  1.1405 70000     42.7     482.7       -1.1      \n",
       "79  0.0636 -1.3867  1.5430 70000     42.7     463.1        2.1      \n",
       "80 -0.0631 -0.1401  0.0157 70000     42.7    1133.5        0.0      \n",
       "81 -0.0509 -0.1935  0.0902 70000     42.7     913.9        0.3      \n",
       "82  0.0477 -0.2285  0.3143 70000     42.7     503.2       -1.2      \n",
       "83  0.0339 -0.0993  0.1575 70000     42.7     216.2        1.7      \n",
       "84 -0.0327 -0.1300  0.0674 70000     42.7     333.3       -1.3      \n",
       "85 -0.0321 -0.1139  0.0575 70000     35.4     194.3       -3.9      \n",
       "86 -0.0290 -0.1546  0.0940 70000     42.7     273.1        2.8      \n",
       "87 -0.0281 -0.1630  0.1014 70000     42.7     203.0        1.6      \n",
       "88 -0.0256 -0.0722  0.0228 70000     42.7     821.7       -1.3      \n",
       "89 -0.0107 -0.1543  0.1294 70000     42.7     641.1        0.7      \n",
       "90  0.0055  0.0042  0.0068 70000     42.7     136.8        1.3      \n",
       "91  0.0048 -0.1301  0.1318 70000     42.7     153.1        1.2      \n",
       "92 -0.0009 -0.0015 -0.0003 70000     42.7      86.1       -2.5      \n",
       "93  0.0007  0.0000  0.0013 70000     42.7      69.9        1.9      "
      ]
     },
     "metadata": {},
     "output_type": "display_data"
    }
   ],
   "source": [
    "fit2$summary %>%\n",
    "    as_tibble(rownames=NA) %>%\n",
    "    arrange(desc(abs(Mean)))"
   ]
  },
  {
   "cell_type": "markdown",
   "id": "2a3e57d6-6bf9-4e79-b3e1-a35526ee600c",
   "metadata": {},
   "source": [
    "## Rates\n"
   ]
  },
  {
   "cell_type": "code",
   "execution_count": 23,
   "id": "a281bb02-44d2-426f-8b1f-d31aa334e77f",
   "metadata": {},
   "outputs": [
    {
     "name": "stderr",
     "output_type": "stream",
     "text": [
      "\u001b[1mRows: \u001b[22m\u001b[34m3194\u001b[39m \u001b[1mColumns: \u001b[22m\u001b[34m180\u001b[39m\n",
      "\u001b[36m──\u001b[39m \u001b[1mColumn specification\u001b[22m \u001b[36m────────────────────────────────────────────────────────\u001b[39m\n",
      "\u001b[1mDelimiter:\u001b[22m \",\"\n",
      "\u001b[31mchr\u001b[39m   (6): SUMLEV, STATE, COUNTY, STNAME, CTYNAME, CENSUS2010POP\n",
      "\u001b[32mdbl\u001b[39m (174): REGION, DIVISION, ESTIMATESBASE2010, POPESTIMATE2010, POPESTIMATE...\n",
      "\n",
      "\u001b[36mℹ\u001b[39m Use `spec()` to retrieve the full column specification for this data.\n",
      "\u001b[36mℹ\u001b[39m Specify the column types or set `show_col_types = FALSE` to quiet this message.\n",
      "Warning message in mask$eval_all_mutate(quo):\n",
      "“NAs introduced by coercion”\n"
     ]
    },
    {
     "data": {
      "text/html": [
       "13.2248632803714"
      ],
      "text/latex": [
       "13.2248632803714"
      ],
      "text/markdown": [
       "13.2248632803714"
      ],
      "text/plain": [
       "[1] 13.22486"
      ]
     },
     "metadata": {},
     "output_type": "display_data"
    },
    {
     "data": {
      "text/html": [
       "1.85738356078448"
      ],
      "text/latex": [
       "1.85738356078448"
      ],
      "text/markdown": [
       "1.85738356078448"
      ],
      "text/plain": [
       "[1] 1.857384"
      ]
     },
     "metadata": {},
     "output_type": "display_data"
    }
   ],
   "source": [
    "\n",
    "demographic_info <- read_csv(\"data/raw/demo/2020-demographic-info.csv\")\n",
    "demographic_info <- demographic_info %>%\n",
    "    mutate(FIPSCODE = paste0(STATE, COUNTY)) %>%\n",
    "    select(FIPSCODE, CENSUS2010POP) %>%\n",
    "    rename(pop=CENSUS2010POP) %>%\n",
    "    mutate(pop=as.numeric(pop))\n",
    "\n",
    "results_df <- results_df %>% \n",
    "    merge(demographic_info) %>%\n",
    "    mutate(true_rate1000 = true_values / pop * 1000,\n",
    "           fit_rate1000 = fitted_values / pop * 1000)\n"
   ]
  },
  {
   "cell_type": "markdown",
   "id": "5f8a0874-c6be-4fc4-8967-4b22f454cff7",
   "metadata": {},
   "source": [
    "# RMSE"
   ]
  },
  {
   "cell_type": "code",
   "execution_count": 26,
   "id": "45c5bc43-e669-436a-8fba-21f331f4309f",
   "metadata": {},
   "outputs": [
    {
     "data": {
      "text/html": [
       "13.2248632803714"
      ],
      "text/latex": [
       "13.2248632803714"
      ],
      "text/markdown": [
       "13.2248632803714"
      ],
      "text/plain": [
       "[1] 13.22486"
      ]
     },
     "metadata": {},
     "output_type": "display_data"
    },
    {
     "data": {
      "text/html": [
       "1.85738356078448"
      ],
      "text/latex": [
       "1.85738356078448"
      ],
      "text/markdown": [
       "1.85738356078448"
      ],
      "text/plain": [
       "[1] 1.857384"
      ]
     },
     "metadata": {},
     "output_type": "display_data"
    }
   ],
   "source": [
    "caret::RMSE(fitted_values,true_values)\n",
    "caret::RMSE(results_df$fit_rate1000,results_df$true_rate1000)"
   ]
  },
  {
   "cell_type": "code",
   "execution_count": 27,
   "id": "34999427-592e-4ead-93b9-b2975a32b5db",
   "metadata": {},
   "outputs": [
    {
     "data": {
      "image/png": "[encoded data removed]",
      "text/plain": [
       "plot without title"
      ]
     },
     "metadata": {
      "image/png": {
       "height": 420,
       "width": 420
      }
     },
     "output_type": "display_data"
    }
   ],
   "source": [
    "# histogram of fitted rate\n",
    "# could be used to decide what constitues a high suicide rate\n",
    "results_df %>% ggplot(aes(x=fit_rate1000)) + \n",
    "    geom_histogram(binwidth=5) +\n",
    "    theme_bw() + \n",
    "    ggtitle(\"Fitted Suicide Rates - by county, for 2018\")"
   ]
  },
  {
   "cell_type": "code",
   "execution_count": null,
   "id": "908212b8-65ff-405e-8671-cb0cddf6d179",
   "metadata": {},
   "outputs": [],
   "source": []
  }
 ],
 "metadata": {
  "kernelspec": {
   "display_name": "R 4.1.3 (r-venv)",
   "language": "R",
   "name": "r-venv"
  },
  "language_info": {
   "codemirror_mode": "r",
   "file_extension": ".r",
   "mimetype": "text/x-r-source",
   "name": "R",
   "pygments_lexer": "r",
   "version": "4.1.3"
  }
 },
 "nbformat": 4,
 "nbformat_minor": 5
}
