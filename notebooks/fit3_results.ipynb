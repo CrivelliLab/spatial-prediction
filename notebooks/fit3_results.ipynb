{
 "cells": [
  {
   "cell_type": "markdown",
   "id": "bd6f4c7a-f7ed-4889-9e4f-e8708eb701bb",
   "metadata": {},
   "source": [
    "## Model 3 Fit Results"
   ]
  },
  {
   "cell_type": "code",
   "execution_count": 2,
   "id": "30e9bec6-422b-4dd8-b235-edb93878450f",
   "metadata": {},
   "outputs": [],
   "source": [
    "setwd(\"/global/project/projectdirs/m1532/Projects_MVP/geospatial/GeoSpatial_Model/spatial-prediction\")"
   ]
  },
  {
   "cell_type": "code",
   "execution_count": 3,
   "id": "74e910e8-0f95-4293-82e8-ef9cc0d56b8a",
   "metadata": {},
   "outputs": [
    {
     "name": "stderr",
     "output_type": "stream",
     "text": [
      "Loading required package: MASS\n",
      "\n",
      "Loading required package: Rcpp\n",
      "\n",
      "Registered S3 method overwritten by 'GGally':\n",
      "  method from   \n",
      "  +.gg   ggplot2\n",
      "\n",
      "── \u001b[1mAttaching packages\u001b[22m ─────────────────────────────────────── tidyverse 1.3.2 ──\n",
      "\u001b[32m✔\u001b[39m \u001b[34mggplot2\u001b[39m 3.3.6     \u001b[32m✔\u001b[39m \u001b[34mpurrr  \u001b[39m 0.3.4\n",
      "\u001b[32m✔\u001b[39m \u001b[34mtibble \u001b[39m 3.1.8     \u001b[32m✔\u001b[39m \u001b[34mdplyr  \u001b[39m 1.0.9\n",
      "\u001b[32m✔\u001b[39m \u001b[34mtidyr  \u001b[39m 1.2.0     \u001b[32m✔\u001b[39m \u001b[34mstringr\u001b[39m 1.4.0\n",
      "\u001b[32m✔\u001b[39m \u001b[34mreadr  \u001b[39m 2.1.2     \u001b[32m✔\u001b[39m \u001b[34mforcats\u001b[39m 0.5.1\n",
      "── \u001b[1mConflicts\u001b[22m ────────────────────────────────────────── tidyverse_conflicts() ──\n",
      "\u001b[31m✖\u001b[39m \u001b[34mdplyr\u001b[39m::\u001b[32mfilter()\u001b[39m masks \u001b[34mstats\u001b[39m::filter()\n",
      "\u001b[31m✖\u001b[39m \u001b[34mdplyr\u001b[39m::\u001b[32mlag()\u001b[39m    masks \u001b[34mstats\u001b[39m::lag()\n",
      "\u001b[31m✖\u001b[39m \u001b[34mdplyr\u001b[39m::\u001b[32mselect()\u001b[39m masks \u001b[34mMASS\u001b[39m::select()\n"
     ]
    }
   ],
   "source": [
    "library(CARBayesST)\n",
    "library(tidyverse)"
   ]
  },
  {
   "cell_type": "code",
   "execution_count": 4,
   "id": "7d884dbb-c70f-4486-b121-335a4dbd22b3",
   "metadata": {},
   "outputs": [],
   "source": [
    "fit3 <- readRDS(\"outputs/model_results/AR2model_2022-09-13.rds\")"
   ]
  },
  {
   "cell_type": "code",
   "execution_count": 5,
   "id": "29cf344f-2ae6-49fa-b718-0e3d0d0cd419",
   "metadata": {},
   "outputs": [
    {
     "name": "stderr",
     "output_type": "stream",
     "text": [
      "\u001b[1mRows: \u001b[22m\u001b[34m9089\u001b[39m \u001b[1mColumns: \u001b[22m\u001b[34m103\u001b[39m\n",
      "\u001b[36m──\u001b[39m \u001b[1mColumn specification\u001b[22m \u001b[36m────────────────────────────────────────────────────────\u001b[39m\n",
      "\u001b[1mDelimiter:\u001b[22m \",\"\n",
      "\u001b[31mchr\u001b[39m   (2): FIPSCODE, county\n",
      "\u001b[32mdbl\u001b[39m (101): deaths, ACS_PCT_GRP_QRT, ACS_PCT_PRIVATE_2, mean_temp, ACS_PCT_ME...\n",
      "\n",
      "\u001b[36mℹ\u001b[39m Use `spec()` to retrieve the full column specification for this data.\n",
      "\u001b[36mℹ\u001b[39m Specify the column types or set `show_col_types = FALSE` to quiet this message.\n",
      "Warning message:\n",
      "“PROJ: proj_identify: Open of /global/homes/b/bbrusco/.conda/envs/r-venv/share/proj failed (GDAL error 1)”\n",
      "\u001b[1m\u001b[22mJoining, by = \"FIPSCODE\"\n"
     ]
    }
   ],
   "source": [
    "#get fips to keep \n",
    "\n",
    "# Note: United States total includes 3,006 counties;\n",
    "## Loading dataset and geometries ###\n",
    "vars <- read_csv(\"data/processed/combined.csv\")\n",
    "# change this to the number of years that \n",
    "# you are considering in your dataset.\n",
    "NUMBER_OF_YEARS <- length(unique(vars$year))\n",
    "\n",
    "\n",
    "county <- sf::read_sf(\n",
    "    dsn = \"data/shapefile/cb_2020_us_tract_500k\",\n",
    "    layer = \"cb_2020_us_tract_500k\"\n",
    ")\n",
    "\n",
    "county <- county %>%\n",
    "    mutate(FIPSCODE = paste0(STATEFP, COUNTYFP)) %>% \n",
    "    arrange(FIPSCODE) %>%\n",
    "    distinct(FIPSCODE, .keep_all = TRUE)\n",
    "\n",
    "df <- county %>% inner_join(vars, on=FIPSCODE)\n",
    "\n",
    "df_nona <- df %>% na.omit(suicide_rate) %>%\n",
    "  group_by(FIPSCODE) %>% \n",
    "  mutate(name_count = n()) %>%\n",
    "  ungroup() %>% \n",
    "  filter(name_count == NUMBER_OF_YEARS) %>% \n",
    "  dplyr::select(-name_count) %>%\n",
    "  arrange(desc(year), FIPSCODE)\n",
    "\n",
    "fips_to_keep <- df_nona %>% \n",
    "    distinct(FIPSCODE) %>% \n",
    "    pull(FIPSCODE)\n"
   ]
  },
  {
   "cell_type": "code",
   "execution_count": 8,
   "id": "f1c8d38e-b8c6-4bde-b33c-d79cc07b3e85",
   "metadata": {},
   "outputs": [
    {
     "data": {
      "text/html": [
       "<table class=\"dataframe\">\n",
       "<caption>A matrix: 92 × 7 of type dbl</caption>\n",
       "<thead>\n",
       "\t<tr><th></th><th scope=col>Mean</th><th scope=col>2.5%</th><th scope=col>97.5%</th><th scope=col>n.sample</th><th scope=col>% accept</th><th scope=col>n.effective</th><th scope=col>Geweke.diag</th></tr>\n",
       "</thead>\n",
       "<tbody>\n",
       "\t<tr><th scope=row>(Intercept)</th><td>-8.4831</td><td>-9.7844</td><td>-7.0757</td><td>70000</td><td>45.7</td><td>124.8</td><td> 1.0</td></tr>\n",
       "\t<tr><th scope=row>ACS_PCT_GRP_QRT</th><td> 0.9802</td><td> 0.1623</td><td> 1.7779</td><td>70000</td><td>45.7</td><td>205.2</td><td>-2.3</td></tr>\n",
       "\t<tr><th scope=row>ACS_PCT_PRIVATE_2</th><td> 0.0276</td><td>-2.1603</td><td> 2.3142</td><td>70000</td><td>45.7</td><td>640.0</td><td> 1.5</td></tr>\n",
       "\t<tr><th scope=row>mean_temp</th><td> 0.5313</td><td> 0.2288</td><td> 0.8400</td><td>70000</td><td>45.7</td><td>171.6</td><td> 2.3</td></tr>\n",
       "\t<tr><th scope=row>ACS_PCT_MEDICARE_ONLY</th><td> 3.1821</td><td> 1.6624</td><td> 4.7296</td><td>70000</td><td>45.7</td><td>364.2</td><td> 0.8</td></tr>\n",
       "\t<tr><th scope=row>ACS_PCT_PRIVATE_SELF</th><td> 2.3923</td><td> 1.5962</td><td> 3.2431</td><td>70000</td><td>45.7</td><td>267.0</td><td>-1.9</td></tr>\n",
       "\t<tr><th scope=row>ACS_PCT_MOBILE_HOME</th><td> 0.1536</td><td>-0.2212</td><td> 0.5373</td><td>70000</td><td>45.7</td><td>168.3</td><td>-2.5</td></tr>\n",
       "\t<tr><th scope=row>NHC_DAILY_RES</th><td>-2.3227</td><td>-2.8550</td><td>-1.8487</td><td>70000</td><td>45.7</td><td> 89.1</td><td> 2.3</td></tr>\n",
       "\t<tr><th scope=row>ACS_PCT_NON_CITIZEN</th><td>-0.1641</td><td>-1.4278</td><td> 1.0592</td><td>70000</td><td>45.7</td><td>122.0</td><td> 2.8</td></tr>\n",
       "\t<tr><th scope=row>ACS_PCT_TRICARE_VA</th><td> 1.1668</td><td>-0.2626</td><td> 2.6765</td><td>70000</td><td>45.7</td><td>207.1</td><td> 0.9</td></tr>\n",
       "\t<tr><th scope=row>ACS_PCT_RETAIL</th><td>-0.9912</td><td>-1.9118</td><td> 0.0098</td><td>70000</td><td>45.7</td><td>363.4</td><td>-6.0</td></tr>\n",
       "\t<tr><th scope=row>ACS_PCT_VA_LABOR_FORCE</th><td>-0.1910</td><td>-0.3764</td><td> 0.0069</td><td>70000</td><td>45.7</td><td>430.9</td><td>-1.7</td></tr>\n",
       "\t<tr><th scope=row>ACS_PCT_INFORM</th><td> 1.8058</td><td>-0.6947</td><td> 4.2881</td><td>70000</td><td>45.7</td><td>417.3</td><td> 1.5</td></tr>\n",
       "\t<tr><th scope=row>ACS_PCT_COMMT_29MIN</th><td>-4.3701</td><td>-5.4849</td><td>-3.3993</td><td>70000</td><td>45.7</td><td> 26.0</td><td> 4.3</td></tr>\n",
       "\t<tr><th scope=row>ACS_PCT_PRIVATE_MDCR</th><td>-3.5994</td><td>-5.5799</td><td>-1.7639</td><td>70000</td><td>45.7</td><td>308.3</td><td>-1.8</td></tr>\n",
       "\t<tr><th scope=row>ACS_PCT_COMMT_59MIN</th><td>-0.6026</td><td>-1.6733</td><td> 0.3275</td><td>70000</td><td>45.7</td><td> 22.1</td><td> 5.0</td></tr>\n",
       "\t<tr><th scope=row>AHRF_HPSA_MENTAL</th><td>-0.0542</td><td>-0.1260</td><td> 0.0155</td><td>70000</td><td>45.7</td><td>516.7</td><td> 2.5</td></tr>\n",
       "\t<tr><th scope=row>ACS_PCT_DIVORCE_SEPARAT</th><td>-1.0613</td><td>-1.9748</td><td>-0.1472</td><td>70000</td><td>45.7</td><td>394.2</td><td>-1.8</td></tr>\n",
       "\t<tr><th scope=row>ACS_PCT_TRANSPORT</th><td> 3.6123</td><td> 2.5392</td><td> 4.7116</td><td>70000</td><td>45.7</td><td>385.8</td><td>-2.4</td></tr>\n",
       "\t<tr><th scope=row>ACS_PCT_EDUC</th><td> 1.1332</td><td> 0.3329</td><td> 1.9955</td><td>70000</td><td>45.7</td><td>158.6</td><td>-5.7</td></tr>\n",
       "\t<tr><th scope=row>ACS_PCT_UNINSURED64</th><td>-0.2929</td><td>-0.8573</td><td> 0.2892</td><td>70000</td><td>45.7</td><td>229.8</td><td>-2.8</td></tr>\n",
       "\t<tr><th scope=row>CCBP_RATE_FSR_PER_1000</th><td>-2.3756</td><td>-6.5075</td><td> 1.7665</td><td>70000</td><td>45.7</td><td>423.2</td><td>-0.8</td></tr>\n",
       "\t<tr><th scope=row>ACS_PCT_GRANDP_NO_RESPS</th><td>-0.0215</td><td>-0.2158</td><td> 0.1938</td><td>70000</td><td>45.7</td><td>143.5</td><td>-1.7</td></tr>\n",
       "\t<tr><th scope=row>PM2.5</th><td>-1.0234</td><td>-1.2802</td><td>-0.7777</td><td>70000</td><td>45.7</td><td>240.8</td><td> 3.7</td></tr>\n",
       "\t<tr><th scope=row>ACS_PCT_ASSOCIATE_DGR</th><td> 0.2674</td><td>-0.2742</td><td> 0.8269</td><td>70000</td><td>45.7</td><td>300.9</td><td> 0.2</td></tr>\n",
       "\t<tr><th scope=row>ACS_PCT_ADMIN</th><td> 3.9455</td><td> 2.9254</td><td> 5.0542</td><td>70000</td><td>45.7</td><td>224.0</td><td>-4.4</td></tr>\n",
       "\t<tr><th scope=row>ACS_PCT_RENTER_65UP</th><td> 0.0034</td><td>-0.3934</td><td> 0.4017</td><td>70000</td><td>45.7</td><td>369.0</td><td> 2.3</td></tr>\n",
       "\t<tr><th scope=row>duration_mins_mp_mental</th><td> 0.0006</td><td> 0.0001</td><td> 0.0012</td><td>70000</td><td>45.7</td><td>130.6</td><td> 0.6</td></tr>\n",
       "\t<tr><th scope=row>ACS_PCT_WALK_2WORK</th><td> 3.7198</td><td> 2.6482</td><td> 4.8340</td><td>70000</td><td>45.7</td><td>191.1</td><td>-2.0</td></tr>\n",
       "\t<tr><th scope=row>ACS_PCT_OTH_EURP</th><td>-1.7501</td><td>-2.8551</td><td>-0.4915</td><td>70000</td><td>45.7</td><td>249.6</td><td> 5.2</td></tr>\n",
       "\t<tr><th scope=row>⋮</th><td>⋮</td><td>⋮</td><td>⋮</td><td>⋮</td><td>⋮</td><td>⋮</td><td>⋮</td></tr>\n",
       "\t<tr><th scope=row>CHR_DENTIST_RATE</th><td>-0.5437</td><td> -1.3013</td><td> 0.2025</td><td>70000</td><td> 45.7</td><td> 271.3</td><td> 5.0</td></tr>\n",
       "\t<tr><th scope=row>duration_mins_centroid</th><td> 0.0049</td><td>  0.0037</td><td> 0.0061</td><td>70000</td><td> 45.7</td><td> 194.4</td><td>-1.6</td></tr>\n",
       "\t<tr><th scope=row>ACS_PCT_MANUFACT</th><td> 1.0008</td><td>  0.3162</td><td> 1.7170</td><td>70000</td><td> 45.7</td><td>  71.7</td><td>-3.6</td></tr>\n",
       "\t<tr><th scope=row>ACS_PCT_GULFWAR_1990</th><td> 0.5652</td><td>  0.2579</td><td> 0.8732</td><td>70000</td><td> 45.7</td><td> 529.7</td><td>-0.7</td></tr>\n",
       "\t<tr><th scope=row>ACS_PCT_HH_PUB_ASSIST</th><td> 0.8606</td><td> -0.3931</td><td> 2.1512</td><td>70000</td><td> 45.7</td><td> 499.4</td><td>-0.2</td></tr>\n",
       "\t<tr><th scope=row>ACS_PCT_FEMALE</th><td> 0.4960</td><td> -0.7324</td><td> 1.7631</td><td>70000</td><td> 45.7</td><td> 290.3</td><td>-3.3</td></tr>\n",
       "\t<tr><th scope=row>wind_speed</th><td> 0.0844</td><td> -0.1045</td><td> 0.2717</td><td>70000</td><td> 45.7</td><td> 296.3</td><td> 0.2</td></tr>\n",
       "\t<tr><th scope=row>ACS_PCT_RENT_COST_30PCT</th><td>-1.5347</td><td> -1.9949</td><td>-1.1212</td><td>70000</td><td> 45.7</td><td> 169.1</td><td>-0.9</td></tr>\n",
       "\t<tr><th scope=row>ACS_PCT_COMMT_60MINUP</th><td>-1.7956</td><td> -2.9810</td><td>-0.7100</td><td>70000</td><td> 45.7</td><td>  46.4</td><td> 5.4</td></tr>\n",
       "\t<tr><th scope=row>ACS_PCT_RENTER_HH_CHILD</th><td> 0.3381</td><td>  0.0159</td><td> 0.6687</td><td>70000</td><td> 45.7</td><td> 197.0</td><td> 0.1</td></tr>\n",
       "\t<tr><th scope=row>NHC_BEDCOUNT</th><td> 0.2036</td><td> -0.2765</td><td> 0.7098</td><td>70000</td><td> 45.7</td><td>  56.9</td><td>-1.9</td></tr>\n",
       "\t<tr><th scope=row>NHC_LIC_STAFF</th><td>-1.0870</td><td> -1.4515</td><td>-0.7065</td><td>70000</td><td> 45.7</td><td> 322.8</td><td> 2.2</td></tr>\n",
       "\t<tr><th scope=row>ACS_PCT_10UNITS</th><td> 0.2044</td><td> -0.5537</td><td> 0.9300</td><td>70000</td><td> 45.7</td><td>  51.7</td><td> 3.9</td></tr>\n",
       "\t<tr><th scope=row>ACS_PCT_OTHER_INS</th><td>-0.4046</td><td> -1.8836</td><td> 1.0407</td><td>70000</td><td> 45.7</td><td> 357.2</td><td>-0.4</td></tr>\n",
       "\t<tr><th scope=row>ACS_PCT_1UP_OWNER_1ROOM</th><td>-7.9541</td><td>-12.4118</td><td>-3.3995</td><td>70000</td><td> 45.7</td><td>  64.5</td><td>-7.1</td></tr>\n",
       "\t<tr><th scope=row>ACS_PCT_OTHER</th><td> 0.5615</td><td> -0.8502</td><td> 2.0878</td><td>70000</td><td> 45.7</td><td> 615.8</td><td>-4.3</td></tr>\n",
       "\t<tr><th scope=row>CHR_ALCOHOL_DRIV_DEATH</th><td>-0.1444</td><td> -0.2534</td><td>-0.0417</td><td>70000</td><td> 45.7</td><td> 837.9</td><td>-0.8</td></tr>\n",
       "\t<tr><th scope=row>visibility</th><td> 0.6439</td><td>  0.3423</td><td> 0.9820</td><td>70000</td><td> 45.7</td><td> 285.7</td><td>-1.2</td></tr>\n",
       "\t<tr><th scope=row>ACS_MEDIAN_RENT</th><td> 1.8774</td><td>  1.1457</td><td> 2.7849</td><td>70000</td><td> 45.7</td><td> 140.8</td><td>-2.0</td></tr>\n",
       "\t<tr><th scope=row>ACS_PCT_DRIVE_2WORK</th><td> 0.9383</td><td>  0.2691</td><td> 1.6165</td><td>70000</td><td> 45.7</td><td>  55.2</td><td>-2.2</td></tr>\n",
       "\t<tr><th scope=row>ACS_PCT_WORK_NO_CAR</th><td> 1.7660</td><td>  0.1185</td><td> 3.3559</td><td>70000</td><td> 45.7</td><td>  39.6</td><td> 0.2</td></tr>\n",
       "\t<tr><th scope=row>ACS_PCT_GRANDP_RESPS</th><td> 0.1112</td><td> -0.0991</td><td> 0.3297</td><td>70000</td><td> 45.7</td><td>  79.2</td><td>-1.5</td></tr>\n",
       "\t<tr><th scope=row>ACS_PCT_ENGLISH</th><td> 0.0399</td><td> -0.4092</td><td> 0.4428</td><td>70000</td><td> 45.7</td><td>  41.2</td><td>-0.3</td></tr>\n",
       "\t<tr><th scope=row>ACS_PCT_CONSTRUCT</th><td> 3.0915</td><td>  2.0487</td><td> 4.1343</td><td>70000</td><td> 45.7</td><td> 356.2</td><td>-5.5</td></tr>\n",
       "\t<tr><th scope=row>ACS_PCT_HH_1PERS</th><td> 0.5717</td><td> -0.1103</td><td> 1.2445</td><td>70000</td><td> 45.7</td><td> 259.4</td><td>-0.9</td></tr>\n",
       "\t<tr><th scope=row>ACS_PCT_AGE_0_4</th><td>-4.3568</td><td> -7.3459</td><td>-1.3418</td><td>70000</td><td> 45.7</td><td> 229.2</td><td>-3.2</td></tr>\n",
       "\t<tr><th scope=row>tau2</th><td> 0.2978</td><td>  0.2733</td><td> 0.3425</td><td>70000</td><td>100.0</td><td>1266.9</td><td>-7.3</td></tr>\n",
       "\t<tr><th scope=row>rho.S</th><td> 0.5165</td><td>  0.4628</td><td> 0.5670</td><td>70000</td><td> 46.0</td><td> 769.8</td><td>-5.8</td></tr>\n",
       "\t<tr><th scope=row>rho1.T</th><td> 0.4320</td><td>  0.2754</td><td> 0.5391</td><td>70000</td><td>100.0</td><td>1334.2</td><td> 2.4</td></tr>\n",
       "\t<tr><th scope=row>rho2.T</th><td> 0.5265</td><td>  0.4245</td><td> 0.6511</td><td>70000</td><td>100.0</td><td> 915.7</td><td>-2.1</td></tr>\n",
       "</tbody>\n",
       "</table>\n"
      ],
      "text/latex": [
       "A matrix: 92 × 7 of type dbl\n",
       "\\begin{tabular}{r|lllllll}\n",
       "  & Mean & 2.5\\% & 97.5\\% & n.sample & \\% accept & n.effective & Geweke.diag\\\\\n",
       "\\hline\n",
       "\t(Intercept) & -8.4831 & -9.7844 & -7.0757 & 70000 & 45.7 & 124.8 &  1.0\\\\\n",
       "\tACS\\_PCT\\_GRP\\_QRT &  0.9802 &  0.1623 &  1.7779 & 70000 & 45.7 & 205.2 & -2.3\\\\\n",
       "\tACS\\_PCT\\_PRIVATE\\_2 &  0.0276 & -2.1603 &  2.3142 & 70000 & 45.7 & 640.0 &  1.5\\\\\n",
       "\tmean\\_temp &  0.5313 &  0.2288 &  0.8400 & 70000 & 45.7 & 171.6 &  2.3\\\\\n",
       "\tACS\\_PCT\\_MEDICARE\\_ONLY &  3.1821 &  1.6624 &  4.7296 & 70000 & 45.7 & 364.2 &  0.8\\\\\n",
       "\tACS\\_PCT\\_PRIVATE\\_SELF &  2.3923 &  1.5962 &  3.2431 & 70000 & 45.7 & 267.0 & -1.9\\\\\n",
       "\tACS\\_PCT\\_MOBILE\\_HOME &  0.1536 & -0.2212 &  0.5373 & 70000 & 45.7 & 168.3 & -2.5\\\\\n",
       "\tNHC\\_DAILY\\_RES & -2.3227 & -2.8550 & -1.8487 & 70000 & 45.7 &  89.1 &  2.3\\\\\n",
       "\tACS\\_PCT\\_NON\\_CITIZEN & -0.1641 & -1.4278 &  1.0592 & 70000 & 45.7 & 122.0 &  2.8\\\\\n",
       "\tACS\\_PCT\\_TRICARE\\_VA &  1.1668 & -0.2626 &  2.6765 & 70000 & 45.7 & 207.1 &  0.9\\\\\n",
       "\tACS\\_PCT\\_RETAIL & -0.9912 & -1.9118 &  0.0098 & 70000 & 45.7 & 363.4 & -6.0\\\\\n",
       "\tACS\\_PCT\\_VA\\_LABOR\\_FORCE & -0.1910 & -0.3764 &  0.0069 & 70000 & 45.7 & 430.9 & -1.7\\\\\n",
       "\tACS\\_PCT\\_INFORM &  1.8058 & -0.6947 &  4.2881 & 70000 & 45.7 & 417.3 &  1.5\\\\\n",
       "\tACS\\_PCT\\_COMMT\\_29MIN & -4.3701 & -5.4849 & -3.3993 & 70000 & 45.7 &  26.0 &  4.3\\\\\n",
       "\tACS\\_PCT\\_PRIVATE\\_MDCR & -3.5994 & -5.5799 & -1.7639 & 70000 & 45.7 & 308.3 & -1.8\\\\\n",
       "\tACS\\_PCT\\_COMMT\\_59MIN & -0.6026 & -1.6733 &  0.3275 & 70000 & 45.7 &  22.1 &  5.0\\\\\n",
       "\tAHRF\\_HPSA\\_MENTAL & -0.0542 & -0.1260 &  0.0155 & 70000 & 45.7 & 516.7 &  2.5\\\\\n",
       "\tACS\\_PCT\\_DIVORCE\\_SEPARAT & -1.0613 & -1.9748 & -0.1472 & 70000 & 45.7 & 394.2 & -1.8\\\\\n",
       "\tACS\\_PCT\\_TRANSPORT &  3.6123 &  2.5392 &  4.7116 & 70000 & 45.7 & 385.8 & -2.4\\\\\n",
       "\tACS\\_PCT\\_EDUC &  1.1332 &  0.3329 &  1.9955 & 70000 & 45.7 & 158.6 & -5.7\\\\\n",
       "\tACS\\_PCT\\_UNINSURED64 & -0.2929 & -0.8573 &  0.2892 & 70000 & 45.7 & 229.8 & -2.8\\\\\n",
       "\tCCBP\\_RATE\\_FSR\\_PER\\_1000 & -2.3756 & -6.5075 &  1.7665 & 70000 & 45.7 & 423.2 & -0.8\\\\\n",
       "\tACS\\_PCT\\_GRANDP\\_NO\\_RESPS & -0.0215 & -0.2158 &  0.1938 & 70000 & 45.7 & 143.5 & -1.7\\\\\n",
       "\tPM2.5 & -1.0234 & -1.2802 & -0.7777 & 70000 & 45.7 & 240.8 &  3.7\\\\\n",
       "\tACS\\_PCT\\_ASSOCIATE\\_DGR &  0.2674 & -0.2742 &  0.8269 & 70000 & 45.7 & 300.9 &  0.2\\\\\n",
       "\tACS\\_PCT\\_ADMIN &  3.9455 &  2.9254 &  5.0542 & 70000 & 45.7 & 224.0 & -4.4\\\\\n",
       "\tACS\\_PCT\\_RENTER\\_65UP &  0.0034 & -0.3934 &  0.4017 & 70000 & 45.7 & 369.0 &  2.3\\\\\n",
       "\tduration\\_mins\\_mp\\_mental &  0.0006 &  0.0001 &  0.0012 & 70000 & 45.7 & 130.6 &  0.6\\\\\n",
       "\tACS\\_PCT\\_WALK\\_2WORK &  3.7198 &  2.6482 &  4.8340 & 70000 & 45.7 & 191.1 & -2.0\\\\\n",
       "\tACS\\_PCT\\_OTH\\_EURP & -1.7501 & -2.8551 & -0.4915 & 70000 & 45.7 & 249.6 &  5.2\\\\\n",
       "\t⋮ & ⋮ & ⋮ & ⋮ & ⋮ & ⋮ & ⋮ & ⋮\\\\\n",
       "\tCHR\\_DENTIST\\_RATE & -0.5437 &  -1.3013 &  0.2025 & 70000 &  45.7 &  271.3 &  5.0\\\\\n",
       "\tduration\\_mins\\_centroid &  0.0049 &   0.0037 &  0.0061 & 70000 &  45.7 &  194.4 & -1.6\\\\\n",
       "\tACS\\_PCT\\_MANUFACT &  1.0008 &   0.3162 &  1.7170 & 70000 &  45.7 &   71.7 & -3.6\\\\\n",
       "\tACS\\_PCT\\_GULFWAR\\_1990 &  0.5652 &   0.2579 &  0.8732 & 70000 &  45.7 &  529.7 & -0.7\\\\\n",
       "\tACS\\_PCT\\_HH\\_PUB\\_ASSIST &  0.8606 &  -0.3931 &  2.1512 & 70000 &  45.7 &  499.4 & -0.2\\\\\n",
       "\tACS\\_PCT\\_FEMALE &  0.4960 &  -0.7324 &  1.7631 & 70000 &  45.7 &  290.3 & -3.3\\\\\n",
       "\twind\\_speed &  0.0844 &  -0.1045 &  0.2717 & 70000 &  45.7 &  296.3 &  0.2\\\\\n",
       "\tACS\\_PCT\\_RENT\\_COST\\_30PCT & -1.5347 &  -1.9949 & -1.1212 & 70000 &  45.7 &  169.1 & -0.9\\\\\n",
       "\tACS\\_PCT\\_COMMT\\_60MINUP & -1.7956 &  -2.9810 & -0.7100 & 70000 &  45.7 &   46.4 &  5.4\\\\\n",
       "\tACS\\_PCT\\_RENTER\\_HH\\_CHILD &  0.3381 &   0.0159 &  0.6687 & 70000 &  45.7 &  197.0 &  0.1\\\\\n",
       "\tNHC\\_BEDCOUNT &  0.2036 &  -0.2765 &  0.7098 & 70000 &  45.7 &   56.9 & -1.9\\\\\n",
       "\tNHC\\_LIC\\_STAFF & -1.0870 &  -1.4515 & -0.7065 & 70000 &  45.7 &  322.8 &  2.2\\\\\n",
       "\tACS\\_PCT\\_10UNITS &  0.2044 &  -0.5537 &  0.9300 & 70000 &  45.7 &   51.7 &  3.9\\\\\n",
       "\tACS\\_PCT\\_OTHER\\_INS & -0.4046 &  -1.8836 &  1.0407 & 70000 &  45.7 &  357.2 & -0.4\\\\\n",
       "\tACS\\_PCT\\_1UP\\_OWNER\\_1ROOM & -7.9541 & -12.4118 & -3.3995 & 70000 &  45.7 &   64.5 & -7.1\\\\\n",
       "\tACS\\_PCT\\_OTHER &  0.5615 &  -0.8502 &  2.0878 & 70000 &  45.7 &  615.8 & -4.3\\\\\n",
       "\tCHR\\_ALCOHOL\\_DRIV\\_DEATH & -0.1444 &  -0.2534 & -0.0417 & 70000 &  45.7 &  837.9 & -0.8\\\\\n",
       "\tvisibility &  0.6439 &   0.3423 &  0.9820 & 70000 &  45.7 &  285.7 & -1.2\\\\\n",
       "\tACS\\_MEDIAN\\_RENT &  1.8774 &   1.1457 &  2.7849 & 70000 &  45.7 &  140.8 & -2.0\\\\\n",
       "\tACS\\_PCT\\_DRIVE\\_2WORK &  0.9383 &   0.2691 &  1.6165 & 70000 &  45.7 &   55.2 & -2.2\\\\\n",
       "\tACS\\_PCT\\_WORK\\_NO\\_CAR &  1.7660 &   0.1185 &  3.3559 & 70000 &  45.7 &   39.6 &  0.2\\\\\n",
       "\tACS\\_PCT\\_GRANDP\\_RESPS &  0.1112 &  -0.0991 &  0.3297 & 70000 &  45.7 &   79.2 & -1.5\\\\\n",
       "\tACS\\_PCT\\_ENGLISH &  0.0399 &  -0.4092 &  0.4428 & 70000 &  45.7 &   41.2 & -0.3\\\\\n",
       "\tACS\\_PCT\\_CONSTRUCT &  3.0915 &   2.0487 &  4.1343 & 70000 &  45.7 &  356.2 & -5.5\\\\\n",
       "\tACS\\_PCT\\_HH\\_1PERS &  0.5717 &  -0.1103 &  1.2445 & 70000 &  45.7 &  259.4 & -0.9\\\\\n",
       "\tACS\\_PCT\\_AGE\\_0\\_4 & -4.3568 &  -7.3459 & -1.3418 & 70000 &  45.7 &  229.2 & -3.2\\\\\n",
       "\ttau2 &  0.2978 &   0.2733 &  0.3425 & 70000 & 100.0 & 1266.9 & -7.3\\\\\n",
       "\trho.S &  0.5165 &   0.4628 &  0.5670 & 70000 &  46.0 &  769.8 & -5.8\\\\\n",
       "\trho1.T &  0.4320 &   0.2754 &  0.5391 & 70000 & 100.0 & 1334.2 &  2.4\\\\\n",
       "\trho2.T &  0.5265 &   0.4245 &  0.6511 & 70000 & 100.0 &  915.7 & -2.1\\\\\n",
       "\\end{tabular}\n"
      ],
      "text/markdown": [
       "\n",
       "A matrix: 92 × 7 of type dbl\n",
       "\n",
       "| <!--/--> | Mean | 2.5% | 97.5% | n.sample | % accept | n.effective | Geweke.diag |\n",
       "|---|---|---|---|---|---|---|---|\n",
       "| (Intercept) | -8.4831 | -9.7844 | -7.0757 | 70000 | 45.7 | 124.8 |  1.0 |\n",
       "| ACS_PCT_GRP_QRT |  0.9802 |  0.1623 |  1.7779 | 70000 | 45.7 | 205.2 | -2.3 |\n",
       "| ACS_PCT_PRIVATE_2 |  0.0276 | -2.1603 |  2.3142 | 70000 | 45.7 | 640.0 |  1.5 |\n",
       "| mean_temp |  0.5313 |  0.2288 |  0.8400 | 70000 | 45.7 | 171.6 |  2.3 |\n",
       "| ACS_PCT_MEDICARE_ONLY |  3.1821 |  1.6624 |  4.7296 | 70000 | 45.7 | 364.2 |  0.8 |\n",
       "| ACS_PCT_PRIVATE_SELF |  2.3923 |  1.5962 |  3.2431 | 70000 | 45.7 | 267.0 | -1.9 |\n",
       "| ACS_PCT_MOBILE_HOME |  0.1536 | -0.2212 |  0.5373 | 70000 | 45.7 | 168.3 | -2.5 |\n",
       "| NHC_DAILY_RES | -2.3227 | -2.8550 | -1.8487 | 70000 | 45.7 |  89.1 |  2.3 |\n",
       "| ACS_PCT_NON_CITIZEN | -0.1641 | -1.4278 |  1.0592 | 70000 | 45.7 | 122.0 |  2.8 |\n",
       "| ACS_PCT_TRICARE_VA |  1.1668 | -0.2626 |  2.6765 | 70000 | 45.7 | 207.1 |  0.9 |\n",
       "| ACS_PCT_RETAIL | -0.9912 | -1.9118 |  0.0098 | 70000 | 45.7 | 363.4 | -6.0 |\n",
       "| ACS_PCT_VA_LABOR_FORCE | -0.1910 | -0.3764 |  0.0069 | 70000 | 45.7 | 430.9 | -1.7 |\n",
       "| ACS_PCT_INFORM |  1.8058 | -0.6947 |  4.2881 | 70000 | 45.7 | 417.3 |  1.5 |\n",
       "| ACS_PCT_COMMT_29MIN | -4.3701 | -5.4849 | -3.3993 | 70000 | 45.7 |  26.0 |  4.3 |\n",
       "| ACS_PCT_PRIVATE_MDCR | -3.5994 | -5.5799 | -1.7639 | 70000 | 45.7 | 308.3 | -1.8 |\n",
       "| ACS_PCT_COMMT_59MIN | -0.6026 | -1.6733 |  0.3275 | 70000 | 45.7 |  22.1 |  5.0 |\n",
       "| AHRF_HPSA_MENTAL | -0.0542 | -0.1260 |  0.0155 | 70000 | 45.7 | 516.7 |  2.5 |\n",
       "| ACS_PCT_DIVORCE_SEPARAT | -1.0613 | -1.9748 | -0.1472 | 70000 | 45.7 | 394.2 | -1.8 |\n",
       "| ACS_PCT_TRANSPORT |  3.6123 |  2.5392 |  4.7116 | 70000 | 45.7 | 385.8 | -2.4 |\n",
       "| ACS_PCT_EDUC |  1.1332 |  0.3329 |  1.9955 | 70000 | 45.7 | 158.6 | -5.7 |\n",
       "| ACS_PCT_UNINSURED64 | -0.2929 | -0.8573 |  0.2892 | 70000 | 45.7 | 229.8 | -2.8 |\n",
       "| CCBP_RATE_FSR_PER_1000 | -2.3756 | -6.5075 |  1.7665 | 70000 | 45.7 | 423.2 | -0.8 |\n",
       "| ACS_PCT_GRANDP_NO_RESPS | -0.0215 | -0.2158 |  0.1938 | 70000 | 45.7 | 143.5 | -1.7 |\n",
       "| PM2.5 | -1.0234 | -1.2802 | -0.7777 | 70000 | 45.7 | 240.8 |  3.7 |\n",
       "| ACS_PCT_ASSOCIATE_DGR |  0.2674 | -0.2742 |  0.8269 | 70000 | 45.7 | 300.9 |  0.2 |\n",
       "| ACS_PCT_ADMIN |  3.9455 |  2.9254 |  5.0542 | 70000 | 45.7 | 224.0 | -4.4 |\n",
       "| ACS_PCT_RENTER_65UP |  0.0034 | -0.3934 |  0.4017 | 70000 | 45.7 | 369.0 |  2.3 |\n",
       "| duration_mins_mp_mental |  0.0006 |  0.0001 |  0.0012 | 70000 | 45.7 | 130.6 |  0.6 |\n",
       "| ACS_PCT_WALK_2WORK |  3.7198 |  2.6482 |  4.8340 | 70000 | 45.7 | 191.1 | -2.0 |\n",
       "| ACS_PCT_OTH_EURP | -1.7501 | -2.8551 | -0.4915 | 70000 | 45.7 | 249.6 |  5.2 |\n",
       "| ⋮ | ⋮ | ⋮ | ⋮ | ⋮ | ⋮ | ⋮ | ⋮ |\n",
       "| CHR_DENTIST_RATE | -0.5437 |  -1.3013 |  0.2025 | 70000 |  45.7 |  271.3 |  5.0 |\n",
       "| duration_mins_centroid |  0.0049 |   0.0037 |  0.0061 | 70000 |  45.7 |  194.4 | -1.6 |\n",
       "| ACS_PCT_MANUFACT |  1.0008 |   0.3162 |  1.7170 | 70000 |  45.7 |   71.7 | -3.6 |\n",
       "| ACS_PCT_GULFWAR_1990 |  0.5652 |   0.2579 |  0.8732 | 70000 |  45.7 |  529.7 | -0.7 |\n",
       "| ACS_PCT_HH_PUB_ASSIST |  0.8606 |  -0.3931 |  2.1512 | 70000 |  45.7 |  499.4 | -0.2 |\n",
       "| ACS_PCT_FEMALE |  0.4960 |  -0.7324 |  1.7631 | 70000 |  45.7 |  290.3 | -3.3 |\n",
       "| wind_speed |  0.0844 |  -0.1045 |  0.2717 | 70000 |  45.7 |  296.3 |  0.2 |\n",
       "| ACS_PCT_RENT_COST_30PCT | -1.5347 |  -1.9949 | -1.1212 | 70000 |  45.7 |  169.1 | -0.9 |\n",
       "| ACS_PCT_COMMT_60MINUP | -1.7956 |  -2.9810 | -0.7100 | 70000 |  45.7 |   46.4 |  5.4 |\n",
       "| ACS_PCT_RENTER_HH_CHILD |  0.3381 |   0.0159 |  0.6687 | 70000 |  45.7 |  197.0 |  0.1 |\n",
       "| NHC_BEDCOUNT |  0.2036 |  -0.2765 |  0.7098 | 70000 |  45.7 |   56.9 | -1.9 |\n",
       "| NHC_LIC_STAFF | -1.0870 |  -1.4515 | -0.7065 | 70000 |  45.7 |  322.8 |  2.2 |\n",
       "| ACS_PCT_10UNITS |  0.2044 |  -0.5537 |  0.9300 | 70000 |  45.7 |   51.7 |  3.9 |\n",
       "| ACS_PCT_OTHER_INS | -0.4046 |  -1.8836 |  1.0407 | 70000 |  45.7 |  357.2 | -0.4 |\n",
       "| ACS_PCT_1UP_OWNER_1ROOM | -7.9541 | -12.4118 | -3.3995 | 70000 |  45.7 |   64.5 | -7.1 |\n",
       "| ACS_PCT_OTHER |  0.5615 |  -0.8502 |  2.0878 | 70000 |  45.7 |  615.8 | -4.3 |\n",
       "| CHR_ALCOHOL_DRIV_DEATH | -0.1444 |  -0.2534 | -0.0417 | 70000 |  45.7 |  837.9 | -0.8 |\n",
       "| visibility |  0.6439 |   0.3423 |  0.9820 | 70000 |  45.7 |  285.7 | -1.2 |\n",
       "| ACS_MEDIAN_RENT |  1.8774 |   1.1457 |  2.7849 | 70000 |  45.7 |  140.8 | -2.0 |\n",
       "| ACS_PCT_DRIVE_2WORK |  0.9383 |   0.2691 |  1.6165 | 70000 |  45.7 |   55.2 | -2.2 |\n",
       "| ACS_PCT_WORK_NO_CAR |  1.7660 |   0.1185 |  3.3559 | 70000 |  45.7 |   39.6 |  0.2 |\n",
       "| ACS_PCT_GRANDP_RESPS |  0.1112 |  -0.0991 |  0.3297 | 70000 |  45.7 |   79.2 | -1.5 |\n",
       "| ACS_PCT_ENGLISH |  0.0399 |  -0.4092 |  0.4428 | 70000 |  45.7 |   41.2 | -0.3 |\n",
       "| ACS_PCT_CONSTRUCT |  3.0915 |   2.0487 |  4.1343 | 70000 |  45.7 |  356.2 | -5.5 |\n",
       "| ACS_PCT_HH_1PERS |  0.5717 |  -0.1103 |  1.2445 | 70000 |  45.7 |  259.4 | -0.9 |\n",
       "| ACS_PCT_AGE_0_4 | -4.3568 |  -7.3459 | -1.3418 | 70000 |  45.7 |  229.2 | -3.2 |\n",
       "| tau2 |  0.2978 |   0.2733 |  0.3425 | 70000 | 100.0 | 1266.9 | -7.3 |\n",
       "| rho.S |  0.5165 |   0.4628 |  0.5670 | 70000 |  46.0 |  769.8 | -5.8 |\n",
       "| rho1.T |  0.4320 |   0.2754 |  0.5391 | 70000 | 100.0 | 1334.2 |  2.4 |\n",
       "| rho2.T |  0.5265 |   0.4245 |  0.6511 | 70000 | 100.0 |  915.7 | -2.1 |\n",
       "\n"
      ],
      "text/plain": [
       "                        Mean    2.5%     97.5%   n.sample % accept n.effective\n",
       "(Intercept)             -8.4831 -9.7844  -7.0757 70000    45.7     124.8      \n",
       "ACS_PCT_GRP_QRT          0.9802  0.1623   1.7779 70000    45.7     205.2      \n",
       "ACS_PCT_PRIVATE_2        0.0276 -2.1603   2.3142 70000    45.7     640.0      \n",
       "mean_temp                0.5313  0.2288   0.8400 70000    45.7     171.6      \n",
       "ACS_PCT_MEDICARE_ONLY    3.1821  1.6624   4.7296 70000    45.7     364.2      \n",
       "ACS_PCT_PRIVATE_SELF     2.3923  1.5962   3.2431 70000    45.7     267.0      \n",
       "ACS_PCT_MOBILE_HOME      0.1536 -0.2212   0.5373 70000    45.7     168.3      \n",
       "NHC_DAILY_RES           -2.3227 -2.8550  -1.8487 70000    45.7      89.1      \n",
       "ACS_PCT_NON_CITIZEN     -0.1641 -1.4278   1.0592 70000    45.7     122.0      \n",
       "ACS_PCT_TRICARE_VA       1.1668 -0.2626   2.6765 70000    45.7     207.1      \n",
       "ACS_PCT_RETAIL          -0.9912 -1.9118   0.0098 70000    45.7     363.4      \n",
       "ACS_PCT_VA_LABOR_FORCE  -0.1910 -0.3764   0.0069 70000    45.7     430.9      \n",
       "ACS_PCT_INFORM           1.8058 -0.6947   4.2881 70000    45.7     417.3      \n",
       "ACS_PCT_COMMT_29MIN     -4.3701 -5.4849  -3.3993 70000    45.7      26.0      \n",
       "ACS_PCT_PRIVATE_MDCR    -3.5994 -5.5799  -1.7639 70000    45.7     308.3      \n",
       "ACS_PCT_COMMT_59MIN     -0.6026 -1.6733   0.3275 70000    45.7      22.1      \n",
       "AHRF_HPSA_MENTAL        -0.0542 -0.1260   0.0155 70000    45.7     516.7      \n",
       "ACS_PCT_DIVORCE_SEPARAT -1.0613 -1.9748  -0.1472 70000    45.7     394.2      \n",
       "ACS_PCT_TRANSPORT        3.6123  2.5392   4.7116 70000    45.7     385.8      \n",
       "ACS_PCT_EDUC             1.1332  0.3329   1.9955 70000    45.7     158.6      \n",
       "ACS_PCT_UNINSURED64     -0.2929 -0.8573   0.2892 70000    45.7     229.8      \n",
       "CCBP_RATE_FSR_PER_1000  -2.3756 -6.5075   1.7665 70000    45.7     423.2      \n",
       "ACS_PCT_GRANDP_NO_RESPS -0.0215 -0.2158   0.1938 70000    45.7     143.5      \n",
       "PM2.5                   -1.0234 -1.2802  -0.7777 70000    45.7     240.8      \n",
       "ACS_PCT_ASSOCIATE_DGR    0.2674 -0.2742   0.8269 70000    45.7     300.9      \n",
       "ACS_PCT_ADMIN            3.9455  2.9254   5.0542 70000    45.7     224.0      \n",
       "ACS_PCT_RENTER_65UP      0.0034 -0.3934   0.4017 70000    45.7     369.0      \n",
       "duration_mins_mp_mental  0.0006  0.0001   0.0012 70000    45.7     130.6      \n",
       "ACS_PCT_WALK_2WORK       3.7198  2.6482   4.8340 70000    45.7     191.1      \n",
       "ACS_PCT_OTH_EURP        -1.7501 -2.8551  -0.4915 70000    45.7     249.6      \n",
       "⋮                       ⋮       ⋮        ⋮       ⋮        ⋮        ⋮          \n",
       "CHR_DENTIST_RATE        -0.5437  -1.3013  0.2025 70000     45.7     271.3     \n",
       "duration_mins_centroid   0.0049   0.0037  0.0061 70000     45.7     194.4     \n",
       "ACS_PCT_MANUFACT         1.0008   0.3162  1.7170 70000     45.7      71.7     \n",
       "ACS_PCT_GULFWAR_1990     0.5652   0.2579  0.8732 70000     45.7     529.7     \n",
       "ACS_PCT_HH_PUB_ASSIST    0.8606  -0.3931  2.1512 70000     45.7     499.4     \n",
       "ACS_PCT_FEMALE           0.4960  -0.7324  1.7631 70000     45.7     290.3     \n",
       "wind_speed               0.0844  -0.1045  0.2717 70000     45.7     296.3     \n",
       "ACS_PCT_RENT_COST_30PCT -1.5347  -1.9949 -1.1212 70000     45.7     169.1     \n",
       "ACS_PCT_COMMT_60MINUP   -1.7956  -2.9810 -0.7100 70000     45.7      46.4     \n",
       "ACS_PCT_RENTER_HH_CHILD  0.3381   0.0159  0.6687 70000     45.7     197.0     \n",
       "NHC_BEDCOUNT             0.2036  -0.2765  0.7098 70000     45.7      56.9     \n",
       "NHC_LIC_STAFF           -1.0870  -1.4515 -0.7065 70000     45.7     322.8     \n",
       "ACS_PCT_10UNITS          0.2044  -0.5537  0.9300 70000     45.7      51.7     \n",
       "ACS_PCT_OTHER_INS       -0.4046  -1.8836  1.0407 70000     45.7     357.2     \n",
       "ACS_PCT_1UP_OWNER_1ROOM -7.9541 -12.4118 -3.3995 70000     45.7      64.5     \n",
       "ACS_PCT_OTHER            0.5615  -0.8502  2.0878 70000     45.7     615.8     \n",
       "CHR_ALCOHOL_DRIV_DEATH  -0.1444  -0.2534 -0.0417 70000     45.7     837.9     \n",
       "visibility               0.6439   0.3423  0.9820 70000     45.7     285.7     \n",
       "ACS_MEDIAN_RENT          1.8774   1.1457  2.7849 70000     45.7     140.8     \n",
       "ACS_PCT_DRIVE_2WORK      0.9383   0.2691  1.6165 70000     45.7      55.2     \n",
       "ACS_PCT_WORK_NO_CAR      1.7660   0.1185  3.3559 70000     45.7      39.6     \n",
       "ACS_PCT_GRANDP_RESPS     0.1112  -0.0991  0.3297 70000     45.7      79.2     \n",
       "ACS_PCT_ENGLISH          0.0399  -0.4092  0.4428 70000     45.7      41.2     \n",
       "ACS_PCT_CONSTRUCT        3.0915   2.0487  4.1343 70000     45.7     356.2     \n",
       "ACS_PCT_HH_1PERS         0.5717  -0.1103  1.2445 70000     45.7     259.4     \n",
       "ACS_PCT_AGE_0_4         -4.3568  -7.3459 -1.3418 70000     45.7     229.2     \n",
       "tau2                     0.2978   0.2733  0.3425 70000    100.0    1266.9     \n",
       "rho.S                    0.5165   0.4628  0.5670 70000     46.0     769.8     \n",
       "rho1.T                   0.4320   0.2754  0.5391 70000    100.0    1334.2     \n",
       "rho2.T                   0.5265   0.4245  0.6511 70000    100.0     915.7     \n",
       "                        Geweke.diag\n",
       "(Intercept)              1.0       \n",
       "ACS_PCT_GRP_QRT         -2.3       \n",
       "ACS_PCT_PRIVATE_2        1.5       \n",
       "mean_temp                2.3       \n",
       "ACS_PCT_MEDICARE_ONLY    0.8       \n",
       "ACS_PCT_PRIVATE_SELF    -1.9       \n",
       "ACS_PCT_MOBILE_HOME     -2.5       \n",
       "NHC_DAILY_RES            2.3       \n",
       "ACS_PCT_NON_CITIZEN      2.8       \n",
       "ACS_PCT_TRICARE_VA       0.9       \n",
       "ACS_PCT_RETAIL          -6.0       \n",
       "ACS_PCT_VA_LABOR_FORCE  -1.7       \n",
       "ACS_PCT_INFORM           1.5       \n",
       "ACS_PCT_COMMT_29MIN      4.3       \n",
       "ACS_PCT_PRIVATE_MDCR    -1.8       \n",
       "ACS_PCT_COMMT_59MIN      5.0       \n",
       "AHRF_HPSA_MENTAL         2.5       \n",
       "ACS_PCT_DIVORCE_SEPARAT -1.8       \n",
       "ACS_PCT_TRANSPORT       -2.4       \n",
       "ACS_PCT_EDUC            -5.7       \n",
       "ACS_PCT_UNINSURED64     -2.8       \n",
       "CCBP_RATE_FSR_PER_1000  -0.8       \n",
       "ACS_PCT_GRANDP_NO_RESPS -1.7       \n",
       "PM2.5                    3.7       \n",
       "ACS_PCT_ASSOCIATE_DGR    0.2       \n",
       "ACS_PCT_ADMIN           -4.4       \n",
       "ACS_PCT_RENTER_65UP      2.3       \n",
       "duration_mins_mp_mental  0.6       \n",
       "ACS_PCT_WALK_2WORK      -2.0       \n",
       "ACS_PCT_OTH_EURP         5.2       \n",
       "⋮                       ⋮          \n",
       "CHR_DENTIST_RATE         5.0       \n",
       "duration_mins_centroid  -1.6       \n",
       "ACS_PCT_MANUFACT        -3.6       \n",
       "ACS_PCT_GULFWAR_1990    -0.7       \n",
       "ACS_PCT_HH_PUB_ASSIST   -0.2       \n",
       "ACS_PCT_FEMALE          -3.3       \n",
       "wind_speed               0.2       \n",
       "ACS_PCT_RENT_COST_30PCT -0.9       \n",
       "ACS_PCT_COMMT_60MINUP    5.4       \n",
       "ACS_PCT_RENTER_HH_CHILD  0.1       \n",
       "NHC_BEDCOUNT            -1.9       \n",
       "NHC_LIC_STAFF            2.2       \n",
       "ACS_PCT_10UNITS          3.9       \n",
       "ACS_PCT_OTHER_INS       -0.4       \n",
       "ACS_PCT_1UP_OWNER_1ROOM -7.1       \n",
       "ACS_PCT_OTHER           -4.3       \n",
       "CHR_ALCOHOL_DRIV_DEATH  -0.8       \n",
       "visibility              -1.2       \n",
       "ACS_MEDIAN_RENT         -2.0       \n",
       "ACS_PCT_DRIVE_2WORK     -2.2       \n",
       "ACS_PCT_WORK_NO_CAR      0.2       \n",
       "ACS_PCT_GRANDP_RESPS    -1.5       \n",
       "ACS_PCT_ENGLISH         -0.3       \n",
       "ACS_PCT_CONSTRUCT       -5.5       \n",
       "ACS_PCT_HH_1PERS        -0.9       \n",
       "ACS_PCT_AGE_0_4         -3.2       \n",
       "tau2                    -7.3       \n",
       "rho.S                   -5.8       \n",
       "rho1.T                   2.4       \n",
       "rho2.T                  -2.1       "
      ]
     },
     "metadata": {},
     "output_type": "display_data"
    }
   ],
   "source": [
    "fit3$summary.results"
   ]
  },
  {
   "cell_type": "markdown",
   "id": "e2accc86-3734-40ea-9aa0-418538b22cad",
   "metadata": {},
   "source": [
    "#### Comments\n",
    "\n",
    "- Note: compared to the AR1 model, here we have two estimated rho2.T, since we have two temporal correlation parameters (with year lag 1 and year lag 2)"
   ]
  },
  {
   "cell_type": "code",
   "execution_count": 7,
   "id": "353c996e-4670-4f36-a1ad-47bded0a636d",
   "metadata": {},
   "outputs": [
    {
     "name": "stdout",
     "output_type": "stream",
     "text": [
      "List of 6\n",
      " $ beta  : 'mcmc' num [1:70000, 1:88] -8.56 -8.53 -8.44 -8.41 -8.45 ...\n",
      "  ..- attr(*, \"mcpar\")= num [1:3] 1 70000 1\n",
      " $ phi   : 'mcmc' num [1:70000, 1:9087] -0.83 -0.491 -0.491 -0.547 -0.296 ...\n",
      "  ..- attr(*, \"mcpar\")= num [1:3] 1 70000 1\n",
      " $ rho   : 'mcmc' num [1:70000, 1:3] 0.51 0.513 0.515 0.515 0.518 ...\n",
      "  ..- attr(*, \"dimnames\")=List of 2\n",
      "  .. ..$ : NULL\n",
      "  .. ..$ : chr [1:3] \"rho.S\" \"rho1.T\" \"rho2.T\"\n",
      "  ..- attr(*, \"mcpar\")= num [1:3] 1 70000 1\n",
      " $ tau2  : 'mcmc' num [1:70000, 1] 0.3 0.29 0.283 0.288 0.276 ...\n",
      "  ..- attr(*, \"mcpar\")= num [1:3] 1 70000 1\n",
      " $ fitted: 'mcmc' num [1:70000, 1:9087] 7.38 10.34 10.31 9.79 12.39 ...\n",
      "  ..- attr(*, \"mcpar\")= num [1:3] 1 70000 1\n",
      " $ Y     : 'mcmc' logi NA\n",
      "  ..- attr(*, \"mcpar\")= num [1:3] 1 1 1\n"
     ]
    }
   ],
   "source": [
    "str(fit3$samples)"
   ]
  },
  {
   "cell_type": "code",
   "execution_count": 10,
   "id": "fe43c9d0-9f49-4963-ba64-6544c8beb8ba",
   "metadata": {},
   "outputs": [],
   "source": [
    "true_values <- read_csv(\"data/raw/suicide/2018.csv\", show_col_types=F) %>%\n",
    "        filter(fips %in% fips_to_keep) %>%\n",
    "        arrange(fips) %>%\n",
    "        select(Deaths) %>%\n",
    "        pull()\n"
   ]
  },
  {
   "cell_type": "code",
   "execution_count": 11,
   "id": "458b7de9-d558-44d5-9c15-e9e38be51a09",
   "metadata": {},
   "outputs": [],
   "source": [
    "fitted_values <- fit3$fitted[6059:9087]"
   ]
  },
  {
   "cell_type": "code",
   "execution_count": 12,
   "id": "c2ef39d5-ae1a-4acf-9892-936312a8e850",
   "metadata": {},
   "outputs": [],
   "source": [
    "results_df <- tibble(\n",
    "    fitted_values = fitted_values,\n",
    "    true_values = true_values,\n",
    "    FIPSCODE = fips_to_keep\n",
    ")\n"
   ]
  },
  {
   "cell_type": "code",
   "execution_count": 13,
   "id": "c1c2cc1c-266a-44fd-bd3c-b1bc29bea793",
   "metadata": {},
   "outputs": [
    {
     "data": {
      "text/html": [
       "<table class=\"dataframe\">\n",
       "<caption>A tibble: 6 × 4</caption>\n",
       "<thead>\n",
       "\t<tr><th scope=col>fitted_values</th><th scope=col>true_values</th><th scope=col>FIPSCODE</th><th scope=col>top5_true</th></tr>\n",
       "\t<tr><th scope=col>&lt;dbl&gt;</th><th scope=col>&lt;dbl&gt;</th><th scope=col>&lt;chr&gt;</th><th scope=col>&lt;dbl&gt;</th></tr>\n",
       "</thead>\n",
       "<tbody>\n",
       "\t<tr><td>825.8604</td><td>947</td><td>06037</td><td>1</td></tr>\n",
       "\t<tr><td>676.5585</td><td>737</td><td>04013</td><td>1</td></tr>\n",
       "\t<tr><td>481.3270</td><td>481</td><td>48201</td><td>1</td></tr>\n",
       "\t<tr><td>413.1896</td><td>465</td><td>32003</td><td>1</td></tr>\n",
       "\t<tr><td>418.0943</td><td>459</td><td>17031</td><td>1</td></tr>\n",
       "\t<tr><td>407.8377</td><td>448</td><td>06073</td><td>1</td></tr>\n",
       "</tbody>\n",
       "</table>\n"
      ],
      "text/latex": [
       "A tibble: 6 × 4\n",
       "\\begin{tabular}{llll}\n",
       " fitted\\_values & true\\_values & FIPSCODE & top5\\_true\\\\\n",
       " <dbl> & <dbl> & <chr> & <dbl>\\\\\n",
       "\\hline\n",
       "\t 825.8604 & 947 & 06037 & 1\\\\\n",
       "\t 676.5585 & 737 & 04013 & 1\\\\\n",
       "\t 481.3270 & 481 & 48201 & 1\\\\\n",
       "\t 413.1896 & 465 & 32003 & 1\\\\\n",
       "\t 418.0943 & 459 & 17031 & 1\\\\\n",
       "\t 407.8377 & 448 & 06073 & 1\\\\\n",
       "\\end{tabular}\n"
      ],
      "text/markdown": [
       "\n",
       "A tibble: 6 × 4\n",
       "\n",
       "| fitted_values &lt;dbl&gt; | true_values &lt;dbl&gt; | FIPSCODE &lt;chr&gt; | top5_true &lt;dbl&gt; |\n",
       "|---|---|---|---|\n",
       "| 825.8604 | 947 | 06037 | 1 |\n",
       "| 676.5585 | 737 | 04013 | 1 |\n",
       "| 481.3270 | 481 | 48201 | 1 |\n",
       "| 413.1896 | 465 | 32003 | 1 |\n",
       "| 418.0943 | 459 | 17031 | 1 |\n",
       "| 407.8377 | 448 | 06073 | 1 |\n",
       "\n"
      ],
      "text/plain": [
       "  fitted_values true_values FIPSCODE top5_true\n",
       "1 825.8604      947         06037    1        \n",
       "2 676.5585      737         04013    1        \n",
       "3 481.3270      481         48201    1        \n",
       "4 413.1896      465         32003    1        \n",
       "5 418.0943      459         17031    1        \n",
       "6 407.8377      448         06073    1        "
      ]
     },
     "metadata": {},
     "output_type": "display_data"
    }
   ],
   "source": [
    "top_true <- results_df %>%\n",
    "    arrange(desc(true_values)) %>%\n",
    "    head(6) %>%\n",
    "    mutate(top5_true = 1)\n",
    "top_true"
   ]
  },
  {
   "cell_type": "code",
   "execution_count": 14,
   "id": "b8bd4608-4699-4926-9ebf-2b3c68f42b9a",
   "metadata": {},
   "outputs": [
    {
     "data": {
      "text/html": [
       "<table class=\"dataframe\">\n",
       "<caption>A tibble: 6 × 3</caption>\n",
       "<thead>\n",
       "\t<tr><th scope=col>fitted_values</th><th scope=col>true_values</th><th scope=col>FIPSCODE</th></tr>\n",
       "\t<tr><th scope=col>&lt;dbl&gt;</th><th scope=col>&lt;dbl&gt;</th><th scope=col>&lt;chr&gt;</th></tr>\n",
       "</thead>\n",
       "<tbody>\n",
       "\t<tr><td>825.8604</td><td>947</td><td>06037</td></tr>\n",
       "\t<tr><td>676.5585</td><td>737</td><td>04013</td></tr>\n",
       "\t<tr><td>481.3270</td><td>481</td><td>48201</td></tr>\n",
       "\t<tr><td>418.0943</td><td>459</td><td>17031</td></tr>\n",
       "\t<tr><td>413.1896</td><td>465</td><td>32003</td></tr>\n",
       "\t<tr><td>407.8377</td><td>448</td><td>06073</td></tr>\n",
       "</tbody>\n",
       "</table>\n"
      ],
      "text/latex": [
       "A tibble: 6 × 3\n",
       "\\begin{tabular}{lll}\n",
       " fitted\\_values & true\\_values & FIPSCODE\\\\\n",
       " <dbl> & <dbl> & <chr>\\\\\n",
       "\\hline\n",
       "\t 825.8604 & 947 & 06037\\\\\n",
       "\t 676.5585 & 737 & 04013\\\\\n",
       "\t 481.3270 & 481 & 48201\\\\\n",
       "\t 418.0943 & 459 & 17031\\\\\n",
       "\t 413.1896 & 465 & 32003\\\\\n",
       "\t 407.8377 & 448 & 06073\\\\\n",
       "\\end{tabular}\n"
      ],
      "text/markdown": [
       "\n",
       "A tibble: 6 × 3\n",
       "\n",
       "| fitted_values &lt;dbl&gt; | true_values &lt;dbl&gt; | FIPSCODE &lt;chr&gt; |\n",
       "|---|---|---|\n",
       "| 825.8604 | 947 | 06037 |\n",
       "| 676.5585 | 737 | 04013 |\n",
       "| 481.3270 | 481 | 48201 |\n",
       "| 418.0943 | 459 | 17031 |\n",
       "| 413.1896 | 465 | 32003 |\n",
       "| 407.8377 | 448 | 06073 |\n",
       "\n"
      ],
      "text/plain": [
       "  fitted_values true_values FIPSCODE\n",
       "1 825.8604      947         06037   \n",
       "2 676.5585      737         04013   \n",
       "3 481.3270      481         48201   \n",
       "4 418.0943      459         17031   \n",
       "5 413.1896      465         32003   \n",
       "6 407.8377      448         06073   "
      ]
     },
     "metadata": {},
     "output_type": "display_data"
    }
   ],
   "source": [
    "top_fitted <- results_df %>%\n",
    "    arrange(desc(fitted_values)) %>%\n",
    "    head(6)\n",
    "top_fitted"
   ]
  },
  {
   "cell_type": "markdown",
   "id": "0614c200-b519-44b9-85f3-8743e59a3725",
   "metadata": {},
   "source": [
    "# Coefficients\n",
    "Order by effect size of the coefficient (note: coefficients have not been standardized)"
   ]
  },
  {
   "cell_type": "code",
   "execution_count": 15,
   "id": "c08db84d-d78c-4a0a-82b4-d32b89a4dce0",
   "metadata": {},
   "outputs": [
    {
     "data": {
      "text/html": [
       "<table class=\"dataframe\">\n",
       "<caption>A tibble: 92 × 7</caption>\n",
       "<thead>\n",
       "\t<tr><th></th><th scope=col>Mean</th><th scope=col>2.5%</th><th scope=col>97.5%</th><th scope=col>n.sample</th><th scope=col>% accept</th><th scope=col>n.effective</th><th scope=col>Geweke.diag</th></tr>\n",
       "\t<tr><th></th><th scope=col>&lt;dbl&gt;</th><th scope=col>&lt;dbl&gt;</th><th scope=col>&lt;dbl&gt;</th><th scope=col>&lt;dbl&gt;</th><th scope=col>&lt;dbl&gt;</th><th scope=col>&lt;dbl&gt;</th><th scope=col>&lt;dbl&gt;</th></tr>\n",
       "</thead>\n",
       "<tbody>\n",
       "\t<tr><th scope=row>ACS_PCT_1UP_PERS_1ROOM</th><td>10.6779</td><td>  5.1427</td><td>16.6452</td><td>70000</td><td>45.7</td><td> 28.0</td><td> 5.2</td></tr>\n",
       "\t<tr><th scope=row>(Intercept)</th><td>-8.4831</td><td> -9.7844</td><td>-7.0757</td><td>70000</td><td>45.7</td><td>124.8</td><td> 1.0</td></tr>\n",
       "\t<tr><th scope=row>ACS_PCT_1UP_OWNER_1ROOM</th><td>-7.9541</td><td>-12.4118</td><td>-3.3995</td><td>70000</td><td>45.7</td><td> 64.5</td><td>-7.1</td></tr>\n",
       "\t<tr><th scope=row>ACS_PCT_WHOLESALE</th><td> 5.3989</td><td>  3.7525</td><td> 6.9832</td><td>70000</td><td>45.7</td><td>586.1</td><td>-3.1</td></tr>\n",
       "\t<tr><th scope=row>ACS_PCT_AGE_0_17</th><td> 4.9574</td><td>  3.5931</td><td> 6.4276</td><td>70000</td><td>45.7</td><td> 84.0</td><td> 2.5</td></tr>\n",
       "\t<tr><th scope=row>ACS_PCT_NATURE</th><td> 4.4203</td><td>  3.8005</td><td> 5.0633</td><td>70000</td><td>45.7</td><td>  9.4</td><td>-1.2</td></tr>\n",
       "\t<tr><th scope=row>ACS_PCT_COMMT_29MIN</th><td>-4.3701</td><td> -5.4849</td><td>-3.3993</td><td>70000</td><td>45.7</td><td> 26.0</td><td> 4.3</td></tr>\n",
       "\t<tr><th scope=row>ACS_PCT_AGE_0_4</th><td>-4.3568</td><td> -7.3459</td><td>-1.3418</td><td>70000</td><td>45.7</td><td>229.2</td><td>-3.2</td></tr>\n",
       "\t<tr><th scope=row>ACS_PCT_ADMIN</th><td> 3.9455</td><td>  2.9254</td><td> 5.0542</td><td>70000</td><td>45.7</td><td>224.0</td><td>-4.4</td></tr>\n",
       "\t<tr><th scope=row>ACS_PCT_PUBLIC_OTHER</th><td> 3.7937</td><td> -1.1290</td><td> 8.5445</td><td>70000</td><td>45.7</td><td>345.4</td><td>-0.9</td></tr>\n",
       "\t<tr><th scope=row>ACS_PCT_WALK_2WORK</th><td> 3.7198</td><td>  2.6482</td><td> 4.8340</td><td>70000</td><td>45.7</td><td>191.1</td><td>-2.0</td></tr>\n",
       "\t<tr><th scope=row>ACS_PCT_TRANSPORT</th><td> 3.6123</td><td>  2.5392</td><td> 4.7116</td><td>70000</td><td>45.7</td><td>385.8</td><td>-2.4</td></tr>\n",
       "\t<tr><th scope=row>ACS_PCT_PRIVATE_MDCR</th><td>-3.5994</td><td> -5.5799</td><td>-1.7639</td><td>70000</td><td>45.7</td><td>308.3</td><td>-1.8</td></tr>\n",
       "\t<tr><th scope=row>ACS_PCT_VA</th><td>-3.3576</td><td> -4.7320</td><td>-1.9915</td><td>70000</td><td>45.7</td><td>141.3</td><td> 0.0</td></tr>\n",
       "\t<tr><th scope=row>ACS_PCT_MEDICARE_ONLY</th><td> 3.1821</td><td>  1.6624</td><td> 4.7296</td><td>70000</td><td>45.7</td><td>364.2</td><td> 0.8</td></tr>\n",
       "\t<tr><th scope=row>ACS_PCT_CONSTRUCT</th><td> 3.0915</td><td>  2.0487</td><td> 4.1343</td><td>70000</td><td>45.7</td><td>356.2</td><td>-5.5</td></tr>\n",
       "\t<tr><th scope=row>ACS_PCT_1UP_RENT_1ROOM</th><td>-2.9656</td><td> -4.6266</td><td>-1.2633</td><td>70000</td><td>45.7</td><td> 56.9</td><td>-8.9</td></tr>\n",
       "\t<tr><th scope=row>CCBP_RATE_CS_PER_1000</th><td>-2.7580</td><td>-12.1285</td><td> 3.5281</td><td>70000</td><td>45.7</td><td> 28.6</td><td> 0.5</td></tr>\n",
       "\t<tr><th scope=row>CHR_MENTAL_DR_RATE</th><td>-2.6807</td><td> -4.2860</td><td>-1.1687</td><td>70000</td><td>45.7</td><td>299.1</td><td> 1.3</td></tr>\n",
       "\t<tr><th scope=row>CHR_DENTISTS_NUM</th><td> 2.6519</td><td>  0.6623</td><td> 4.6319</td><td>70000</td><td>45.7</td><td>  1.6</td><td>-6.3</td></tr>\n",
       "\t<tr><th scope=row>ACS_PCT_PRIVATE_SELF</th><td> 2.3923</td><td>  1.5962</td><td> 3.2431</td><td>70000</td><td>45.7</td><td>267.0</td><td>-1.9</td></tr>\n",
       "\t<tr><th scope=row>CCBP_RATE_FSR_PER_1000</th><td>-2.3756</td><td> -6.5075</td><td> 1.7665</td><td>70000</td><td>45.7</td><td>423.2</td><td>-0.8</td></tr>\n",
       "\t<tr><th scope=row>NHC_DAILY_RES</th><td>-2.3227</td><td> -2.8550</td><td>-1.8487</td><td>70000</td><td>45.7</td><td> 89.1</td><td> 2.3</td></tr>\n",
       "\t<tr><th scope=row>ACS_MEDIAN_RENT</th><td> 1.8774</td><td>  1.1457</td><td> 2.7849</td><td>70000</td><td>45.7</td><td>140.8</td><td>-2.0</td></tr>\n",
       "\t<tr><th scope=row>ACS_PCT_COMMT_15MIN</th><td>-1.8096</td><td> -2.9292</td><td>-0.8619</td><td>70000</td><td>45.7</td><td>  8.5</td><td> 2.4</td></tr>\n",
       "\t<tr><th scope=row>ACS_PCT_INFORM</th><td> 1.8058</td><td> -0.6947</td><td> 4.2881</td><td>70000</td><td>45.7</td><td>417.3</td><td> 1.5</td></tr>\n",
       "\t<tr><th scope=row>ACS_PCT_COMMT_60MINUP</th><td>-1.7956</td><td> -2.9810</td><td>-0.7100</td><td>70000</td><td>45.7</td><td> 46.4</td><td> 5.4</td></tr>\n",
       "\t<tr><th scope=row>ACS_PCT_WORK_NO_CAR</th><td> 1.7660</td><td>  0.1185</td><td> 3.3559</td><td>70000</td><td>45.7</td><td> 39.6</td><td> 0.2</td></tr>\n",
       "\t<tr><th scope=row>ACS_PCT_OTH_EURP</th><td>-1.7501</td><td> -2.8551</td><td>-0.4915</td><td>70000</td><td>45.7</td><td>249.6</td><td> 5.2</td></tr>\n",
       "\t<tr><th scope=row>ACS_PCT_NO_VEH</th><td>-1.7205</td><td> -3.0262</td><td>-0.4356</td><td>70000</td><td>45.7</td><td> 57.3</td><td>-1.7</td></tr>\n",
       "\t<tr><th scope=row>⋮</th><td>⋮</td><td>⋮</td><td>⋮</td><td>⋮</td><td>⋮</td><td>⋮</td><td>⋮</td></tr>\n",
       "\t<tr><th scope=row>ACS_PCT_OTHER_INS</th><td>-0.4046</td><td>-1.8836</td><td> 1.0407</td><td>70000</td><td> 45.7</td><td> 357.2</td><td>-0.4</td></tr>\n",
       "\t<tr><th scope=row>AHRF_USDA_RUCC_2013</th><td> 0.3651</td><td> 0.2577</td><td> 0.4804</td><td>70000</td><td> 45.7</td><td> 139.5</td><td>-1.1</td></tr>\n",
       "\t<tr><th scope=row>ACS_PCT_INC137</th><td> 0.3547</td><td>-0.0249</td><td> 0.7348</td><td>70000</td><td> 45.7</td><td>  12.0</td><td> 5.3</td></tr>\n",
       "\t<tr><th scope=row>ACS_PCT_VA_POOR</th><td> 0.3452</td><td> 0.1021</td><td> 0.5860</td><td>70000</td><td> 45.7</td><td> 677.0</td><td>-1.1</td></tr>\n",
       "\t<tr><th scope=row>ACS_PCT_RENTER_HH_CHILD</th><td> 0.3381</td><td> 0.0159</td><td> 0.6687</td><td>70000</td><td> 45.7</td><td> 197.0</td><td> 0.1</td></tr>\n",
       "\t<tr><th scope=row>ACS_PCT_VA_COLLEGE</th><td>-0.3212</td><td>-0.6157</td><td>-0.0276</td><td>70000</td><td> 45.7</td><td> 493.3</td><td> 2.3</td></tr>\n",
       "\t<tr><th scope=row>tau2</th><td> 0.2978</td><td> 0.2733</td><td> 0.3425</td><td>70000</td><td>100.0</td><td>1266.9</td><td>-7.3</td></tr>\n",
       "\t<tr><th scope=row>ACS_PCT_UNINSURED64</th><td>-0.2929</td><td>-0.8573</td><td> 0.2892</td><td>70000</td><td> 45.7</td><td> 229.8</td><td>-2.8</td></tr>\n",
       "\t<tr><th scope=row>ACS_PCT_ASSOCIATE_DGR</th><td> 0.2674</td><td>-0.2742</td><td> 0.8269</td><td>70000</td><td> 45.7</td><td> 300.9</td><td> 0.2</td></tr>\n",
       "\t<tr><th scope=row>ACS_PCT_AIAN</th><td>-0.2327</td><td>-0.6833</td><td> 0.2187</td><td>70000</td><td> 45.7</td><td> 312.6</td><td> 1.4</td></tr>\n",
       "\t<tr><th scope=row>ACS_PCT_10UNITS</th><td> 0.2044</td><td>-0.5537</td><td> 0.9300</td><td>70000</td><td> 45.7</td><td>  51.7</td><td> 3.9</td></tr>\n",
       "\t<tr><th scope=row>NHC_BEDCOUNT</th><td> 0.2036</td><td>-0.2765</td><td> 0.7098</td><td>70000</td><td> 45.7</td><td>  56.9</td><td>-1.9</td></tr>\n",
       "\t<tr><th scope=row>ACS_PCT_VA_LABOR_FORCE</th><td>-0.1910</td><td>-0.3764</td><td> 0.0069</td><td>70000</td><td> 45.7</td><td> 430.9</td><td>-1.7</td></tr>\n",
       "\t<tr><th scope=row>ACS_PCT_NON_CITIZEN</th><td>-0.1641</td><td>-1.4278</td><td> 1.0592</td><td>70000</td><td> 45.7</td><td> 122.0</td><td> 2.8</td></tr>\n",
       "\t<tr><th scope=row>ACS_PCT_GULFWAR_2001</th><td> 0.1553</td><td>-0.2083</td><td> 0.5105</td><td>70000</td><td> 45.7</td><td> 309.4</td><td>-1.8</td></tr>\n",
       "\t<tr><th scope=row>ACS_PCT_MOBILE_HOME</th><td> 0.1536</td><td>-0.2212</td><td> 0.5373</td><td>70000</td><td> 45.7</td><td> 168.3</td><td>-2.5</td></tr>\n",
       "\t<tr><th scope=row>CHR_ALCOHOL_DRIV_DEATH</th><td>-0.1444</td><td>-0.2534</td><td>-0.0417</td><td>70000</td><td> 45.7</td><td> 837.9</td><td>-0.8</td></tr>\n",
       "\t<tr><th scope=row>ACS_PCT_GRANDP_RESPS</th><td> 0.1112</td><td>-0.0991</td><td> 0.3297</td><td>70000</td><td> 45.7</td><td>  79.2</td><td>-1.5</td></tr>\n",
       "\t<tr><th scope=row>ACS_PCT_VA_DISABLE</th><td>-0.1102</td><td>-0.2953</td><td> 0.0865</td><td>70000</td><td> 45.7</td><td> 580.7</td><td>-3.3</td></tr>\n",
       "\t<tr><th scope=row>wind_speed</th><td> 0.0844</td><td>-0.1045</td><td> 0.2717</td><td>70000</td><td> 45.7</td><td> 296.3</td><td> 0.2</td></tr>\n",
       "\t<tr><th scope=row>ACS_PCT_GRANDP_RESPS_NO_P</th><td> 0.0808</td><td>-0.1222</td><td> 0.2847</td><td>70000</td><td> 45.7</td><td> 148.9</td><td>-1.8</td></tr>\n",
       "\t<tr><th scope=row>AHRF_HPSA_MENTAL</th><td>-0.0542</td><td>-0.1260</td><td> 0.0155</td><td>70000</td><td> 45.7</td><td> 516.7</td><td> 2.5</td></tr>\n",
       "\t<tr><th scope=row>ACS_PCT_ENGLISH</th><td> 0.0399</td><td>-0.4092</td><td> 0.4428</td><td>70000</td><td> 45.7</td><td>  41.2</td><td>-0.3</td></tr>\n",
       "\t<tr><th scope=row>MP_PERCPEN</th><td> 0.0361</td><td>-0.1712</td><td> 0.2264</td><td>70000</td><td> 45.7</td><td> 209.6</td><td> 1.7</td></tr>\n",
       "\t<tr><th scope=row>ACS_PCT_PRIVATE_2</th><td> 0.0276</td><td>-2.1603</td><td> 2.3142</td><td>70000</td><td> 45.7</td><td> 640.0</td><td> 1.5</td></tr>\n",
       "\t<tr><th scope=row>ACS_PCT_GRANDP_NO_RESPS</th><td>-0.0215</td><td>-0.2158</td><td> 0.1938</td><td>70000</td><td> 45.7</td><td> 143.5</td><td>-1.7</td></tr>\n",
       "\t<tr><th scope=row>duration_mins_centroid</th><td> 0.0049</td><td> 0.0037</td><td> 0.0061</td><td>70000</td><td> 45.7</td><td> 194.4</td><td>-1.6</td></tr>\n",
       "\t<tr><th scope=row>ACS_PCT_RENTER_65UP</th><td> 0.0034</td><td>-0.3934</td><td> 0.4017</td><td>70000</td><td> 45.7</td><td> 369.0</td><td> 2.3</td></tr>\n",
       "\t<tr><th scope=row>duration_mins_mp_VAMC</th><td>-0.0012</td><td>-0.0017</td><td>-0.0006</td><td>70000</td><td> 45.7</td><td> 129.3</td><td>-1.1</td></tr>\n",
       "\t<tr><th scope=row>duration_mins_mp_mental</th><td> 0.0006</td><td> 0.0001</td><td> 0.0012</td><td>70000</td><td> 45.7</td><td> 130.6</td><td> 0.6</td></tr>\n",
       "</tbody>\n",
       "</table>\n"
      ],
      "text/latex": [
       "A tibble: 92 × 7\n",
       "\\begin{tabular}{r|lllllll}\n",
       "  & Mean & 2.5\\% & 97.5\\% & n.sample & \\% accept & n.effective & Geweke.diag\\\\\n",
       "  & <dbl> & <dbl> & <dbl> & <dbl> & <dbl> & <dbl> & <dbl>\\\\\n",
       "\\hline\n",
       "\tACS\\_PCT\\_1UP\\_PERS\\_1ROOM & 10.6779 &   5.1427 & 16.6452 & 70000 & 45.7 &  28.0 &  5.2\\\\\n",
       "\t(Intercept) & -8.4831 &  -9.7844 & -7.0757 & 70000 & 45.7 & 124.8 &  1.0\\\\\n",
       "\tACS\\_PCT\\_1UP\\_OWNER\\_1ROOM & -7.9541 & -12.4118 & -3.3995 & 70000 & 45.7 &  64.5 & -7.1\\\\\n",
       "\tACS\\_PCT\\_WHOLESALE &  5.3989 &   3.7525 &  6.9832 & 70000 & 45.7 & 586.1 & -3.1\\\\\n",
       "\tACS\\_PCT\\_AGE\\_0\\_17 &  4.9574 &   3.5931 &  6.4276 & 70000 & 45.7 &  84.0 &  2.5\\\\\n",
       "\tACS\\_PCT\\_NATURE &  4.4203 &   3.8005 &  5.0633 & 70000 & 45.7 &   9.4 & -1.2\\\\\n",
       "\tACS\\_PCT\\_COMMT\\_29MIN & -4.3701 &  -5.4849 & -3.3993 & 70000 & 45.7 &  26.0 &  4.3\\\\\n",
       "\tACS\\_PCT\\_AGE\\_0\\_4 & -4.3568 &  -7.3459 & -1.3418 & 70000 & 45.7 & 229.2 & -3.2\\\\\n",
       "\tACS\\_PCT\\_ADMIN &  3.9455 &   2.9254 &  5.0542 & 70000 & 45.7 & 224.0 & -4.4\\\\\n",
       "\tACS\\_PCT\\_PUBLIC\\_OTHER &  3.7937 &  -1.1290 &  8.5445 & 70000 & 45.7 & 345.4 & -0.9\\\\\n",
       "\tACS\\_PCT\\_WALK\\_2WORK &  3.7198 &   2.6482 &  4.8340 & 70000 & 45.7 & 191.1 & -2.0\\\\\n",
       "\tACS\\_PCT\\_TRANSPORT &  3.6123 &   2.5392 &  4.7116 & 70000 & 45.7 & 385.8 & -2.4\\\\\n",
       "\tACS\\_PCT\\_PRIVATE\\_MDCR & -3.5994 &  -5.5799 & -1.7639 & 70000 & 45.7 & 308.3 & -1.8\\\\\n",
       "\tACS\\_PCT\\_VA & -3.3576 &  -4.7320 & -1.9915 & 70000 & 45.7 & 141.3 &  0.0\\\\\n",
       "\tACS\\_PCT\\_MEDICARE\\_ONLY &  3.1821 &   1.6624 &  4.7296 & 70000 & 45.7 & 364.2 &  0.8\\\\\n",
       "\tACS\\_PCT\\_CONSTRUCT &  3.0915 &   2.0487 &  4.1343 & 70000 & 45.7 & 356.2 & -5.5\\\\\n",
       "\tACS\\_PCT\\_1UP\\_RENT\\_1ROOM & -2.9656 &  -4.6266 & -1.2633 & 70000 & 45.7 &  56.9 & -8.9\\\\\n",
       "\tCCBP\\_RATE\\_CS\\_PER\\_1000 & -2.7580 & -12.1285 &  3.5281 & 70000 & 45.7 &  28.6 &  0.5\\\\\n",
       "\tCHR\\_MENTAL\\_DR\\_RATE & -2.6807 &  -4.2860 & -1.1687 & 70000 & 45.7 & 299.1 &  1.3\\\\\n",
       "\tCHR\\_DENTISTS\\_NUM &  2.6519 &   0.6623 &  4.6319 & 70000 & 45.7 &   1.6 & -6.3\\\\\n",
       "\tACS\\_PCT\\_PRIVATE\\_SELF &  2.3923 &   1.5962 &  3.2431 & 70000 & 45.7 & 267.0 & -1.9\\\\\n",
       "\tCCBP\\_RATE\\_FSR\\_PER\\_1000 & -2.3756 &  -6.5075 &  1.7665 & 70000 & 45.7 & 423.2 & -0.8\\\\\n",
       "\tNHC\\_DAILY\\_RES & -2.3227 &  -2.8550 & -1.8487 & 70000 & 45.7 &  89.1 &  2.3\\\\\n",
       "\tACS\\_MEDIAN\\_RENT &  1.8774 &   1.1457 &  2.7849 & 70000 & 45.7 & 140.8 & -2.0\\\\\n",
       "\tACS\\_PCT\\_COMMT\\_15MIN & -1.8096 &  -2.9292 & -0.8619 & 70000 & 45.7 &   8.5 &  2.4\\\\\n",
       "\tACS\\_PCT\\_INFORM &  1.8058 &  -0.6947 &  4.2881 & 70000 & 45.7 & 417.3 &  1.5\\\\\n",
       "\tACS\\_PCT\\_COMMT\\_60MINUP & -1.7956 &  -2.9810 & -0.7100 & 70000 & 45.7 &  46.4 &  5.4\\\\\n",
       "\tACS\\_PCT\\_WORK\\_NO\\_CAR &  1.7660 &   0.1185 &  3.3559 & 70000 & 45.7 &  39.6 &  0.2\\\\\n",
       "\tACS\\_PCT\\_OTH\\_EURP & -1.7501 &  -2.8551 & -0.4915 & 70000 & 45.7 & 249.6 &  5.2\\\\\n",
       "\tACS\\_PCT\\_NO\\_VEH & -1.7205 &  -3.0262 & -0.4356 & 70000 & 45.7 &  57.3 & -1.7\\\\\n",
       "\t⋮ & ⋮ & ⋮ & ⋮ & ⋮ & ⋮ & ⋮ & ⋮\\\\\n",
       "\tACS\\_PCT\\_OTHER\\_INS & -0.4046 & -1.8836 &  1.0407 & 70000 &  45.7 &  357.2 & -0.4\\\\\n",
       "\tAHRF\\_USDA\\_RUCC\\_2013 &  0.3651 &  0.2577 &  0.4804 & 70000 &  45.7 &  139.5 & -1.1\\\\\n",
       "\tACS\\_PCT\\_INC137 &  0.3547 & -0.0249 &  0.7348 & 70000 &  45.7 &   12.0 &  5.3\\\\\n",
       "\tACS\\_PCT\\_VA\\_POOR &  0.3452 &  0.1021 &  0.5860 & 70000 &  45.7 &  677.0 & -1.1\\\\\n",
       "\tACS\\_PCT\\_RENTER\\_HH\\_CHILD &  0.3381 &  0.0159 &  0.6687 & 70000 &  45.7 &  197.0 &  0.1\\\\\n",
       "\tACS\\_PCT\\_VA\\_COLLEGE & -0.3212 & -0.6157 & -0.0276 & 70000 &  45.7 &  493.3 &  2.3\\\\\n",
       "\ttau2 &  0.2978 &  0.2733 &  0.3425 & 70000 & 100.0 & 1266.9 & -7.3\\\\\n",
       "\tACS\\_PCT\\_UNINSURED64 & -0.2929 & -0.8573 &  0.2892 & 70000 &  45.7 &  229.8 & -2.8\\\\\n",
       "\tACS\\_PCT\\_ASSOCIATE\\_DGR &  0.2674 & -0.2742 &  0.8269 & 70000 &  45.7 &  300.9 &  0.2\\\\\n",
       "\tACS\\_PCT\\_AIAN & -0.2327 & -0.6833 &  0.2187 & 70000 &  45.7 &  312.6 &  1.4\\\\\n",
       "\tACS\\_PCT\\_10UNITS &  0.2044 & -0.5537 &  0.9300 & 70000 &  45.7 &   51.7 &  3.9\\\\\n",
       "\tNHC\\_BEDCOUNT &  0.2036 & -0.2765 &  0.7098 & 70000 &  45.7 &   56.9 & -1.9\\\\\n",
       "\tACS\\_PCT\\_VA\\_LABOR\\_FORCE & -0.1910 & -0.3764 &  0.0069 & 70000 &  45.7 &  430.9 & -1.7\\\\\n",
       "\tACS\\_PCT\\_NON\\_CITIZEN & -0.1641 & -1.4278 &  1.0592 & 70000 &  45.7 &  122.0 &  2.8\\\\\n",
       "\tACS\\_PCT\\_GULFWAR\\_2001 &  0.1553 & -0.2083 &  0.5105 & 70000 &  45.7 &  309.4 & -1.8\\\\\n",
       "\tACS\\_PCT\\_MOBILE\\_HOME &  0.1536 & -0.2212 &  0.5373 & 70000 &  45.7 &  168.3 & -2.5\\\\\n",
       "\tCHR\\_ALCOHOL\\_DRIV\\_DEATH & -0.1444 & -0.2534 & -0.0417 & 70000 &  45.7 &  837.9 & -0.8\\\\\n",
       "\tACS\\_PCT\\_GRANDP\\_RESPS &  0.1112 & -0.0991 &  0.3297 & 70000 &  45.7 &   79.2 & -1.5\\\\\n",
       "\tACS\\_PCT\\_VA\\_DISABLE & -0.1102 & -0.2953 &  0.0865 & 70000 &  45.7 &  580.7 & -3.3\\\\\n",
       "\twind\\_speed &  0.0844 & -0.1045 &  0.2717 & 70000 &  45.7 &  296.3 &  0.2\\\\\n",
       "\tACS\\_PCT\\_GRANDP\\_RESPS\\_NO\\_P &  0.0808 & -0.1222 &  0.2847 & 70000 &  45.7 &  148.9 & -1.8\\\\\n",
       "\tAHRF\\_HPSA\\_MENTAL & -0.0542 & -0.1260 &  0.0155 & 70000 &  45.7 &  516.7 &  2.5\\\\\n",
       "\tACS\\_PCT\\_ENGLISH &  0.0399 & -0.4092 &  0.4428 & 70000 &  45.7 &   41.2 & -0.3\\\\\n",
       "\tMP\\_PERCPEN &  0.0361 & -0.1712 &  0.2264 & 70000 &  45.7 &  209.6 &  1.7\\\\\n",
       "\tACS\\_PCT\\_PRIVATE\\_2 &  0.0276 & -2.1603 &  2.3142 & 70000 &  45.7 &  640.0 &  1.5\\\\\n",
       "\tACS\\_PCT\\_GRANDP\\_NO\\_RESPS & -0.0215 & -0.2158 &  0.1938 & 70000 &  45.7 &  143.5 & -1.7\\\\\n",
       "\tduration\\_mins\\_centroid &  0.0049 &  0.0037 &  0.0061 & 70000 &  45.7 &  194.4 & -1.6\\\\\n",
       "\tACS\\_PCT\\_RENTER\\_65UP &  0.0034 & -0.3934 &  0.4017 & 70000 &  45.7 &  369.0 &  2.3\\\\\n",
       "\tduration\\_mins\\_mp\\_VAMC & -0.0012 & -0.0017 & -0.0006 & 70000 &  45.7 &  129.3 & -1.1\\\\\n",
       "\tduration\\_mins\\_mp\\_mental &  0.0006 &  0.0001 &  0.0012 & 70000 &  45.7 &  130.6 &  0.6\\\\\n",
       "\\end{tabular}\n"
      ],
      "text/markdown": [
       "\n",
       "A tibble: 92 × 7\n",
       "\n",
       "| <!--/--> | Mean &lt;dbl&gt; | 2.5% &lt;dbl&gt; | 97.5% &lt;dbl&gt; | n.sample &lt;dbl&gt; | % accept &lt;dbl&gt; | n.effective &lt;dbl&gt; | Geweke.diag &lt;dbl&gt; |\n",
       "|---|---|---|---|---|---|---|---|\n",
       "| ACS_PCT_1UP_PERS_1ROOM | 10.6779 |   5.1427 | 16.6452 | 70000 | 45.7 |  28.0 |  5.2 |\n",
       "| (Intercept) | -8.4831 |  -9.7844 | -7.0757 | 70000 | 45.7 | 124.8 |  1.0 |\n",
       "| ACS_PCT_1UP_OWNER_1ROOM | -7.9541 | -12.4118 | -3.3995 | 70000 | 45.7 |  64.5 | -7.1 |\n",
       "| ACS_PCT_WHOLESALE |  5.3989 |   3.7525 |  6.9832 | 70000 | 45.7 | 586.1 | -3.1 |\n",
       "| ACS_PCT_AGE_0_17 |  4.9574 |   3.5931 |  6.4276 | 70000 | 45.7 |  84.0 |  2.5 |\n",
       "| ACS_PCT_NATURE |  4.4203 |   3.8005 |  5.0633 | 70000 | 45.7 |   9.4 | -1.2 |\n",
       "| ACS_PCT_COMMT_29MIN | -4.3701 |  -5.4849 | -3.3993 | 70000 | 45.7 |  26.0 |  4.3 |\n",
       "| ACS_PCT_AGE_0_4 | -4.3568 |  -7.3459 | -1.3418 | 70000 | 45.7 | 229.2 | -3.2 |\n",
       "| ACS_PCT_ADMIN |  3.9455 |   2.9254 |  5.0542 | 70000 | 45.7 | 224.0 | -4.4 |\n",
       "| ACS_PCT_PUBLIC_OTHER |  3.7937 |  -1.1290 |  8.5445 | 70000 | 45.7 | 345.4 | -0.9 |\n",
       "| ACS_PCT_WALK_2WORK |  3.7198 |   2.6482 |  4.8340 | 70000 | 45.7 | 191.1 | -2.0 |\n",
       "| ACS_PCT_TRANSPORT |  3.6123 |   2.5392 |  4.7116 | 70000 | 45.7 | 385.8 | -2.4 |\n",
       "| ACS_PCT_PRIVATE_MDCR | -3.5994 |  -5.5799 | -1.7639 | 70000 | 45.7 | 308.3 | -1.8 |\n",
       "| ACS_PCT_VA | -3.3576 |  -4.7320 | -1.9915 | 70000 | 45.7 | 141.3 |  0.0 |\n",
       "| ACS_PCT_MEDICARE_ONLY |  3.1821 |   1.6624 |  4.7296 | 70000 | 45.7 | 364.2 |  0.8 |\n",
       "| ACS_PCT_CONSTRUCT |  3.0915 |   2.0487 |  4.1343 | 70000 | 45.7 | 356.2 | -5.5 |\n",
       "| ACS_PCT_1UP_RENT_1ROOM | -2.9656 |  -4.6266 | -1.2633 | 70000 | 45.7 |  56.9 | -8.9 |\n",
       "| CCBP_RATE_CS_PER_1000 | -2.7580 | -12.1285 |  3.5281 | 70000 | 45.7 |  28.6 |  0.5 |\n",
       "| CHR_MENTAL_DR_RATE | -2.6807 |  -4.2860 | -1.1687 | 70000 | 45.7 | 299.1 |  1.3 |\n",
       "| CHR_DENTISTS_NUM |  2.6519 |   0.6623 |  4.6319 | 70000 | 45.7 |   1.6 | -6.3 |\n",
       "| ACS_PCT_PRIVATE_SELF |  2.3923 |   1.5962 |  3.2431 | 70000 | 45.7 | 267.0 | -1.9 |\n",
       "| CCBP_RATE_FSR_PER_1000 | -2.3756 |  -6.5075 |  1.7665 | 70000 | 45.7 | 423.2 | -0.8 |\n",
       "| NHC_DAILY_RES | -2.3227 |  -2.8550 | -1.8487 | 70000 | 45.7 |  89.1 |  2.3 |\n",
       "| ACS_MEDIAN_RENT |  1.8774 |   1.1457 |  2.7849 | 70000 | 45.7 | 140.8 | -2.0 |\n",
       "| ACS_PCT_COMMT_15MIN | -1.8096 |  -2.9292 | -0.8619 | 70000 | 45.7 |   8.5 |  2.4 |\n",
       "| ACS_PCT_INFORM |  1.8058 |  -0.6947 |  4.2881 | 70000 | 45.7 | 417.3 |  1.5 |\n",
       "| ACS_PCT_COMMT_60MINUP | -1.7956 |  -2.9810 | -0.7100 | 70000 | 45.7 |  46.4 |  5.4 |\n",
       "| ACS_PCT_WORK_NO_CAR |  1.7660 |   0.1185 |  3.3559 | 70000 | 45.7 |  39.6 |  0.2 |\n",
       "| ACS_PCT_OTH_EURP | -1.7501 |  -2.8551 | -0.4915 | 70000 | 45.7 | 249.6 |  5.2 |\n",
       "| ACS_PCT_NO_VEH | -1.7205 |  -3.0262 | -0.4356 | 70000 | 45.7 |  57.3 | -1.7 |\n",
       "| ⋮ | ⋮ | ⋮ | ⋮ | ⋮ | ⋮ | ⋮ | ⋮ |\n",
       "| ACS_PCT_OTHER_INS | -0.4046 | -1.8836 |  1.0407 | 70000 |  45.7 |  357.2 | -0.4 |\n",
       "| AHRF_USDA_RUCC_2013 |  0.3651 |  0.2577 |  0.4804 | 70000 |  45.7 |  139.5 | -1.1 |\n",
       "| ACS_PCT_INC137 |  0.3547 | -0.0249 |  0.7348 | 70000 |  45.7 |   12.0 |  5.3 |\n",
       "| ACS_PCT_VA_POOR |  0.3452 |  0.1021 |  0.5860 | 70000 |  45.7 |  677.0 | -1.1 |\n",
       "| ACS_PCT_RENTER_HH_CHILD |  0.3381 |  0.0159 |  0.6687 | 70000 |  45.7 |  197.0 |  0.1 |\n",
       "| ACS_PCT_VA_COLLEGE | -0.3212 | -0.6157 | -0.0276 | 70000 |  45.7 |  493.3 |  2.3 |\n",
       "| tau2 |  0.2978 |  0.2733 |  0.3425 | 70000 | 100.0 | 1266.9 | -7.3 |\n",
       "| ACS_PCT_UNINSURED64 | -0.2929 | -0.8573 |  0.2892 | 70000 |  45.7 |  229.8 | -2.8 |\n",
       "| ACS_PCT_ASSOCIATE_DGR |  0.2674 | -0.2742 |  0.8269 | 70000 |  45.7 |  300.9 |  0.2 |\n",
       "| ACS_PCT_AIAN | -0.2327 | -0.6833 |  0.2187 | 70000 |  45.7 |  312.6 |  1.4 |\n",
       "| ACS_PCT_10UNITS |  0.2044 | -0.5537 |  0.9300 | 70000 |  45.7 |   51.7 |  3.9 |\n",
       "| NHC_BEDCOUNT |  0.2036 | -0.2765 |  0.7098 | 70000 |  45.7 |   56.9 | -1.9 |\n",
       "| ACS_PCT_VA_LABOR_FORCE | -0.1910 | -0.3764 |  0.0069 | 70000 |  45.7 |  430.9 | -1.7 |\n",
       "| ACS_PCT_NON_CITIZEN | -0.1641 | -1.4278 |  1.0592 | 70000 |  45.7 |  122.0 |  2.8 |\n",
       "| ACS_PCT_GULFWAR_2001 |  0.1553 | -0.2083 |  0.5105 | 70000 |  45.7 |  309.4 | -1.8 |\n",
       "| ACS_PCT_MOBILE_HOME |  0.1536 | -0.2212 |  0.5373 | 70000 |  45.7 |  168.3 | -2.5 |\n",
       "| CHR_ALCOHOL_DRIV_DEATH | -0.1444 | -0.2534 | -0.0417 | 70000 |  45.7 |  837.9 | -0.8 |\n",
       "| ACS_PCT_GRANDP_RESPS |  0.1112 | -0.0991 |  0.3297 | 70000 |  45.7 |   79.2 | -1.5 |\n",
       "| ACS_PCT_VA_DISABLE | -0.1102 | -0.2953 |  0.0865 | 70000 |  45.7 |  580.7 | -3.3 |\n",
       "| wind_speed |  0.0844 | -0.1045 |  0.2717 | 70000 |  45.7 |  296.3 |  0.2 |\n",
       "| ACS_PCT_GRANDP_RESPS_NO_P |  0.0808 | -0.1222 |  0.2847 | 70000 |  45.7 |  148.9 | -1.8 |\n",
       "| AHRF_HPSA_MENTAL | -0.0542 | -0.1260 |  0.0155 | 70000 |  45.7 |  516.7 |  2.5 |\n",
       "| ACS_PCT_ENGLISH |  0.0399 | -0.4092 |  0.4428 | 70000 |  45.7 |   41.2 | -0.3 |\n",
       "| MP_PERCPEN |  0.0361 | -0.1712 |  0.2264 | 70000 |  45.7 |  209.6 |  1.7 |\n",
       "| ACS_PCT_PRIVATE_2 |  0.0276 | -2.1603 |  2.3142 | 70000 |  45.7 |  640.0 |  1.5 |\n",
       "| ACS_PCT_GRANDP_NO_RESPS | -0.0215 | -0.2158 |  0.1938 | 70000 |  45.7 |  143.5 | -1.7 |\n",
       "| duration_mins_centroid |  0.0049 |  0.0037 |  0.0061 | 70000 |  45.7 |  194.4 | -1.6 |\n",
       "| ACS_PCT_RENTER_65UP |  0.0034 | -0.3934 |  0.4017 | 70000 |  45.7 |  369.0 |  2.3 |\n",
       "| duration_mins_mp_VAMC | -0.0012 | -0.0017 | -0.0006 | 70000 |  45.7 |  129.3 | -1.1 |\n",
       "| duration_mins_mp_mental |  0.0006 |  0.0001 |  0.0012 | 70000 |  45.7 |  130.6 |  0.6 |\n",
       "\n"
      ],
      "text/plain": [
       "   Mean    2.5%     97.5%   n.sample % accept n.effective Geweke.diag\n",
       "1  10.6779   5.1427 16.6452 70000    45.7      28.0        5.2       \n",
       "2  -8.4831  -9.7844 -7.0757 70000    45.7     124.8        1.0       \n",
       "3  -7.9541 -12.4118 -3.3995 70000    45.7      64.5       -7.1       \n",
       "4   5.3989   3.7525  6.9832 70000    45.7     586.1       -3.1       \n",
       "5   4.9574   3.5931  6.4276 70000    45.7      84.0        2.5       \n",
       "6   4.4203   3.8005  5.0633 70000    45.7       9.4       -1.2       \n",
       "7  -4.3701  -5.4849 -3.3993 70000    45.7      26.0        4.3       \n",
       "8  -4.3568  -7.3459 -1.3418 70000    45.7     229.2       -3.2       \n",
       "9   3.9455   2.9254  5.0542 70000    45.7     224.0       -4.4       \n",
       "10  3.7937  -1.1290  8.5445 70000    45.7     345.4       -0.9       \n",
       "11  3.7198   2.6482  4.8340 70000    45.7     191.1       -2.0       \n",
       "12  3.6123   2.5392  4.7116 70000    45.7     385.8       -2.4       \n",
       "13 -3.5994  -5.5799 -1.7639 70000    45.7     308.3       -1.8       \n",
       "14 -3.3576  -4.7320 -1.9915 70000    45.7     141.3        0.0       \n",
       "15  3.1821   1.6624  4.7296 70000    45.7     364.2        0.8       \n",
       "16  3.0915   2.0487  4.1343 70000    45.7     356.2       -5.5       \n",
       "17 -2.9656  -4.6266 -1.2633 70000    45.7      56.9       -8.9       \n",
       "18 -2.7580 -12.1285  3.5281 70000    45.7      28.6        0.5       \n",
       "19 -2.6807  -4.2860 -1.1687 70000    45.7     299.1        1.3       \n",
       "20  2.6519   0.6623  4.6319 70000    45.7       1.6       -6.3       \n",
       "21  2.3923   1.5962  3.2431 70000    45.7     267.0       -1.9       \n",
       "22 -2.3756  -6.5075  1.7665 70000    45.7     423.2       -0.8       \n",
       "23 -2.3227  -2.8550 -1.8487 70000    45.7      89.1        2.3       \n",
       "24  1.8774   1.1457  2.7849 70000    45.7     140.8       -2.0       \n",
       "25 -1.8096  -2.9292 -0.8619 70000    45.7       8.5        2.4       \n",
       "26  1.8058  -0.6947  4.2881 70000    45.7     417.3        1.5       \n",
       "27 -1.7956  -2.9810 -0.7100 70000    45.7      46.4        5.4       \n",
       "28  1.7660   0.1185  3.3559 70000    45.7      39.6        0.2       \n",
       "29 -1.7501  -2.8551 -0.4915 70000    45.7     249.6        5.2       \n",
       "30 -1.7205  -3.0262 -0.4356 70000    45.7      57.3       -1.7       \n",
       "⋮  ⋮       ⋮        ⋮       ⋮        ⋮        ⋮           ⋮          \n",
       "63 -0.4046 -1.8836   1.0407 70000     45.7     357.2      -0.4       \n",
       "64  0.3651  0.2577   0.4804 70000     45.7     139.5      -1.1       \n",
       "65  0.3547 -0.0249   0.7348 70000     45.7      12.0       5.3       \n",
       "66  0.3452  0.1021   0.5860 70000     45.7     677.0      -1.1       \n",
       "67  0.3381  0.0159   0.6687 70000     45.7     197.0       0.1       \n",
       "68 -0.3212 -0.6157  -0.0276 70000     45.7     493.3       2.3       \n",
       "69  0.2978  0.2733   0.3425 70000    100.0    1266.9      -7.3       \n",
       "70 -0.2929 -0.8573   0.2892 70000     45.7     229.8      -2.8       \n",
       "71  0.2674 -0.2742   0.8269 70000     45.7     300.9       0.2       \n",
       "72 -0.2327 -0.6833   0.2187 70000     45.7     312.6       1.4       \n",
       "73  0.2044 -0.5537   0.9300 70000     45.7      51.7       3.9       \n",
       "74  0.2036 -0.2765   0.7098 70000     45.7      56.9      -1.9       \n",
       "75 -0.1910 -0.3764   0.0069 70000     45.7     430.9      -1.7       \n",
       "76 -0.1641 -1.4278   1.0592 70000     45.7     122.0       2.8       \n",
       "77  0.1553 -0.2083   0.5105 70000     45.7     309.4      -1.8       \n",
       "78  0.1536 -0.2212   0.5373 70000     45.7     168.3      -2.5       \n",
       "79 -0.1444 -0.2534  -0.0417 70000     45.7     837.9      -0.8       \n",
       "80  0.1112 -0.0991   0.3297 70000     45.7      79.2      -1.5       \n",
       "81 -0.1102 -0.2953   0.0865 70000     45.7     580.7      -3.3       \n",
       "82  0.0844 -0.1045   0.2717 70000     45.7     296.3       0.2       \n",
       "83  0.0808 -0.1222   0.2847 70000     45.7     148.9      -1.8       \n",
       "84 -0.0542 -0.1260   0.0155 70000     45.7     516.7       2.5       \n",
       "85  0.0399 -0.4092   0.4428 70000     45.7      41.2      -0.3       \n",
       "86  0.0361 -0.1712   0.2264 70000     45.7     209.6       1.7       \n",
       "87  0.0276 -2.1603   2.3142 70000     45.7     640.0       1.5       \n",
       "88 -0.0215 -0.2158   0.1938 70000     45.7     143.5      -1.7       \n",
       "89  0.0049  0.0037   0.0061 70000     45.7     194.4      -1.6       \n",
       "90  0.0034 -0.3934   0.4017 70000     45.7     369.0       2.3       \n",
       "91 -0.0012 -0.0017  -0.0006 70000     45.7     129.3      -1.1       \n",
       "92  0.0006  0.0001   0.0012 70000     45.7     130.6       0.6       "
      ]
     },
     "metadata": {},
     "output_type": "display_data"
    }
   ],
   "source": [
    "fit3$summary %>%\n",
    "    as_tibble(rownames=NA) %>%\n",
    "    arrange(desc(abs(Mean)))"
   ]
  },
  {
   "cell_type": "markdown",
   "id": "3b23e91a-3131-40d0-814f-eb611b60a7a1",
   "metadata": {},
   "source": [
    "# Residuals Analysis"
   ]
  },
  {
   "cell_type": "code",
   "execution_count": 16,
   "id": "315fb68d-abd0-4efb-9186-f739e93af29f",
   "metadata": {},
   "outputs": [
    {
     "data": {
      "image/png": "[encoded data removed]",
      "text/plain": [
       "Plot with title “Series  fit3$residuals$response”"
      ]
     },
     "metadata": {
      "image/png": {
       "height": 420,
       "width": 420
      }
     },
     "output_type": "display_data"
    }
   ],
   "source": [
    "acf(fit3$residuals$response,type=\"correlation\",ylim=c(0,0.5))"
   ]
  },
  {
   "cell_type": "code",
   "execution_count": 17,
   "id": "639c1a14-d3ab-4e89-995e-252fff5635ab",
   "metadata": {},
   "outputs": [
    {
     "data": {
      "image/png": "[encoded data removed]",
      "text/plain": [
       "Plot with title “Series  fit3$residuals$response”"
      ]
     },
     "metadata": {
      "image/png": {
       "height": 420,
       "width": 420
      }
     },
     "output_type": "display_data"
    }
   ],
   "source": [
    "acf(fit3$residuals$response,type=\"partial\")"
   ]
  },
  {
   "cell_type": "code",
   "execution_count": 19,
   "id": "a938d537-7be4-469a-b031-954387c43b87",
   "metadata": {},
   "outputs": [
    {
     "data": {
      "image/png": "[encoded data removed]",
      "text/plain": [
       "plot without title"
      ]
     },
     "metadata": {
      "image/png": {
       "height": 420,
       "width": 420
      }
     },
     "output_type": "display_data"
    }
   ],
   "source": [
    "plot(fit3$fitted, fit3$residuals$response)"
   ]
  },
  {
   "cell_type": "markdown",
   "id": "bb1e974c-256a-4503-8ab4-5ead37571d99",
   "metadata": {},
   "source": [
    "## Rates\n"
   ]
  },
  {
   "cell_type": "code",
   "execution_count": 21,
   "id": "556e83ac-283c-4846-88ba-29f277634d0b",
   "metadata": {},
   "outputs": [
    {
     "name": "stderr",
     "output_type": "stream",
     "text": [
      "\u001b[1mRows: \u001b[22m\u001b[34m3194\u001b[39m \u001b[1mColumns: \u001b[22m\u001b[34m180\u001b[39m\n",
      "\u001b[36m──\u001b[39m \u001b[1mColumn specification\u001b[22m \u001b[36m────────────────────────────────────────────────────────\u001b[39m\n",
      "\u001b[1mDelimiter:\u001b[22m \",\"\n",
      "\u001b[31mchr\u001b[39m   (6): SUMLEV, STATE, COUNTY, STNAME, CTYNAME, CENSUS2010POP\n",
      "\u001b[32mdbl\u001b[39m (174): REGION, DIVISION, ESTIMATESBASE2010, POPESTIMATE2010, POPESTIMATE...\n",
      "\n",
      "\u001b[36mℹ\u001b[39m Use `spec()` to retrieve the full column specification for this data.\n",
      "\u001b[36mℹ\u001b[39m Specify the column types or set `show_col_types = FALSE` to quiet this message.\n",
      "Warning message in mask$eval_all_mutate(quo):\n",
      "“NAs introduced by coercion”\n"
     ]
    }
   ],
   "source": [
    "\n",
    "demographic_info <- read_csv(\"data/raw/demo/2020-demographic-info.csv\")\n",
    "demographic_info <- demographic_info %>%\n",
    "    mutate(FIPSCODE = paste0(STATE, COUNTY)) %>%\n",
    "    select(FIPSCODE, CENSUS2010POP) %>%\n",
    "    rename(pop=CENSUS2010POP) %>%\n",
    "    mutate(pop=as.numeric(pop))\n",
    "\n",
    "results_df <- results_df %>% \n",
    "    merge(demographic_info) %>%\n",
    "    mutate(true_rate1000 = true_values / pop * 1000,\n",
    "           fit_rate1000 = fitted_values / pop * 1000)\n",
    "\n"
   ]
  },
  {
   "cell_type": "code",
   "execution_count": 22,
   "id": "9f2e0f75-bb77-42de-8ad7-dcb3fbb120f0",
   "metadata": {},
   "outputs": [
    {
     "data": {
      "text/html": [
       "13.8249225271874"
      ],
      "text/latex": [
       "13.8249225271874"
      ],
      "text/markdown": [
       "13.8249225271874"
      ],
      "text/plain": [
       "[1] 13.82492"
      ]
     },
     "metadata": {},
     "output_type": "display_data"
    },
    {
     "data": {
      "text/html": [
       "2.03521723299432"
      ],
      "text/latex": [
       "2.03521723299432"
      ],
      "text/markdown": [
       "2.03521723299432"
      ],
      "text/plain": [
       "[1] 2.035217"
      ]
     },
     "metadata": {},
     "output_type": "display_data"
    }
   ],
   "source": [
    "# RMSE\n",
    "\n",
    "caret::RMSE(fitted_values,true_values)\n",
    "\n",
    "caret::RMSE(results_df$fit_rate1000,results_df$true_rate1000)"
   ]
  },
  {
   "cell_type": "code",
   "execution_count": 23,
   "id": "a39d7c1d-3dbe-40f7-92da-7a6b277f07a2",
   "metadata": {},
   "outputs": [
    {
     "data": {
      "image/png": "[encoded data removed]",
      "text/plain": [
       "plot without title"
      ]
     },
     "metadata": {
      "image/png": {
       "height": 420,
       "width": 420
      }
     },
     "output_type": "display_data"
    }
   ],
   "source": [
    "# histogram of fitted rate\n",
    "# could be used to decide what constitues a high suicide rate\n",
    "results_df %>% ggplot(aes(x=fit_rate1000)) + \n",
    "    geom_histogram(binwidth=5) +\n",
    "    theme_bw() + \n",
    "    ggtitle(\"Fitted Suicide Rates - by county, for 2018\")"
   ]
  },
  {
   "cell_type": "code",
   "execution_count": null,
   "id": "0e38ad07-f365-4e1e-92fb-ffeddbafe9bf",
   "metadata": {},
   "outputs": [],
   "source": []
  }
 ],
 "metadata": {
  "kernelspec": {
   "display_name": "R 4.1.3 (r-venv)",
   "language": "R",
   "name": "r-venv"
  },
  "language_info": {
   "codemirror_mode": "r",
   "file_extension": ".r",
   "mimetype": "text/x-r-source",
   "name": "R",
   "pygments_lexer": "r",
   "version": "4.1.3"
  }
 },
 "nbformat": 4,
 "nbformat_minor": 5
}
